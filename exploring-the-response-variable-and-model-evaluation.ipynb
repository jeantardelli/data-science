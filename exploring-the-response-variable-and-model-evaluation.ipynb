{
 "cells": [
  {
   "cell_type": "markdown",
   "metadata": {},
   "source": [
    "## Exploring the Response Variable and Concluding the Initial Exploration"
   ]
  },
  {
   "cell_type": "markdown",
   "metadata": {},
   "source": [
    "### Package Versions"
   ]
  },
  {
   "cell_type": "code",
   "execution_count": 42,
   "metadata": {},
   "outputs": [
    {
     "name": "stdout",
     "output_type": "stream",
     "text": [
      "The Python version is 3.8.5 (default, Jul 28 2020, 12:59:40) \n",
      "[GCC 9.3.0]\n",
      "\n",
      "The Numpy version is 1.19.1\n",
      "\n",
      "The Pandas version is 1.1.0\n",
      "\n",
      "The Matplotlib version is 3.3.3\n",
      "\n",
      "The Scikit-Learn version is 0.24.0\n",
      "\n"
     ]
    }
   ],
   "source": [
    "import sys\n",
    "import sklearn\n",
    "import numpy as np\n",
    "import pandas as pd\n",
    "import matplotlib as mpl\n",
    "import matplotlib.pyplot as plt\n",
    "\n",
    "from sklearn import metrics\n",
    "from sklearn.linear_model import LogisticRegression, LinearRegression\n",
    "from sklearn.model_selection import train_test_split\n",
    "\n",
    "%matplotlib inline\n",
    "\n",
    "print('The Python version is {}\\n'.format(sys.version))\n",
    "print('The Numpy version is {}\\n'.format(np.__version__))\n",
    "print('The Pandas version is {}\\n'.format(pd.__version__))\n",
    "print('The Matplotlib version is {}\\n'.format(mpl.__version__))\n",
    "print('The Scikit-Learn version is {}\\n'.format(sklearn.__version__))"
   ]
  },
  {
   "cell_type": "markdown",
   "metadata": {},
   "source": [
    "### Load cleaned data"
   ]
  },
  {
   "cell_type": "code",
   "execution_count": 43,
   "metadata": {},
   "outputs": [],
   "source": [
    "df = pd.read_csv('data/default_of_credit_card_clients_cleaned.csv')"
   ]
  },
  {
   "cell_type": "markdown",
   "metadata": {},
   "source": [
    "Finding the proportion of the positive class:"
   ]
  },
  {
   "cell_type": "code",
   "execution_count": 44,
   "metadata": {},
   "outputs": [
    {
     "data": {
      "text/plain": [
       "0.2217971797179718"
      ]
     },
     "execution_count": 44,
     "metadata": {},
     "output_type": "execute_result"
    }
   ],
   "source": [
    "df.default_payment_next_month.mean()"
   ]
  },
  {
   "cell_type": "markdown",
   "metadata": {},
   "source": [
    "Number of sample per class:"
   ]
  },
  {
   "cell_type": "code",
   "execution_count": 45,
   "metadata": {},
   "outputs": [
    {
     "data": {
      "text/plain": [
       "default_payment_next_month\n",
       "0    20750\n",
       "1     5914\n",
       "Name: id, dtype: int64"
      ]
     },
     "execution_count": 45,
     "metadata": {},
     "output_type": "execute_result"
    }
   ],
   "source": [
    "df.groupby('default_payment_next_month').id.count()"
   ]
  },
  {
   "cell_type": "markdown",
   "metadata": {},
   "source": [
    "### Choosing a linear model from Scikit-Learn (linear regression)"
   ]
  },
  {
   "cell_type": "code",
   "execution_count": 46,
   "metadata": {},
   "outputs": [
    {
     "data": {
      "text/plain": [
       "LogisticRegression()"
      ]
     },
     "execution_count": 46,
     "metadata": {},
     "output_type": "execute_result"
    }
   ],
   "source": [
    "model = LogisticRegression()\n",
    "model"
   ]
  },
  {
   "cell_type": "markdown",
   "metadata": {},
   "source": [
    "Instantiating with keyword parameters:"
   ]
  },
  {
   "cell_type": "code",
   "execution_count": 47,
   "metadata": {},
   "outputs": [
    {
     "data": {
      "text/plain": [
       "LogisticRegression(solver='warn')"
      ]
     },
     "execution_count": 47,
     "metadata": {},
     "output_type": "execute_result"
    }
   ],
   "source": [
    "model = LogisticRegression(C=1.0, class_weight=None, dual=False, fit_intercept=True,\n",
    "                           intercept_scaling=1, max_iter=100, multi_class='auto',\n",
    "                           n_jobs=None, penalty='l2', random_state=None, solver='warn',\n",
    "                           tol=0.0001, verbose=0, warm_start=False)\n",
    "model"
   ]
  },
  {
   "cell_type": "markdown",
   "metadata": {},
   "source": [
    "Changing default parameter values:"
   ]
  },
  {
   "cell_type": "code",
   "execution_count": 48,
   "metadata": {},
   "outputs": [
    {
     "data": {
      "text/plain": [
       "LogisticRegression(C=0.1, solver='liblinear')"
      ]
     },
     "execution_count": 48,
     "metadata": {},
     "output_type": "execute_result"
    }
   ],
   "source": [
    "model.C = 0.1\n",
    "model.solver = 'liblinear'\n",
    "\n",
    "model"
   ]
  },
  {
   "cell_type": "markdown",
   "metadata": {},
   "source": [
    "### Generating Synthetic Data"
   ]
  },
  {
   "cell_type": "code",
   "execution_count": 49,
   "metadata": {},
   "outputs": [
    {
     "data": {
      "text/plain": [
       "array([4.17022005e+00, 7.20324493e+00, 1.14374817e-03, 3.02332573e+00,\n",
       "       1.46755891e+00, 9.23385948e-01, 1.86260211e+00, 3.45560727e+00,\n",
       "       3.96767474e+00, 5.38816734e+00])"
      ]
     },
     "execution_count": 49,
     "metadata": {},
     "output_type": "execute_result"
    }
   ],
   "source": [
    "np.random.seed(seed=1)\n",
    "X = np.random.uniform(low=0.0, high=10.0, size=(1000,))\n",
    "\n",
    "X[0:10]"
   ]
  },
  {
   "cell_type": "markdown",
   "metadata": {},
   "source": [
    "Assuming that the data follows a linear trend with normally distributed errors:\n",
    "\n",
    "> ${y} = {ax} + {b} + {\\mathcal{N}(\\mu, \\sigma)}$\n",
    "\n",
    "Where ${a}$ is the slope, ${b}$ is the intercept and the Gaussian Noise has a mean $\\mu$ with a standard deviation $\\sigma$"
   ]
  },
  {
   "cell_type": "code",
   "execution_count": 50,
   "metadata": {},
   "outputs": [],
   "source": [
    "np.random.seed(seed=1)\n",
    "a = 0.25\n",
    "b = -1.25\n",
    "\n",
    "y = a * X + b + np.random.normal(loc=0.0, scale=1.0, size=(1000,))"
   ]
  },
  {
   "cell_type": "markdown",
   "metadata": {},
   "source": [
    "We get:"
   ]
  },
  {
   "cell_type": "code",
   "execution_count": 51,
   "metadata": {},
   "outputs": [
    {
     "data": {
      "text/plain": [
       "Text(0.5, 0, 'x')"
      ]
     },
     "execution_count": 51,
     "metadata": {},
     "output_type": "execute_result"
    },
    {
     "data": {
      "image/png": "[encoded data removed]",
      "text/plain": [
       "<Figure size 432x288 with 1 Axes>"
      ]
     },
     "metadata": {
      "needs_background": "light"
     },
     "output_type": "display_data"
    }
   ],
   "source": [
    "plt.scatter(X, y, s=1)\n",
    "plt.ylabel('y', rotation=0)\n",
    "plt.xlabel('x')"
   ]
  },
  {
   "cell_type": "markdown",
   "metadata": {},
   "source": [
    "### Fitting a Linear Regression model"
   ]
  },
  {
   "cell_type": "markdown",
   "metadata": {},
   "source": [
    "Instantiating the Linear Regression model object and fitting the data:"
   ]
  },
  {
   "cell_type": "code",
   "execution_count": 52,
   "metadata": {},
   "outputs": [
    {
     "data": {
      "text/plain": [
       "LinearRegression()"
      ]
     },
     "execution_count": 52,
     "metadata": {},
     "output_type": "execute_result"
    }
   ],
   "source": [
    "model = LinearRegression()\n",
    "model.fit(X.reshape(-1, 1), y)\n",
    "model"
   ]
  },
  {
   "cell_type": "markdown",
   "metadata": {},
   "source": [
    "Display the model's intercept and slope (coef_) values:"
   ]
  },
  {
   "cell_type": "code",
   "execution_count": 53,
   "metadata": {},
   "outputs": [
    {
     "name": "stdout",
     "output_type": "stream",
     "text": [
      "-1.1612566002825888\n",
      "[0.24002588]\n"
     ]
    }
   ],
   "source": [
    "print(model.intercept_)\n",
    "print(model.coef_)"
   ]
  },
  {
   "cell_type": "markdown",
   "metadata": {},
   "source": [
    "The values are close to the slope and intercept of the synthetic data, but because of the random noise they are just approximations.\n",
    "\n",
    "Let's predict the values against the same data used to train the model:"
   ]
  },
  {
   "cell_type": "code",
   "execution_count": 54,
   "metadata": {},
   "outputs": [],
   "source": [
    "y_pred = model.predict(X.reshape(-1, 1))"
   ]
  },
  {
   "cell_type": "markdown",
   "metadata": {},
   "source": [
    "Visualizing the results:"
   ]
  },
  {
   "cell_type": "code",
   "execution_count": 55,
   "metadata": {},
   "outputs": [
    {
     "data": {
      "text/plain": [
       "<matplotlib.legend.Legend at 0x7ffa4cadfa90>"
      ]
     },
     "execution_count": 55,
     "metadata": {},
     "output_type": "execute_result"
    },
    {
     "data": {
      "image/png": "[encoded data removed]",
      "text/plain": [
       "<Figure size 432x288 with 1 Axes>"
      ]
     },
     "metadata": {
      "needs_background": "light"
     },
     "output_type": "display_data"
    }
   ],
   "source": [
    "plt.scatter(X, y, s=1, label='Synthetic Data')\n",
    "plt.plot(X, y_pred, c='r', label='Predicted Data')\n",
    "plt.ylabel('y', rotation=0)\n",
    "plt.xlabel('x')\n",
    "plt.legend()"
   ]
  },
  {
   "cell_type": "markdown",
   "metadata": {},
   "source": [
    "### Model Performance"
   ]
  },
  {
   "cell_type": "markdown",
   "metadata": {},
   "source": [
    "Let's split the data into train and test sets:"
   ]
  },
  {
   "cell_type": "code",
   "execution_count": 56,
   "metadata": {},
   "outputs": [
    {
     "name": "stdout",
     "output_type": "stream",
     "text": [
      "(21331, 1)\n",
      "(5333, 1)\n",
      "(21331,)\n",
      "(5333,)\n"
     ]
    }
   ],
   "source": [
    "X_train, X_test, y_train, y_test = train_test_split(\n",
    "    df.education.values.reshape(-1, 1),\n",
    "    df.default_payment_next_month.values,\n",
    "    test_size=0.2,\n",
    "    random_state=24)\n",
    "\n",
    "print(X_train.shape)\n",
    "print(X_test.shape)\n",
    "print(y_train.shape)\n",
    "print(y_test.shape)"
   ]
  },
  {
   "cell_type": "markdown",
   "metadata": {},
   "source": [
    "Verify whether the train and test sets are similar in terms of response variable:"
   ]
  },
  {
   "cell_type": "code",
   "execution_count": 57,
   "metadata": {},
   "outputs": [
    {
     "name": "stdout",
     "output_type": "stream",
     "text": [
      "Train set: 0.223102526838873\n",
      "Test set: 0.21657603600225014\n"
     ]
    }
   ],
   "source": [
    "print('Train set: {}'.format(np.mean(y_train)))\n",
    "print('Test set: {}'.format(np.mean(y_test)))"
   ]
  },
  {
   "cell_type": "markdown",
   "metadata": {},
   "source": [
    "Since both train and test sets have a positive class fraction of 22%, and the overall data has also this percentage, we can say that these sets are representative."
   ]
  },
  {
   "cell_type": "markdown",
   "metadata": {},
   "source": [
    "### Classification Accuracy"
   ]
  },
  {
   "cell_type": "markdown",
   "metadata": {},
   "source": [
    "Let's train and predict a Logistic Regression model into the data:"
   ]
  },
  {
   "cell_type": "code",
   "execution_count": 58,
   "metadata": {},
   "outputs": [],
   "source": [
    "model = LogisticRegression(C=1.0, class_weight=None, dual=False, fit_intercept=True,\n",
    "                           intercept_scaling=1, max_iter=100, multi_class='auto',\n",
    "                           n_jobs=None, penalty='l2', random_state=None, solver='liblinear',\n",
    "                           tol=0.0001, verbose=0, warm_start=False)\n",
    "model.fit(X_train, y_train)\n",
    "\n",
    "y_pred = model.predict(X_test)"
   ]
  },
  {
   "cell_type": "markdown",
   "metadata": {},
   "source": [
    "Let's see the proportion of samples that were correctly classified (accuracy):"
   ]
  },
  {
   "cell_type": "code",
   "execution_count": 59,
   "metadata": {},
   "outputs": [
    {
     "data": {
      "text/plain": [
       "0.7834239639977498"
      ]
     },
     "execution_count": 59,
     "metadata": {},
     "output_type": "execute_result"
    }
   ],
   "source": [
    "is_correct = y_pred == y_test\n",
    "np.mean(is_correct)"
   ]
  },
  {
   "cell_type": "code",
   "execution_count": 60,
   "metadata": {},
   "outputs": [
    {
     "data": {
      "text/plain": [
       "0.7834239639977498"
      ]
     },
     "execution_count": 60,
     "metadata": {},
     "output_type": "execute_result"
    }
   ],
   "source": [
    "model.score(X_test, y_test)"
   ]
  },
  {
   "cell_type": "code",
   "execution_count": 61,
   "metadata": {},
   "outputs": [
    {
     "data": {
      "text/plain": [
       "0.7834239639977498"
      ]
     },
     "execution_count": 61,
     "metadata": {},
     "output_type": "execute_result"
    }
   ],
   "source": [
    "metrics.accuracy_score(y_test, y_pred)"
   ]
  },
  {
   "cell_type": "markdown",
   "metadata": {},
   "source": [
    "While a percentage of 78% might appear a good signal, when we compare to a null model (a model that guesses only one class) we result with the same value (the positive class proportion is around 22%, so a model that only guesses 0 will have the same accuracy). Therefore, other metrics are necessary to evaluate the goodnesss of the model."
   ]
  },
  {
   "cell_type": "markdown",
   "metadata": {},
   "source": [
    "### Confusion Matrix"
   ]
  },
  {
   "cell_type": "markdown",
   "metadata": {},
   "source": [
    "Considering the two possible labels in binary classificatoin (Positive and Negative), we can derive the following metrics from a model prediction:\n",
    "\n",
    "$TPR = \\frac{TP}{P}$: positive samples predicted as positive (recall or sensitivity)\n",
    "\n",
    "$FNR = \\frac{FN}{P}$: negative samples predicted as positive\n",
    "\n",
    "$TNR = \\frac{TN}{N}$: negative samples predicted as negative\n",
    "\n",
    "$FPR = \\frac{FP}{N}$: positive samples predicted as negative\n",
    "\n",
    "These metrics are combined into a 2x2 matrix where the true classes are along the diagonals. Besides, such relationship also holds:\n",
    "\n",
    "$TPR + FNR = 1$ and $TNR + FPR = 1$"
   ]
  },
  {
   "cell_type": "markdown",
   "metadata": {},
   "source": [
    "Let's see the resultant confusion matrix for the education logistic regression model:"
   ]
  },
  {
   "cell_type": "code",
   "execution_count": 62,
   "metadata": {},
   "outputs": [
    {
     "name": "stdout",
     "output_type": "stream",
     "text": [
      "Positive samples: 1155\n",
      "Negative samples: 4178\n",
      "The true negative rate is 1.0 and the false positive rate is 0.0\n"
     ]
    }
   ],
   "source": [
    "P = sum(y_test)\n",
    "N = sum(y_test == 0)\n",
    "\n",
    "TP = sum((y_pred == 1) & (y_test == 1))\n",
    "FP = sum((y_pred == 1) & (y_test == 0))\n",
    "TN = sum((y_pred == 0) & (y_test == 0))\n",
    "FN = sum((y_pred == 0) & (y_test == 1))\n",
    "\n",
    "TPR = TP / P\n",
    "FNR = FN / P\n",
    "TNR = TN / N\n",
    "FPR = FP / N\n",
    "\n",
    "print('Positive samples: {}'.format(P))\n",
    "print('Negative samples: {}'.format(N))\n",
    "print('The true negative rate is {} and the false positive rate is {}'.format(TNR, FPR))"
   ]
  },
  {
   "cell_type": "code",
   "execution_count": 63,
   "metadata": {},
   "outputs": [
    {
     "data": {
      "text/plain": [
       "array([[4178,    0],\n",
       "       [1155,    0]])"
      ]
     },
     "execution_count": 63,
     "metadata": {},
     "output_type": "execute_result"
    }
   ],
   "source": [
    "metrics.confusion_matrix(y_test, y_pred)"
   ]
  },
  {
   "cell_type": "markdown",
   "metadata": {},
   "source": [
    "On the testing set the model acted as a null model - every positive samples was predicted to be negative, so none of them were predited correctly."
   ]
  },
  {
   "cell_type": "markdown",
   "metadata": {},
   "source": [
    "### Understanding the Logistic Regression model"
   ]
  },
  {
   "cell_type": "markdown",
   "metadata": {},
   "source": [
    "Let's analyze the predicted probability of the model:"
   ]
  },
  {
   "cell_type": "code",
   "execution_count": 64,
   "metadata": {},
   "outputs": [
    {
     "data": {
      "text/plain": [
       "array([[0.77456295, 0.22543705],\n",
       "       [0.77456295, 0.22543705],\n",
       "       [0.79016179, 0.20983821],\n",
       "       ...,\n",
       "       [0.79016179, 0.20983821],\n",
       "       [0.79016179, 0.20983821],\n",
       "       [0.79016179, 0.20983821]])"
      ]
     },
     "execution_count": 64,
     "metadata": {},
     "output_type": "execute_result"
    }
   ],
   "source": [
    "y_pred_proba = model.predict_proba(X_test)\n",
    "y_pred_proba"
   ]
  },
  {
   "cell_type": "markdown",
   "metadata": {},
   "source": [
    "As this array calculates probabilities for each class (0 as negative and 1 as positive), each row vector sums to one:"
   ]
  },
  {
   "cell_type": "code",
   "execution_count": 65,
   "metadata": {},
   "outputs": [
    {
     "data": {
      "text/plain": [
       "array([1., 1., 1., ..., 1., 1., 1.])"
      ]
     },
     "execution_count": 65,
     "metadata": {},
     "output_type": "execute_result"
    }
   ],
   "source": [
    "np.sum(y_pred_proba, axis=1)"
   ]
  },
  {
   "cell_type": "markdown",
   "metadata": {},
   "source": [
    "The array should contain all records:"
   ]
  },
  {
   "cell_type": "code",
   "execution_count": 66,
   "metadata": {},
   "outputs": [
    {
     "data": {
      "text/plain": [
       "(5333,)"
      ]
     },
     "execution_count": 66,
     "metadata": {},
     "output_type": "execute_result"
    }
   ],
   "source": [
    "np.sum(y_pred_proba, axis=1).shape"
   ]
  },
  {
   "cell_type": "markdown",
   "metadata": {},
   "source": [
    "The sum shouldn't be different than one:"
   ]
  },
  {
   "cell_type": "code",
   "execution_count": 67,
   "metadata": {},
   "outputs": [
    {
     "data": {
      "text/plain": [
       "array([1.])"
      ]
     },
     "execution_count": 67,
     "metadata": {},
     "output_type": "execute_result"
    }
   ],
   "source": [
    "np.unique(np.sum(y_pred_proba, axis=1))"
   ]
  },
  {
   "cell_type": "markdown",
   "metadata": {},
   "source": [
    "Let's isolate just the positive column from the probabilities and see its histogram distribution:"
   ]
  },
  {
   "cell_type": "code",
   "execution_count": 68,
   "metadata": {},
   "outputs": [
    {
     "data": {
      "text/plain": [
       "Text(0.5, 0, 'Predicted probability of positive class for the test set')"
      ]
     },
     "execution_count": 68,
     "metadata": {},
     "output_type": "execute_result"
    },
    {
     "data": {
      "image/png": "[encoded data removed]",
      "text/plain": [
       "<Figure size 432x288 with 1 Axes>"
      ]
     },
     "metadata": {
      "needs_background": "light"
     },
     "output_type": "display_data"
    }
   ],
   "source": [
    "pos_proba = y_pred_proba[:, 1]\n",
    "\n",
    "plt.hist(pos_proba)\n",
    "plt.ylabel('Number of samples')\n",
    "plt.xlabel('Predicted probability of positive class for the test set')"
   ]
  },
  {
   "cell_type": "code",
   "execution_count": 69,
   "metadata": {},
   "outputs": [
    {
     "data": {
      "text/plain": [
       "(array([1883,    0,    0, 2519,    0,    0,  849,    0,    0,   82]),\n",
       " array([0.20983821, 0.21475824, 0.21967826, 0.22459829, 0.22951831,\n",
       "        0.23443834, 0.23935837, 0.24427839, 0.24919842, 0.25411844,\n",
       "        0.25903847]))"
      ]
     },
     "execution_count": 69,
     "metadata": {},
     "output_type": "execute_result"
    }
   ],
   "source": [
    "np.histogram(pos_proba)"
   ]
  },
  {
   "cell_type": "markdown",
   "metadata": {},
   "source": [
    "Let's see how many labels are actually positive plotting them with the model positive probabilities:"
   ]
  },
  {
   "cell_type": "code",
   "execution_count": 70,
   "metadata": {},
   "outputs": [
    {
     "data": {
      "text/plain": [
       "<matplotlib.legend.Legend at 0x7ffa4d07a580>"
      ]
     },
     "execution_count": 70,
     "metadata": {},
     "output_type": "execute_result"
    },
    {
     "data": {
      "image/png": "[encoded data removed]",
      "text/plain": [
       "<Figure size 432x288 with 1 Axes>"
      ]
     },
     "metadata": {
      "needs_background": "light"
     },
     "output_type": "display_data"
    }
   ],
   "source": [
    "pos_sample_pos_proba = pos_proba[y_test==1]\n",
    "neg_sample_pos_proba = pos_proba[y_test==0]\n",
    "\n",
    "plt.hist([pos_sample_pos_proba, neg_sample_pos_proba], histtype='barstacked', color=['g', 'y'])\n",
    "plt.ylabel('Number of Samples')\n",
    "plt.xlabel('Predicted probability of positive class')\n",
    "plt.legend(['Positive Samples', 'Negative Samples'])"
   ]
  },
  {
   "cell_type": "markdown",
   "metadata": {},
   "source": [
    "The positive predicted probabilities for all samples are lower than 0.27 (or 27%). One way to try to enhance model is to change the threshold of positive classification (defaults to 0.5). As it is possible to see from the previous stacked histogram, lowering the threshold wouldn't help too much, as it would increase the false positive rate (FPR - the negative samples classified as positive) and, therefore, decrease the accuracy of the model."
   ]
  },
  {
   "cell_type": "markdown",
   "metadata": {},
   "source": [
    "### The Receiver Operating Characteristic (ROC) curve"
   ]
  },
  {
   "cell_type": "markdown",
   "metadata": {},
   "source": [
    "This curve plots the pairs of true positive rates (y-axis) and false positive rates (x-axis) that result from lowering the threshold down from 1 to 0. In one hand, if threshold is 1 there will be no positive classes. On the other hand, with the threshold equals 0, all the samples will be classified as positive. A good classifier will show high TPR and low FPR."
   ]
  },
  {
   "cell_type": "code",
   "execution_count": 71,
   "metadata": {},
   "outputs": [
    {
     "data": {
      "text/plain": [
       "<matplotlib.legend.Legend at 0x7ffa4cd6d370>"
      ]
     },
     "execution_count": 71,
     "metadata": {},
     "output_type": "execute_result"
    },
    {
     "data": {
      "image/png": "[encoded data removed]",
      "text/plain": [
       "<Figure size 432x288 with 1 Axes>"
      ]
     },
     "metadata": {
      "needs_background": "light"
     },
     "output_type": "display_data"
    }
   ],
   "source": [
    "fpr, tpr, thresholds = metrics.roc_curve(y_test, pos_proba)\n",
    "\n",
    "plt.plot(fpr, tpr, '*-')\n",
    "plt.plot([0, 1], [0, 1], 'r--')\n",
    "plt.title('ROC curve')\n",
    "plt.ylabel('TPR')\n",
    "plt.xlabel('FPR')\n",
    "plt.legend(['Logistic Regression', 'Random Chance'])"
   ]
  },
  {
   "cell_type": "code",
   "execution_count": 72,
   "metadata": {},
   "outputs": [
    {
     "data": {
      "text/plain": [
       "array([1.25903847, 0.25903847, 0.24184056, 0.22543705, 0.20983821])"
      ]
     },
     "execution_count": 72,
     "metadata": {},
     "output_type": "execute_result"
    }
   ],
   "source": [
    "thresholds"
   ]
  },
  {
   "cell_type": "markdown",
   "metadata": {},
   "source": [
    "With a threshold of 1 there are no positive classifications, thus the roc value point of (0, 0). With the threshold value of about 0.25 the true positive rate increases a litte, as well as for the false positive rate. Lowering a little more the threshold this effect continues, so both TRP and FPR increases. Generally speaking, this model did not perform well.\n",
    "\n",
    "The area under the curve (AUC) is similar to a random chance curve (taking the integral the random curve gives 0.5). So this classifier could just be a little better than a random classifier."
   ]
  },
  {
   "cell_type": "code",
   "execution_count": 73,
   "metadata": {},
   "outputs": [
    {
     "data": {
      "text/plain": [
       "0.5434650477972642"
      ]
     },
     "execution_count": 73,
     "metadata": {},
     "output_type": "execute_result"
    }
   ],
   "source": [
    "metrics.roc_auc_score(y_test, pos_proba)"
   ]
  },
  {
   "cell_type": "markdown",
   "metadata": {},
   "source": [
    "As stated previously, the AUC for the logistic regression model is pretty close to 0.5, meaning it's not a very effective classifier. "
   ]
  },
  {
   "cell_type": "markdown",
   "metadata": {},
   "source": [
    "### Precision"
   ]
  },
  {
   "cell_type": "markdown",
   "metadata": {},
   "source": [
    "The precision looks at the ratio of the number of true positives to the sum of true and false positives. This metric measures the ratio of positive samples that were correctly predicted by the model.\n",
    "\n",
    "> $precision = \\frac{TP}{TP + FP}$\n",
    "\n",
    "Precision is often used when the classes are very imbalanced and is more focused on getting good model performance in the sense of correctness of positive predictions."
   ]
  },
  {
   "cell_type": "markdown",
   "metadata": {},
   "source": [
    "### Performing Logistic Regression on a new feature: limit_bal (the account's credit limit)"
   ]
  },
  {
   "cell_type": "markdown",
   "metadata": {},
   "source": [
    "Splitting into train and test sets:"
   ]
  },
  {
   "cell_type": "code",
   "execution_count": 74,
   "metadata": {},
   "outputs": [
    {
     "name": "stdout",
     "output_type": "stream",
     "text": [
      "(21331, 1)\n",
      "(5333, 1)\n",
      "(21331,)\n",
      "(5333,)\n"
     ]
    }
   ],
   "source": [
    "X_train, X_test, y_train, y_test = train_test_split(\n",
    "    df.limit_bal.values.reshape(-1, 1),\n",
    "    df.default_payment_next_month.values,\n",
    "    test_size=0.2,\n",
    "    random_state=24)\n",
    "\n",
    "print(X_train.shape)\n",
    "print(X_test.shape)\n",
    "print(y_train.shape)\n",
    "print(y_test.shape)"
   ]
  },
  {
   "cell_type": "markdown",
   "metadata": {},
   "source": [
    "Training and predicting the model:"
   ]
  },
  {
   "cell_type": "code",
   "execution_count": 75,
   "metadata": {},
   "outputs": [],
   "source": [
    "model.fit(X_train, y_train)\n",
    "\n",
    "y_pred = model.predict(X_test)\n",
    "y_pred_proba = model.predict_proba(X_test)"
   ]
  },
  {
   "cell_type": "markdown",
   "metadata": {},
   "source": [
    "Evaluating the model:"
   ]
  },
  {
   "cell_type": "code",
   "execution_count": 76,
   "metadata": {},
   "outputs": [
    {
     "data": {
      "text/plain": [
       "<matplotlib.legend.Legend at 0x7ffa4e059fd0>"
      ]
     },
     "execution_count": 76,
     "metadata": {},
     "output_type": "execute_result"
    },
    {
     "data": {
      "image/png": "[encoded data removed]",
      "text/plain": [
       "<Figure size 432x288 with 1 Axes>"
      ]
     },
     "metadata": {
      "needs_background": "light"
     },
     "output_type": "display_data"
    }
   ],
   "source": [
    "fpr, tpr, thresholds = metrics.roc_curve(y_test, y_pred_proba[:, 1])\n",
    "\n",
    "plt.plot(fpr, tpr, '*-')\n",
    "plt.plot([0, 1], [0, 1], 'r--')\n",
    "plt.title('ROC curve for limit_bal feature')\n",
    "plt.ylabel('TPR')\n",
    "plt.xlabel('FPR')\n",
    "plt.legend(['Logistic Regression', 'Random Chance'])"
   ]
  },
  {
   "cell_type": "markdown",
   "metadata": {},
   "source": [
    "This curve is a better ROC cuver than for the **education ROC curve** as it was a bit further from the **random chance curve**. The number of pairs (FPR, TPR) is a smoother over the range of thresholds, reflecting that this feature has a larger number of distinct values.\n",
    "\n",
    "Let's see the thresholds and the ROC AUC score:"
   ]
  },
  {
   "cell_type": "code",
   "execution_count": 77,
   "metadata": {},
   "outputs": [
    {
     "data": {
      "text/plain": [
       "array([1.48298465, 0.48298465, 0.46600867, 0.44911106, 0.4323301 ,\n",
       "       0.415703  , 0.3992656 , 0.38305207, 0.3670946 , 0.35142324,\n",
       "       0.33606566, 0.321047  , 0.30638978, 0.29211383, 0.27823623,\n",
       "       0.26477132, 0.25173076, 0.23912359, 0.2269563 , 0.21523299,\n",
       "       0.20395547, 0.19312344, 0.18273464, 0.17278502, 0.16326891,\n",
       "       0.15417922, 0.14550758, 0.13724452, 0.12937966, 0.12190182,\n",
       "       0.11479918, 0.10805946, 0.10166997, 0.09561779, 0.08988983,\n",
       "       0.08447295, 0.07935404, 0.07452008, 0.0699582 , 0.06565578,\n",
       "       0.06160044, 0.05778008, 0.05418298, 0.05079775, 0.04761337,\n",
       "       0.04461922, 0.0418051 , 0.03916119, 0.03667808, 0.0343468 ,\n",
       "       0.03215875, 0.03010574, 0.02817998, 0.02637405, 0.02468092,\n",
       "       0.0230939 , 0.02021324, 0.01890793, 0.01654057, 0.01546869,\n",
       "       0.01446524, 0.01033455, 0.00844134, 0.0078901 , 0.00644178])"
      ]
     },
     "execution_count": 77,
     "metadata": {},
     "output_type": "execute_result"
    }
   ],
   "source": [
    "thresholds"
   ]
  },
  {
   "cell_type": "code",
   "execution_count": 78,
   "metadata": {},
   "outputs": [
    {
     "data": {
      "text/plain": [
       "0.6201990844642832"
      ]
     },
     "execution_count": 78,
     "metadata": {},
     "output_type": "execute_result"
    }
   ],
   "source": [
    "metrics.roc_auc_score(y_test, y_pred_proba[:,1])"
   ]
  },
  {
   "cell_type": "markdown",
   "metadata": {},
   "source": [
    "The ROC AUC is higher for *limit_bal* compared to education feature. This happened because the **limit_bal** feature may be more correlated to the account's finacial status (credit limit), instead of **education**, that may be less directly related to finances in this case.\n",
    "\n",
    "Let's calculate the data for a **precision-recall curve** on the testing data:"
   ]
  },
  {
   "cell_type": "code",
   "execution_count": 79,
   "metadata": {},
   "outputs": [
    {
     "data": {
      "text/plain": [
       "Text(0.5, 0, 'Recall')"
      ]
     },
     "execution_count": 79,
     "metadata": {},
     "output_type": "execute_result"
    },
    {
     "data": {
      "image/png": "[encoded data removed]",
      "text/plain": [
       "<Figure size 432x288 with 1 Axes>"
      ]
     },
     "metadata": {
      "needs_background": "light"
     },
     "output_type": "display_data"
    }
   ],
   "source": [
    "precision, recall, thresholds = metrics.precision_recall_curve(y_test, y_pred_proba[:,1])\n",
    "\n",
    "plt.plot(recall, precision, '-x')\n",
    "plt.title('Precision and Recall for the Logistic Regression Model for the limit_bal feature')\n",
    "plt.ylabel('Precision')\n",
    "plt.xlabel('Recall')"
   ]
  },
  {
   "cell_type": "markdown",
   "metadata": {},
   "source": [
    "The **precision-recall curve** showed that the precision is fairly low for this model for nearly all threshold values. This means that the portion of positive classifications that were correct is less than half (below 0.5).\n",
    "\n",
    "Let's calculate the area under the curve:"
   ]
  },
  {
   "cell_type": "code",
   "execution_count": 80,
   "metadata": {},
   "outputs": [
    {
     "data": {
      "text/plain": [
       "0.31566964427378624"
      ]
     },
     "execution_count": 80,
     "metadata": {},
     "output_type": "execute_result"
    }
   ],
   "source": [
    "metrics.auc(recall, precision)"
   ]
  },
  {
   "cell_type": "markdown",
   "metadata": {},
   "source": [
    "A high area under the curve represents both high recall and high precision, where high precision relates to a low false positive rate, and high recall relates to low false negative rate. Therefore, this model didn't show a good precision. The recall is nearly one for low threshold values, meaning that the model was capable to identify relevant samples (the model correctly identified the true positve samples among all the true positive and false negative samples).\n",
    "\n",
    "Let's calcuate the ROC AUC curve for the training data to compare the **training and testing scores**:"
   ]
  },
  {
   "cell_type": "code",
   "execution_count": 81,
   "metadata": {},
   "outputs": [
    {
     "data": {
      "text/plain": [
       "0.6182918113358344"
      ]
     },
     "execution_count": 81,
     "metadata": {},
     "output_type": "execute_result"
    }
   ],
   "source": [
    "y_train_pred_proba = model.predict_proba(X_train)\n",
    "\n",
    "metrics.roc_auc_score(y_train, y_train_pred_proba[:,1])"
   ]
  },
  {
   "cell_type": "markdown",
   "metadata": {},
   "source": [
    "The difference between test and train ROC AUC is not quantitatively significant, in fact, the values were almost the same. The train ROC AUC showed data was correctly classified for almost 62%, resulting from the model \"learning process\". If these two values were different (generally the training ROC AUC being higher than the test) this would mean that the model didn't have a good generalization capability."
   ]
  }
 ],
 "metadata": {
  "kernelspec": {
   "display_name": "Python 3",
   "language": "python",
   "name": "python3"
  },
  "language_info": {
   "codemirror_mode": {
    "name": "ipython",
    "version": 3
   },
   "file_extension": ".py",
   "mimetype": "text/x-python",
   "name": "python",
   "nbconvert_exporter": "python",
   "pygments_lexer": "ipython3",
   "version": "3.8.5"
  }
 },
 "nbformat": 4,
 "nbformat_minor": 4
}
