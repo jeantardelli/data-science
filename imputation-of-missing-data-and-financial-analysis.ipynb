{
 "cells": [
  {
   "cell_type": "markdown",
   "metadata": {},
   "source": [
    "### Imputation of Missing Data and Financial Analysis"
   ]
  },
  {
   "cell_type": "markdown",
   "metadata": {},
   "source": [
    "#### Packages"
   ]
  },
  {
   "cell_type": "code",
   "execution_count": 1,
   "metadata": {},
   "outputs": [
    {
     "name": "stdout",
     "output_type": "stream",
     "text": [
      "The Python version is 3.8.5 (default, Jul 28 2020, 12:59:40) \n",
      "[GCC 9.3.0].\n",
      "\n",
      "The Numpy version is 1.19.1.\n",
      "\n",
      "The Pandas version is 1.1.0.\n",
      "\n",
      "The Matplotlib version is 3.3.3.\n",
      "\n",
      "The Scikit-Learn version is 0.24.0.\n",
      "\n"
     ]
    }
   ],
   "source": [
    "# Load packages and check versions\n",
    "import sys\n",
    "import sklearn\n",
    "import numpy as np\n",
    "import pandas as pd\n",
    "import matplotlib as mpl\n",
    "import matplotlib.pyplot as plt\n",
    "\n",
    "%matplotlib inline\n",
    "\n",
    "from sklearn import metrics\n",
    "from sklearn.metrics import roc_auc_score\n",
    "from sklearn.ensemble import RandomForestClassifier\n",
    "from sklearn.model_selection import train_test_split, KFold, cross_validate, GridSearchCV\n",
    "\n",
    "\n",
    "print('The Python version is {}.\\n'.format(sys.version))\n",
    "print('The Numpy version is {}.\\n'.format(np.__version__))\n",
    "print('The Pandas version is {}.\\n'.format(pd.__version__))\n",
    "print('The Matplotlib version is {}.\\n'.format(mpl.__version__))\n",
    "print('The Scikit-Learn version is {}.\\n'.format(sklearn.__version__))"
   ]
  },
  {
   "cell_type": "markdown",
   "metadata": {},
   "source": [
    "### Imputation of missing data\n",
    "\n",
    "Imputation involves using the known values of a certain feature to make a best educated guess as to the missing values as a way to solve the problem of missing data that might have potential predictive power. \n",
    "\n",
    "Following are some strategies to deal with missing data:\n",
    "\n",
    "- Ignore samples with missing data, or features with missing data\n",
    "- Impute missing feature values with a constant (e.g. mean, median or mode) for a specific category\n",
    "- Impute missing values using a random selection from non-missing values\n",
    "- Impute missing values using interpolation of nearby observations in time or space\n",
    "- Mode-based imputation\n",
    "\n",
    "While the first option doesn't actually impute any data, it is a common practice among data science projects when dealing with missing values. \n",
    "\n",
    "The simplest types of imputation involve using a summary statistic of the non-missing feature values, as the single constant value with which to replace all the missing values. This summary statistic may be the mean, median, or mode for continuous features. For categorial features, the mode is an option, as well as the median for ordinal categoricals. An important additional case of imputation with a constant value for categorial variables is to create a new level of the categorical  variable, to indicate data is missing.\n",
    "\n",
    "More sophisticated methods of imputation can be used to fill in missing values with non-constant values. These methods reflect an acknowledgment that the missing values may not all be equal. he simplest way to do this is to fill in missing values using a random draw from the set of non-missing values, with replacement. This way, the relative frequency of different values chosen to fill in missing data will be similar to the existing data for that feature.\n",
    "\n",
    "In case samples are located within time or space, such as a time series or geolocated data, then temporal or spatial interpolation methods may be used. These methods follow the general idea that a missing data point is probably located somewhere between the values of adjacent data points in time or space.\n",
    "\n",
    "Lastly, perhaps the most sophisticated way to fill in missing data is to view the imputation problem as a predictive modeling \"problem within a problem.\" In this method, the feature with missing values is considered the response variable, while the features with no missing values are considered the features of this sub-problem."
   ]
  },
  {
   "cell_type": "markdown",
   "metadata": {},
   "source": [
    "### Preparing Samples with Missing Data\n",
    "\n",
    "Note that for the case study dataset, the feature that had missing values was **pay_1**, which turned out to be the most important feature as dentified by both the univariate feature selection as well as the feature importance of the random forest. In order to test out different imputation strategies on the case study data and see how they affect the predictive capability of the modeling approach, it is necesasry to replace samples with missing data back in to the dataset.\n",
    "\n",
    "Let us load the original dataset:"
   ]
  },
  {
   "cell_type": "code",
   "execution_count": 2,
   "metadata": {},
   "outputs": [
    {
     "data": {
      "text/html": [
       "<div>\n",
       "<style scoped>\n",
       "    .dataframe tbody tr th:only-of-type {\n",
       "        vertical-align: middle;\n",
       "    }\n",
       "\n",
       "    .dataframe tbody tr th {\n",
       "        vertical-align: top;\n",
       "    }\n",
       "\n",
       "    .dataframe thead th {\n",
       "        text-align: right;\n",
       "    }\n",
       "</style>\n",
       "<table border=\"1\" class=\"dataframe\">\n",
       "  <thead>\n",
       "    <tr style=\"text-align: right;\">\n",
       "      <th></th>\n",
       "      <th>id</th>\n",
       "      <th>limit_bal</th>\n",
       "      <th>sex</th>\n",
       "      <th>education</th>\n",
       "      <th>marriage</th>\n",
       "      <th>age</th>\n",
       "      <th>pay_1</th>\n",
       "      <th>pay_2</th>\n",
       "      <th>pay_3</th>\n",
       "      <th>pay_4</th>\n",
       "      <th>...</th>\n",
       "      <th>bill_amt4</th>\n",
       "      <th>bill_amt5</th>\n",
       "      <th>bill_amt6</th>\n",
       "      <th>pay_amt1</th>\n",
       "      <th>pay_amt2</th>\n",
       "      <th>pay_amt3</th>\n",
       "      <th>pay_amt4</th>\n",
       "      <th>pay_amt5</th>\n",
       "      <th>pay_amt6</th>\n",
       "      <th>default_payment_next_month</th>\n",
       "    </tr>\n",
       "  </thead>\n",
       "  <tbody>\n",
       "    <tr>\n",
       "      <th>0</th>\n",
       "      <td>798fc410-45c1</td>\n",
       "      <td>20000</td>\n",
       "      <td>2</td>\n",
       "      <td>2</td>\n",
       "      <td>1</td>\n",
       "      <td>24</td>\n",
       "      <td>2</td>\n",
       "      <td>2</td>\n",
       "      <td>-1</td>\n",
       "      <td>-1</td>\n",
       "      <td>...</td>\n",
       "      <td>0</td>\n",
       "      <td>0</td>\n",
       "      <td>0</td>\n",
       "      <td>0</td>\n",
       "      <td>689</td>\n",
       "      <td>0</td>\n",
       "      <td>0</td>\n",
       "      <td>0</td>\n",
       "      <td>0</td>\n",
       "      <td>1</td>\n",
       "    </tr>\n",
       "    <tr>\n",
       "      <th>1</th>\n",
       "      <td>8a8c8f3b-8eb4</td>\n",
       "      <td>120000</td>\n",
       "      <td>2</td>\n",
       "      <td>2</td>\n",
       "      <td>2</td>\n",
       "      <td>26</td>\n",
       "      <td>-1</td>\n",
       "      <td>2</td>\n",
       "      <td>0</td>\n",
       "      <td>0</td>\n",
       "      <td>...</td>\n",
       "      <td>3272</td>\n",
       "      <td>3455</td>\n",
       "      <td>3261</td>\n",
       "      <td>0</td>\n",
       "      <td>1000</td>\n",
       "      <td>1000</td>\n",
       "      <td>1000</td>\n",
       "      <td>0</td>\n",
       "      <td>2000</td>\n",
       "      <td>1</td>\n",
       "    </tr>\n",
       "    <tr>\n",
       "      <th>2</th>\n",
       "      <td>85698822-43f5</td>\n",
       "      <td>90000</td>\n",
       "      <td>2</td>\n",
       "      <td>2</td>\n",
       "      <td>2</td>\n",
       "      <td>34</td>\n",
       "      <td>0</td>\n",
       "      <td>0</td>\n",
       "      <td>0</td>\n",
       "      <td>0</td>\n",
       "      <td>...</td>\n",
       "      <td>14331</td>\n",
       "      <td>14948</td>\n",
       "      <td>15549</td>\n",
       "      <td>1518</td>\n",
       "      <td>1500</td>\n",
       "      <td>1000</td>\n",
       "      <td>1000</td>\n",
       "      <td>1000</td>\n",
       "      <td>5000</td>\n",
       "      <td>0</td>\n",
       "    </tr>\n",
       "    <tr>\n",
       "      <th>3</th>\n",
       "      <td>0737c11b-be42</td>\n",
       "      <td>50000</td>\n",
       "      <td>2</td>\n",
       "      <td>2</td>\n",
       "      <td>1</td>\n",
       "      <td>37</td>\n",
       "      <td>0</td>\n",
       "      <td>0</td>\n",
       "      <td>0</td>\n",
       "      <td>0</td>\n",
       "      <td>...</td>\n",
       "      <td>28314</td>\n",
       "      <td>28959</td>\n",
       "      <td>29547</td>\n",
       "      <td>2000</td>\n",
       "      <td>2019</td>\n",
       "      <td>1200</td>\n",
       "      <td>1100</td>\n",
       "      <td>1069</td>\n",
       "      <td>1000</td>\n",
       "      <td>0</td>\n",
       "    </tr>\n",
       "    <tr>\n",
       "      <th>4</th>\n",
       "      <td>3b7f77cc-dbc0</td>\n",
       "      <td>50000</td>\n",
       "      <td>1</td>\n",
       "      <td>2</td>\n",
       "      <td>1</td>\n",
       "      <td>57</td>\n",
       "      <td>-1</td>\n",
       "      <td>0</td>\n",
       "      <td>-1</td>\n",
       "      <td>0</td>\n",
       "      <td>...</td>\n",
       "      <td>20940</td>\n",
       "      <td>19146</td>\n",
       "      <td>19131</td>\n",
       "      <td>2000</td>\n",
       "      <td>36681</td>\n",
       "      <td>10000</td>\n",
       "      <td>9000</td>\n",
       "      <td>689</td>\n",
       "      <td>679</td>\n",
       "      <td>0</td>\n",
       "    </tr>\n",
       "  </tbody>\n",
       "</table>\n",
       "<p>5 rows × 25 columns</p>\n",
       "</div>"
      ],
      "text/plain": [
       "              id  limit_bal  sex  education  marriage  age pay_1  pay_2  \\\n",
       "0  798fc410-45c1      20000    2          2         1   24     2      2   \n",
       "1  8a8c8f3b-8eb4     120000    2          2         2   26    -1      2   \n",
       "2  85698822-43f5      90000    2          2         2   34     0      0   \n",
       "3  0737c11b-be42      50000    2          2         1   37     0      0   \n",
       "4  3b7f77cc-dbc0      50000    1          2         1   57    -1      0   \n",
       "\n",
       "   pay_3  pay_4  ...  bill_amt4  bill_amt5  bill_amt6  pay_amt1  pay_amt2  \\\n",
       "0     -1     -1  ...          0          0          0         0       689   \n",
       "1      0      0  ...       3272       3455       3261         0      1000   \n",
       "2      0      0  ...      14331      14948      15549      1518      1500   \n",
       "3      0      0  ...      28314      28959      29547      2000      2019   \n",
       "4     -1      0  ...      20940      19146      19131      2000     36681   \n",
       "\n",
       "   pay_amt3  pay_amt4  pay_amt5  pay_amt6  default_payment_next_month  \n",
       "0         0         0         0         0                           1  \n",
       "1      1000      1000         0      2000                           1  \n",
       "2      1000      1000      1000      5000                           0  \n",
       "3      1200      1100      1069      1000                           0  \n",
       "4     10000      9000       689       679                           0  \n",
       "\n",
       "[5 rows x 25 columns]"
      ]
     },
     "execution_count": 2,
     "metadata": {},
     "output_type": "execute_result"
    }
   ],
   "source": [
    "df = pd.read_excel('data/default_of_credit_card_clients__courseware_version_1_21_19.xls')\n",
    "df.columns = [col.lower().replace(' ', '_') for col in df.columns]\n",
    "df.head()"
   ]
  },
  {
   "cell_type": "markdown",
   "metadata": {},
   "source": [
    "Looking at the zero rows:"
   ]
  },
  {
   "cell_type": "code",
   "execution_count": 3,
   "metadata": {},
   "outputs": [
    {
     "data": {
      "text/plain": [
       "(315,\n",
       " 0        False\n",
       " 1        False\n",
       " 2        False\n",
       " 3        False\n",
       " 4        False\n",
       "          ...  \n",
       " 29995    False\n",
       " 29996    False\n",
       " 29997    False\n",
       " 29998    False\n",
       " 29999    False\n",
       " Length: 30000, dtype: bool)"
      ]
     },
     "execution_count": 3,
     "metadata": {},
     "output_type": "execute_result"
    }
   ],
   "source": [
    "df_zero_mask = df == 0\n",
    "features_zero_mask = df_zero_mask.iloc[:, 1:].all(axis=1)\n",
    "\n",
    "(sum(features_zero_mask),\n",
    " features_zero_mask)"
   ]
  },
  {
   "cell_type": "markdown",
   "metadata": {},
   "source": [
    "Let us remove them from the dataframe and check whether all rows are unique:"
   ]
  },
  {
   "cell_type": "code",
   "execution_count": 4,
   "metadata": {},
   "outputs": [
    {
     "data": {
      "text/plain": [
       "(29685, 25)"
      ]
     },
     "execution_count": 4,
     "metadata": {},
     "output_type": "execute_result"
    }
   ],
   "source": [
    "df_clean = df.loc[~features_zero_mask].copy()\n",
    "\n",
    "df_clean.shape"
   ]
  },
  {
   "cell_type": "code",
   "execution_count": 5,
   "metadata": {},
   "outputs": [
    {
     "data": {
      "text/plain": [
       "29685"
      ]
     },
     "execution_count": 5,
     "metadata": {},
     "output_type": "execute_result"
    }
   ],
   "source": [
    "df_clean.id.nunique()"
   ]
  },
  {
   "cell_type": "markdown",
   "metadata": {},
   "source": [
    "Let us replace the undocumented values for the **education** and **marriage** columns with an *unknown* value.\n",
    "\n",
    "Education shoul be \"Education (1 = graduate school; 2 = university; 3 = high school; 4 = others)\"\n",
    "\n",
    "Marriage should be \"Marriage (1 = married; 2 = single; 3 = others)\""
   ]
  },
  {
   "cell_type": "code",
   "execution_count": 6,
   "metadata": {},
   "outputs": [
    {
     "data": {
      "text/plain": [
       "(2    13884\n",
       " 1    10474\n",
       " 3     4867\n",
       " 5      275\n",
       " 4      122\n",
       " 6       49\n",
       " 0       14\n",
       " Name: education, dtype: int64,\n",
       " 2    15810\n",
       " 1    13503\n",
       " 3      318\n",
       " 0       54\n",
       " Name: marriage, dtype: int64)"
      ]
     },
     "execution_count": 6,
     "metadata": {},
     "output_type": "execute_result"
    }
   ],
   "source": [
    "(df_clean.education.value_counts(), \n",
    " df_clean.marriage.value_counts())"
   ]
  },
  {
   "cell_type": "code",
   "execution_count": 7,
   "metadata": {},
   "outputs": [],
   "source": [
    "df_clean.education.replace(to_replace=[0,5,6], value=4, inplace=True)\n",
    "df_clean.marriage.replace(to_replace=0, value=3, inplace=True)"
   ]
  },
  {
   "cell_type": "markdown",
   "metadata": {},
   "source": [
    "Let us maintain the **pay_1** with missing values for the imputation process. However, let us \"save\" them into another set to include it the train and test set in a way to compare whether the imputation process reflects a better performance:"
   ]
  },
  {
   "cell_type": "code",
   "execution_count": 8,
   "metadata": {},
   "outputs": [
    {
     "data": {
      "text/plain": [
       "0                13087\n",
       "-1                5047\n",
       "1                 3261\n",
       "Not available     3021\n",
       "-2                2476\n",
       "2                 2378\n",
       "3                  292\n",
       "4                   63\n",
       "5                   23\n",
       "8                   17\n",
       "6                   11\n",
       "7                    9\n",
       "Name: pay_1, dtype: int64"
      ]
     },
     "execution_count": 8,
     "metadata": {},
     "output_type": "execute_result"
    }
   ],
   "source": [
    "df_clean.pay_1.value_counts()"
   ]
  },
  {
   "cell_type": "code",
   "execution_count": 9,
   "metadata": {},
   "outputs": [
    {
     "data": {
      "text/plain": [
       "3021"
      ]
     },
     "execution_count": 9,
     "metadata": {},
     "output_type": "execute_result"
    }
   ],
   "source": [
    "missing_pay_1_mask = df_clean.pay_1 == 'Not available'\n",
    "sum(missing_pay_1_mask)"
   ]
  },
  {
   "cell_type": "markdown",
   "metadata": {},
   "source": [
    "Now let us isolate these values:"
   ]
  },
  {
   "cell_type": "code",
   "execution_count": 10,
   "metadata": {},
   "outputs": [
    {
     "data": {
      "text/html": [
       "<div>\n",
       "<style scoped>\n",
       "    .dataframe tbody tr th:only-of-type {\n",
       "        vertical-align: middle;\n",
       "    }\n",
       "\n",
       "    .dataframe tbody tr th {\n",
       "        vertical-align: top;\n",
       "    }\n",
       "\n",
       "    .dataframe thead th {\n",
       "        text-align: right;\n",
       "    }\n",
       "</style>\n",
       "<table border=\"1\" class=\"dataframe\">\n",
       "  <thead>\n",
       "    <tr style=\"text-align: right;\">\n",
       "      <th></th>\n",
       "      <th>id</th>\n",
       "      <th>limit_bal</th>\n",
       "      <th>sex</th>\n",
       "      <th>education</th>\n",
       "      <th>marriage</th>\n",
       "      <th>age</th>\n",
       "      <th>pay_1</th>\n",
       "      <th>pay_2</th>\n",
       "      <th>pay_3</th>\n",
       "      <th>pay_4</th>\n",
       "      <th>...</th>\n",
       "      <th>bill_amt4</th>\n",
       "      <th>bill_amt5</th>\n",
       "      <th>bill_amt6</th>\n",
       "      <th>pay_amt1</th>\n",
       "      <th>pay_amt2</th>\n",
       "      <th>pay_amt3</th>\n",
       "      <th>pay_amt4</th>\n",
       "      <th>pay_amt5</th>\n",
       "      <th>pay_amt6</th>\n",
       "      <th>default_payment_next_month</th>\n",
       "    </tr>\n",
       "  </thead>\n",
       "  <tbody>\n",
       "    <tr>\n",
       "      <th>17</th>\n",
       "      <td>f0ba5e02-0c0f</td>\n",
       "      <td>320000</td>\n",
       "      <td>1</td>\n",
       "      <td>1</td>\n",
       "      <td>1</td>\n",
       "      <td>49</td>\n",
       "      <td>Not available</td>\n",
       "      <td>0</td>\n",
       "      <td>0</td>\n",
       "      <td>-1</td>\n",
       "      <td>...</td>\n",
       "      <td>70074</td>\n",
       "      <td>5856</td>\n",
       "      <td>195599</td>\n",
       "      <td>10358</td>\n",
       "      <td>10000</td>\n",
       "      <td>75940</td>\n",
       "      <td>20000</td>\n",
       "      <td>195599</td>\n",
       "      <td>50000</td>\n",
       "      <td>0</td>\n",
       "    </tr>\n",
       "    <tr>\n",
       "      <th>28</th>\n",
       "      <td>aecb449b-a999</td>\n",
       "      <td>50000</td>\n",
       "      <td>2</td>\n",
       "      <td>3</td>\n",
       "      <td>1</td>\n",
       "      <td>47</td>\n",
       "      <td>Not available</td>\n",
       "      <td>-1</td>\n",
       "      <td>-1</td>\n",
       "      <td>-1</td>\n",
       "      <td>...</td>\n",
       "      <td>2040</td>\n",
       "      <td>30430</td>\n",
       "      <td>257</td>\n",
       "      <td>3415</td>\n",
       "      <td>3421</td>\n",
       "      <td>2044</td>\n",
       "      <td>30430</td>\n",
       "      <td>257</td>\n",
       "      <td>0</td>\n",
       "      <td>0</td>\n",
       "    </tr>\n",
       "    <tr>\n",
       "      <th>29</th>\n",
       "      <td>57ea9a1f-cdd5</td>\n",
       "      <td>50000</td>\n",
       "      <td>1</td>\n",
       "      <td>1</td>\n",
       "      <td>2</td>\n",
       "      <td>26</td>\n",
       "      <td>Not available</td>\n",
       "      <td>0</td>\n",
       "      <td>0</td>\n",
       "      <td>0</td>\n",
       "      <td>...</td>\n",
       "      <td>17907</td>\n",
       "      <td>18375</td>\n",
       "      <td>11400</td>\n",
       "      <td>1500</td>\n",
       "      <td>1500</td>\n",
       "      <td>1000</td>\n",
       "      <td>1000</td>\n",
       "      <td>1600</td>\n",
       "      <td>0</td>\n",
       "      <td>0</td>\n",
       "    </tr>\n",
       "    <tr>\n",
       "      <th>54</th>\n",
       "      <td>781f3cc2-7ddc</td>\n",
       "      <td>150000</td>\n",
       "      <td>2</td>\n",
       "      <td>1</td>\n",
       "      <td>2</td>\n",
       "      <td>29</td>\n",
       "      <td>Not available</td>\n",
       "      <td>0</td>\n",
       "      <td>0</td>\n",
       "      <td>0</td>\n",
       "      <td>...</td>\n",
       "      <td>26518</td>\n",
       "      <td>21042</td>\n",
       "      <td>16540</td>\n",
       "      <td>1600</td>\n",
       "      <td>1718</td>\n",
       "      <td>1049</td>\n",
       "      <td>1500</td>\n",
       "      <td>2000</td>\n",
       "      <td>5000</td>\n",
       "      <td>0</td>\n",
       "    </tr>\n",
       "    <tr>\n",
       "      <th>60</th>\n",
       "      <td>5c00d7e6-a804</td>\n",
       "      <td>500000</td>\n",
       "      <td>2</td>\n",
       "      <td>3</td>\n",
       "      <td>1</td>\n",
       "      <td>28</td>\n",
       "      <td>Not available</td>\n",
       "      <td>0</td>\n",
       "      <td>0</td>\n",
       "      <td>0</td>\n",
       "      <td>...</td>\n",
       "      <td>14937</td>\n",
       "      <td>13827</td>\n",
       "      <td>15571</td>\n",
       "      <td>1516</td>\n",
       "      <td>1300</td>\n",
       "      <td>1000</td>\n",
       "      <td>1000</td>\n",
       "      <td>2000</td>\n",
       "      <td>2000</td>\n",
       "      <td>1</td>\n",
       "    </tr>\n",
       "  </tbody>\n",
       "</table>\n",
       "<p>5 rows × 25 columns</p>\n",
       "</div>"
      ],
      "text/plain": [
       "               id  limit_bal  sex  education  marriage  age          pay_1  \\\n",
       "17  f0ba5e02-0c0f     320000    1          1         1   49  Not available   \n",
       "28  aecb449b-a999      50000    2          3         1   47  Not available   \n",
       "29  57ea9a1f-cdd5      50000    1          1         2   26  Not available   \n",
       "54  781f3cc2-7ddc     150000    2          1         2   29  Not available   \n",
       "60  5c00d7e6-a804     500000    2          3         1   28  Not available   \n",
       "\n",
       "    pay_2  pay_3  pay_4  ...  bill_amt4  bill_amt5  bill_amt6  pay_amt1  \\\n",
       "17      0      0     -1  ...      70074       5856     195599     10358   \n",
       "28     -1     -1     -1  ...       2040      30430        257      3415   \n",
       "29      0      0      0  ...      17907      18375      11400      1500   \n",
       "54      0      0      0  ...      26518      21042      16540      1600   \n",
       "60      0      0      0  ...      14937      13827      15571      1516   \n",
       "\n",
       "    pay_amt2  pay_amt3  pay_amt4  pay_amt5  pay_amt6  \\\n",
       "17     10000     75940     20000    195599     50000   \n",
       "28      3421      2044     30430       257         0   \n",
       "29      1500      1000      1000      1600         0   \n",
       "54      1718      1049      1500      2000      5000   \n",
       "60      1300      1000      1000      2000      2000   \n",
       "\n",
       "    default_payment_next_month  \n",
       "17                           0  \n",
       "28                           0  \n",
       "29                           0  \n",
       "54                           0  \n",
       "60                           1  \n",
       "\n",
       "[5 rows x 25 columns]"
      ]
     },
     "execution_count": 10,
     "metadata": {},
     "output_type": "execute_result"
    }
   ],
   "source": [
    "df_missing_pay_1 = df_clean[missing_pay_1_mask].copy()\n",
    "df_missing_pay_1.head()"
   ]
  },
  {
   "cell_type": "markdown",
   "metadata": {},
   "source": [
    "Let us now load the previously cleaned dataframe:"
   ]
  },
  {
   "cell_type": "code",
   "execution_count": 11,
   "metadata": {},
   "outputs": [
    {
     "data": {
      "text/html": [
       "<div>\n",
       "<style scoped>\n",
       "    .dataframe tbody tr th:only-of-type {\n",
       "        vertical-align: middle;\n",
       "    }\n",
       "\n",
       "    .dataframe tbody tr th {\n",
       "        vertical-align: top;\n",
       "    }\n",
       "\n",
       "    .dataframe thead th {\n",
       "        text-align: right;\n",
       "    }\n",
       "</style>\n",
       "<table border=\"1\" class=\"dataframe\">\n",
       "  <thead>\n",
       "    <tr style=\"text-align: right;\">\n",
       "      <th></th>\n",
       "      <th>id</th>\n",
       "      <th>limit_bal</th>\n",
       "      <th>sex</th>\n",
       "      <th>education</th>\n",
       "      <th>marriage</th>\n",
       "      <th>age</th>\n",
       "      <th>pay_1</th>\n",
       "      <th>pay_2</th>\n",
       "      <th>pay_3</th>\n",
       "      <th>pay_4</th>\n",
       "      <th>...</th>\n",
       "      <th>pay_amt3</th>\n",
       "      <th>pay_amt4</th>\n",
       "      <th>pay_amt5</th>\n",
       "      <th>pay_amt6</th>\n",
       "      <th>default_payment_next_month</th>\n",
       "      <th>education_cat</th>\n",
       "      <th>graduate_school</th>\n",
       "      <th>high_school</th>\n",
       "      <th>others</th>\n",
       "      <th>university</th>\n",
       "    </tr>\n",
       "  </thead>\n",
       "  <tbody>\n",
       "    <tr>\n",
       "      <th>0</th>\n",
       "      <td>798fc410-45c1</td>\n",
       "      <td>20000</td>\n",
       "      <td>2</td>\n",
       "      <td>2</td>\n",
       "      <td>1</td>\n",
       "      <td>24</td>\n",
       "      <td>2</td>\n",
       "      <td>2</td>\n",
       "      <td>-1</td>\n",
       "      <td>-1</td>\n",
       "      <td>...</td>\n",
       "      <td>0</td>\n",
       "      <td>0</td>\n",
       "      <td>0</td>\n",
       "      <td>0</td>\n",
       "      <td>1</td>\n",
       "      <td>university</td>\n",
       "      <td>0</td>\n",
       "      <td>0</td>\n",
       "      <td>0</td>\n",
       "      <td>1</td>\n",
       "    </tr>\n",
       "    <tr>\n",
       "      <th>1</th>\n",
       "      <td>8a8c8f3b-8eb4</td>\n",
       "      <td>120000</td>\n",
       "      <td>2</td>\n",
       "      <td>2</td>\n",
       "      <td>2</td>\n",
       "      <td>26</td>\n",
       "      <td>-1</td>\n",
       "      <td>2</td>\n",
       "      <td>0</td>\n",
       "      <td>0</td>\n",
       "      <td>...</td>\n",
       "      <td>1000</td>\n",
       "      <td>1000</td>\n",
       "      <td>0</td>\n",
       "      <td>2000</td>\n",
       "      <td>1</td>\n",
       "      <td>university</td>\n",
       "      <td>0</td>\n",
       "      <td>0</td>\n",
       "      <td>0</td>\n",
       "      <td>1</td>\n",
       "    </tr>\n",
       "    <tr>\n",
       "      <th>2</th>\n",
       "      <td>85698822-43f5</td>\n",
       "      <td>90000</td>\n",
       "      <td>2</td>\n",
       "      <td>2</td>\n",
       "      <td>2</td>\n",
       "      <td>34</td>\n",
       "      <td>0</td>\n",
       "      <td>0</td>\n",
       "      <td>0</td>\n",
       "      <td>0</td>\n",
       "      <td>...</td>\n",
       "      <td>1000</td>\n",
       "      <td>1000</td>\n",
       "      <td>1000</td>\n",
       "      <td>5000</td>\n",
       "      <td>0</td>\n",
       "      <td>university</td>\n",
       "      <td>0</td>\n",
       "      <td>0</td>\n",
       "      <td>0</td>\n",
       "      <td>1</td>\n",
       "    </tr>\n",
       "    <tr>\n",
       "      <th>3</th>\n",
       "      <td>0737c11b-be42</td>\n",
       "      <td>50000</td>\n",
       "      <td>2</td>\n",
       "      <td>2</td>\n",
       "      <td>1</td>\n",
       "      <td>37</td>\n",
       "      <td>0</td>\n",
       "      <td>0</td>\n",
       "      <td>0</td>\n",
       "      <td>0</td>\n",
       "      <td>...</td>\n",
       "      <td>1200</td>\n",
       "      <td>1100</td>\n",
       "      <td>1069</td>\n",
       "      <td>1000</td>\n",
       "      <td>0</td>\n",
       "      <td>university</td>\n",
       "      <td>0</td>\n",
       "      <td>0</td>\n",
       "      <td>0</td>\n",
       "      <td>1</td>\n",
       "    </tr>\n",
       "    <tr>\n",
       "      <th>4</th>\n",
       "      <td>3b7f77cc-dbc0</td>\n",
       "      <td>50000</td>\n",
       "      <td>1</td>\n",
       "      <td>2</td>\n",
       "      <td>1</td>\n",
       "      <td>57</td>\n",
       "      <td>-1</td>\n",
       "      <td>0</td>\n",
       "      <td>-1</td>\n",
       "      <td>0</td>\n",
       "      <td>...</td>\n",
       "      <td>10000</td>\n",
       "      <td>9000</td>\n",
       "      <td>689</td>\n",
       "      <td>679</td>\n",
       "      <td>0</td>\n",
       "      <td>university</td>\n",
       "      <td>0</td>\n",
       "      <td>0</td>\n",
       "      <td>0</td>\n",
       "      <td>1</td>\n",
       "    </tr>\n",
       "  </tbody>\n",
       "</table>\n",
       "<p>5 rows × 30 columns</p>\n",
       "</div>"
      ],
      "text/plain": [
       "              id  limit_bal  sex  education  marriage  age  pay_1  pay_2  \\\n",
       "0  798fc410-45c1      20000    2          2         1   24      2      2   \n",
       "1  8a8c8f3b-8eb4     120000    2          2         2   26     -1      2   \n",
       "2  85698822-43f5      90000    2          2         2   34      0      0   \n",
       "3  0737c11b-be42      50000    2          2         1   37      0      0   \n",
       "4  3b7f77cc-dbc0      50000    1          2         1   57     -1      0   \n",
       "\n",
       "   pay_3  pay_4  ...  pay_amt3  pay_amt4  pay_amt5  pay_amt6  \\\n",
       "0     -1     -1  ...         0         0         0         0   \n",
       "1      0      0  ...      1000      1000         0      2000   \n",
       "2      0      0  ...      1000      1000      1000      5000   \n",
       "3      0      0  ...      1200      1100      1069      1000   \n",
       "4     -1      0  ...     10000      9000       689       679   \n",
       "\n",
       "   default_payment_next_month  education_cat  graduate_school  high_school  \\\n",
       "0                           1     university                0            0   \n",
       "1                           1     university                0            0   \n",
       "2                           0     university                0            0   \n",
       "3                           0     university                0            0   \n",
       "4                           0     university                0            0   \n",
       "\n",
       "   others  university  \n",
       "0       0           1  \n",
       "1       0           1  \n",
       "2       0           1  \n",
       "3       0           1  \n",
       "4       0           1  \n",
       "\n",
       "[5 rows x 30 columns]"
      ]
     },
     "execution_count": 11,
     "metadata": {},
     "output_type": "execute_result"
    }
   ],
   "source": [
    "df_cleaned_before = pd.read_csv('data/default_of_credit_card_clients_cleaned.csv')\n",
    "df_cleaned_before.head()"
   ]
  },
  {
   "cell_type": "markdown",
   "metadata": {},
   "source": [
    "Let us isolate the independent features:"
   ]
  },
  {
   "cell_type": "code",
   "execution_count": 12,
   "metadata": {},
   "outputs": [
    {
     "data": {
      "text/plain": [
       "['limit_bal',\n",
       " 'education',\n",
       " 'marriage',\n",
       " 'age',\n",
       " 'pay_1',\n",
       " 'bill_amt1',\n",
       " 'bill_amt2',\n",
       " 'bill_amt3',\n",
       " 'bill_amt4',\n",
       " 'bill_amt5',\n",
       " 'bill_amt6',\n",
       " 'pay_amt1',\n",
       " 'pay_amt2',\n",
       " 'pay_amt3',\n",
       " 'pay_amt4',\n",
       " 'pay_amt5',\n",
       " 'pay_amt6',\n",
       " 'default_payment_next_month']"
      ]
     },
     "execution_count": 12,
     "metadata": {},
     "output_type": "execute_result"
    }
   ],
   "source": [
    "features_response = df_cleaned_before.columns.tolist()\n",
    "to_remove = ['id', 'sex'] + ['pay_{}'.format(i) for i in range(2,7)] + features_response[-5:]\n",
    "\n",
    "features_response = [feature for feature in features_response if feature not in to_remove]\n",
    "features_response"
   ]
  },
  {
   "cell_type": "markdown",
   "metadata": {},
   "source": [
    "Now it is possible to test different imputation techniques for the *df_missing_pay_1*.\n",
    "\n",
    "### Mode and Random Imputation of pay_1\n",
    "\n",
    "Let us create a train and test sets for the cleaned df and add later the *df_missing_pay_1* to measure the impact of imputation in the model's performance."
   ]
  },
  {
   "cell_type": "code",
   "execution_count": 13,
   "metadata": {},
   "outputs": [],
   "source": [
    "X_train, X_test, y_train, y_test = train_test_split(df_cleaned_before[features_response[:-1]].values,\n",
    "                                                    df_cleaned_before.default_payment_next_month.values,\n",
    "                                                    test_size=0.2, random_state=24)"
   ]
  },
  {
   "cell_type": "markdown",
   "metadata": {},
   "source": [
    "Let us create an imputation for the **pay_1** column (this feature has the index 4 in the *feature_response* list) with the mode (the median has the same value of mode, so only one statistic is left anyway):"
   ]
  },
  {
   "cell_type": "code",
   "execution_count": 14,
   "metadata": {},
   "outputs": [
    {
     "data": {
      "text/plain": [
       "0.0"
      ]
     },
     "execution_count": 14,
     "metadata": {},
     "output_type": "execute_result"
    }
   ],
   "source": [
    "np.median(X_train[:, features_response.index('pay_1')])"
   ]
  },
  {
   "cell_type": "markdown",
   "metadata": {},
   "source": [
    "And now, let us create the imputation values for the two strategies that will be adopted: one imputing the node and another imputing values from a random normal sampling from the **pay_1** train set. Besides, let us create proper column names to track them correctly:"
   ]
  },
  {
   "cell_type": "code",
   "execution_count": 15,
   "metadata": {},
   "outputs": [],
   "source": [
    "fill_values = [0, np.random.choice(X_train[:, features_response.index('pay_1')], size=(3021,), replace=True)]\n",
    "fill_strategy = ['mode', 'random']"
   ]
  },
  {
   "cell_type": "markdown",
   "metadata": {},
   "source": [
    "Before continue, let us verify whether the distributions of the random generated sampling process is the same as the **pay_1** train set:"
   ]
  },
  {
   "cell_type": "code",
   "execution_count": 16,
   "metadata": {},
   "outputs": [
    {
     "data": {
      "text/plain": [
       "Text(0.5, 1.0, 'Pay_1 random generated distribution')"
      ]
     },
     "execution_count": 16,
     "metadata": {},
     "output_type": "execute_result"
    },
    {
     "data": {
      "image/png": "[encoded data removed]",
      "text/plain": [
       "<Figure size 720x288 with 2 Axes>"
      ]
     },
     "metadata": {
      "needs_background": "light"
     },
     "output_type": "display_data"
    }
   ],
   "source": [
    "fig, ax = plt.subplots(1, 2, figsize=(10, 4))\n",
    "\n",
    "bin_edges = np.arange(-2, 9)\n",
    "\n",
    "ax[0].hist(X_train[:, 4], bins=bin_edges, align='left')\n",
    "ax[0].set_xticks(bin_edges)\n",
    "ax[0].set_title('Pay_1 non-missing values distribution')\n",
    "\n",
    "ax[1].hist(fill_values[1], bins=bin_edges, align='left')\n",
    "ax[1].set_xticks(bin_edges)\n",
    "ax[1].set_title('Pay_1 random generated distribution')"
   ]
  },
  {
   "cell_type": "markdown",
   "metadata": {},
   "source": [
    "The two distributions were very similar. Only the scale of the *y*-axis indicated that there were fewer imputed values than in the original dataset. This showed that the values for **pay_1** faithfully imitated the relative frequency of different values of this feature in the data.\n",
    "\n",
    "Now, let us set up the cross-validation to compare imputation methods using the same hyperparameters for the best model estimation."
   ]
  },
  {
   "cell_type": "code",
   "execution_count": 17,
   "metadata": {},
   "outputs": [],
   "source": [
    "k_folds = KFold(n_splits=4, shuffle=True, random_state=1)\n",
    "rf = RandomForestClassifier(n_estimators=200, max_depth=9)"
   ]
  },
  {
   "cell_type": "markdown",
   "metadata": {},
   "source": [
    "The shuffle was set to true because the imputed values will be appended to the training set and it is interesting to not concentrate them into one fold."
   ]
  },
  {
   "cell_type": "code",
   "execution_count": 18,
   "metadata": {},
   "outputs": [
    {
     "name": "stderr",
     "output_type": "stream",
     "text": [
      "[Parallel(n_jobs=-1)]: Using backend LokyBackend with 4 concurrent workers.\n",
      "[Parallel(n_jobs=-1)]: Done   2 out of   4 | elapsed:   16.6s remaining:   16.6s\n",
      "[Parallel(n_jobs=-1)]: Done   4 out of   4 | elapsed:   16.7s finished\n",
      "[Parallel(n_jobs=-1)]: Using backend LokyBackend with 4 concurrent workers.\n"
     ]
    },
    {
     "name": "stdout",
     "output_type": "stream",
     "text": [
      "mode imputation: mean testing score: 0.772491549236253, std: 0.0034011790113621424\n"
     ]
    },
    {
     "name": "stderr",
     "output_type": "stream",
     "text": [
      "[Parallel(n_jobs=-1)]: Done   2 out of   4 | elapsed:   14.3s remaining:   14.3s\n"
     ]
    },
    {
     "name": "stdout",
     "output_type": "stream",
     "text": [
      "random imputation: mean testing score: 0.767924116904523, std: 0.0034049132671505307\n"
     ]
    },
    {
     "name": "stderr",
     "output_type": "stream",
     "text": [
      "[Parallel(n_jobs=-1)]: Done   4 out of   4 | elapsed:   14.7s finished\n"
     ]
    }
   ],
   "source": [
    "for imputation_method in range(len(fill_values)):\n",
    "\n",
    "    # Copy the data frame with missing pay_1 and assign imputed values\n",
    "    df_filled_pay_1 = df_missing_pay_1.copy()\n",
    "    df_filled_pay_1.pay_1 = fill_values[imputation_method]\n",
    "\n",
    "    # Split imputated data in train and test sets, using the same test size proportion\n",
    "    X_filled_train, X_filled_test, y_filled_train, y_filled_test = \\\n",
    "        train_test_split(df_filled_pay_1[features_response[:-1]].values,\n",
    "                         df_filled_pay_1.default_payment_next_month.values,\n",
    "                         test_size=0.2, random_state=24)\n",
    "\n",
    "    # Concatenate the imputed data with the array of non-missing data\n",
    "    X_train_all = np.concatenate((X_train, X_filled_train), axis=0)\n",
    "    y_train_all = np.concatenate((y_train, y_filled_train), axis=0)\n",
    "\n",
    "    # Use the KFolds splitter and the Random Forest estimator for cross-validation\n",
    "    imputation_compare_cv = cross_validate(rf, X_train_all, y_train_all, scoring='roc_auc',\n",
    "                                           cv=k_folds, n_jobs=-1, verbose=1, return_estimator=True,\n",
    "                                           return_train_score=True, error_score='raise')\n",
    "\n",
    "    # Compute scores\n",
    "    test_score = imputation_compare_cv['test_score']\n",
    "    print(fill_strategy[imputation_method] + ' imputation: ' +\n",
    "          'mean testing score: ' + str(np.mean(test_score)) +\n",
    "          ', std: ' + str(np.std(test_score)))"
   ]
  },
  {
   "cell_type": "markdown",
   "metadata": {},
   "source": [
    "The two imputation strategies had very similar performances. However, the simplest imputation strategy, just filling in all missing values of pay_1 with the most common value of 0 from the non-missing samples, performed better. The average testing score (ROC AUC) across the four folds was 0.773 for mode imputation, versus 0.769 using random imputation.\n",
    "\n",
    "The average test score without any imputation was 0.776, thus, the model had experienced a little degradation in the estimate of out-of-sample model testing performance. This was to be expected, as there were included data that had issues and uncertainties. However, this was still within 0.006 ROC AUC units of the best score observed when working with the non-missing data, so it's not too much lower."
   ]
  },
  {
   "cell_type": "markdown",
   "metadata": {},
   "source": [
    "### A predictive Model to estimate pay_1 samples\n",
    "\n",
    "The most accurate, but also the most labor-intensive way to impute a feature with missing values is to create a predictive model for that feature. This method uses more information compared to simpler methods:\n",
    "\n",
    "- The simplest methods like mean, median, mode, and random selection just use information from non-missing values of the feature.\n",
    "- Intermediately complex methods like interpolation use additional information about how \"close\" a given sample is to other samples, in the spatial or temporal context, and leverage this for more accurate imputation.\n",
    "- The model-based imputation uses all features without missing values, to predict the missing values of the affected feature. Therefore, model-based imputation is similar to any other predictive model, where we consider the feature with missing values to be the response variable.\n",
    "\n",
    "The model to predict missing values for pay_1 feature will be a multiclass classifier (with a categorical response variable). The possible classes will range from -2 to 8 (the possible values for this feature). \n",
    "\n",
    "Let us define the dataset for the pay_1 estimation (the following dataframe represents the data for training and testing). Again, let us remove undesired (and unethical) features:"
   ]
  },
  {
   "cell_type": "code",
   "execution_count": 19,
   "metadata": {},
   "outputs": [],
   "source": [
    "pay_1_df = df_cleaned_before.copy()\n",
    "\n",
    "features_response = df_cleaned_before.columns.tolist()\n",
    "to_remove = ['id', 'sex'] + ['pay_{}'.format(i) for i in range(2,7)] + features_response[-6:]\n",
    "\n",
    "features_response = [feature for feature in features_response if feature not in to_remove]\n",
    "features_response2 = [feature for feature in features_response if feature not in to_remove + ['pay_1']]"
   ]
  },
  {
   "cell_type": "markdown",
   "metadata": {},
   "source": [
    "Let us use a Random Forest to build the multiclass classifier (partially because it readily accepts multiclass classificatoin as a built-in feature). Besides let us use the accuracy as the comparative metrics (again, it is easier this way):"
   ]
  },
  {
   "cell_type": "code",
   "execution_count": 20,
   "metadata": {},
   "outputs": [],
   "source": [
    "X_impute_train, X_impute_test, y_impute_train, y_impute_test = \\\n",
    "    train_test_split(pay_1_df[features_response2].values,\n",
    "                     pay_1_df.pay_1.values, test_size=0.2, random_state=24)"
   ]
  },
  {
   "cell_type": "markdown",
   "metadata": {},
   "source": [
    "Let us set some hyperparameters and instantiate the GridSearch object:"
   ]
  },
  {
   "cell_type": "code",
   "execution_count": 21,
   "metadata": {},
   "outputs": [],
   "source": [
    "params = {'max_depth': [3, 6, 9, 12],\n",
    "          'n_estimators': [10, 50, 100, 200]}\n",
    "\n",
    "cv_rf_imputation = GridSearchCV(rf, param_grid=params, scoring='accuracy',\n",
    "                                n_jobs=-1, refit=True, cv=4, error_score=np.nan,\n",
    "                                return_train_score=True)"
   ]
  },
  {
   "cell_type": "markdown",
   "metadata": {},
   "source": [
    "And train the models:"
   ]
  },
  {
   "cell_type": "code",
   "execution_count": 22,
   "metadata": {},
   "outputs": [
    {
     "data": {
      "text/plain": [
       "GridSearchCV(cv=4,\n",
       "             estimator=RandomForestClassifier(max_depth=9, n_estimators=200),\n",
       "             n_jobs=-1,\n",
       "             param_grid={'max_depth': [3, 6, 9, 12],\n",
       "                         'n_estimators': [10, 50, 100, 200]},\n",
       "             return_train_score=True, scoring='accuracy')"
      ]
     },
     "execution_count": 22,
     "metadata": {},
     "output_type": "execute_result"
    }
   ],
   "source": [
    "cv_rf_imputation.fit(X_impute_train, y_impute_train)"
   ]
  },
  {
   "cell_type": "markdown",
   "metadata": {},
   "source": [
    "Let us extract the best params and save the results:"
   ]
  },
  {
   "cell_type": "code",
   "execution_count": 23,
   "metadata": {},
   "outputs": [
    {
     "name": "stdout",
     "output_type": "stream",
     "text": [
      "Best params: {'max_depth': 12, 'n_estimators': 200}, best score:  0.7335334677472105\n"
     ]
    },
    {
     "data": {
      "text/html": [
       "<div>\n",
       "<style scoped>\n",
       "    .dataframe tbody tr th:only-of-type {\n",
       "        vertical-align: middle;\n",
       "    }\n",
       "\n",
       "    .dataframe tbody tr th {\n",
       "        vertical-align: top;\n",
       "    }\n",
       "\n",
       "    .dataframe thead th {\n",
       "        text-align: right;\n",
       "    }\n",
       "</style>\n",
       "<table border=\"1\" class=\"dataframe\">\n",
       "  <thead>\n",
       "    <tr style=\"text-align: right;\">\n",
       "      <th></th>\n",
       "      <th>mean_fit_time</th>\n",
       "      <th>std_fit_time</th>\n",
       "      <th>mean_score_time</th>\n",
       "      <th>std_score_time</th>\n",
       "      <th>param_max_depth</th>\n",
       "      <th>param_n_estimators</th>\n",
       "      <th>params</th>\n",
       "      <th>split0_test_score</th>\n",
       "      <th>split1_test_score</th>\n",
       "      <th>split2_test_score</th>\n",
       "      <th>split3_test_score</th>\n",
       "      <th>mean_test_score</th>\n",
       "      <th>std_test_score</th>\n",
       "      <th>rank_test_score</th>\n",
       "      <th>split0_train_score</th>\n",
       "      <th>split1_train_score</th>\n",
       "      <th>split2_train_score</th>\n",
       "      <th>split3_train_score</th>\n",
       "      <th>mean_train_score</th>\n",
       "      <th>std_train_score</th>\n",
       "    </tr>\n",
       "  </thead>\n",
       "  <tbody>\n",
       "    <tr>\n",
       "      <th>0</th>\n",
       "      <td>0.306871</td>\n",
       "      <td>0.007778</td>\n",
       "      <td>0.015178</td>\n",
       "      <td>0.000805</td>\n",
       "      <td>3</td>\n",
       "      <td>10</td>\n",
       "      <td>{'max_depth': 3, 'n_estimators': 10}</td>\n",
       "      <td>0.673917</td>\n",
       "      <td>0.622914</td>\n",
       "      <td>0.675792</td>\n",
       "      <td>0.650225</td>\n",
       "      <td>0.655712</td>\n",
       "      <td>0.021450</td>\n",
       "      <td>14</td>\n",
       "      <td>0.672959</td>\n",
       "      <td>0.622078</td>\n",
       "      <td>0.668834</td>\n",
       "      <td>0.659479</td>\n",
       "      <td>0.655837</td>\n",
       "      <td>0.020094</td>\n",
       "    </tr>\n",
       "    <tr>\n",
       "      <th>1</th>\n",
       "      <td>1.588511</td>\n",
       "      <td>0.085887</td>\n",
       "      <td>0.077420</td>\n",
       "      <td>0.007764</td>\n",
       "      <td>3</td>\n",
       "      <td>50</td>\n",
       "      <td>{'max_depth': 3, 'n_estimators': 50}</td>\n",
       "      <td>0.669604</td>\n",
       "      <td>0.651791</td>\n",
       "      <td>0.650103</td>\n",
       "      <td>0.642161</td>\n",
       "      <td>0.653415</td>\n",
       "      <td>0.010030</td>\n",
       "      <td>15</td>\n",
       "      <td>0.673397</td>\n",
       "      <td>0.650956</td>\n",
       "      <td>0.643830</td>\n",
       "      <td>0.653041</td>\n",
       "      <td>0.655306</td>\n",
       "      <td>0.010989</td>\n",
       "    </tr>\n",
       "    <tr>\n",
       "      <th>2</th>\n",
       "      <td>3.087863</td>\n",
       "      <td>0.067155</td>\n",
       "      <td>0.172648</td>\n",
       "      <td>0.032962</td>\n",
       "      <td>3</td>\n",
       "      <td>100</td>\n",
       "      <td>{'max_depth': 3, 'n_estimators': 100}</td>\n",
       "      <td>0.637352</td>\n",
       "      <td>0.679730</td>\n",
       "      <td>0.658354</td>\n",
       "      <td>0.650225</td>\n",
       "      <td>0.656415</td>\n",
       "      <td>0.015403</td>\n",
       "      <td>13</td>\n",
       "      <td>0.645768</td>\n",
       "      <td>0.678710</td>\n",
       "      <td>0.652019</td>\n",
       "      <td>0.659666</td>\n",
       "      <td>0.659041</td>\n",
       "      <td>0.012377</td>\n",
       "    </tr>\n",
       "    <tr>\n",
       "      <th>3</th>\n",
       "      <td>5.637071</td>\n",
       "      <td>0.309589</td>\n",
       "      <td>0.256850</td>\n",
       "      <td>0.013466</td>\n",
       "      <td>3</td>\n",
       "      <td>200</td>\n",
       "      <td>{'max_depth': 3, 'n_estimators': 200}</td>\n",
       "      <td>0.646728</td>\n",
       "      <td>0.648228</td>\n",
       "      <td>0.651603</td>\n",
       "      <td>0.651350</td>\n",
       "      <td>0.649477</td>\n",
       "      <td>0.002070</td>\n",
       "      <td>16</td>\n",
       "      <td>0.653519</td>\n",
       "      <td>0.647331</td>\n",
       "      <td>0.644518</td>\n",
       "      <td>0.660416</td>\n",
       "      <td>0.651446</td>\n",
       "      <td>0.006117</td>\n",
       "    </tr>\n",
       "    <tr>\n",
       "      <th>4</th>\n",
       "      <td>0.515026</td>\n",
       "      <td>0.017615</td>\n",
       "      <td>0.017664</td>\n",
       "      <td>0.001747</td>\n",
       "      <td>6</td>\n",
       "      <td>10</td>\n",
       "      <td>{'max_depth': 6, 'n_estimators': 10}</td>\n",
       "      <td>0.707482</td>\n",
       "      <td>0.705044</td>\n",
       "      <td>0.712357</td>\n",
       "      <td>0.698237</td>\n",
       "      <td>0.705780</td>\n",
       "      <td>0.005089</td>\n",
       "      <td>12</td>\n",
       "      <td>0.715777</td>\n",
       "      <td>0.720778</td>\n",
       "      <td>0.721903</td>\n",
       "      <td>0.711607</td>\n",
       "      <td>0.717516</td>\n",
       "      <td>0.004118</td>\n",
       "    </tr>\n",
       "    <tr>\n",
       "      <th>5</th>\n",
       "      <td>2.260717</td>\n",
       "      <td>0.081837</td>\n",
       "      <td>0.075107</td>\n",
       "      <td>0.002973</td>\n",
       "      <td>6</td>\n",
       "      <td>50</td>\n",
       "      <td>{'max_depth': 6, 'n_estimators': 50}</td>\n",
       "      <td>0.710482</td>\n",
       "      <td>0.712920</td>\n",
       "      <td>0.716295</td>\n",
       "      <td>0.704239</td>\n",
       "      <td>0.710984</td>\n",
       "      <td>0.004407</td>\n",
       "      <td>10</td>\n",
       "      <td>0.720278</td>\n",
       "      <td>0.719090</td>\n",
       "      <td>0.718090</td>\n",
       "      <td>0.717295</td>\n",
       "      <td>0.718688</td>\n",
       "      <td>0.001117</td>\n",
       "    </tr>\n",
       "    <tr>\n",
       "      <th>6</th>\n",
       "      <td>4.297044</td>\n",
       "      <td>0.043671</td>\n",
       "      <td>0.149952</td>\n",
       "      <td>0.010221</td>\n",
       "      <td>6</td>\n",
       "      <td>100</td>\n",
       "      <td>{'max_depth': 6, 'n_estimators': 100}</td>\n",
       "      <td>0.708982</td>\n",
       "      <td>0.709919</td>\n",
       "      <td>0.714420</td>\n",
       "      <td>0.707239</td>\n",
       "      <td>0.710140</td>\n",
       "      <td>0.002651</td>\n",
       "      <td>11</td>\n",
       "      <td>0.718590</td>\n",
       "      <td>0.718777</td>\n",
       "      <td>0.718027</td>\n",
       "      <td>0.717920</td>\n",
       "      <td>0.718329</td>\n",
       "      <td>0.000363</td>\n",
       "    </tr>\n",
       "    <tr>\n",
       "      <th>7</th>\n",
       "      <td>8.561585</td>\n",
       "      <td>0.054782</td>\n",
       "      <td>0.301687</td>\n",
       "      <td>0.023205</td>\n",
       "      <td>6</td>\n",
       "      <td>200</td>\n",
       "      <td>{'max_depth': 6, 'n_estimators': 200}</td>\n",
       "      <td>0.711607</td>\n",
       "      <td>0.708607</td>\n",
       "      <td>0.716482</td>\n",
       "      <td>0.708927</td>\n",
       "      <td>0.711406</td>\n",
       "      <td>0.003154</td>\n",
       "      <td>9</td>\n",
       "      <td>0.719027</td>\n",
       "      <td>0.718090</td>\n",
       "      <td>0.719590</td>\n",
       "      <td>0.719045</td>\n",
       "      <td>0.718938</td>\n",
       "      <td>0.000539</td>\n",
       "    </tr>\n",
       "    <tr>\n",
       "      <th>8</th>\n",
       "      <td>0.630285</td>\n",
       "      <td>0.043699</td>\n",
       "      <td>0.017939</td>\n",
       "      <td>0.000293</td>\n",
       "      <td>9</td>\n",
       "      <td>10</td>\n",
       "      <td>{'max_depth': 9, 'n_estimators': 10}</td>\n",
       "      <td>0.725295</td>\n",
       "      <td>0.724733</td>\n",
       "      <td>0.720795</td>\n",
       "      <td>0.725431</td>\n",
       "      <td>0.724064</td>\n",
       "      <td>0.001905</td>\n",
       "      <td>7</td>\n",
       "      <td>0.771471</td>\n",
       "      <td>0.773909</td>\n",
       "      <td>0.774159</td>\n",
       "      <td>0.771986</td>\n",
       "      <td>0.772881</td>\n",
       "      <td>0.001170</td>\n",
       "    </tr>\n",
       "    <tr>\n",
       "      <th>9</th>\n",
       "      <td>2.958067</td>\n",
       "      <td>0.027659</td>\n",
       "      <td>0.081229</td>\n",
       "      <td>0.002307</td>\n",
       "      <td>9</td>\n",
       "      <td>50</td>\n",
       "      <td>{'max_depth': 9, 'n_estimators': 50}</td>\n",
       "      <td>0.728858</td>\n",
       "      <td>0.723045</td>\n",
       "      <td>0.727733</td>\n",
       "      <td>0.728807</td>\n",
       "      <td>0.727111</td>\n",
       "      <td>0.002390</td>\n",
       "      <td>6</td>\n",
       "      <td>0.768971</td>\n",
       "      <td>0.773909</td>\n",
       "      <td>0.773034</td>\n",
       "      <td>0.774986</td>\n",
       "      <td>0.772725</td>\n",
       "      <td>0.002275</td>\n",
       "    </tr>\n",
       "    <tr>\n",
       "      <th>10</th>\n",
       "      <td>5.885090</td>\n",
       "      <td>0.037816</td>\n",
       "      <td>0.166692</td>\n",
       "      <td>0.007416</td>\n",
       "      <td>9</td>\n",
       "      <td>100</td>\n",
       "      <td>{'max_depth': 9, 'n_estimators': 100}</td>\n",
       "      <td>0.730921</td>\n",
       "      <td>0.725858</td>\n",
       "      <td>0.726420</td>\n",
       "      <td>0.730308</td>\n",
       "      <td>0.728377</td>\n",
       "      <td>0.002257</td>\n",
       "      <td>4</td>\n",
       "      <td>0.770346</td>\n",
       "      <td>0.773034</td>\n",
       "      <td>0.775597</td>\n",
       "      <td>0.772111</td>\n",
       "      <td>0.772772</td>\n",
       "      <td>0.001895</td>\n",
       "    </tr>\n",
       "    <tr>\n",
       "      <th>11</th>\n",
       "      <td>11.729696</td>\n",
       "      <td>0.065568</td>\n",
       "      <td>0.338640</td>\n",
       "      <td>0.020243</td>\n",
       "      <td>9</td>\n",
       "      <td>200</td>\n",
       "      <td>{'max_depth': 9, 'n_estimators': 200}</td>\n",
       "      <td>0.729421</td>\n",
       "      <td>0.725483</td>\n",
       "      <td>0.726983</td>\n",
       "      <td>0.731433</td>\n",
       "      <td>0.728330</td>\n",
       "      <td>0.002277</td>\n",
       "      <td>5</td>\n",
       "      <td>0.772534</td>\n",
       "      <td>0.774722</td>\n",
       "      <td>0.775784</td>\n",
       "      <td>0.771111</td>\n",
       "      <td>0.773538</td>\n",
       "      <td>0.001827</td>\n",
       "    </tr>\n",
       "    <tr>\n",
       "      <th>12</th>\n",
       "      <td>0.778458</td>\n",
       "      <td>0.051573</td>\n",
       "      <td>0.020482</td>\n",
       "      <td>0.000524</td>\n",
       "      <td>12</td>\n",
       "      <td>10</td>\n",
       "      <td>{'max_depth': 12, 'n_estimators': 10}</td>\n",
       "      <td>0.722483</td>\n",
       "      <td>0.718732</td>\n",
       "      <td>0.720795</td>\n",
       "      <td>0.719055</td>\n",
       "      <td>0.720266</td>\n",
       "      <td>0.001501</td>\n",
       "      <td>8</td>\n",
       "      <td>0.844981</td>\n",
       "      <td>0.852607</td>\n",
       "      <td>0.850106</td>\n",
       "      <td>0.850491</td>\n",
       "      <td>0.849546</td>\n",
       "      <td>0.002803</td>\n",
       "    </tr>\n",
       "    <tr>\n",
       "      <th>13</th>\n",
       "      <td>3.679759</td>\n",
       "      <td>0.029095</td>\n",
       "      <td>0.093832</td>\n",
       "      <td>0.002041</td>\n",
       "      <td>12</td>\n",
       "      <td>50</td>\n",
       "      <td>{'max_depth': 12, 'n_estimators': 50}</td>\n",
       "      <td>0.734108</td>\n",
       "      <td>0.728108</td>\n",
       "      <td>0.727358</td>\n",
       "      <td>0.731433</td>\n",
       "      <td>0.730252</td>\n",
       "      <td>0.002704</td>\n",
       "      <td>3</td>\n",
       "      <td>0.859482</td>\n",
       "      <td>0.859670</td>\n",
       "      <td>0.858795</td>\n",
       "      <td>0.857179</td>\n",
       "      <td>0.858781</td>\n",
       "      <td>0.000981</td>\n",
       "    </tr>\n",
       "    <tr>\n",
       "      <th>14</th>\n",
       "      <td>7.436133</td>\n",
       "      <td>0.024507</td>\n",
       "      <td>0.187043</td>\n",
       "      <td>0.004141</td>\n",
       "      <td>12</td>\n",
       "      <td>100</td>\n",
       "      <td>{'max_depth': 12, 'n_estimators': 100}</td>\n",
       "      <td>0.736734</td>\n",
       "      <td>0.729796</td>\n",
       "      <td>0.732233</td>\n",
       "      <td>0.731433</td>\n",
       "      <td>0.732549</td>\n",
       "      <td>0.002571</td>\n",
       "      <td>2</td>\n",
       "      <td>0.860733</td>\n",
       "      <td>0.860795</td>\n",
       "      <td>0.860795</td>\n",
       "      <td>0.859804</td>\n",
       "      <td>0.860532</td>\n",
       "      <td>0.000421</td>\n",
       "    </tr>\n",
       "    <tr>\n",
       "      <th>15</th>\n",
       "      <td>14.821062</td>\n",
       "      <td>0.028833</td>\n",
       "      <td>0.387082</td>\n",
       "      <td>0.010202</td>\n",
       "      <td>12</td>\n",
       "      <td>200</td>\n",
       "      <td>{'max_depth': 12, 'n_estimators': 200}</td>\n",
       "      <td>0.736546</td>\n",
       "      <td>0.729796</td>\n",
       "      <td>0.731858</td>\n",
       "      <td>0.735934</td>\n",
       "      <td>0.733533</td>\n",
       "      <td>0.002811</td>\n",
       "      <td>1</td>\n",
       "      <td>0.859982</td>\n",
       "      <td>0.863108</td>\n",
       "      <td>0.864421</td>\n",
       "      <td>0.860366</td>\n",
       "      <td>0.861969</td>\n",
       "      <td>0.001859</td>\n",
       "    </tr>\n",
       "  </tbody>\n",
       "</table>\n",
       "</div>"
      ],
      "text/plain": [
       "    mean_fit_time  std_fit_time  mean_score_time  std_score_time  \\\n",
       "0        0.306871      0.007778         0.015178        0.000805   \n",
       "1        1.588511      0.085887         0.077420        0.007764   \n",
       "2        3.087863      0.067155         0.172648        0.032962   \n",
       "3        5.637071      0.309589         0.256850        0.013466   \n",
       "4        0.515026      0.017615         0.017664        0.001747   \n",
       "5        2.260717      0.081837         0.075107        0.002973   \n",
       "6        4.297044      0.043671         0.149952        0.010221   \n",
       "7        8.561585      0.054782         0.301687        0.023205   \n",
       "8        0.630285      0.043699         0.017939        0.000293   \n",
       "9        2.958067      0.027659         0.081229        0.002307   \n",
       "10       5.885090      0.037816         0.166692        0.007416   \n",
       "11      11.729696      0.065568         0.338640        0.020243   \n",
       "12       0.778458      0.051573         0.020482        0.000524   \n",
       "13       3.679759      0.029095         0.093832        0.002041   \n",
       "14       7.436133      0.024507         0.187043        0.004141   \n",
       "15      14.821062      0.028833         0.387082        0.010202   \n",
       "\n",
       "   param_max_depth param_n_estimators                                  params  \\\n",
       "0                3                 10    {'max_depth': 3, 'n_estimators': 10}   \n",
       "1                3                 50    {'max_depth': 3, 'n_estimators': 50}   \n",
       "2                3                100   {'max_depth': 3, 'n_estimators': 100}   \n",
       "3                3                200   {'max_depth': 3, 'n_estimators': 200}   \n",
       "4                6                 10    {'max_depth': 6, 'n_estimators': 10}   \n",
       "5                6                 50    {'max_depth': 6, 'n_estimators': 50}   \n",
       "6                6                100   {'max_depth': 6, 'n_estimators': 100}   \n",
       "7                6                200   {'max_depth': 6, 'n_estimators': 200}   \n",
       "8                9                 10    {'max_depth': 9, 'n_estimators': 10}   \n",
       "9                9                 50    {'max_depth': 9, 'n_estimators': 50}   \n",
       "10               9                100   {'max_depth': 9, 'n_estimators': 100}   \n",
       "11               9                200   {'max_depth': 9, 'n_estimators': 200}   \n",
       "12              12                 10   {'max_depth': 12, 'n_estimators': 10}   \n",
       "13              12                 50   {'max_depth': 12, 'n_estimators': 50}   \n",
       "14              12                100  {'max_depth': 12, 'n_estimators': 100}   \n",
       "15              12                200  {'max_depth': 12, 'n_estimators': 200}   \n",
       "\n",
       "    split0_test_score  split1_test_score  split2_test_score  \\\n",
       "0            0.673917           0.622914           0.675792   \n",
       "1            0.669604           0.651791           0.650103   \n",
       "2            0.637352           0.679730           0.658354   \n",
       "3            0.646728           0.648228           0.651603   \n",
       "4            0.707482           0.705044           0.712357   \n",
       "5            0.710482           0.712920           0.716295   \n",
       "6            0.708982           0.709919           0.714420   \n",
       "7            0.711607           0.708607           0.716482   \n",
       "8            0.725295           0.724733           0.720795   \n",
       "9            0.728858           0.723045           0.727733   \n",
       "10           0.730921           0.725858           0.726420   \n",
       "11           0.729421           0.725483           0.726983   \n",
       "12           0.722483           0.718732           0.720795   \n",
       "13           0.734108           0.728108           0.727358   \n",
       "14           0.736734           0.729796           0.732233   \n",
       "15           0.736546           0.729796           0.731858   \n",
       "\n",
       "    split3_test_score  mean_test_score  std_test_score  rank_test_score  \\\n",
       "0            0.650225         0.655712        0.021450               14   \n",
       "1            0.642161         0.653415        0.010030               15   \n",
       "2            0.650225         0.656415        0.015403               13   \n",
       "3            0.651350         0.649477        0.002070               16   \n",
       "4            0.698237         0.705780        0.005089               12   \n",
       "5            0.704239         0.710984        0.004407               10   \n",
       "6            0.707239         0.710140        0.002651               11   \n",
       "7            0.708927         0.711406        0.003154                9   \n",
       "8            0.725431         0.724064        0.001905                7   \n",
       "9            0.728807         0.727111        0.002390                6   \n",
       "10           0.730308         0.728377        0.002257                4   \n",
       "11           0.731433         0.728330        0.002277                5   \n",
       "12           0.719055         0.720266        0.001501                8   \n",
       "13           0.731433         0.730252        0.002704                3   \n",
       "14           0.731433         0.732549        0.002571                2   \n",
       "15           0.735934         0.733533        0.002811                1   \n",
       "\n",
       "    split0_train_score  split1_train_score  split2_train_score  \\\n",
       "0             0.672959            0.622078            0.668834   \n",
       "1             0.673397            0.650956            0.643830   \n",
       "2             0.645768            0.678710            0.652019   \n",
       "3             0.653519            0.647331            0.644518   \n",
       "4             0.715777            0.720778            0.721903   \n",
       "5             0.720278            0.719090            0.718090   \n",
       "6             0.718590            0.718777            0.718027   \n",
       "7             0.719027            0.718090            0.719590   \n",
       "8             0.771471            0.773909            0.774159   \n",
       "9             0.768971            0.773909            0.773034   \n",
       "10            0.770346            0.773034            0.775597   \n",
       "11            0.772534            0.774722            0.775784   \n",
       "12            0.844981            0.852607            0.850106   \n",
       "13            0.859482            0.859670            0.858795   \n",
       "14            0.860733            0.860795            0.860795   \n",
       "15            0.859982            0.863108            0.864421   \n",
       "\n",
       "    split3_train_score  mean_train_score  std_train_score  \n",
       "0             0.659479          0.655837         0.020094  \n",
       "1             0.653041          0.655306         0.010989  \n",
       "2             0.659666          0.659041         0.012377  \n",
       "3             0.660416          0.651446         0.006117  \n",
       "4             0.711607          0.717516         0.004118  \n",
       "5             0.717295          0.718688         0.001117  \n",
       "6             0.717920          0.718329         0.000363  \n",
       "7             0.719045          0.718938         0.000539  \n",
       "8             0.771986          0.772881         0.001170  \n",
       "9             0.774986          0.772725         0.002275  \n",
       "10            0.772111          0.772772         0.001895  \n",
       "11            0.771111          0.773538         0.001827  \n",
       "12            0.850491          0.849546         0.002803  \n",
       "13            0.857179          0.858781         0.000981  \n",
       "14            0.859804          0.860532         0.000421  \n",
       "15            0.860366          0.861969         0.001859  "
      ]
     },
     "execution_count": 23,
     "metadata": {},
     "output_type": "execute_result"
    }
   ],
   "source": [
    "cv_rf_imputation_df = pd.DataFrame(cv_rf_imputation.cv_results_)\n",
    "\n",
    "print('Best params: ' + str(cv_rf_imputation.best_params_) + \n",
    "      ', best score: ', cv_rf_imputation.best_score_)\n",
    "cv_rf_imputation_df"
   ]
  },
  {
   "cell_type": "markdown",
   "metadata": {},
   "source": [
    "Let us examine the score comparing to a dumb predictor over all fractions:"
   ]
  },
  {
   "cell_type": "code",
   "execution_count": 24,
   "metadata": {},
   "outputs": [
    {
     "data": {
      "text/plain": [
       "-2    0.092859\n",
       "-1    0.189281\n",
       " 0    0.490812\n",
       " 1    0.122300\n",
       " 2    0.089184\n",
       " 3    0.010951\n",
       " 4    0.002363\n",
       " 5    0.000863\n",
       " 6    0.000413\n",
       " 7    0.000338\n",
       " 8    0.000638\n",
       "Name: pay_1, dtype: float64"
      ]
     },
     "execution_count": 24,
     "metadata": {},
     "output_type": "execute_result"
    }
   ],
   "source": [
    "pay_1_value_counts = pay_1_df.pay_1.value_counts().sort_index()\n",
    "\n",
    "pay_1_value_counts / np.sum(pay_1_value_counts)"
   ]
  },
  {
   "cell_type": "markdown",
   "metadata": {},
   "source": [
    "From the fractions, 49% of the values were equal to the mode. So, using the mode imputation, the imputation value would be expected to be correct about 49% of the time. However, using a model to impute the values of pay_1, the results showed that 73% of the time was correct. So, one benefit of using model-based imputation was that more accurate fill values for the unknown values of a feature were found.\n",
    "\n",
    "Let us see if the model generalizes well to the test set:"
   ]
  },
  {
   "cell_type": "code",
   "execution_count": 25,
   "metadata": {},
   "outputs": [
    {
     "data": {
      "text/plain": [
       "0.7372960810050628"
      ]
     },
     "execution_count": 25,
     "metadata": {},
     "output_type": "execute_result"
    }
   ],
   "source": [
    "y_impute_predict = cv_rf_imputation.predict(X_impute_test)\n",
    "\n",
    "metrics.accuracy_score(y_impute_test, y_impute_predict)"
   ]
  },
  {
   "cell_type": "markdown",
   "metadata": {},
   "source": [
    "The accuracy on the test set of 74% was comparable to, and a little higher than, the average cross-validation accuracy of 73%.\n",
    "\n",
    "Let us know check the distribution of the preicted classes for this feature and compare to the true values:"
   ]
  },
  {
   "cell_type": "code",
   "execution_count": 26,
   "metadata": {},
   "outputs": [
    {
     "data": {
      "text/plain": [
       "Text(0.5, 1.0, 'Pay_1 model-based test set distribution')"
      ]
     },
     "execution_count": 26,
     "metadata": {},
     "output_type": "execute_result"
    },
    {
     "data": {
      "image/png": "[encoded data removed]",
      "text/plain": [
       "<Figure size 720x288 with 2 Axes>"
      ]
     },
     "metadata": {
      "needs_background": "light"
     },
     "output_type": "display_data"
    }
   ],
   "source": [
    "fig, ax = plt.subplots(1, 2, figsize=(10, 4))\n",
    "\n",
    "bin_edges = np.arange(-2, 9)\n",
    "\n",
    "ax[0].hist(y_impute_test, bins=bin_edges, align='left')\n",
    "ax[0].set_xticks(bin_edges)\n",
    "ax[0].set_title('Pay_1 non-missing values test set distribution')\n",
    "\n",
    "ax[1].hist(y_impute_predict, bins=bin_edges, align='left')\n",
    "ax[1].set_xticks(bin_edges)\n",
    "ax[1].set_title('Pay_1 model-based test set distribution')"
   ]
  },
  {
   "cell_type": "markdown",
   "metadata": {},
   "source": [
    "From the above figure, it is possible to see that the model was more likely to predict a value of 0 for **pay_1** than existed in the test set. However, the distribution was quite similar to the test set, compensating this behaviour.\n",
    "\n",
    "Now, let us train with all the available pay_1 feature data and held-out a test set that was from the non available values:"
   ]
  },
  {
   "cell_type": "code",
   "execution_count": 27,
   "metadata": {},
   "outputs": [
    {
     "data": {
      "text/plain": [
       "RandomForestClassifier(max_depth=12, n_estimators=50)"
      ]
     },
     "execution_count": 27,
     "metadata": {},
     "output_type": "execute_result"
    }
   ],
   "source": [
    "X_impute_all, y_impute_all = pay_1_df[features_response2].values, pay_1_df.default_payment_next_month.values\n",
    "\n",
    "rf_impute = RandomForestClassifier(n_estimators=50, max_depth=12)\n",
    "rf_impute.fit(X_impute_all, y_impute_all)"
   ]
  },
  {
   "cell_type": "markdown",
   "metadata": {},
   "source": [
    "Now let us use the model to predict the missing values:"
   ]
  },
  {
   "cell_type": "code",
   "execution_count": 28,
   "metadata": {},
   "outputs": [
    {
     "data": {
      "text/html": [
       "<div>\n",
       "<style scoped>\n",
       "    .dataframe tbody tr th:only-of-type {\n",
       "        vertical-align: middle;\n",
       "    }\n",
       "\n",
       "    .dataframe tbody tr th {\n",
       "        vertical-align: top;\n",
       "    }\n",
       "\n",
       "    .dataframe thead th {\n",
       "        text-align: right;\n",
       "    }\n",
       "</style>\n",
       "<table border=\"1\" class=\"dataframe\">\n",
       "  <thead>\n",
       "    <tr style=\"text-align: right;\">\n",
       "      <th></th>\n",
       "      <th>id</th>\n",
       "      <th>limit_bal</th>\n",
       "      <th>sex</th>\n",
       "      <th>education</th>\n",
       "      <th>marriage</th>\n",
       "      <th>age</th>\n",
       "      <th>pay_1</th>\n",
       "      <th>pay_2</th>\n",
       "      <th>pay_3</th>\n",
       "      <th>pay_4</th>\n",
       "      <th>...</th>\n",
       "      <th>bill_amt4</th>\n",
       "      <th>bill_amt5</th>\n",
       "      <th>bill_amt6</th>\n",
       "      <th>pay_amt1</th>\n",
       "      <th>pay_amt2</th>\n",
       "      <th>pay_amt3</th>\n",
       "      <th>pay_amt4</th>\n",
       "      <th>pay_amt5</th>\n",
       "      <th>pay_amt6</th>\n",
       "      <th>default_payment_next_month</th>\n",
       "    </tr>\n",
       "  </thead>\n",
       "  <tbody>\n",
       "    <tr>\n",
       "      <th>17</th>\n",
       "      <td>f0ba5e02-0c0f</td>\n",
       "      <td>320000</td>\n",
       "      <td>1</td>\n",
       "      <td>1</td>\n",
       "      <td>1</td>\n",
       "      <td>49</td>\n",
       "      <td>0</td>\n",
       "      <td>0</td>\n",
       "      <td>0</td>\n",
       "      <td>-1</td>\n",
       "      <td>...</td>\n",
       "      <td>70074</td>\n",
       "      <td>5856</td>\n",
       "      <td>195599</td>\n",
       "      <td>10358</td>\n",
       "      <td>10000</td>\n",
       "      <td>75940</td>\n",
       "      <td>20000</td>\n",
       "      <td>195599</td>\n",
       "      <td>50000</td>\n",
       "      <td>0</td>\n",
       "    </tr>\n",
       "    <tr>\n",
       "      <th>28</th>\n",
       "      <td>aecb449b-a999</td>\n",
       "      <td>50000</td>\n",
       "      <td>2</td>\n",
       "      <td>3</td>\n",
       "      <td>1</td>\n",
       "      <td>47</td>\n",
       "      <td>0</td>\n",
       "      <td>-1</td>\n",
       "      <td>-1</td>\n",
       "      <td>-1</td>\n",
       "      <td>...</td>\n",
       "      <td>2040</td>\n",
       "      <td>30430</td>\n",
       "      <td>257</td>\n",
       "      <td>3415</td>\n",
       "      <td>3421</td>\n",
       "      <td>2044</td>\n",
       "      <td>30430</td>\n",
       "      <td>257</td>\n",
       "      <td>0</td>\n",
       "      <td>0</td>\n",
       "    </tr>\n",
       "    <tr>\n",
       "      <th>29</th>\n",
       "      <td>57ea9a1f-cdd5</td>\n",
       "      <td>50000</td>\n",
       "      <td>1</td>\n",
       "      <td>1</td>\n",
       "      <td>2</td>\n",
       "      <td>26</td>\n",
       "      <td>0</td>\n",
       "      <td>0</td>\n",
       "      <td>0</td>\n",
       "      <td>0</td>\n",
       "      <td>...</td>\n",
       "      <td>17907</td>\n",
       "      <td>18375</td>\n",
       "      <td>11400</td>\n",
       "      <td>1500</td>\n",
       "      <td>1500</td>\n",
       "      <td>1000</td>\n",
       "      <td>1000</td>\n",
       "      <td>1600</td>\n",
       "      <td>0</td>\n",
       "      <td>0</td>\n",
       "    </tr>\n",
       "    <tr>\n",
       "      <th>54</th>\n",
       "      <td>781f3cc2-7ddc</td>\n",
       "      <td>150000</td>\n",
       "      <td>2</td>\n",
       "      <td>1</td>\n",
       "      <td>2</td>\n",
       "      <td>29</td>\n",
       "      <td>0</td>\n",
       "      <td>0</td>\n",
       "      <td>0</td>\n",
       "      <td>0</td>\n",
       "      <td>...</td>\n",
       "      <td>26518</td>\n",
       "      <td>21042</td>\n",
       "      <td>16540</td>\n",
       "      <td>1600</td>\n",
       "      <td>1718</td>\n",
       "      <td>1049</td>\n",
       "      <td>1500</td>\n",
       "      <td>2000</td>\n",
       "      <td>5000</td>\n",
       "      <td>0</td>\n",
       "    </tr>\n",
       "    <tr>\n",
       "      <th>60</th>\n",
       "      <td>5c00d7e6-a804</td>\n",
       "      <td>500000</td>\n",
       "      <td>2</td>\n",
       "      <td>3</td>\n",
       "      <td>1</td>\n",
       "      <td>28</td>\n",
       "      <td>0</td>\n",
       "      <td>0</td>\n",
       "      <td>0</td>\n",
       "      <td>0</td>\n",
       "      <td>...</td>\n",
       "      <td>14937</td>\n",
       "      <td>13827</td>\n",
       "      <td>15571</td>\n",
       "      <td>1516</td>\n",
       "      <td>1300</td>\n",
       "      <td>1000</td>\n",
       "      <td>1000</td>\n",
       "      <td>2000</td>\n",
       "      <td>2000</td>\n",
       "      <td>1</td>\n",
       "    </tr>\n",
       "  </tbody>\n",
       "</table>\n",
       "<p>5 rows × 25 columns</p>\n",
       "</div>"
      ],
      "text/plain": [
       "               id  limit_bal  sex  education  marriage  age  pay_1  pay_2  \\\n",
       "17  f0ba5e02-0c0f     320000    1          1         1   49      0      0   \n",
       "28  aecb449b-a999      50000    2          3         1   47      0     -1   \n",
       "29  57ea9a1f-cdd5      50000    1          1         2   26      0      0   \n",
       "54  781f3cc2-7ddc     150000    2          1         2   29      0      0   \n",
       "60  5c00d7e6-a804     500000    2          3         1   28      0      0   \n",
       "\n",
       "    pay_3  pay_4  ...  bill_amt4  bill_amt5  bill_amt6  pay_amt1  pay_amt2  \\\n",
       "17      0     -1  ...      70074       5856     195599     10358     10000   \n",
       "28     -1     -1  ...       2040      30430        257      3415      3421   \n",
       "29      0      0  ...      17907      18375      11400      1500      1500   \n",
       "54      0      0  ...      26518      21042      16540      1600      1718   \n",
       "60      0      0  ...      14937      13827      15571      1516      1300   \n",
       "\n",
       "    pay_amt3  pay_amt4  pay_amt5  pay_amt6  default_payment_next_month  \n",
       "17     75940     20000    195599     50000                           0  \n",
       "28      2044     30430       257         0                           0  \n",
       "29      1000      1000      1600         0                           0  \n",
       "54      1049      1500      2000      5000                           0  \n",
       "60      1000      1000      2000      2000                           1  \n",
       "\n",
       "[5 rows x 25 columns]"
      ]
     },
     "execution_count": 28,
     "metadata": {},
     "output_type": "execute_result"
    }
   ],
   "source": [
    "df_filled_pay_1_model = df_missing_pay_1.copy()\n",
    "df_filled_pay_1_model['pay_1'] = rf_impute.predict(df_filled_pay_1_model[features_response2].values)\n",
    "\n",
    "df_filled_pay_1_model.head()"
   ]
  },
  {
   "cell_type": "markdown",
   "metadata": {},
   "source": [
    "Let us check the predicted distribution:"
   ]
  },
  {
   "cell_type": "code",
   "execution_count": 29,
   "metadata": {},
   "outputs": [
    {
     "data": {
      "text/plain": [
       "-2     289\n",
       "-1     546\n",
       " 0    1514\n",
       " 1     331\n",
       " 2     291\n",
       " 3      42\n",
       " 4       4\n",
       " 6       1\n",
       " 8       3\n",
       "Name: pay_1, dtype: int64"
      ]
     },
     "execution_count": 29,
     "metadata": {},
     "output_type": "execute_result"
    }
   ],
   "source": [
    "df_filled_pay_1.pay_1.value_counts().sort_index()"
   ]
  },
  {
   "cell_type": "markdown",
   "metadata": {},
   "source": [
    "It is possible to see that there was a range of prediction values of pay_1 from the imputation model, roughly in the relative frequencies that were expected.\n",
    "\n",
    "Now let us use all the data so far (the imputed and not imputed) and train a random forest with the same hyperparameters to check if the model presents a better performance:"
   ]
  },
  {
   "cell_type": "code",
   "execution_count": 30,
   "metadata": {},
   "outputs": [
    {
     "name": "stderr",
     "output_type": "stream",
     "text": [
      "[Parallel(n_jobs=-1)]: Using backend LokyBackend with 4 concurrent workers.\n",
      "[Parallel(n_jobs=-1)]: Done   2 out of   4 | elapsed:   12.9s remaining:   12.9s\n",
      "[Parallel(n_jobs=-1)]: Done   4 out of   4 | elapsed:   13.0s finished\n"
     ]
    }
   ],
   "source": [
    "X_filled_train, X_filled_test, y_filled_train, y_filled_test = \\\n",
    "    train_test_split(df_filled_pay_1_model[features_response].values,\n",
    "                     df_filled_pay_1_model.default_payment_next_month.values,\n",
    "                     test_size=0.2, random_state=24)\n",
    "\n",
    "X_train_all = np.concatenate((X_train, X_filled_train), axis=0)\n",
    "y_train_all = np.concatenate((y_train, y_filled_train), axis=0)\n",
    "\n",
    "imputation_compare_cv = cross_validate(rf, X_train_all, y_train_all, scoring='roc_auc', cv=k_folds,\n",
    "                                       return_train_score=True, error_score='raise', n_jobs=-1,\n",
    "                                       verbose=1, return_estimator=True)"
   ]
  },
  {
   "cell_type": "code",
   "execution_count": 31,
   "metadata": {},
   "outputs": [
    {
     "data": {
      "text/plain": [
       "(0.7714091921856627, 0.004155089097784564)"
      ]
     },
     "execution_count": 31,
     "metadata": {},
     "output_type": "execute_result"
    }
   ],
   "source": [
    "(np.mean(imputation_compare_cv['test_score']),\n",
    " np.std(imputation_compare_cv['test_score']))"
   ]
  },
  {
   "cell_type": "markdown",
   "metadata": {},
   "source": [
    "An average cross-validated ROC AUC of 0.772 was very close to, but slightly worse than, the previous best result of 0.775 from mode-based imputation. For all intents and purposes, mode-based and model-based imputations had essentially the same performance. Note that the standard deviation for cross-validation score with model-based imputation calculated above is 0.003, so the average model-based imputation score is within one standard deviation of the best method.\n",
    "\n",
    "From a simplicity standpoint, the mode-based imputation was the clear favorite. The code to implement this was much more concise than the model-based imputation just completed.\n",
    "\n",
    "### Mesuring the Imputed Model on Test set\n",
    "\n",
    "Let us reassign the values with the mode value and verify how the model with mode imputation goes:"
   ]
  },
  {
   "cell_type": "code",
   "execution_count": 32,
   "metadata": {},
   "outputs": [
    {
     "data": {
      "text/plain": [
       "array([0])"
      ]
     },
     "execution_count": 32,
     "metadata": {},
     "output_type": "execute_result"
    }
   ],
   "source": [
    "df_filled_pay_1_model.pay_1 = np.zeros_like(df_filled_pay_1_model.pay_1.values)\n",
    "df_filled_pay_1_model.pay_1.unique()"
   ]
  },
  {
   "cell_type": "code",
   "execution_count": 33,
   "metadata": {},
   "outputs": [
    {
     "name": "stdout",
     "output_type": "stream",
     "text": [
      "(23747, 17)\n",
      "(5938, 17)\n",
      "(23747,)\n",
      "(5938,)\n"
     ]
    }
   ],
   "source": [
    "X_filled_train, X_filled_test, y_filled_train, y_filled_test = \\\n",
    "    train_test_split(df_filled_pay_1_model[features_response].values,\n",
    "                     df_filled_pay_1_model.default_payment_next_month.values,\n",
    "                     test_size=0.2, random_state=24)\n",
    "\n",
    "X_train_all = np.concatenate((X_train, X_filled_train), axis=0)\n",
    "X_test_all = np.concatenate((X_test, X_filled_test), axis=0)\n",
    "y_train_all = np.concatenate((y_train, y_filled_train), axis=0)\n",
    "y_test_all = np.concatenate((y_test, y_filled_test), axis=0)\n",
    "\n",
    "print(X_train_all.shape)\n",
    "print(X_test_all.shape)\n",
    "print(y_train_all.shape)\n",
    "print(y_test_all.shape)"
   ]
  },
  {
   "cell_type": "code",
   "execution_count": 34,
   "metadata": {},
   "outputs": [
    {
     "data": {
      "text/plain": [
       "RandomForestClassifier(max_depth=9, n_estimators=200)"
      ]
     },
     "execution_count": 34,
     "metadata": {},
     "output_type": "execute_result"
    }
   ],
   "source": [
    "rf.fit(X_train_all, y_train_all)"
   ]
  },
  {
   "cell_type": "markdown",
   "metadata": {},
   "source": [
    "Let us extract the probabilities of the predictions:"
   ]
  },
  {
   "cell_type": "code",
   "execution_count": 35,
   "metadata": {},
   "outputs": [
    {
     "data": {
      "text/plain": [
       "0.7698394659401365"
      ]
     },
     "execution_count": 35,
     "metadata": {},
     "output_type": "execute_result"
    }
   ],
   "source": [
    "y_test_all_predict_proba = rf.predict_proba(X_test_all)\n",
    "roc_auc_score(y_test_all, y_test_all_predict_proba[:, 1])"
   ]
  },
  {
   "cell_type": "markdown",
   "metadata": {},
   "source": [
    "The appropriate comparison to make here was with the cross-validated testing score computed using the mode-imputed pay_1, which was 0.773. It is possible to see that the testing score of 0.770 was roughly within 1 standard deviation of the cross-validation estimate. \n",
    "\n",
    "The conclusion is that he model is robust and is ready for delivery to the client.\n",
    "\n",
    "### Financial Analysis\n",
    "\n",
    "To go the extra mile and make the connection of the mathematical world of predicted probabilities and thresholds, to the business world of costs and benefits, a financial analysis of some kind is usually required.\n",
    "\n",
    "For a binary classification model like that of the case study, here are a few questions that the data scientist needs to know the answers to, in order to figure out how to apply the model for the client:\n",
    "\n",
    "- What kinds of decisions does the client want to use the model to help them make?\n",
    "- How can the predicted probabilities of a binary classification model be used to help make these decisions?\n",
    "- Are they yes/no decisions? Then choosing a single threshold of predicted probability will be sufficient.\n",
    "- Are there more than two levels of activity that will be decided on, based on model results? Then choosing 2 or more thresholds, for example to sort predictions in to low, medium, and high risk, may be the solution. In this case, predicted probabilities below 0.5 may be considered low risk, those between 0.5 and 0.75 medium risk, and those above 0.75 high risk.\n",
    "- What are the costs of taking all the different courses of action that are available, based on model guidance?\n",
    "- What are the potential benefits to be gained from successful actions taken as a result of model guidance?\n",
    "\n",
    "Let us consider the following scenario. For credit accounts that are at a high risk of default, the client is designing a new program to provide individualized counseling for the account holder, to encourage them to pay their bill on time or provide alternative payment options if that will not be possible. Credit counseling is performed by trained customer service representatives who work in a call center. The cost per attempted counseling session is NT$7,500 and the expected success rate of a session is 70%, meaning that on average 70% of the recipients of phone calls offering counseling will pay their bill on time, or make alternative arrangements that are acceptable to the creditor. The potential benefits of successful counseling are that the amount of an account's monthly bill will be realized as savings, if it was going to default but instead didn't, as a result of the counseling. Currently, the monthly bills for accounts that default are reported as losses.\n",
    "\n",
    "The client would like us to help them decide which members to contact and offer credit counseling to. If we can help them narrow down the list of people who will be contacted for counseling, we can help save them money by avoiding unnecessary and expensive contacts. The clients' limited resources for counseling will be more appropriately spent on accounts that are at higher risk of default. Therefore, our analysis should focus on finding anappropriate threshold of predicted probability, by which we may divide our accounts in to two groups: higher risk accounts that will receive counseling and lower risk ones that won't.\n",
    "\n",
    "### Characterizing Costs and Savings\n",
    "\n",
    "First, let us create different thresholds for the possible probabilities that the model will output:"
   ]
  },
  {
   "cell_type": "code",
   "execution_count": 36,
   "metadata": {},
   "outputs": [],
   "source": [
    "thresholds = np.linspace(0, 1, 101)"
   ]
  },
  {
   "cell_type": "markdown",
   "metadata": {},
   "source": [
    "Let us use mean bill amount to estimate savings per prevented default:"
   ]
  },
  {
   "cell_type": "code",
   "execution_count": 37,
   "metadata": {},
   "outputs": [
    {
     "data": {
      "text/plain": [
       "51601.7433479286"
      ]
     },
     "execution_count": 37,
     "metadata": {},
     "output_type": "execute_result"
    }
   ],
   "source": [
    "savings_per_default = np.mean(X_test_all[:, 5]) # 5 -> Bill Amount; Taking the mean as an estimation per account.\n",
    "savings_per_default"
   ]
  },
  {
   "cell_type": "markdown",
   "metadata": {},
   "source": [
    "Now let us declare the cost per counseling and the estimate effectiveness of the program:"
   ]
  },
  {
   "cell_type": "code",
   "execution_count": 38,
   "metadata": {},
   "outputs": [],
   "source": [
    "cost_per_counseling = 7500\n",
    "effectiveness = 0.70"
   ]
  },
  {
   "cell_type": "markdown",
   "metadata": {},
   "source": [
    "The average of the most recent months' bill across all accounts is NT\\\\$51,602. So, using the assumption that this is the opportunity for savings of a prevented default for each account, the net savings after a cost of NT\\\\$7,500 for credit counseling will be NT\\\\$44,102. This indicates a potential for net savings in the credit counseling program."
   ]
  },
  {
   "cell_type": "code",
   "execution_count": 39,
   "metadata": {},
   "outputs": [
    {
     "data": {
      "text/plain": [
       "44101.7433479286"
      ]
     },
     "execution_count": 39,
     "metadata": {},
     "output_type": "execute_result"
    }
   ],
   "source": [
    "savings_per_default - cost_per_counseling"
   ]
  },
  {
   "cell_type": "markdown",
   "metadata": {},
   "source": [
    "The issue is that not all accounts will default. For an account that wouldn't default, a counseling session represents a wasted NT\\\\$7,500. Our analysis needs to balance the costs of counseling with the risk of default.\n",
    "\n",
    "Now, we will calculate costs and savings for each of the thresholds."
   ]
  },
  {
   "cell_type": "code",
   "execution_count": 40,
   "metadata": {},
   "outputs": [],
   "source": [
    "n_pos_pred = np.empty_like(thresholds)\n",
    "cost_of_all_counselings = np.empty_like(thresholds)\n",
    "\n",
    "n_true_pos = np.empty_like(thresholds)\n",
    "savings_of_all_counselings = np.empty_like(thresholds)"
   ]
  },
  {
   "cell_type": "code",
   "execution_count": 41,
   "metadata": {},
   "outputs": [],
   "source": [
    "counter = 0\n",
    "\n",
    "for threshold in thresholds:\n",
    "\n",
    "    pos_pred = y_test_all_predict_proba[:, 1] > threshold\n",
    "    true_pos = pos_pred & y_test_all.astype(bool)\n",
    "    \n",
    "    n_true_pos[counter] = sum(true_pos)\n",
    "    n_pos_pred[counter] = sum(pos_pred)\n",
    "\n",
    "    cost_of_all_counselings[counter] = n_pos_pred[counter] * cost_per_counseling\n",
    "    savings_of_all_counselings[counter] = savings_per_default * n_true_pos[counter] * effectiveness\n",
    "\n",
    "    counter += 1"
   ]
  },
  {
   "cell_type": "markdown",
   "metadata": {},
   "source": [
    "Now, let us calculate the net saving (savings - costs):"
   ]
  },
  {
   "cell_type": "code",
   "execution_count": 42,
   "metadata": {},
   "outputs": [],
   "source": [
    "net_savings = savings_of_all_counselings - cost_of_all_counselings"
   ]
  },
  {
   "cell_type": "markdown",
   "metadata": {},
   "source": [
    "Let us display the net saving distribution:"
   ]
  },
  {
   "cell_type": "code",
   "execution_count": 43,
   "metadata": {},
   "outputs": [
    {
     "data": {
      "image/png": "[encoded data removed]",
      "text/plain": [
       "<Figure size 432x288 with 1 Axes>"
      ]
     },
     "metadata": {
      "needs_background": "light"
     },
     "output_type": "display_data"
    }
   ],
   "source": [
    "plt.plot(thresholds, net_savings)\n",
    "plt.xlabel('Threshold')\n",
    "plt.ylabel('Net savings (NT$)')\n",
    "plt.xticks(np.linspace(0,1,11))\n",
    "plt.grid(True)"
   ]
  },
  {
   "cell_type": "markdown",
   "metadata": {},
   "source": [
    "The plot indicated that the choice of threshold was important. While it was possible to create net savings at many different values of the threshold, it looks like the highest net savings was generated by setting the threshold somewhere in the range of about 0.2 to 0.25.\n",
    "\n",
    "Let confirm the optimal threshold:"
   ]
  },
  {
   "cell_type": "code",
   "execution_count": 44,
   "metadata": {},
   "outputs": [
    {
     "data": {
      "text/plain": [
       "(0.25, 15444354.511822164)"
      ]
     },
     "execution_count": 44,
     "metadata": {},
     "output_type": "execute_result"
    }
   ],
   "source": [
    "max_saving_ix = np.argmax(net_savings)\n",
    "(thresholds[max_saving_ix], net_savings[max_saving_ix])"
   ]
  },
  {
   "cell_type": "markdown",
   "metadata": {},
   "source": [
    "The greatest net savings occured at a threshold of 0.2 of predicted probability of default. The amount of net savings realized at this threshold was over NT\\\\$15 million, for the testing dataset of accounts. These savings would need to be scaled by the number of accounts served by the client, to estimate the total possible savings, assuming the data was representative of all these accounts.\n",
    "\n",
    "As the threshold increased, the model was \"raising the bar\" for how risky a client must be, in order to contact them and offer counseling. Increasing the threshold from 0.2 to 0.25 meant that the client would only contact riskier accounts whose probability was > 0.25. This meant contacting fewer accounts, reducing the up-front cost of the program. Figure 6.36 indicated that may be still able to create the same amount of net savings, by contacting fewer people. While the net effect was the same, the initial expenditure on counseling will be smaller. This may be desirable to the client.\n",
    "\n",
    "### Deriving Financial Insights\n",
    "\n",
    "Let us scale the number of accounts to the business size (instead of reporting only the accounts in the test set).\n",
    "Let us focus on how much the program can cost (the net savings are important, but the budget for the program needs to be calculated beforehand):"
   ]
  },
  {
   "cell_type": "code",
   "execution_count": 45,
   "metadata": {},
   "outputs": [
    {
     "data": {
      "text/plain": [
       "66308240.202088244"
      ]
     },
     "execution_count": 45,
     "metadata": {},
     "output_type": "execute_result"
    }
   ],
   "source": [
    "costs_of_defaults = sum(y_test_all) * savings_per_default\n",
    "costs_of_defaults"
   ]
  },
  {
   "cell_type": "markdown",
   "metadata": {},
   "source": [
    "This was the costs if all counts defaulted. Let us calculate by what percent the cost of defaults can be descreased by the program (this is achived by calculating the greatest possible net savings of the counseling program, divided by the cost of all defaults in the absence of a program):"
   ]
  },
  {
   "cell_type": "code",
   "execution_count": 46,
   "metadata": {},
   "outputs": [
    {
     "data": {
      "text/plain": [
       "0.23291757502163019"
      ]
     },
     "execution_count": 46,
     "metadata": {},
     "output_type": "execute_result"
    }
   ],
   "source": [
    "net_savings[max_saving_ix]/costs_of_defaults"
   ]
  },
  {
   "cell_type": "markdown",
   "metadata": {},
   "source": [
    "The results indicate the cost of defaults can be reduced by 23% using a counseling program, guided by predictive modeling. Let us calculate the net savings per account at the optimal threshold."
   ]
  },
  {
   "cell_type": "code",
   "execution_count": 47,
   "metadata": {},
   "outputs": [
    {
     "data": {
      "text/plain": [
       "2600.935417955905"
      ]
     },
     "execution_count": 47,
     "metadata": {},
     "output_type": "execute_result"
    }
   ],
   "source": [
    "net_savings[max_saving_ix]/len(y_test_all)"
   ]
  },
  {
   "cell_type": "markdown",
   "metadata": {},
   "source": [
    "Results like these help the client scale the potential amount of savings they could create with the counseling program, to as many accounts as they serve. Let us plot the net savings agaings the cost of counseling per account for different thresholds:"
   ]
  },
  {
   "cell_type": "code",
   "execution_count": 48,
   "metadata": {},
   "outputs": [
    {
     "data": {
      "text/plain": [
       "Text(0, 0.5, 'Net savings per account (NT$)')"
      ]
     },
     "execution_count": 48,
     "metadata": {},
     "output_type": "execute_result"
    },
    {
     "data": {
      "image/png": "[encoded data removed]",
      "text/plain": [
       "<Figure size 432x288 with 1 Axes>"
      ]
     },
     "metadata": {
      "needs_background": "light"
     },
     "output_type": "display_data"
    }
   ],
   "source": [
    "plt.plot(cost_of_all_counselings/len(y_test_all), net_savings/len(y_test_all))\n",
    "plt.xlabel('Upfront investment: cost of counselings per account (NT$)')\n",
    "plt.ylabel('Net savings per account (NT$)')"
   ]
  },
  {
   "cell_type": "markdown",
   "metadata": {},
   "source": [
    "This indicated how much money the client needed to budget to the counseling program in a given month, to achieve a given amount of savings. It looks like the greatest benefit can be created by budgeting up to about NT\\\\$2000 per account. After this, net savings were relatively flat, and then declined. The client may not actually be able to budget this much to the program. However, this graphic gives them evidence to argue for a larger budget if they need to.\n",
    "\n",
    "This result corresponds to the previous plot. Although there were shown the optimal threshold is 0.2, it may be fine for the client to use a higher threshold up to about 0.25, thus making fewer positive predictions, offering counseling to fewer account holders, and having a smaller upfront program cost. The above figure shows how this plays out in terms of cost and net savings per account.\n",
    "\n",
    "Let us now display de fraction of accounts predicted as positive at each threshold (called as \"flag rate\"):"
   ]
  },
  {
   "cell_type": "code",
   "execution_count": 49,
   "metadata": {},
   "outputs": [
    {
     "data": {
      "text/plain": [
       "Text(0.5, 0, 'Threshold')"
      ]
     },
     "execution_count": 49,
     "metadata": {},
     "output_type": "execute_result"
    },
    {
     "data": {
      "image/png": "[encoded data removed]",
      "text/plain": [
       "<Figure size 432x288 with 1 Axes>"
      ]
     },
     "metadata": {
      "needs_background": "light"
     },
     "output_type": "display_data"
    }
   ],
   "source": [
    "plt.plot(thresholds, n_pos_pred/len(y_test_all))\n",
    "\n",
    "plt.ylabel('Flag rate')\n",
    "plt.xlabel('Threshold')"
   ]
  },
  {
   "cell_type": "markdown",
   "metadata": {},
   "source": [
    "This plot shows the fraction of people who will be predicted to default, and therefore recommended outreach at each threshold. It appeared that at the optimal threshold of 0.2, only about 30% of accounts were flagged for counseling. This shows how using a model to prioritize accounts for counseling can help focus on the right accounts and reduce wasted resources. \n",
    "\n",
    "Higher thresholds, which may result in nearly-optimal savings up to a threshold of about 0.25. \n",
    "\n",
    "Let now display the precison-recall curve for the testing data:"
   ]
  },
  {
   "cell_type": "code",
   "execution_count": 50,
   "metadata": {},
   "outputs": [
    {
     "name": "stderr",
     "output_type": "stream",
     "text": [
      "<ipython-input-50-992f5780e3f3>:1: RuntimeWarning: invalid value encountered in true_divide\n",
      "  plt.plot(n_true_pos/sum(y_test_all), np.divide(n_true_pos, n_pos_pred))\n"
     ]
    },
    {
     "data": {
      "text/plain": [
       "Text(0, 0.5, 'Precision')"
      ]
     },
     "execution_count": 50,
     "metadata": {},
     "output_type": "execute_result"
    },
    {
     "data": {
      "image/png": "[encoded data removed]",
      "text/plain": [
       "<Figure size 432x288 with 1 Axes>"
      ]
     },
     "metadata": {
      "needs_background": "light"
     },
     "output_type": "display_data"
    }
   ],
   "source": [
    "plt.plot(n_true_pos/sum(y_test_all), np.divide(n_true_pos, n_pos_pred))\n",
    "plt.xlabel('Recall')\n",
    "plt.ylabel('Precision')"
   ]
  },
  {
   "cell_type": "markdown",
   "metadata": {},
   "source": [
    "The previous figure shows that in order to start getting a true positive rate (that is, recall) much above 0, it was necessary to accept a precision of about 0.75 or lower. So, it appeared there was room for improvement in the model. While this would not necessarily be communicated to the client, it showwd that by using more advanced modeling techniques, or a richer set of features, model performance could be improved.\n",
    "\n",
    "Precision and recall have a direct link to the cost and savings of the program: the more precise the predictions are, the less money we the client will be wasting on counseling due to incorrect model predictions. And, the higher the recall, the more savings we can create by successfully identifying accounts that would default. \n",
    "\n",
    "Finally, let us plot the precision and recall in the same plot:"
   ]
  },
  {
   "cell_type": "code",
   "execution_count": 51,
   "metadata": {},
   "outputs": [
    {
     "name": "stderr",
     "output_type": "stream",
     "text": [
      "<ipython-input-51-92180bc102eb>:1: RuntimeWarning: invalid value encountered in true_divide\n",
      "  plt.plot(thresholds, np.divide(n_true_pos, n_pos_pred), label='Precision')\n"
     ]
    },
    {
     "data": {
      "text/plain": [
       "<matplotlib.legend.Legend at 0x7f82eafb3070>"
      ]
     },
     "execution_count": 51,
     "metadata": {},
     "output_type": "execute_result"
    },
    {
     "data": {
      "image/png": "[encoded data removed]",
      "text/plain": [
       "<Figure size 432x288 with 1 Axes>"
      ]
     },
     "metadata": {
      "needs_background": "light"
     },
     "output_type": "display_data"
    }
   ],
   "source": [
    "plt.plot(thresholds, np.divide(n_true_pos, n_pos_pred), label='Precision')\n",
    "plt.plot(thresholds, n_true_pos/sum(y_test_all), label='Recall')\n",
    "plt.xlabel('Threshold')\n",
    "plt.legend()"
   ]
  },
  {
   "cell_type": "markdown",
   "metadata": {},
   "source": [
    "This plot sheds some light on why the optimal threshold turned out to be 0.2. While the optimal threshold also depends on the financial analysis of costs and savings, it can be seen that the steepest part of the initial increase in precision, which represents the correctness of positive predictions and was therefore a measure of how cost-effective the model-guided counseling can be, happens up to a threshold of about 0.2"
   ]
  }
 ],
 "metadata": {
  "kernelspec": {
   "display_name": "Python 3",
   "language": "python",
   "name": "python3"
  },
  "language_info": {
   "codemirror_mode": {
    "name": "ipython",
    "version": 3
   },
   "file_extension": ".py",
   "mimetype": "text/x-python",
   "name": "python",
   "nbconvert_exporter": "python",
   "pygments_lexer": "ipython3",
   "version": "3.8.5"
  }
 },
 "nbformat": 4,
 "nbformat_minor": 4
}
