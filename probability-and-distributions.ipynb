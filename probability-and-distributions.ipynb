{
 "cells": [
  {
   "cell_type": "markdown",
   "metadata": {},
   "source": [
    "### Probability and Distributions\n",
    "\n",
    "Self-study :)"
   ]
  },
  {
   "cell_type": "code",
   "execution_count": 1,
   "metadata": {},
   "outputs": [],
   "source": [
    "import seaborn as sns\n",
    "import numpy as np\n",
    "import matplotlib.pyplot as plt\n",
    "\n",
    "%matplotlib inline\n",
    "\n",
    "from scipy.stats import multivariate_normal"
   ]
  },
  {
   "cell_type": "code",
   "execution_count": 2,
   "metadata": {},
   "outputs": [
    {
     "data": {
      "text/html": [
       "<style>\n",
       "table {float:left}\n",
       "</style>\n"
      ],
      "text/plain": [
       "<IPython.core.display.HTML object>"
      ]
     },
     "metadata": {},
     "output_type": "display_data"
    }
   ],
   "source": [
    "%%html\n",
    "<style>\n",
    "table {float:left}\n",
    "</style>"
   ]
  },
  {
   "cell_type": "markdown",
   "metadata": {},
   "source": [
    "#### Bivariate distribution - Discrete random variables X and Y\n",
    "\n",
    "Considering the following bivariate distribution $p(x,y)$ of two discrete random variables $X$ and $Y$:\n",
    "\n",
    "\n",
    "|       |$x_{1}$|$x_{2}$|$x_{3}$|$x_{4}$|$x_{5}$|\n",
    "|-------|-------|-------|-------|-------|-------|\n",
    "|$y_{1}$|0.05   |0.1    |0.05   |0.07   |0.2    |\n",
    "|$y_{2}$|0.1    |0.05   |0.03   |0.05   |0.04   |\n",
    "|$y_{3}$|0.01   |0.02   |0.03   |0.1    |0.1    |"
   ]
  },
  {
   "cell_type": "markdown",
   "metadata": {},
   "source": [
    "Let's compute the marginal distributions $p(x)$ and $p(y)$ and the conditional distributions $p(x | Y = y_{1})$ and $p(y | X = x_{3})$"
   ]
  },
  {
   "cell_type": "markdown",
   "metadata": {},
   "source": [
    "We denote by $n_{ij}$ the number of events with state $X = x_{i}$ and $Y = y_{j}$. The probability distribution of each random variable, the marginal probability, can be seen as the sum over a row or column:\n",
    "\n",
    ">$P(X = x_{i}) = \\frac{c_{i}}{N}$ \n",
    "\n",
    "or\n",
    "\n",
    ">$P(Y = y_{j}) = \\frac{r_{j}}{N}$\n",
    "\n",
    "Where $c_{i}$ is the sum of the individual frequencies for the *i*th columns, that is $\\sum_{j=0}^{3} n_{ij}$ and $r_{j}$ is the row sum, that is, $r_{j} = \\sum_{i=0}^{5} n_{ij}$"
   ]
  },
  {
   "cell_type": "code",
   "execution_count": 3,
   "metadata": {},
   "outputs": [],
   "source": [
    "bivariate_pmf = np.array([[0.05, 0.1, 0.05, 0.07, 0.2],\n",
    "                          [0.1, 0.05, 0.03, 0.05, 0.05],\n",
    "                          [0.01, 0.02, 0.03, 0.1, 0.1]])\n",
    "\n",
    "N = np.multiply(*bivariate_pmf.shape)\n",
    "\n",
    "c_i = np.sum(bivariate_pmf, axis=0)\n",
    "r_j = np.sum(bivariate_pmf, axis=1)\n",
    "\n",
    "P_X = c_i/N\n",
    "P_Y = r_j/N"
   ]
  },
  {
   "cell_type": "markdown",
   "metadata": {},
   "source": [
    "The marginal probability of each $X$ and $Y$ random variables are:"
   ]
  },
  {
   "cell_type": "code",
   "execution_count": 4,
   "metadata": {},
   "outputs": [
    {
     "data": {
      "text/plain": [
       "(array([0.16, 0.17, 0.11, 0.22, 0.35]),\n",
       " array([0.47, 0.28, 0.26]),\n",
       " array([0.01066667, 0.01133333, 0.00733333, 0.01466667, 0.02333333]),\n",
       " array([0.03133333, 0.01866667, 0.01733333]))"
      ]
     },
     "execution_count": 4,
     "metadata": {},
     "output_type": "execute_result"
    }
   ],
   "source": [
    "(c_i, r_j,\n",
    " P_X, P_Y)"
   ]
  },
  {
   "cell_type": "markdown",
   "metadata": {},
   "source": [
    "The conditional probaility is the fraction of a row column in a particular cell. For example, the conditional probability of $Y$ given $X$ is:\n",
    "\n",
    ">$P(Y = y_{j} | X = x_{i}) = \\frac{n_{ij}}{c_{i}}$\n",
    "\n",
    "and the conditional probability of $X$ given $Y$ is:\n",
    "\n",
    ">$P(X = x_{i} | Y = y_{j}) = \\frac{n_{ij}}{r_j}$"
   ]
  },
  {
   "cell_type": "code",
   "execution_count": 5,
   "metadata": {},
   "outputs": [],
   "source": [
    "P_Y_X = []\n",
    "P_X_Y = []\n",
    "\n",
    "for i in range(3):\n",
    "    for j in range(5):\n",
    "        n_i_j = bivariate_pmf[i,j]\n",
    "        p_y_x_tmp = n_i_j / c_i[j]\n",
    "        p_x_y_tmp = n_i_j / r_j[i]\n",
    "        \n",
    "        P_Y_X = np.hstack([P_Y_X, p_y_x_tmp])\n",
    "        P_X_Y = np.hstack([P_X_Y, p_x_y_tmp])"
   ]
  },
  {
   "cell_type": "code",
   "execution_count": 6,
   "metadata": {},
   "outputs": [
    {
     "data": {
      "text/plain": [
       "(array([0.10638298, 0.21276596, 0.10638298, 0.14893617, 0.42553191,\n",
       "        0.35714286, 0.17857143, 0.10714286, 0.17857143, 0.17857143,\n",
       "        0.03846154, 0.07692308, 0.11538462, 0.38461538, 0.38461538]),\n",
       " array([0.3125    , 0.58823529, 0.45454545, 0.31818182, 0.57142857,\n",
       "        0.625     , 0.29411765, 0.27272727, 0.22727273, 0.14285714,\n",
       "        0.0625    , 0.11764706, 0.27272727, 0.45454545, 0.28571429]))"
      ]
     },
     "execution_count": 6,
     "metadata": {},
     "output_type": "execute_result"
    }
   ],
   "source": [
    "P_X_Y, P_Y_X"
   ]
  },
  {
   "cell_type": "markdown",
   "metadata": {},
   "source": [
    "#### Two Gaussian Distributions\n",
    "\n",
    "Consider a mixture of two Gaussian distributions, in the form:\n",
    "\n",
    "$$p(\\boldsymbol x) = \\sum_{k=1}^K \\pi_k \\mathcal{N}(\\boldsymbol x|\\boldsymbol \\mu_k, \\boldsymbol \\Sigma_k)\\,,\\quad \\pi_k \\geq 0\\,,\\quad \\sum_{k=1}^K\\pi_k = 1$$\n",
    "\n",
    "for \n",
    "$$\\mu_{1} =\n",
    "\\begin{bmatrix}\n",
    "10 \\\\\n",
    "2 \\\\\n",
    "\\end{bmatrix},\n",
    "\\mu_{2} = \n",
    "\\begin{bmatrix}\n",
    "0 \\\\\n",
    "0 \\\\\n",
    "\\end{bmatrix},\n",
    "\\Sigma_{1} = \n",
    "\\begin{bmatrix}\n",
    "1 & 0 \\\\\n",
    "0 & 1 \\\\\n",
    "\\end{bmatrix},\n",
    "\\Sigma_{2} =\n",
    "\\begin{bmatrix}\n",
    "8.4 & 2.0 \\\\\n",
    "2.0 & 1.7 \\\\\n",
    "\\end{bmatrix},\n",
    "$$\n",
    "and $\\pi_{1} = 0.4$, $\\pi_{2} = 0.6$\n"
   ]
  },
  {
   "cell_type": "markdown",
   "metadata": {},
   "source": [
    "Let's compute:\n",
    "\n",
    "(a) The marginal distributions for each dimension"
   ]
  },
  {
   "cell_type": "markdown",
   "metadata": {},
   "source": [
    "The marginal distribution $p(\\boldsymbol{x})$ of a joint Gaussian distribution $p(\\boldsymbol{x}, \\boldsymbol{y})$ is itself Gaussian and computed by applying the sum rule:\n",
    "\n",
    ">$$\n",
    "\\begin{equation}\n",
    "p(\\boldsymbol{x}) = \\begin{cases}\n",
    "     \\sum_{y\\in\\mathcal{Y}} p(\\boldsymbol{x}, \\boldsymbol{y}) & \\text{ if } \\boldsymbol{y} \\text{ is discrete}\\\\\n",
    "     \\int_{\\mathcal{Y}} p(\\boldsymbol{x}, \\boldsymbol{y})d\\boldsymbol{y} & \\text{ if } \\boldsymbol{y} \\text{ is continous}\\\\\n",
    "  \\end{cases}\n",
    " \\end{equation}\n",
    "$$\n",
    "\n",
    "So, applying the sum rule to the Gaussian distribution, we can compute the marginal distribution for one dimesion:\n",
    "\n",
    ">$p(\\boldsymbol{x}) = \\int p(\\boldsymbol{x}, \\boldsymbol{y}) d\\boldsymbol{y} = \\mathcal{N}(\\boldsymbol{x}|\\boldsymbol\\mu_{x}, \\boldsymbol{\\Sigma_{xx}})$\n",
    "\n",
    "The same holds for $p(\\boldsymbol{y})$, which is obtained by marginalizing with respect to $\\boldsymbol{x}$. Thus, the marginals of the distributions of interest are:\n",
    "\n",
    "\n",
    ">$p(\\boldsymbol{x}) = 0.4 \\mathcal{N}(\\boldsymbol{x}|10, 1) + 0.6 \\mathcal{N}(\\boldsymbol{x}|0, 8.4)$\n",
    "\n",
    ">$p(\\boldsymbol{y}) = 0.4 \\mathcal{N}(\\boldsymbol{x}|2, 1) + 0.6 \\mathcal{N}(\\boldsymbol{x}|0, 1.7)$"
   ]
  },
  {
   "cell_type": "markdown",
   "metadata": {},
   "source": [
    "Generate some data:"
   ]
  },
  {
   "cell_type": "code",
   "execution_count": 7,
   "metadata": {},
   "outputs": [],
   "source": [
    "# means\n",
    "m = np.zeros((2,2))\n",
    "m[0] = np.array([10, 0])\n",
    "m[1] = np.array([2, 0])\n",
    "\n",
    "# covariances\n",
    "S = np.zeros((2, 2, 2))\n",
    "S[0] = np.array([[1, 0], \n",
    "                 [0, 1]])\n",
    "S[1] = np.array([[8.4, 2.0], \n",
    "                 [2.0, 1.7]])\n",
    "\n",
    "# weights\n",
    "w = np.array([0.4, 0.6])"
   ]
  },
  {
   "cell_type": "code",
   "execution_count": 8,
   "metadata": {},
   "outputs": [],
   "source": [
    "N_split = 200\n",
    "N = N_split * 2\n",
    "\n",
    "x = []\n",
    "y = []\n",
    "\n",
    "for k in range(2):\n",
    "    x_tmp, y_tmp = np.random.multivariate_normal(m[k], S[k], N_split).T\n",
    "    x = np.hstack([x, x_tmp])\n",
    "    y = np.hstack([y, y_tmp])\n",
    "\n",
    "data = np.vstack([x,y])"
   ]
  },
  {
   "cell_type": "markdown",
   "metadata": {},
   "source": [
    "Visualization of the dataset:"
   ]
  },
  {
   "cell_type": "code",
   "execution_count": 9,
   "metadata": {},
   "outputs": [
    {
     "data": {
      "text/plain": [
       "<seaborn.axisgrid.JointGrid at 0x7f58b7eadf70>"
      ]
     },
     "execution_count": 9,
     "metadata": {},
     "output_type": "execute_result"
    },
    {
     "data": {
      "image/png": "[encoded data removed]",
      "text/plain": [
       "<Figure size 432x432 with 3 Axes>"
      ]
     },
     "metadata": {
      "needs_background": "light"
     },
     "output_type": "display_data"
    }
   ],
   "source": [
    "grid = sns.JointGrid(x=x, y=y)\n",
    "\n",
    "g = grid.plot_joint(sns.scatterplot)\n",
    "g.plot_joint(sns.kdeplot)\n",
    "g.plot_marginals(sns.kdeplot)"
   ]
  },
  {
   "cell_type": "markdown",
   "metadata": {},
   "source": [
    "(b) The mean, mode and median for each marginal distribution \n",
    "\n",
    "The mean of the mixture density $p(x)$ is given by the weighted sum of the means of each random variable:\n",
    "\n",
    ">$\\mathbb{E}[x] = \\alpha\\mu_1 + (1 - \\alpha)\\mu_2$"
   ]
  },
  {
   "cell_type": "code",
   "execution_count": 10,
   "metadata": {},
   "outputs": [
    {
     "data": {
      "text/plain": [
       "array([4. , 0.8])"
      ]
     },
     "execution_count": 10,
     "metadata": {},
     "output_type": "execute_result"
    }
   ],
   "source": [
    "(m[:, :] * w)[:, 0]"
   ]
  },
  {
   "cell_type": "markdown",
   "metadata": {},
   "source": [
    "Thus, we have:\n",
    "\n",
    "$\\mathbb{E}[x] = 4$\n",
    "\n",
    "$\\mathbb{E}[y] = 0.8$\n",
    "\n",
    "The mode can be defined as the value of $x$ having the highest frequency of occurence. For a continous random variable, the mode is defined as a peak in the density $p(\\boldsymbol{x})$. A particular density $p(\\boldsymbol{x})$ may have more than one mode, and furthermore there may be a very large number of modes in high-dimensional distributions. Therefore, due to this computational challenge, finding the mode of a continous distribution can be computationally challenging.\n",
    "\n",
    "One way though, is to compute the extreme condition:\n",
    "\n",
    ">$\\frac{\\mathcal{d}p(\\boldsymbol{x})}{\\mathcal{d}x} = 0$ or $\\frac{\\mathcal{d}p(\\boldsymbol{y})}{\\mathcal{d}y} = 0$\n",
    "\n",
    "And check if it is not an inflection point:\n",
    "\n",
    ">$\\frac{\\mathcal{d}^2p(\\boldsymbol{x})}{{\\mathcal{d}x}^2} < 0$ or $\\frac{\\mathcal{d}p(\\boldsymbol{y})}{{\\mathcal{d}y}^2} < 0$"
   ]
  },
  {
   "cell_type": "markdown",
   "metadata": {},
   "source": [
    "(c) The mean and mode for the two-dimensional distribution"
   ]
  },
  {
   "cell_type": "markdown",
   "metadata": {},
   "source": [
    "The mean of a random variable $X$ with states $\\boldsymbol{x}\\in\\mathbb{R}^D$is an average and is defined as:\n",
    "\n",
    "$$\\mathbb{E}=\n",
    "\\begin{bmatrix}\n",
    "\\mathbb{E}_{x_{1}}[x_{1}] \\\\\n",
    "\\vdots \\\\\n",
    "\\mathbb{E}_{x_{d}}[x_{d}] \\\\\n",
    "\\end{bmatrix}\n",
    "$$\n",
    "\n",
    "where \n",
    "\n",
    "$$\\mathbb{E}_{x_{d}}[x_{d}]=\n",
    "\\int_{\\mathcal{X}} x_{d}p(x_{d})\\, dx_{d} \\text{ for d = 1, 2, ..., D}\n",
    "$$\n",
    "\n",
    "Since we already have the expectation values, the mean for the two-dimensional distribution is:\n",
    "\n",
    "$$\\mu=\n",
    "\\begin{bmatrix}\n",
    "4.0 \\\\\n",
    "0.8 \\\\\n",
    "\\end{bmatrix}\n",
    "$$"
   ]
  },
  {
   "cell_type": "markdown",
   "metadata": {},
   "source": [
    "The mode of two dimensional distribution is obtained first by solving the extremum conditions:\n",
    "\n",
    "$\\frac{\\partial(x,y)}{\\partial x} = 0$ and $\\frac{\\partial(x,y)}{\\partial y} = 0$\n",
    "\n",
    "and then verifying for every solution that is indeed a peak, i.e.:\n",
    "\n",
    "$\\frac{\\partial^{2}(x,y)}{\\partial x^{2}} < 0$ and $\\frac{\\partial^{2}(x,y)}{\\partial y^{2}} < 0$\n",
    "\n",
    "$$\\text{det}\n",
    "\\begin{pmatrix}\n",
    "\\begin{bmatrix}\n",
    "\\frac{\\partial^{2}(x,y)}{\\partial x^{2}} & \\frac{\\partial^{2}(x,y)}{\\partial y\\partial x} & \\\\\n",
    "\\frac{\\partial^{2}(x,y)}{\\partial x\\partial y} & \\frac{\\partial^{2}(x,y)}{\\partial y^{2}} & \\\\\n",
    "\\end{bmatrix}\n",
    "\\end{pmatrix} > 0\n",
    "$$\n",
    "\n",
    "Again, these equations can be solved only numerically."
   ]
  },
  {
   "cell_type": "markdown",
   "metadata": {},
   "source": [
    "#### Bernoulli Distribution w/ Beta conjugation\n",
    "\n",
    "Considering a Bernoulli distribution with a parameter $\\theta$:\n",
    "\n",
    ">$p(x|\\theta) = \\theta^{x} (1-\\theta)^{1 - x}, x\\in$ {0,1}\n",
    "\n",
    "Let $x\\in$ {0,1} be distributed according to the Bernoulli distribution with parameter $\\theta\\in$ [0,1], that is, \n",
    "\n",
    ">$p(x = 1|\\theta) = \\theta$.\n",
    "\n",
    "This can also be expressed as \n",
    "\n",
    ">$p(x|\\theta) = \\theta^{x} (1-\\theta)^{1-x}$"
   ]
  },
  {
   "cell_type": "code",
   "execution_count": 11,
   "metadata": {},
   "outputs": [
    {
     "data": {
      "text/plain": [
       "Text(0.5, 0, 'x')"
      ]
     },
     "execution_count": 11,
     "metadata": {},
     "output_type": "execute_result"
    },
    {
     "data": {
      "image/png": "[encoded data removed]",
      "text/plain": [
       "<Figure size 432x288 with 1 Axes>"
      ]
     },
     "metadata": {
      "needs_background": "light"
     },
     "output_type": "display_data"
    }
   ],
   "source": [
    "X = np.random.binomial(1, 0.4, 1000)\n",
    "\n",
    "plt.hist(X)\n",
    "plt.title('Bernoulli Distribution')\n",
    "plt.ylabel(r'p(x | $\\theta$  = 0.4)')\n",
    "plt.xlabel('x')"
   ]
  },
  {
   "cell_type": "markdown",
   "metadata": {},
   "source": [
    "\n",
    "Let $\\theta$ be distributed according to a Beta distribution with parameters $\\alpha, \\beta$, that is,\n",
    "\n",
    ">$p(\\theta|\\alpha, \\beta) \\propto \\theta^{\\alpha - 1} (1 - \\theta)^{\\beta -1}$"
   ]
  },
  {
   "cell_type": "code",
   "execution_count": 12,
   "metadata": {},
   "outputs": [
    {
     "data": {
      "text/plain": [
       "Text(0.5, 0, 'x')"
      ]
     },
     "execution_count": 12,
     "metadata": {},
     "output_type": "execute_result"
    },
    {
     "data": {
      "image/png": "[encoded data removed]",
      "text/plain": [
       "<Figure size 432x288 with 1 Axes>"
      ]
     },
     "metadata": {
      "needs_background": "light"
     },
     "output_type": "display_data"
    }
   ],
   "source": [
    "T = np.random.beta(4, 10, 1000)\n",
    "\n",
    "plt.hist(T)\n",
    "plt.title('Beta Distribution')\n",
    "plt.ylabel(r'p($\\theta$ | $\\alpha$  = 4, $\\beta$ = 10)')\n",
    "plt.xlabel('x')"
   ]
  },
  {
   "cell_type": "markdown",
   "metadata": {},
   "source": [
    "Now, multiplying the Beta and the Bernoulli distributions, we get:\n",
    "\n",
    ">$$\n",
    "\\begin{equation}\n",
    "\\begin{split}\n",
    "p(\\theta|x, \\alpha, \\beta) & =  p(x|\\theta) p(\\theta|\\alpha, \\beta) \\\\\n",
    "&\\propto \\theta^{x - 1} (1 - \\theta)^{x - 1}\\theta^{\\alpha - 1} (1 - \\theta)^{\\beta -1} \\\\\n",
    "& = \\theta^{\\alpha - x - 1} (1 - \\theta)^{\\beta - x} \\\\\n",
    "& \\propto p(\\theta|\\alpha + x + 1, \\beta + (1 - x))\n",
    "\\end{split}\n",
    "\\end{equation}\n",
    "$$\n",
    "\n",
    "The last line is the Beta distribution with parameters $(\\alpha + x + 1, \\beta + (1 - x))$\n",
    "\n",
    "Generallizing, the posterior distribution $p(\\theta|x_{i}, \\alpha, \\beta)$ have the form of:\n",
    "\n",
    ">$p(\\theta |x_{1}, \\dots, x_{N}) = \\frac{1}{\\mathcal{B}(\\alpha+x_{i}, \\beta + 1 - x_{i})} \\theta^{\\alpha - x - 1} (1 - \\theta)^{\\beta - x} $"
   ]
  },
  {
   "cell_type": "code",
   "execution_count": null,
   "metadata": {},
   "outputs": [],
   "source": []
  }
 ],
 "metadata": {
  "kernelspec": {
   "display_name": "Python 3",
   "language": "python",
   "name": "python3"
  },
  "language_info": {
   "codemirror_mode": {
    "name": "ipython",
    "version": 3
   },
   "file_extension": ".py",
   "mimetype": "text/x-python",
   "name": "python",
   "nbconvert_exporter": "python",
   "pygments_lexer": "ipython3",
   "version": "3.8.5"
  }
 },
 "nbformat": 4,
 "nbformat_minor": 4
}
