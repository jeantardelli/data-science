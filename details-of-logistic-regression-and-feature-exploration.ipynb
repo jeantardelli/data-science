{
 "cells": [
  {
   "cell_type": "markdown",
   "metadata": {},
   "source": [
    "## Logistic Regression Basics and Feature examination methods"
   ]
  },
  {
   "cell_type": "markdown",
   "metadata": {},
   "source": [
    "### Package Versions"
   ]
  },
  {
   "cell_type": "code",
   "execution_count": 1,
   "metadata": {},
   "outputs": [
    {
     "name": "stdout",
     "output_type": "stream",
     "text": [
      "The Python version is 3.8.5 (default, Jul 28 2020, 12:59:40) \n",
      "[GCC 9.3.0].\n",
      "\n",
      "The Numpy version is 1.19.1.\n",
      "\n",
      "The Pandas version is 1.1.0.\n",
      "\n",
      "The Matplotlib version is 3.3.3.\n",
      "\n",
      "The Scikit-Learn version is 0.24.0.\n",
      "\n",
      "The Seaborn version is 0.11.1\n",
      "\n"
     ]
    }
   ],
   "source": [
    "import sys\n",
    "import sklearn\n",
    "import numpy as np\n",
    "import pandas as pd\n",
    "import matplotlib as mpl\n",
    "import matplotlib.pyplot as plt\n",
    "import seaborn as sns\n",
    "\n",
    "from sklearn import metrics\n",
    "from sklearn.feature_selection import f_classif, SelectPercentile\n",
    "from sklearn.model_selection import train_test_split\n",
    "from sklearn.linear_model import LogisticRegression\n",
    "\n",
    "%matplotlib inline\n",
    "\n",
    "print('The Python version is {}.\\n'.format(sys.version))\n",
    "print('The Numpy version is {}.\\n'.format(np.__version__))\n",
    "print('The Pandas version is {}.\\n'.format(pd.__version__))\n",
    "print('The Matplotlib version is {}.\\n'.format(mpl.__version__))\n",
    "print('The Scikit-Learn version is {}.\\n'.format(sklearn.__version__))\n",
    "print('The Seaborn version is {}\\n'.format(sns.__version__))"
   ]
  },
  {
   "cell_type": "markdown",
   "metadata": {},
   "source": [
    "### Load the data"
   ]
  },
  {
   "cell_type": "code",
   "execution_count": 2,
   "metadata": {},
   "outputs": [],
   "source": [
    "df = pd.read_csv('data/default_of_credit_card_clients_cleaned.csv')"
   ]
  },
  {
   "cell_type": "markdown",
   "metadata": {},
   "source": [
    "Make a list of all columns:"
   ]
  },
  {
   "cell_type": "code",
   "execution_count": 3,
   "metadata": {},
   "outputs": [
    {
     "data": {
      "text/plain": [
       "(['id', 'limit_bal', 'sex', 'education', 'marriage'],\n",
       " ['education_cat', 'graduate_school', 'high_school', 'others', 'university'])"
      ]
     },
     "execution_count": 3,
     "metadata": {},
     "output_type": "execute_result"
    }
   ],
   "source": [
    "features_response = df.columns.to_list()\n",
    "(features_response[:5], features_response[-5:])"
   ]
  },
  {
   "cell_type": "markdown",
   "metadata": {},
   "source": [
    "Removing gender (ethinics concern) and incorrect columns (pay_2, ..., pay_6). Also removing the ohe education features (for this case, they are already encoded into the education column):"
   ]
  },
  {
   "cell_type": "code",
   "execution_count": 4,
   "metadata": {},
   "outputs": [
    {
     "data": {
      "text/plain": [
       "['id',\n",
       " 'sex',\n",
       " 'pay_2',\n",
       " 'pay_3',\n",
       " 'pay_4',\n",
       " 'pay_5',\n",
       " 'pay_6',\n",
       " 'education_cat',\n",
       " 'graduate_school',\n",
       " 'high_school',\n",
       " 'others',\n",
       " 'university']"
      ]
     },
     "execution_count": 4,
     "metadata": {},
     "output_type": "execute_result"
    }
   ],
   "source": [
    "to_remove = ['id', 'sex'] + ['pay_{}'.format(i) for i in range(2,7)] + features_response[-5:]\n",
    "to_remove"
   ]
  },
  {
   "cell_type": "code",
   "execution_count": 5,
   "metadata": {},
   "outputs": [
    {
     "data": {
      "text/plain": [
       "['limit_bal',\n",
       " 'education',\n",
       " 'marriage',\n",
       " 'age',\n",
       " 'pay_1',\n",
       " 'bill_amt1',\n",
       " 'bill_amt2',\n",
       " 'bill_amt3',\n",
       " 'bill_amt4',\n",
       " 'bill_amt5',\n",
       " 'bill_amt6',\n",
       " 'pay_amt1',\n",
       " 'pay_amt2',\n",
       " 'pay_amt3',\n",
       " 'pay_amt4',\n",
       " 'pay_amt5',\n",
       " 'pay_amt6',\n",
       " 'default_payment_next_month']"
      ]
     },
     "execution_count": 5,
     "metadata": {},
     "output_type": "execute_result"
    }
   ],
   "source": [
    "features_response = [feature for feature in features_response if feature not in to_remove]\n",
    "features_response"
   ]
  },
  {
   "cell_type": "markdown",
   "metadata": {},
   "source": [
    "### Pearson Correlation"
   ]
  },
  {
   "cell_type": "markdown",
   "metadata": {},
   "source": [
    "The Pearson correlation is used to measure the strenght and direction (that is, positive or negative) of the linear relationship between a given pair of random variables $(X, Y)$. It is also known by linear correlation equation:\n",
    "\n",
    "> $\\rho_{X,Y} = \\frac{\\mathbb{E}[(X-\\mu_{X})(Y-\\mu_{Y})]}{\\sigma_{X}\\sigma_{Y}}$\n",
    "\n",
    "Where:\n",
    "\n",
    "$\\sigma_{X}$ and $\\sigma_{Y}$ are the standard deviation of $X$ and $Y$, respectively;\n",
    "$\\mu_{X}$ and $\\mu_{Y}$ are the the mean of $X$ and $Y$, respectively;\n",
    "$\\mathbb{E}$ is the expectation (in other words, the **weighted average**).\n",
    "\n",
    "If $X$ and $Y$ are both large/small (compared to their means) the correlation will be positive, otherwise, the correlation will be negative. The denominator (standard deviations product) serves to normalize the relationship on the -1 to +1 range.\n",
    "\n",
    "One important note is that the Pearson correlation is only valid for **continuous data**, and not stricly appropriate for a binary response variable (though using with the latter case can give a quick idea of the potential usefulness of features). It is also ineffective when looking at data that are correlated but not in a linear way (e.g. sin/cos)."
   ]
  },
  {
   "cell_type": "code",
   "execution_count": 6,
   "metadata": {},
   "outputs": [
    {
     "data": {
      "text/html": [
       "<div>\n",
       "<style scoped>\n",
       "    .dataframe tbody tr th:only-of-type {\n",
       "        vertical-align: middle;\n",
       "    }\n",
       "\n",
       "    .dataframe tbody tr th {\n",
       "        vertical-align: top;\n",
       "    }\n",
       "\n",
       "    .dataframe thead th {\n",
       "        text-align: right;\n",
       "    }\n",
       "</style>\n",
       "<table border=\"1\" class=\"dataframe\">\n",
       "  <thead>\n",
       "    <tr style=\"text-align: right;\">\n",
       "      <th></th>\n",
       "      <th>limit_bal</th>\n",
       "      <th>education</th>\n",
       "      <th>marriage</th>\n",
       "      <th>age</th>\n",
       "      <th>pay_1</th>\n",
       "      <th>bill_amt1</th>\n",
       "      <th>bill_amt2</th>\n",
       "      <th>bill_amt3</th>\n",
       "      <th>bill_amt4</th>\n",
       "      <th>bill_amt5</th>\n",
       "      <th>bill_amt6</th>\n",
       "      <th>pay_amt1</th>\n",
       "      <th>pay_amt2</th>\n",
       "      <th>pay_amt3</th>\n",
       "      <th>pay_amt4</th>\n",
       "      <th>pay_amt5</th>\n",
       "      <th>pay_amt6</th>\n",
       "      <th>default_payment_next_month</th>\n",
       "    </tr>\n",
       "  </thead>\n",
       "  <tbody>\n",
       "    <tr>\n",
       "      <th>limit_bal</th>\n",
       "      <td>1.000000</td>\n",
       "      <td>-0.232688</td>\n",
       "      <td>-0.111873</td>\n",
       "      <td>0.149157</td>\n",
       "      <td>-0.273396</td>\n",
       "      <td>0.287009</td>\n",
       "      <td>0.279289</td>\n",
       "      <td>0.285299</td>\n",
       "      <td>0.294342</td>\n",
       "      <td>0.295198</td>\n",
       "      <td>0.289818</td>\n",
       "      <td>0.194820</td>\n",
       "      <td>0.188049</td>\n",
       "      <td>0.207638</td>\n",
       "      <td>0.202795</td>\n",
       "      <td>0.218082</td>\n",
       "      <td>0.221305</td>\n",
       "      <td>-0.154423</td>\n",
       "    </tr>\n",
       "    <tr>\n",
       "      <th>education</th>\n",
       "      <td>-0.232688</td>\n",
       "      <td>1.000000</td>\n",
       "      <td>-0.137097</td>\n",
       "      <td>0.179035</td>\n",
       "      <td>0.112653</td>\n",
       "      <td>0.016156</td>\n",
       "      <td>0.012307</td>\n",
       "      <td>0.007683</td>\n",
       "      <td>-0.005862</td>\n",
       "      <td>-0.013174</td>\n",
       "      <td>-0.012670</td>\n",
       "      <td>-0.040092</td>\n",
       "      <td>-0.033610</td>\n",
       "      <td>-0.042349</td>\n",
       "      <td>-0.039319</td>\n",
       "      <td>-0.044946</td>\n",
       "      <td>-0.046859</td>\n",
       "      <td>0.034966</td>\n",
       "    </tr>\n",
       "    <tr>\n",
       "      <th>marriage</th>\n",
       "      <td>-0.111873</td>\n",
       "      <td>-0.137097</td>\n",
       "      <td>1.000000</td>\n",
       "      <td>-0.412828</td>\n",
       "      <td>0.019759</td>\n",
       "      <td>-0.028610</td>\n",
       "      <td>-0.026009</td>\n",
       "      <td>-0.029192</td>\n",
       "      <td>-0.027740</td>\n",
       "      <td>-0.029895</td>\n",
       "      <td>-0.024414</td>\n",
       "      <td>-0.002951</td>\n",
       "      <td>-0.007548</td>\n",
       "      <td>-0.003408</td>\n",
       "      <td>-0.014387</td>\n",
       "      <td>-0.000410</td>\n",
       "      <td>-0.009461</td>\n",
       "      <td>-0.026030</td>\n",
       "    </tr>\n",
       "    <tr>\n",
       "      <th>age</th>\n",
       "      <td>0.149157</td>\n",
       "      <td>0.179035</td>\n",
       "      <td>-0.412828</td>\n",
       "      <td>1.000000</td>\n",
       "      <td>-0.044277</td>\n",
       "      <td>0.056245</td>\n",
       "      <td>0.054099</td>\n",
       "      <td>0.054107</td>\n",
       "      <td>0.051241</td>\n",
       "      <td>0.049701</td>\n",
       "      <td>0.047519</td>\n",
       "      <td>0.025437</td>\n",
       "      <td>0.025421</td>\n",
       "      <td>0.029876</td>\n",
       "      <td>0.025307</td>\n",
       "      <td>0.020541</td>\n",
       "      <td>0.021640</td>\n",
       "      <td>0.014334</td>\n",
       "    </tr>\n",
       "    <tr>\n",
       "      <th>pay_1</th>\n",
       "      <td>-0.273396</td>\n",
       "      <td>0.112653</td>\n",
       "      <td>0.019759</td>\n",
       "      <td>-0.044277</td>\n",
       "      <td>1.000000</td>\n",
       "      <td>0.185826</td>\n",
       "      <td>0.188799</td>\n",
       "      <td>0.181257</td>\n",
       "      <td>0.178812</td>\n",
       "      <td>0.180438</td>\n",
       "      <td>0.177486</td>\n",
       "      <td>-0.081450</td>\n",
       "      <td>-0.073295</td>\n",
       "      <td>-0.072682</td>\n",
       "      <td>-0.064112</td>\n",
       "      <td>-0.057021</td>\n",
       "      <td>-0.061031</td>\n",
       "      <td>0.325365</td>\n",
       "    </tr>\n",
       "    <tr>\n",
       "      <th>bill_amt1</th>\n",
       "      <td>0.287009</td>\n",
       "      <td>0.016156</td>\n",
       "      <td>-0.028610</td>\n",
       "      <td>0.056245</td>\n",
       "      <td>0.185826</td>\n",
       "      <td>1.000000</td>\n",
       "      <td>0.951651</td>\n",
       "      <td>0.900386</td>\n",
       "      <td>0.860149</td>\n",
       "      <td>0.828615</td>\n",
       "      <td>0.802008</td>\n",
       "      <td>0.138221</td>\n",
       "      <td>0.112460</td>\n",
       "      <td>0.145635</td>\n",
       "      <td>0.160204</td>\n",
       "      <td>0.163425</td>\n",
       "      <td>0.178943</td>\n",
       "      <td>-0.020508</td>\n",
       "    </tr>\n",
       "    <tr>\n",
       "      <th>bill_amt2</th>\n",
       "      <td>0.279289</td>\n",
       "      <td>0.012307</td>\n",
       "      <td>-0.026009</td>\n",
       "      <td>0.054099</td>\n",
       "      <td>0.188799</td>\n",
       "      <td>0.951651</td>\n",
       "      <td>1.000000</td>\n",
       "      <td>0.937488</td>\n",
       "      <td>0.892103</td>\n",
       "      <td>0.858078</td>\n",
       "      <td>0.830300</td>\n",
       "      <td>0.276583</td>\n",
       "      <td>0.114473</td>\n",
       "      <td>0.137514</td>\n",
       "      <td>0.148685</td>\n",
       "      <td>0.153851</td>\n",
       "      <td>0.172472</td>\n",
       "      <td>-0.014579</td>\n",
       "    </tr>\n",
       "    <tr>\n",
       "      <th>bill_amt3</th>\n",
       "      <td>0.285299</td>\n",
       "      <td>0.007683</td>\n",
       "      <td>-0.029192</td>\n",
       "      <td>0.054107</td>\n",
       "      <td>0.181257</td>\n",
       "      <td>0.900386</td>\n",
       "      <td>0.937488</td>\n",
       "      <td>1.000000</td>\n",
       "      <td>0.930385</td>\n",
       "      <td>0.889186</td>\n",
       "      <td>0.855154</td>\n",
       "      <td>0.242809</td>\n",
       "      <td>0.287837</td>\n",
       "      <td>0.119456</td>\n",
       "      <td>0.141010</td>\n",
       "      <td>0.159446</td>\n",
       "      <td>0.178121</td>\n",
       "      <td>-0.014649</td>\n",
       "    </tr>\n",
       "    <tr>\n",
       "      <th>bill_amt4</th>\n",
       "      <td>0.294342</td>\n",
       "      <td>-0.005862</td>\n",
       "      <td>-0.027740</td>\n",
       "      <td>0.051241</td>\n",
       "      <td>0.178812</td>\n",
       "      <td>0.860149</td>\n",
       "      <td>0.892103</td>\n",
       "      <td>0.930385</td>\n",
       "      <td>1.000000</td>\n",
       "      <td>0.937799</td>\n",
       "      <td>0.899241</td>\n",
       "      <td>0.229123</td>\n",
       "      <td>0.217716</td>\n",
       "      <td>0.293652</td>\n",
       "      <td>0.131700</td>\n",
       "      <td>0.158633</td>\n",
       "      <td>0.171339</td>\n",
       "      <td>-0.011349</td>\n",
       "    </tr>\n",
       "    <tr>\n",
       "      <th>bill_amt5</th>\n",
       "      <td>0.295198</td>\n",
       "      <td>-0.013174</td>\n",
       "      <td>-0.029895</td>\n",
       "      <td>0.049701</td>\n",
       "      <td>0.180438</td>\n",
       "      <td>0.828615</td>\n",
       "      <td>0.858078</td>\n",
       "      <td>0.889186</td>\n",
       "      <td>0.937799</td>\n",
       "      <td>1.000000</td>\n",
       "      <td>0.945671</td>\n",
       "      <td>0.212053</td>\n",
       "      <td>0.189566</td>\n",
       "      <td>0.241291</td>\n",
       "      <td>0.296192</td>\n",
       "      <td>0.140669</td>\n",
       "      <td>0.161847</td>\n",
       "      <td>-0.006753</td>\n",
       "    </tr>\n",
       "    <tr>\n",
       "      <th>bill_amt6</th>\n",
       "      <td>0.289818</td>\n",
       "      <td>-0.012670</td>\n",
       "      <td>-0.024414</td>\n",
       "      <td>0.047519</td>\n",
       "      <td>0.177486</td>\n",
       "      <td>0.802008</td>\n",
       "      <td>0.830300</td>\n",
       "      <td>0.855154</td>\n",
       "      <td>0.899241</td>\n",
       "      <td>0.945671</td>\n",
       "      <td>1.000000</td>\n",
       "      <td>0.194316</td>\n",
       "      <td>0.167941</td>\n",
       "      <td>0.219008</td>\n",
       "      <td>0.251668</td>\n",
       "      <td>0.305627</td>\n",
       "      <td>0.117253</td>\n",
       "      <td>-0.006274</td>\n",
       "    </tr>\n",
       "    <tr>\n",
       "      <th>pay_amt1</th>\n",
       "      <td>0.194820</td>\n",
       "      <td>-0.040092</td>\n",
       "      <td>-0.002951</td>\n",
       "      <td>0.025437</td>\n",
       "      <td>-0.081450</td>\n",
       "      <td>0.138221</td>\n",
       "      <td>0.276583</td>\n",
       "      <td>0.242809</td>\n",
       "      <td>0.229123</td>\n",
       "      <td>0.212053</td>\n",
       "      <td>0.194316</td>\n",
       "      <td>1.000000</td>\n",
       "      <td>0.326951</td>\n",
       "      <td>0.268781</td>\n",
       "      <td>0.204178</td>\n",
       "      <td>0.154208</td>\n",
       "      <td>0.192774</td>\n",
       "      <td>-0.072431</td>\n",
       "    </tr>\n",
       "    <tr>\n",
       "      <th>pay_amt2</th>\n",
       "      <td>0.188049</td>\n",
       "      <td>-0.033610</td>\n",
       "      <td>-0.007548</td>\n",
       "      <td>0.025421</td>\n",
       "      <td>-0.073295</td>\n",
       "      <td>0.112460</td>\n",
       "      <td>0.114473</td>\n",
       "      <td>0.287837</td>\n",
       "      <td>0.217716</td>\n",
       "      <td>0.189566</td>\n",
       "      <td>0.167941</td>\n",
       "      <td>0.326951</td>\n",
       "      <td>1.000000</td>\n",
       "      <td>0.265713</td>\n",
       "      <td>0.188660</td>\n",
       "      <td>0.136844</td>\n",
       "      <td>0.164655</td>\n",
       "      <td>-0.061555</td>\n",
       "    </tr>\n",
       "    <tr>\n",
       "      <th>pay_amt3</th>\n",
       "      <td>0.207638</td>\n",
       "      <td>-0.042349</td>\n",
       "      <td>-0.003408</td>\n",
       "      <td>0.029876</td>\n",
       "      <td>-0.072682</td>\n",
       "      <td>0.145635</td>\n",
       "      <td>0.137514</td>\n",
       "      <td>0.119456</td>\n",
       "      <td>0.293652</td>\n",
       "      <td>0.241291</td>\n",
       "      <td>0.219008</td>\n",
       "      <td>0.268781</td>\n",
       "      <td>0.265713</td>\n",
       "      <td>1.000000</td>\n",
       "      <td>0.222513</td>\n",
       "      <td>0.158325</td>\n",
       "      <td>0.163026</td>\n",
       "      <td>-0.058010</td>\n",
       "    </tr>\n",
       "    <tr>\n",
       "      <th>pay_amt4</th>\n",
       "      <td>0.202795</td>\n",
       "      <td>-0.039319</td>\n",
       "      <td>-0.014387</td>\n",
       "      <td>0.025307</td>\n",
       "      <td>-0.064112</td>\n",
       "      <td>0.160204</td>\n",
       "      <td>0.148685</td>\n",
       "      <td>0.141010</td>\n",
       "      <td>0.131700</td>\n",
       "      <td>0.296192</td>\n",
       "      <td>0.251668</td>\n",
       "      <td>0.204178</td>\n",
       "      <td>0.188660</td>\n",
       "      <td>0.222513</td>\n",
       "      <td>1.000000</td>\n",
       "      <td>0.153347</td>\n",
       "      <td>0.165131</td>\n",
       "      <td>-0.054572</td>\n",
       "    </tr>\n",
       "    <tr>\n",
       "      <th>pay_amt5</th>\n",
       "      <td>0.218082</td>\n",
       "      <td>-0.044946</td>\n",
       "      <td>-0.000410</td>\n",
       "      <td>0.020541</td>\n",
       "      <td>-0.057021</td>\n",
       "      <td>0.163425</td>\n",
       "      <td>0.153851</td>\n",
       "      <td>0.159446</td>\n",
       "      <td>0.158633</td>\n",
       "      <td>0.140669</td>\n",
       "      <td>0.305627</td>\n",
       "      <td>0.154208</td>\n",
       "      <td>0.136844</td>\n",
       "      <td>0.158325</td>\n",
       "      <td>0.153347</td>\n",
       "      <td>1.000000</td>\n",
       "      <td>0.158727</td>\n",
       "      <td>-0.056651</td>\n",
       "    </tr>\n",
       "    <tr>\n",
       "      <th>pay_amt6</th>\n",
       "      <td>0.221305</td>\n",
       "      <td>-0.046859</td>\n",
       "      <td>-0.009461</td>\n",
       "      <td>0.021640</td>\n",
       "      <td>-0.061031</td>\n",
       "      <td>0.178943</td>\n",
       "      <td>0.172472</td>\n",
       "      <td>0.178121</td>\n",
       "      <td>0.171339</td>\n",
       "      <td>0.161847</td>\n",
       "      <td>0.117253</td>\n",
       "      <td>0.192774</td>\n",
       "      <td>0.164655</td>\n",
       "      <td>0.163026</td>\n",
       "      <td>0.165131</td>\n",
       "      <td>0.158727</td>\n",
       "      <td>1.000000</td>\n",
       "      <td>-0.054838</td>\n",
       "    </tr>\n",
       "    <tr>\n",
       "      <th>default_payment_next_month</th>\n",
       "      <td>-0.154423</td>\n",
       "      <td>0.034966</td>\n",
       "      <td>-0.026030</td>\n",
       "      <td>0.014334</td>\n",
       "      <td>0.325365</td>\n",
       "      <td>-0.020508</td>\n",
       "      <td>-0.014579</td>\n",
       "      <td>-0.014649</td>\n",
       "      <td>-0.011349</td>\n",
       "      <td>-0.006753</td>\n",
       "      <td>-0.006274</td>\n",
       "      <td>-0.072431</td>\n",
       "      <td>-0.061555</td>\n",
       "      <td>-0.058010</td>\n",
       "      <td>-0.054572</td>\n",
       "      <td>-0.056651</td>\n",
       "      <td>-0.054838</td>\n",
       "      <td>1.000000</td>\n",
       "    </tr>\n",
       "  </tbody>\n",
       "</table>\n",
       "</div>"
      ],
      "text/plain": [
       "                            limit_bal  education  marriage       age  \\\n",
       "limit_bal                    1.000000  -0.232688 -0.111873  0.149157   \n",
       "education                   -0.232688   1.000000 -0.137097  0.179035   \n",
       "marriage                    -0.111873  -0.137097  1.000000 -0.412828   \n",
       "age                          0.149157   0.179035 -0.412828  1.000000   \n",
       "pay_1                       -0.273396   0.112653  0.019759 -0.044277   \n",
       "bill_amt1                    0.287009   0.016156 -0.028610  0.056245   \n",
       "bill_amt2                    0.279289   0.012307 -0.026009  0.054099   \n",
       "bill_amt3                    0.285299   0.007683 -0.029192  0.054107   \n",
       "bill_amt4                    0.294342  -0.005862 -0.027740  0.051241   \n",
       "bill_amt5                    0.295198  -0.013174 -0.029895  0.049701   \n",
       "bill_amt6                    0.289818  -0.012670 -0.024414  0.047519   \n",
       "pay_amt1                     0.194820  -0.040092 -0.002951  0.025437   \n",
       "pay_amt2                     0.188049  -0.033610 -0.007548  0.025421   \n",
       "pay_amt3                     0.207638  -0.042349 -0.003408  0.029876   \n",
       "pay_amt4                     0.202795  -0.039319 -0.014387  0.025307   \n",
       "pay_amt5                     0.218082  -0.044946 -0.000410  0.020541   \n",
       "pay_amt6                     0.221305  -0.046859 -0.009461  0.021640   \n",
       "default_payment_next_month  -0.154423   0.034966 -0.026030  0.014334   \n",
       "\n",
       "                               pay_1  bill_amt1  bill_amt2  bill_amt3  \\\n",
       "limit_bal                  -0.273396   0.287009   0.279289   0.285299   \n",
       "education                   0.112653   0.016156   0.012307   0.007683   \n",
       "marriage                    0.019759  -0.028610  -0.026009  -0.029192   \n",
       "age                        -0.044277   0.056245   0.054099   0.054107   \n",
       "pay_1                       1.000000   0.185826   0.188799   0.181257   \n",
       "bill_amt1                   0.185826   1.000000   0.951651   0.900386   \n",
       "bill_amt2                   0.188799   0.951651   1.000000   0.937488   \n",
       "bill_amt3                   0.181257   0.900386   0.937488   1.000000   \n",
       "bill_amt4                   0.178812   0.860149   0.892103   0.930385   \n",
       "bill_amt5                   0.180438   0.828615   0.858078   0.889186   \n",
       "bill_amt6                   0.177486   0.802008   0.830300   0.855154   \n",
       "pay_amt1                   -0.081450   0.138221   0.276583   0.242809   \n",
       "pay_amt2                   -0.073295   0.112460   0.114473   0.287837   \n",
       "pay_amt3                   -0.072682   0.145635   0.137514   0.119456   \n",
       "pay_amt4                   -0.064112   0.160204   0.148685   0.141010   \n",
       "pay_amt5                   -0.057021   0.163425   0.153851   0.159446   \n",
       "pay_amt6                   -0.061031   0.178943   0.172472   0.178121   \n",
       "default_payment_next_month  0.325365  -0.020508  -0.014579  -0.014649   \n",
       "\n",
       "                            bill_amt4  bill_amt5  bill_amt6  pay_amt1  \\\n",
       "limit_bal                    0.294342   0.295198   0.289818  0.194820   \n",
       "education                   -0.005862  -0.013174  -0.012670 -0.040092   \n",
       "marriage                    -0.027740  -0.029895  -0.024414 -0.002951   \n",
       "age                          0.051241   0.049701   0.047519  0.025437   \n",
       "pay_1                        0.178812   0.180438   0.177486 -0.081450   \n",
       "bill_amt1                    0.860149   0.828615   0.802008  0.138221   \n",
       "bill_amt2                    0.892103   0.858078   0.830300  0.276583   \n",
       "bill_amt3                    0.930385   0.889186   0.855154  0.242809   \n",
       "bill_amt4                    1.000000   0.937799   0.899241  0.229123   \n",
       "bill_amt5                    0.937799   1.000000   0.945671  0.212053   \n",
       "bill_amt6                    0.899241   0.945671   1.000000  0.194316   \n",
       "pay_amt1                     0.229123   0.212053   0.194316  1.000000   \n",
       "pay_amt2                     0.217716   0.189566   0.167941  0.326951   \n",
       "pay_amt3                     0.293652   0.241291   0.219008  0.268781   \n",
       "pay_amt4                     0.131700   0.296192   0.251668  0.204178   \n",
       "pay_amt5                     0.158633   0.140669   0.305627  0.154208   \n",
       "pay_amt6                     0.171339   0.161847   0.117253  0.192774   \n",
       "default_payment_next_month  -0.011349  -0.006753  -0.006274 -0.072431   \n",
       "\n",
       "                            pay_amt2  pay_amt3  pay_amt4  pay_amt5  pay_amt6  \\\n",
       "limit_bal                   0.188049  0.207638  0.202795  0.218082  0.221305   \n",
       "education                  -0.033610 -0.042349 -0.039319 -0.044946 -0.046859   \n",
       "marriage                   -0.007548 -0.003408 -0.014387 -0.000410 -0.009461   \n",
       "age                         0.025421  0.029876  0.025307  0.020541  0.021640   \n",
       "pay_1                      -0.073295 -0.072682 -0.064112 -0.057021 -0.061031   \n",
       "bill_amt1                   0.112460  0.145635  0.160204  0.163425  0.178943   \n",
       "bill_amt2                   0.114473  0.137514  0.148685  0.153851  0.172472   \n",
       "bill_amt3                   0.287837  0.119456  0.141010  0.159446  0.178121   \n",
       "bill_amt4                   0.217716  0.293652  0.131700  0.158633  0.171339   \n",
       "bill_amt5                   0.189566  0.241291  0.296192  0.140669  0.161847   \n",
       "bill_amt6                   0.167941  0.219008  0.251668  0.305627  0.117253   \n",
       "pay_amt1                    0.326951  0.268781  0.204178  0.154208  0.192774   \n",
       "pay_amt2                    1.000000  0.265713  0.188660  0.136844  0.164655   \n",
       "pay_amt3                    0.265713  1.000000  0.222513  0.158325  0.163026   \n",
       "pay_amt4                    0.188660  0.222513  1.000000  0.153347  0.165131   \n",
       "pay_amt5                    0.136844  0.158325  0.153347  1.000000  0.158727   \n",
       "pay_amt6                    0.164655  0.163026  0.165131  0.158727  1.000000   \n",
       "default_payment_next_month -0.061555 -0.058010 -0.054572 -0.056651 -0.054838   \n",
       "\n",
       "                            default_payment_next_month  \n",
       "limit_bal                                    -0.154423  \n",
       "education                                     0.034966  \n",
       "marriage                                     -0.026030  \n",
       "age                                           0.014334  \n",
       "pay_1                                         0.325365  \n",
       "bill_amt1                                    -0.020508  \n",
       "bill_amt2                                    -0.014579  \n",
       "bill_amt3                                    -0.014649  \n",
       "bill_amt4                                    -0.011349  \n",
       "bill_amt5                                    -0.006753  \n",
       "bill_amt6                                    -0.006274  \n",
       "pay_amt1                                     -0.072431  \n",
       "pay_amt2                                     -0.061555  \n",
       "pay_amt3                                     -0.058010  \n",
       "pay_amt4                                     -0.054572  \n",
       "pay_amt5                                     -0.056651  \n",
       "pay_amt6                                     -0.054838  \n",
       "default_payment_next_month                    1.000000  "
      ]
     },
     "execution_count": 6,
     "metadata": {},
     "output_type": "execute_result"
    }
   ],
   "source": [
    "corr = df[features_response].corr()\n",
    "corr"
   ]
  },
  {
   "cell_type": "markdown",
   "metadata": {},
   "source": [
    "Plotting the correlation matrix using seaborn library:"
   ]
  },
  {
   "cell_type": "code",
   "execution_count": 7,
   "metadata": {},
   "outputs": [
    {
     "data": {
      "text/plain": [
       "<AxesSubplot:>"
      ]
     },
     "execution_count": 7,
     "metadata": {},
     "output_type": "execute_result"
    },
    {
     "data": {
      "image/png": "[encoded data removed]",
      "text/plain": [
       "<Figure size 576x432 with 2 Axes>"
      ]
     },
     "metadata": {
      "needs_background": "light"
     },
     "output_type": "display_data"
    }
   ],
   "source": [
    "plt.figure(figsize=(8,6))\n",
    "sns.heatmap(corr,\n",
    "            xticklabels=corr.columns.values,\n",
    "            yticklabels=corr.columns.values,\n",
    "            center=0)"
   ]
  },
  {
   "cell_type": "markdown",
   "metadata": {},
   "source": [
    "The correlation plot showed that the **pay_1** feature is probably the most strongly correlated feature with the *response variable*. It was possible to see that a number of features were highly correlated to each other, particularly the **bill_amt** features. Lastly, the **limit_bal** showed a negative correlation with the *response varible*."
   ]
  },
  {
   "cell_type": "markdown",
   "metadata": {},
   "source": [
    "### F-Test"
   ]
  },
  {
   "cell_type": "markdown",
   "metadata": {},
   "source": [
    "The F-test, more specifcally, the **ANOVA (analysis of variabce) F-test** is used when we have a categorical independent variable assuming a normally distributed interval dependent (response) variables. Therefore, this kind of test is more suitable for the binary response variable for the study case. The **ANOVA F-test** can be contrasted with the **regression F-test**.\n",
    "\n",
    "The formula for the one-way **ANOVA F-test** statistic is:\n",
    "\n",
    "> $F = \\frac{explained variance}{unexplained variance}$\n",
    "\n",
    "The *explained variance* is:\n",
    "\n",
    "> $\\sum_{i=1}^{K} n_{i}(\\bar{Y_{i}} - \\bar{Y})^{2} / (K-1)$\n",
    "\n",
    "Where $\\bar{Y_{i}}$ denotes the sample mean in the i-th group, $n_{i}$ is the number of observations in the i-th group, $\\bar{Y}$ denotes the overall mean of the data, and $K$ denotes the number of groups.\n",
    "\n",
    "THe *unexplained variance* is:\n",
    "\n",
    "> $\\sum_{i=1}^{K} \\sum_{j=1}^{n_{i}} (Y_{ij} - \\bar{Y_{i}}^{2}) / (N - K)$\n",
    "\n",
    "Where $Y_{ij}$ is the $j^{th}$ observation in the $i^{th}$ out of $K$ groups and $N$ is the sample size. The *F-statistic* follows hte *F-distribution* with degrees of freedom $d_{1} = K - 1$ and $d_{2} = N - K$ under the null hypothesis."
   ]
  },
  {
   "cell_type": "code",
   "execution_count": 8,
   "metadata": {},
   "outputs": [],
   "source": [
    "X = df[features_response].iloc[:, :-1].values\n",
    "y = df[features_response].iloc[:, -1].values\n",
    "\n",
    "[f_stat, f_p_value] = f_classif(X, y)"
   ]
  },
  {
   "cell_type": "code",
   "execution_count": 9,
   "metadata": {},
   "outputs": [
    {
     "data": {
      "text/html": [
       "<div>\n",
       "<style scoped>\n",
       "    .dataframe tbody tr th:only-of-type {\n",
       "        vertical-align: middle;\n",
       "    }\n",
       "\n",
       "    .dataframe tbody tr th {\n",
       "        vertical-align: top;\n",
       "    }\n",
       "\n",
       "    .dataframe thead th {\n",
       "        text-align: right;\n",
       "    }\n",
       "</style>\n",
       "<table border=\"1\" class=\"dataframe\">\n",
       "  <thead>\n",
       "    <tr style=\"text-align: right;\">\n",
       "      <th></th>\n",
       "      <th>Feature</th>\n",
       "      <th>F_statistic</th>\n",
       "      <th>p_value</th>\n",
       "    </tr>\n",
       "  </thead>\n",
       "  <tbody>\n",
       "    <tr>\n",
       "      <th>4</th>\n",
       "      <td>pay_1</td>\n",
       "      <td>3156.672300</td>\n",
       "      <td>0.000000e+00</td>\n",
       "    </tr>\n",
       "    <tr>\n",
       "      <th>0</th>\n",
       "      <td>limit_bal</td>\n",
       "      <td>651.324071</td>\n",
       "      <td>5.838366e-142</td>\n",
       "    </tr>\n",
       "    <tr>\n",
       "      <th>11</th>\n",
       "      <td>pay_amt1</td>\n",
       "      <td>140.612679</td>\n",
       "      <td>2.358354e-32</td>\n",
       "    </tr>\n",
       "    <tr>\n",
       "      <th>12</th>\n",
       "      <td>pay_amt2</td>\n",
       "      <td>101.408321</td>\n",
       "      <td>8.256124e-24</td>\n",
       "    </tr>\n",
       "    <tr>\n",
       "      <th>13</th>\n",
       "      <td>pay_amt3</td>\n",
       "      <td>90.023873</td>\n",
       "      <td>2.542641e-21</td>\n",
       "    </tr>\n",
       "    <tr>\n",
       "      <th>15</th>\n",
       "      <td>pay_amt5</td>\n",
       "      <td>85.843295</td>\n",
       "      <td>2.090120e-20</td>\n",
       "    </tr>\n",
       "    <tr>\n",
       "      <th>16</th>\n",
       "      <td>pay_amt6</td>\n",
       "      <td>80.420784</td>\n",
       "      <td>3.219565e-19</td>\n",
       "    </tr>\n",
       "    <tr>\n",
       "      <th>14</th>\n",
       "      <td>pay_amt4</td>\n",
       "      <td>79.640021</td>\n",
       "      <td>4.774112e-19</td>\n",
       "    </tr>\n",
       "    <tr>\n",
       "      <th>1</th>\n",
       "      <td>education</td>\n",
       "      <td>32.637768</td>\n",
       "      <td>1.122175e-08</td>\n",
       "    </tr>\n",
       "    <tr>\n",
       "      <th>2</th>\n",
       "      <td>marriage</td>\n",
       "      <td>18.078027</td>\n",
       "      <td>2.127555e-05</td>\n",
       "    </tr>\n",
       "    <tr>\n",
       "      <th>5</th>\n",
       "      <td>bill_amt1</td>\n",
       "      <td>11.218406</td>\n",
       "      <td>8.110226e-04</td>\n",
       "    </tr>\n",
       "    <tr>\n",
       "      <th>7</th>\n",
       "      <td>bill_amt3</td>\n",
       "      <td>5.722938</td>\n",
       "      <td>1.675157e-02</td>\n",
       "    </tr>\n",
       "    <tr>\n",
       "      <th>6</th>\n",
       "      <td>bill_amt2</td>\n",
       "      <td>5.668454</td>\n",
       "      <td>1.727965e-02</td>\n",
       "    </tr>\n",
       "    <tr>\n",
       "      <th>3</th>\n",
       "      <td>age</td>\n",
       "      <td>5.479140</td>\n",
       "      <td>1.925206e-02</td>\n",
       "    </tr>\n",
       "    <tr>\n",
       "      <th>8</th>\n",
       "      <td>bill_amt4</td>\n",
       "      <td>3.434740</td>\n",
       "      <td>6.384965e-02</td>\n",
       "    </tr>\n",
       "    <tr>\n",
       "      <th>9</th>\n",
       "      <td>bill_amt5</td>\n",
       "      <td>1.216082</td>\n",
       "      <td>2.701409e-01</td>\n",
       "    </tr>\n",
       "    <tr>\n",
       "      <th>10</th>\n",
       "      <td>bill_amt6</td>\n",
       "      <td>1.049561</td>\n",
       "      <td>3.056176e-01</td>\n",
       "    </tr>\n",
       "  </tbody>\n",
       "</table>\n",
       "</div>"
      ],
      "text/plain": [
       "      Feature  F_statistic        p_value\n",
       "4       pay_1  3156.672300   0.000000e+00\n",
       "0   limit_bal   651.324071  5.838366e-142\n",
       "11   pay_amt1   140.612679   2.358354e-32\n",
       "12   pay_amt2   101.408321   8.256124e-24\n",
       "13   pay_amt3    90.023873   2.542641e-21\n",
       "15   pay_amt5    85.843295   2.090120e-20\n",
       "16   pay_amt6    80.420784   3.219565e-19\n",
       "14   pay_amt4    79.640021   4.774112e-19\n",
       "1   education    32.637768   1.122175e-08\n",
       "2    marriage    18.078027   2.127555e-05\n",
       "5   bill_amt1    11.218406   8.110226e-04\n",
       "7   bill_amt3     5.722938   1.675157e-02\n",
       "6   bill_amt2     5.668454   1.727965e-02\n",
       "3         age     5.479140   1.925206e-02\n",
       "8   bill_amt4     3.434740   6.384965e-02\n",
       "9   bill_amt5     1.216082   2.701409e-01\n",
       "10  bill_amt6     1.049561   3.056176e-01"
      ]
     },
     "execution_count": 9,
     "metadata": {},
     "output_type": "execute_result"
    }
   ],
   "source": [
    "f_test_df = pd.DataFrame({'Feature': features_response[:-1],\n",
    "                          'F_statistic': f_stat,\n",
    "                          'p_value': f_p_value})\n",
    "f_test_df.sort_values('p_value')"
   ]
  },
  {
   "cell_type": "markdown",
   "metadata": {},
   "source": [
    "The output consists of F-statistics, as well as p-values. The p-value is a useful concept of statistical measures and in this context answers the following question: \"For the samples in the positive class, how likely is it that the average value of this feature is the same as that of samples in the negative class?\". If a feature has very different average values between the positive and negative classes, it will:\n",
    "\n",
    "- Be very unlikely that those average values are the same (low p-value)\n",
    "- Probabli be a good feature in our model beaxuse it will help use discriminate between positive and negative classes\n",
    "\n",
    "Note that for an increase in the p-value, there is also a decrease in the F-statistic value (the information in these two columns is essentially the same in terms of ranking features).\n",
    "\n",
    "Looking at the results, the **pay_1** and **limit_bal** appeared to be the most useful featues, capable to discriminate well the reponse variable. These two features showed the smallest p-values, indicating the average values of these features between the positive and negative classes are **significantly different**."
   ]
  },
  {
   "cell_type": "markdown",
   "metadata": {},
   "source": [
    "#### Univariate Feature Selection"
   ]
  },
  {
   "cell_type": "markdown",
   "metadata": {},
   "source": [
    "The F-test can help us select to select the the features that are most important when predicting an outcome, specially when there are a very large number of them (it is likely that many may be totally useless). For example, let's retreive the 20% features with the highest F-statistic using the *SelectPercentile* class (similar to the *SelectKBest* class):"
   ]
  },
  {
   "cell_type": "code",
   "execution_count": 10,
   "metadata": {},
   "outputs": [
    {
     "data": {
      "text/plain": [
       "SelectPercentile(percentile=20)"
      ]
     },
     "execution_count": 10,
     "metadata": {},
     "output_type": "execute_result"
    }
   ],
   "source": [
    "selector = SelectPercentile(f_classif, percentile=20)\n",
    "selector.fit(X, y)"
   ]
  },
  {
   "cell_type": "code",
   "execution_count": 11,
   "metadata": {},
   "outputs": [
    {
     "data": {
      "text/plain": [
       "['limit_bal', 'pay_1', 'pay_amt1', 'pay_amt2']"
      ]
     },
     "execution_count": 11,
     "metadata": {},
     "output_type": "execute_result"
    }
   ],
   "source": [
    "best_features_ix = selector.get_support()\n",
    "best_features = [features_response[:-1][counter] \n",
    "                     for counter in range(len(features_response[:-1]))\n",
    "                       if best_features_ix[counter]]\n",
    "best_features"
   ]
  },
  {
   "cell_type": "markdown",
   "metadata": {},
   "source": [
    "#### Word of Caution"
   ]
  },
  {
   "cell_type": "markdown",
   "metadata": {},
   "source": [
    "The F-test is usually usefull for multiclass clasification (here in this example, the F-test was reduced to a t-test because it only explores two different groups) and assumes that the data is **normally distributed**. This this wasn't checked. Another concern is that comparing the same response **y** to many potential features from the matrix **X**, a **multiple comparison** was done, and this may lead to incorrectness of what was told to be the \"good feature\". Therefore, the odds were increased when selecting them just by random chance, and they may not generalize well to new data. \n",
    "\n",
    "In short, there are statistical **corretions for multiple comparisons** that amount to adjusting the p-values found previously."
   ]
  },
  {
   "cell_type": "markdown",
   "metadata": {},
   "source": [
    "### Hipotheses and Next Steps"
   ]
  },
  {
   "cell_type": "markdown",
   "metadata": {},
   "source": [
    "The **pay_1** is the payment status of the account, in the most recent month. Positive integers values indicate a dealy of payment by that many months, 0 means at least the minimum payment was made, -1 means balace paid in full and -2 means no account usage. This feature captures historical values of the response variable and are the strongest association with the response variable (the best predictor is this one, the **pay_1** is the historical data on the same thing that we are trying to predict). Thus, the following make sense: people who defaulted before are probably at the highest risk of defaulting again.\n",
    "\n",
    "The second feature that influences a default in the next month is **limit_bal**. Thinking about how credit limits are assigned, it is likely that those ids that have lower limits are riskier in defaulting the next payment. So, we may expect to see a higher probability of default for accounts with lower values of **limit_bal**.\n",
    "\n",
    "Let's explore the response variable and thse two in detail. Let's start with **pay_1**:"
   ]
  },
  {
   "cell_type": "code",
   "execution_count": 12,
   "metadata": {},
   "outputs": [
    {
     "data": {
      "text/plain": [
       "0.2217971797179718"
      ]
     },
     "execution_count": 12,
     "metadata": {},
     "output_type": "execute_result"
    }
   ],
   "source": [
    "overall_default_rate = df.default_payment_next_month.mean()\n",
    "overall_default_rate"
   ]
  },
  {
   "cell_type": "code",
   "execution_count": 13,
   "metadata": {},
   "outputs": [
    {
     "data": {
      "text/html": [
       "<div>\n",
       "<style scoped>\n",
       "    .dataframe tbody tr th:only-of-type {\n",
       "        vertical-align: middle;\n",
       "    }\n",
       "\n",
       "    .dataframe tbody tr th {\n",
       "        vertical-align: top;\n",
       "    }\n",
       "\n",
       "    .dataframe thead th {\n",
       "        text-align: right;\n",
       "    }\n",
       "</style>\n",
       "<table border=\"1\" class=\"dataframe\">\n",
       "  <thead>\n",
       "    <tr style=\"text-align: right;\">\n",
       "      <th></th>\n",
       "      <th>default_payment_next_month</th>\n",
       "    </tr>\n",
       "    <tr>\n",
       "      <th>pay_1</th>\n",
       "      <th></th>\n",
       "    </tr>\n",
       "  </thead>\n",
       "  <tbody>\n",
       "    <tr>\n",
       "      <th>-2</th>\n",
       "      <td>0.131664</td>\n",
       "    </tr>\n",
       "    <tr>\n",
       "      <th>-1</th>\n",
       "      <td>0.170002</td>\n",
       "    </tr>\n",
       "    <tr>\n",
       "      <th>0</th>\n",
       "      <td>0.128295</td>\n",
       "    </tr>\n",
       "    <tr>\n",
       "      <th>1</th>\n",
       "      <td>0.336400</td>\n",
       "    </tr>\n",
       "    <tr>\n",
       "      <th>2</th>\n",
       "      <td>0.694701</td>\n",
       "    </tr>\n",
       "    <tr>\n",
       "      <th>3</th>\n",
       "      <td>0.773973</td>\n",
       "    </tr>\n",
       "    <tr>\n",
       "      <th>4</th>\n",
       "      <td>0.682540</td>\n",
       "    </tr>\n",
       "    <tr>\n",
       "      <th>5</th>\n",
       "      <td>0.434783</td>\n",
       "    </tr>\n",
       "    <tr>\n",
       "      <th>6</th>\n",
       "      <td>0.545455</td>\n",
       "    </tr>\n",
       "    <tr>\n",
       "      <th>7</th>\n",
       "      <td>0.777778</td>\n",
       "    </tr>\n",
       "    <tr>\n",
       "      <th>8</th>\n",
       "      <td>0.588235</td>\n",
       "    </tr>\n",
       "  </tbody>\n",
       "</table>\n",
       "</div>"
      ],
      "text/plain": [
       "       default_payment_next_month\n",
       "pay_1                            \n",
       "-2                       0.131664\n",
       "-1                       0.170002\n",
       " 0                       0.128295\n",
       " 1                       0.336400\n",
       " 2                       0.694701\n",
       " 3                       0.773973\n",
       " 4                       0.682540\n",
       " 5                       0.434783\n",
       " 6                       0.545455\n",
       " 7                       0.777778\n",
       " 8                       0.588235"
      ]
     },
     "execution_count": 13,
     "metadata": {},
     "output_type": "execute_result"
    }
   ],
   "source": [
    "group_by_pay_mean_y = df.groupby('pay_1').agg({'default_payment_next_month': np.mean})\n",
    "group_by_pay_mean_y"
   ]
  },
  {
   "cell_type": "markdown",
   "metadata": {},
   "source": [
    "Let's visualize this distribution:"
   ]
  },
  {
   "cell_type": "code",
   "execution_count": 14,
   "metadata": {},
   "outputs": [
    {
     "data": {
      "text/plain": [
       "<matplotlib.legend.Legend at 0x7f93ec84da90>"
      ]
     },
     "execution_count": 14,
     "metadata": {},
     "output_type": "execute_result"
    },
    {
     "data": {
      "image/png": "[encoded data removed]",
      "text/plain": [
       "<Figure size 432x288 with 1 Axes>"
      ]
     },
     "metadata": {
      "needs_background": "light"
     },
     "output_type": "display_data"
    }
   ],
   "source": [
    "axes = plt.axes()\n",
    "axes.axhline(overall_default_rate, color='red')\n",
    "group_by_pay_mean_y.plot(marker='x', legend=False, ax=axes)\n",
    "axes.set_ylabel('Proportion of credit defaults')\n",
    "axes.legend(['Entire data set', 'Group of pay_1'])"
   ]
  },
  {
   "cell_type": "markdown",
   "metadata": {},
   "source": [
    "The pattern is clear (and probably expected). Those who defaulted before are more likelly to default again. The default rate of accounts in good standing (-2, -1 and 0) were well below the overall defaul rate, which had a mean of 22%. However, at least 30% of the accounts that were in default last month defaulted again in the next month.\n",
    "\n",
    "Let's look at the **limit_bal**:"
   ]
  },
  {
   "cell_type": "code",
   "execution_count": 15,
   "metadata": {},
   "outputs": [
    {
     "data": {
      "text/plain": [
       "Text(0.5, 1.0, 'Credit Limit by Response variable')"
      ]
     },
     "execution_count": 15,
     "metadata": {},
     "output_type": "execute_result"
    },
    {
     "data": {
      "image/png": "[encoded data removed]",
      "text/plain": [
       "<Figure size 432x288 with 1 Axes>"
      ]
     },
     "metadata": {
      "needs_background": "light"
     },
     "output_type": "display_data"
    }
   ],
   "source": [
    "pos_mask = y == 1\n",
    "neg_mask = y == 0\n",
    "\n",
    "axes = plt.axes()\n",
    "axes.hist(df.loc[neg_mask, 'limit_bal'], alpha=0.5, color='b')\n",
    "axes.hist(df.loc[pos_mask, 'limit_bal'], alpha=0.5, color='r')\n",
    "axes.tick_params(axis='x', labelrotation=45)\n",
    "axes.set_ylabel('Number of accounts')\n",
    "axes.set_xlabel('Credit Limit (TN$)')\n",
    "axes.legend(['Not Defaulted', 'Defaulted'])\n",
    "axes.set_title('Credit Limit by Response variable')"
   ]
  },
  {
   "cell_type": "markdown",
   "metadata": {},
   "source": [
    "This histogram is not very informative, it just says that the number of defaults is higher for accounts with lower credit limits (as was already stated). Besides, it shows that accounts with lower limits is the majority in the sample (this was already known too). Let's normalize this distribution in order to analyze the proportions of default for each limit credit value (also known as **probability mass function**). Besides, let's raise the number of bins to capture some values between the thousands:"
   ]
  },
  {
   "cell_type": "code",
   "execution_count": 16,
   "metadata": {},
   "outputs": [
    {
     "name": "stderr",
     "output_type": "stream",
     "text": [
      "<ipython-input-16-5a8613f95537>:10: UserWarning: FixedFormatter should only be used together with FixedLocator\n",
      "  axes.set_yticklabels(np.round(y_ticks*50000, 2))\n"
     ]
    },
    {
     "data": {
      "text/plain": [
       "Text(0.5, 1.0, 'Normalized distributions of credit limits by response variable')"
      ]
     },
     "execution_count": 16,
     "metadata": {},
     "output_type": "execute_result"
    },
    {
     "data": {
      "image/png": "[encoded data removed]",
      "text/plain": [
       "<Figure size 432x288 with 1 Axes>"
      ]
     },
     "metadata": {
      "needs_background": "light"
     },
     "output_type": "display_data"
    }
   ],
   "source": [
    "bin_edges = list(range(0, df.limit_bal.max() + 50000, 50000))\n",
    "\n",
    "axes = plt.axes()\n",
    "axes.hist(df.loc[neg_mask, 'limit_bal'], bins=bin_edges, alpha=0.5, density=True, color='blue')\n",
    "axes.hist(df.loc[pos_mask, 'limit_bal'], bins=bin_edges, alpha=0.5, density=True, color='red')\n",
    "axes.tick_params(axis='x', labelrotation=45)\n",
    "axes.set_ylabel('Proportion of Accounts')\n",
    "axes.set_xlabel('Credit Limit (NT$)')\n",
    "y_ticks = axes.get_yticks()\n",
    "axes.set_yticklabels(np.round(y_ticks*50000, 2))\n",
    "axes.legend(['Not Defaulted', 'Defaulted'])\n",
    "axes.set_title('Normalized distributions of credit limits by response variable')"
   ]
  },
  {
   "cell_type": "markdown",
   "metadata": {},
   "source": [
    "From the above figure it was possible to see that the accounts that defaulted had lower credit limits. More or less 60% of the accounts that defaulted had a cred limit less than NT$ 150,000.00, being the high proportion in defaults. The previous hypothesis that the accounts with lower credit limit were likelier to default is sustained and evidenced by the distribution."
   ]
  },
  {
   "cell_type": "markdown",
   "metadata": {},
   "source": [
    "#### Word of Caution\n",
    "\n",
    "When searching for features that have good predictive power using univariate selection, we are not considering the **interactions** between features (we are just looking at this independent variable alone). Also, the methods used so far only show linear effects and didn't use any kind of **transformation** to the variables. Such **transformations** as a **polynomial**, **logarithmic** or **binnig** can show relationships that are not linear. \n",
    "\n",
    "Interactions and transformations are examples of **feature engineering**, as well as creating new features."
   ]
  },
  {
   "cell_type": "markdown",
   "metadata": {},
   "source": [
    "### Understanding Logistic Regression and the Sigmoid Function"
   ]
  },
  {
   "cell_type": "markdown",
   "metadata": {},
   "source": [
    "The mathematical function under the logistic regression is called **sigmoid** (also known as **logistic function**) and can be defined as:\n",
    "\n",
    "> $f(X) = sigmoid(X) = \\frac{1}{1 + e^{-X}}$\n",
    "\n",
    "Let's plot the Sigmoid Function and understand its distribution:"
   ]
  },
  {
   "cell_type": "code",
   "execution_count": 17,
   "metadata": {},
   "outputs": [
    {
     "data": {
      "text/plain": [
       "Text(0.5, 1.0, 'The Sigmoid Function')"
      ]
     },
     "execution_count": 17,
     "metadata": {},
     "output_type": "execute_result"
    },
    {
     "data": {
      "image/png": "[encoded data removed]",
      "text/plain": [
       "<Figure size 432x288 with 1 Axes>"
      ]
     },
     "metadata": {
      "needs_background": "light"
     },
     "output_type": "display_data"
    }
   ],
   "source": [
    "def sigmoid(X):\n",
    "    \"\"\"Calculates the sigmoid value of an input array with numpy.\"\"\"\n",
    "    Y = 1 / (1 + np.exp(-X))\n",
    "    return Y\n",
    "\n",
    "X_sig = np.linspace(-7, 7, 141)\n",
    "Y_sig = sigmoid(X_sig)\n",
    "\n",
    "plt.plot(X_sig, Y_sig)\n",
    "plt.yticks(np.linspace(0, 1, 11))\n",
    "plt.ylabel('f(x)     ', rotation=0)\n",
    "plt.xlabel('x')\n",
    "plt.grid()\n",
    "plt.title('The Sigmoid Function')"
   ]
  },
  {
   "cell_type": "markdown",
   "metadata": {},
   "source": [
    "The **sigmoid fuction** have the following behaviour. When the *x* value is very small, the denominator $1 + e^{-x}$ becomes very large and the image *f(x)* approaches 0. When the *x* value is too large the denominator $1 + e^{-X}$ becomes very close to 1 and the resultant fraction, *f(x)* aproaches 1. Therefore, the intuiton is that the **sigmoid function** stays between 0 and 1. The **sigmoid(0)** equals 0.5, because the denominator $1 + e^{-x}$ equals 2.\n",
    "\n",
    "The importance of a **sigmoid funcion** is that the output is strictly bounded between 0 and 1, being practical into predicting probabilities in the range of 0 and 1."
   ]
  },
  {
   "cell_type": "markdown",
   "metadata": {},
   "source": [
    "#### Why is Logistic Regression considered a Linear Model?"
   ]
  },
  {
   "cell_type": "markdown",
   "metadata": {},
   "source": [
    "A model is considered linear if the transformation of features that is used to calculate the prediction is a **linear combination** of the features. For example, in a simple model with two features, $X_{1}$ and $X_{2}$, a linear combination of these two variables take the form:\n",
    "\n",
    "> $\\theta_{0} + \\theta_{1}X_{1} + \\theta_{2}X_{2}$\n",
    "\n",
    "Where the constants $\\theta_{i}$ can be any number in a Field $\\mathbb{F}$ (generally in the Reals $\\mathbb{R}$).\n",
    "\n",
    "Linear transformations do \"not allow\":\n",
    "\n",
    "- Multiplying a feature by itself ($X_{1}^{2}$, which is called a polynomial term);\n",
    "- Multiplying features together ($X_{1}X_{2}$, which is calles interactions);\n",
    "- Applying non-linear transformations to the features such as $\\log_{10}(X_{1})$ or $\\sqrt{X_{2}}$.\n",
    "- Other complex mathematical functions or \"if then\" type of statements such as \"if $X_{1} \\gt a$, then $y = b$\"\n",
    "\n",
    "Though the **sigmoid function** is clearly non-linear, a formulation of the sigmoid equation characterizes it as a linear. Such formulation is called **logit** and is solved by finding the inverse of the **sigmoid function**. Let's call the *p*, the probability of observing the positive class, the sigmoid value, then, solving for *X* we have:\n",
    "\n",
    "> $p = \\frac{1}{1 + e^{-X}} \\Rightarrow$\n",
    "\n",
    "> $1 + e^{-X} = \\frac{1}{p} \\Rightarrow$\n",
    "\n",
    "> $e^{-X} = \\frac{1}{p} - 1 = \\frac{1 - p}{p}$\n",
    "\n",
    "Then, applying the law of exponents we have:\n",
    "\n",
    "> $\\Rightarrow e^{X} = \\frac{p}{1-p}$\n",
    "\n",
    "And the law of logs:\n",
    "\n",
    "> $\\Rightarrow X = \\log(\\frac{p}{1-p}) = \\log(\\frac{p}{q})$\n",
    "\n",
    "Where $q$ is the **probability of failure** and is expressed in terms of the **probability of success**, $p: q = 1 - p$. Such that the default of a payment is framed as a positive outcome and a \"success\" for the mathematical model. The **logit** function is also called the **log odds**, because it is the natural logarithm of the **odds ratio**, $\\frac{p}{q}$."
   ]
  },
  {
   "cell_type": "markdown",
   "metadata": {},
   "source": [
    "Generally speaking, the capital *X* in the previous manipulations can stand for any linear combination of all features in a model, such as:\n",
    "\n",
    "> $X = \\theta_{0} + \\theta_{1}X_{1} + ... + \\theta_{j}X_{j}$\n",
    "\n",
    "Then, the **sigmoid function** is expressed as the following:\n",
    "\n",
    "> $p = \\frac{1}{1 + e^{-(\\theta_{0} + \\theta_{1}X_{1} + ... + \\theta_{j}X_{j})}}$\n",
    "\n",
    "And thus, any feature included in *X* only subjects to a linear combination of the other variables when the response variable is considered to be the **log odds**. \n",
    "\n",
    "> $\\theta_{0} + \\theta_{1}X_{1} + ... + \\theta_{j}X_{j} = \\log(\\frac{p}{q})$\n",
    "\n",
    "Therefore, because of this way of looking at logistic regression, ideally the features of logistic regression model would be **linear in the log odds** of the response variable. This is why the Logistic regression is considered to be a linear model."
   ]
  },
  {
   "cell_type": "markdown",
   "metadata": {},
   "source": [
    "### Examining the Log Odds for pay_1 feature"
   ]
  },
  {
   "cell_type": "markdown",
   "metadata": {},
   "source": [
    "Let's examine the log odds of default payment for various grups encountered in the **pay_1** feature. Let's first extract the probabilities of success and failure for each group:"
   ]
  },
  {
   "cell_type": "code",
   "execution_count": 18,
   "metadata": {},
   "outputs": [
    {
     "name": "stdout",
     "output_type": "stream",
     "text": [
      "[0.13166397 0.17000198 0.12829525 0.33639988 0.69470143 0.7739726\n",
      " 0.68253968 0.43478261 0.54545455 0.77777778 0.58823529]\n",
      "[0.86833603 0.82999802 0.87170475 0.66360012 0.30529857 0.2260274\n",
      " 0.31746032 0.56521739 0.45454545 0.22222222 0.41176471]\n"
     ]
    }
   ],
   "source": [
    "p = group_by_pay_mean_y.default_payment_next_month.values\n",
    "q = 1 - p\n",
    "\n",
    "print(p)\n",
    "print(q)"
   ]
  },
  {
   "cell_type": "markdown",
   "metadata": {},
   "source": [
    "Let's calculate the odds ratio and their logs:"
   ]
  },
  {
   "cell_type": "code",
   "execution_count": 19,
   "metadata": {},
   "outputs": [
    {
     "data": {
      "text/plain": [
       "array([0.15162791, 0.20482215, 0.14717742, 0.50693161, 2.27548209,\n",
       "       3.42424242, 2.15      , 0.76923077, 1.2       , 3.5       ,\n",
       "       1.42857143])"
      ]
     },
     "execution_count": 19,
     "metadata": {},
     "output_type": "execute_result"
    }
   ],
   "source": [
    "odds_ratio = p/q\n",
    "odds_ratio"
   ]
  },
  {
   "cell_type": "code",
   "execution_count": 20,
   "metadata": {},
   "outputs": [
    {
     "data": {
      "text/plain": [
       "array([-1.88632574, -1.58561322, -1.91611649, -0.67937918,  0.82219194,\n",
       "        1.23088026,  0.76546784, -0.26236426,  0.18232156,  1.25276297,\n",
       "        0.35667494])"
      ]
     },
     "execution_count": 20,
     "metadata": {},
     "output_type": "execute_result"
    }
   ],
   "source": [
    "log_odds_ratio = np.log(odds_ratio)\n",
    "log_odds_ratio"
   ]
  },
  {
   "cell_type": "markdown",
   "metadata": {},
   "source": [
    "Let's extract now the indexes for each group and plot the results:"
   ]
  },
  {
   "cell_type": "code",
   "execution_count": 21,
   "metadata": {},
   "outputs": [
    {
     "data": {
      "text/plain": [
       "Text(0.5, 0, 'Values of pay_1')"
      ]
     },
     "execution_count": 21,
     "metadata": {},
     "output_type": "execute_result"
    },
    {
     "data": {
      "image/png": "[encoded data removed]",
      "text/plain": [
       "<Figure size 432x288 with 1 Axes>"
      ]
     },
     "metadata": {
      "needs_background": "light"
     },
     "output_type": "display_data"
    }
   ],
   "source": [
    "plt.plot(group_by_pay_mean_y.index, log_odds_ratio, '-x')\n",
    "plt.ylabel('Log odds of default')\n",
    "plt.xlabel('Values of pay_1')"
   ]
  },
  {
   "cell_type": "markdown",
   "metadata": {},
   "source": [
    "It is possible to see from the previous figure that the relationship between the log odds of the response variable **pay_1** is not all that different from the relationship of the rate of default previously plotted. However, this plot shows exactly what is assumed to be linear in terms of logistic regression."
   ]
  },
  {
   "cell_type": "markdown",
   "metadata": {},
   "source": [
    "### Logistic Regression Prediction and Feature Space Decision Boundary"
   ]
  },
  {
   "cell_type": "markdown",
   "metadata": {},
   "source": [
    "Let's assume that our model will have only two features, $X_{1}$ and $X_{2}$, and that we will use a Logistic Regression model to predict an outcome. Under these circunstances, we can write that the model as:\n",
    "\n",
    "> $p = \\frac{1}{1 + e^{-X}}$\n",
    "\n",
    "Substituting the *X* as the linear combination of the two features, we have:\n",
    "\n",
    "> $p = \\frac{1}{1 + e^{-(\\theta_{0} + \\theta_{1}X_{1} + \\theta_{2}X_{2})}}$\n",
    "\n",
    "Assuming we are using a default threshold, then if $p >= 0.5$ the model will classify the record as a default payment, and negative otherwise. In other words, we can say the following:\n",
    "\n",
    "$$\\begin{equation}\n",
    "p \\text{ }\\left\\{ \n",
    "  \\begin{aligned}\n",
    "    &\\ge 0.5, \\text{ if }\\theta_{0}\\,+ \\theta_{1}\\,X_{1}\\,+ \\theta_{2}\\,X_{2} \\ge 0 \\\\\n",
    "    &\\lt 0.5, \\text{ otherwise} \\\\\n",
    "  \\end{aligned}\n",
    "  \\right.\n",
    "\\end{equation}\n",
    "$$\n",
    "\n",
    "\n",
    "And we can calculate a linear condition for positive prediction in terms of the features $X_{1}$ and $X_{2}$, using the coefficients and intercept. Solving the inequality for positive prediction:\n",
    "\n",
    ">$X \\ge 0 \\text{ for } X= \\theta_{0} + \\theta_{1}X_{1} + \\theta_{2}X_{2}$\n",
    "\n",
    "We obtain a linear inequality similar to a linear equation in $y = mx + b$:\n",
    "\n",
    ">$X_{2} \\ge -(\\frac{\\theta_{1}}{\\theta_{2}})X_{1} - (\\frac{\\theta_{0}}{\\theta_{2}})$\n",
    "\n",
    "That help to understand the linear boundary of logistic regression in the $X_{1}$ and $X_{2}$ **feature space**.\n"
   ]
  },
  {
   "cell_type": "markdown",
   "metadata": {},
   "source": [
    "#### Training a Logistic Regression using the two most important features"
   ]
  },
  {
   "cell_type": "markdown",
   "metadata": {},
   "source": [
    "Let's use the two most predictable features that resulted from the univariate feature exploration and analyzed their features space. Let's first divide the samples into train and test splits and then train the model:"
   ]
  },
  {
   "cell_type": "code",
   "execution_count": 22,
   "metadata": {},
   "outputs": [
    {
     "name": "stdout",
     "output_type": "stream",
     "text": [
      "(21331, 2)\n",
      "(5333, 2)\n"
     ]
    }
   ],
   "source": [
    "X_train, X_test, y_train, y_test = train_test_split(\n",
    "    df[['pay_1', 'limit_bal']],\n",
    "    df.default_payment_next_month,\n",
    "    test_size=0.2,\n",
    "    random_state=24)\n",
    "\n",
    "print(X_train.shape)\n",
    "print(X_test.shape)"
   ]
  },
  {
   "cell_type": "code",
   "execution_count": 23,
   "metadata": {},
   "outputs": [
    {
     "data": {
      "text/plain": [
       "LogisticRegression(solver='liblinear')"
      ]
     },
     "execution_count": 23,
     "metadata": {},
     "output_type": "execute_result"
    }
   ],
   "source": [
    "model = LogisticRegression(solver='liblinear')\n",
    "model.fit(X_train, y_train)"
   ]
  },
  {
   "cell_type": "markdown",
   "metadata": {},
   "source": [
    "Let's predict the labels:"
   ]
  },
  {
   "cell_type": "code",
   "execution_count": 24,
   "metadata": {},
   "outputs": [
    {
     "name": "stdout",
     "output_type": "stream",
     "text": [
      "[[ 8.27451187e-11 -6.80876727e-06]] [-6.57647457e-11]\n"
     ]
    }
   ],
   "source": [
    "y_pred = model.predict(X_test)\n",
    "y_pred_proba = model.predict_proba(X_test)\n",
    "\n",
    "print(model.coef_, model.intercept_)"
   ]
  },
  {
   "cell_type": "markdown",
   "metadata": {},
   "source": [
    "Let's concatenate all the coeficients and the intercept that was calculated by the sklearn Logistic Regression:"
   ]
  },
  {
   "cell_type": "code",
   "execution_count": 25,
   "metadata": {},
   "outputs": [
    {
     "data": {
      "text/plain": [
       "array([[-6.57647457e-11,  8.27451187e-11, -6.80876727e-06]])"
      ]
     },
     "execution_count": 25,
     "metadata": {},
     "output_type": "execute_result"
    }
   ],
   "source": [
    "intercept_and_coefs = np.concatenate([model.intercept_.reshape(1,1), model.coef_], axis=1)\n",
    "intercept_and_coefs"
   ]
  },
  {
   "cell_type": "markdown",
   "metadata": {},
   "source": [
    "Let's pull from the trained model the coeficients and the intercept. Let's also create two masks that contain the true positive and true negative samples:"
   ]
  },
  {
   "cell_type": "code",
   "execution_count": 26,
   "metadata": {},
   "outputs": [],
   "source": [
    "theta_0 = intercept_and_coefs[0][0]\n",
    "theta_1 = intercept_and_coefs[0][1]\n",
    "theta_2 = intercept_and_coefs[0][2]\n",
    "\n",
    "X_1_decision_boundary = np.array([X_test.limit_bal.min(), X_test.limit_bal.max()])\n",
    "X_2_decision_boundary = -(theta_1/theta_2) * X_1_decision_boundary - (theta_0/theta_2)\n",
    "\n",
    "pos_true = df.default_payment_next_month == 1\n",
    "neg_true = df.default_payment_next_month == 0"
   ]
  },
  {
   "cell_type": "markdown",
   "metadata": {},
   "source": [
    "Let's plot the training samples with the decision boundary to see how the line separeted the samples: "
   ]
  },
  {
   "cell_type": "code",
   "execution_count": 27,
   "metadata": {},
   "outputs": [
    {
     "data": {
      "text/plain": [
       "<matplotlib.legend.Legend at 0x7f93ec597f10>"
      ]
     },
     "execution_count": 27,
     "metadata": {},
     "output_type": "execute_result"
    },
    {
     "data": {
      "image/png": "[encoded data removed]",
      "text/plain": [
       "<Figure size 432x288 with 1 Axes>"
      ]
     },
     "metadata": {
      "needs_background": "light"
     },
     "output_type": "display_data"
    }
   ],
   "source": [
    "plt.plot(X_1_decision_boundary, X_2_decision_boundary, color='black')\n",
    "plt.scatter(X_train.loc[neg_true, 'limit_bal'], X_train.loc[neg_true, 'pay_1'], color='blue', s=8, alpha=0.3)\n",
    "plt.scatter(X_train.loc[pos_true, 'limit_bal'], X_train.loc[pos_true, 'pay_1'], color='red', s=8, alpha=0.3)\n",
    "plt.ylabel('$X_2$ (pay_1)')\n",
    "plt.xlabel('$X_1$ (limit_bal)')\n",
    "plt.legend(['Decision Boundary', 'Not Defauted', 'Defaulted'])"
   ]
  },
  {
   "cell_type": "markdown",
   "metadata": {},
   "source": [
    "From the figure above it is possible to see that the decision boundary couldn't discriminate well these two variables into positive and negative classes. Besides, it is already possible to say that the model will not perform very well as it struggled to find a clear boundary between the **limit_bal** and **pay_1** features.\n",
    "\n",
    "Let's calculate the ROC AUC for the training data:"
   ]
  },
  {
   "cell_type": "code",
   "execution_count": 28,
   "metadata": {},
   "outputs": [
    {
     "data": {
      "text/plain": [
       "0.6258817344546864"
      ]
     },
     "execution_count": 28,
     "metadata": {},
     "output_type": "execute_result"
    }
   ],
   "source": [
    "y_train_proba = model.predict_proba(X_train)\n",
    "metrics.roc_auc_score(y_train, y_train_proba[:, 1])"
   ]
  },
  {
   "cell_type": "markdown",
   "metadata": {},
   "source": [
    "The ROC AUC score showed that only 62% of the training data was classified correctly. This information, combined with the decision boundary plot, evidences that the model will not perform much better than this into the test set.\n",
    "\n",
    "Let's see. The next figure plots the decision boundary for the test set:"
   ]
  },
  {
   "cell_type": "code",
   "execution_count": 29,
   "metadata": {},
   "outputs": [
    {
     "data": {
      "text/plain": [
       "<matplotlib.legend.Legend at 0x7f93ec4d78b0>"
      ]
     },
     "execution_count": 29,
     "metadata": {},
     "output_type": "execute_result"
    },
    {
     "data": {
      "image/png": "[encoded data removed]",
      "text/plain": [
       "<Figure size 432x288 with 1 Axes>"
      ]
     },
     "metadata": {
      "needs_background": "light"
     },
     "output_type": "display_data"
    }
   ],
   "source": [
    "plt.plot(X_1_decision_boundary, X_2_decision_boundary, color='black')\n",
    "plt.scatter(X_test.limit_bal.loc[neg_true], X_test.pay_1.loc[neg_true], color='blue', s=8, alpha=0.3)\n",
    "plt.scatter(X_test.limit_bal.loc[pos_true], X_test.pay_1.loc[pos_true], color='red', s=8, alpha=0.3)\n",
    "plt.ylabel('$X_2$ (pay_1)')\n",
    "plt.xlabel('$X_1$ (limit_bal)')\n",
    "plt.legend(['Decision Boundary', 'Not Defauted', 'Defaulted'])"
   ]
  },
  {
   "cell_type": "markdown",
   "metadata": {},
   "source": [
    "As it was expected for the test set, the decision boundary didn't discrimitate well the features into the possible classes. The same observations for the training set can be applied to the test set."
   ]
  },
  {
   "cell_type": "markdown",
   "metadata": {},
   "source": [
    "#### Using the intercept and the coefficients to estimate the logistic regression model"
   ]
  },
  {
   "cell_type": "markdown",
   "metadata": {},
   "source": [
    "Let's use the coefficients and the intercept to estimate how the model performed. First, let's create an array of features, with a column of 1s added using horizontal stacking. This will create a n by 3, being the first column of ones and the others with the **limit_bal** and **pay_1** features:"
   ]
  },
  {
   "cell_type": "code",
   "execution_count": 30,
   "metadata": {},
   "outputs": [
    {
     "data": {
      "text/plain": [
       "array([[ 1.0e+00,  2.0e+00,  1.6e+05],\n",
       "       [ 1.0e+00,  1.0e+00,  5.0e+04],\n",
       "       [ 1.0e+00, -1.0e+00,  2.0e+05],\n",
       "       ...,\n",
       "       [ 1.0e+00, -1.0e+00,  5.0e+04],\n",
       "       [ 1.0e+00,  1.0e+00,  2.3e+05],\n",
       "       [ 1.0e+00,  2.0e+00,  1.0e+05]])"
      ]
     },
     "execution_count": 30,
     "metadata": {},
     "output_type": "execute_result"
    }
   ],
   "source": [
    "ones_and_features = np.hstack([np.ones((X_test.shape[0], 1)), np.array(X_test)])\n",
    "ones_and_features"
   ]
  },
  {
   "cell_type": "markdown",
   "metadata": {},
   "source": [
    "Now the following lines will repeatedly multiply the intercept and coefficients by all the rows of **ones_and_features** and take the sum of each row. This is nothing more than calculating the **linear combination** of the features we want to use. Let's do this using the mathematical concept of **dot product**: "
   ]
  },
  {
   "cell_type": "code",
   "execution_count": 31,
   "metadata": {},
   "outputs": [
    {
     "data": {
      "text/plain": [
       "array([[-1.08940276, -0.34043836, -1.36175345, ..., -0.34043836,\n",
       "        -1.56601647, -0.68087673]])"
      ]
     },
     "execution_count": 31,
     "metadata": {},
     "output_type": "execute_result"
    }
   ],
   "source": [
    "X_lin_comb = np.dot(intercept_and_coefs, np.transpose(ones_and_features))\n",
    "X_lin_comb"
   ]
  },
  {
   "cell_type": "markdown",
   "metadata": {},
   "source": [
    "Now **X_lin_comb** has the argument resultant argument *X* that we need to use into the sigmoid function defined previously:"
   ]
  },
  {
   "cell_type": "code",
   "execution_count": 32,
   "metadata": {},
   "outputs": [
    {
     "data": {
      "text/plain": [
       "array([[0.25173076, 0.415703  , 0.20395547, ..., 0.415703  , 0.17278502,\n",
       "        0.33606565]])"
      ]
     },
     "execution_count": 32,
     "metadata": {},
     "output_type": "execute_result"
    }
   ],
   "source": [
    "y_pred_proba_manual = sigmoid(X_lin_comb)\n",
    "y_pred_proba_manual"
   ]
  },
  {
   "cell_type": "markdown",
   "metadata": {},
   "source": [
    "This achieves the same result as using the sklearn pred_proba:"
   ]
  },
  {
   "cell_type": "code",
   "execution_count": 33,
   "metadata": {},
   "outputs": [
    {
     "data": {
      "text/plain": [
       "array([[0.74826924, 0.25173076],\n",
       "       [0.584297  , 0.415703  ],\n",
       "       [0.79604453, 0.20395547],\n",
       "       ...,\n",
       "       [0.584297  , 0.415703  ],\n",
       "       [0.82721498, 0.17278502],\n",
       "       [0.66393435, 0.33606565]])"
      ]
     },
     "execution_count": 33,
     "metadata": {},
     "output_type": "execute_result"
    }
   ],
   "source": [
    "y_pred_proba"
   ]
  },
  {
   "cell_type": "markdown",
   "metadata": {},
   "source": [
    "Using a threshold of 0.5, let's see how well the classifier did in the test set. Let's also compare the results using the sklearn:"
   ]
  },
  {
   "cell_type": "code",
   "execution_count": 34,
   "metadata": {},
   "outputs": [
    {
     "data": {
      "text/plain": [
       "True"
      ]
     },
     "execution_count": 34,
     "metadata": {},
     "output_type": "execute_result"
    }
   ],
   "source": [
    "y_pred_manual = y_pred_proba_manual >= 0.5\n",
    "np.array_equal(y_pred.reshape(1, -1), y_pred_manual)"
   ]
  },
  {
   "cell_type": "markdown",
   "metadata": {},
   "source": [
    "Let's calculate the ROC AUC using both sciki-learn's predicted probabilities and the manually predicted probabilities:"
   ]
  },
  {
   "cell_type": "code",
   "execution_count": 35,
   "metadata": {},
   "outputs": [
    {
     "data": {
      "text/plain": [
       "0.627207450280691"
      ]
     },
     "execution_count": 35,
     "metadata": {},
     "output_type": "execute_result"
    }
   ],
   "source": [
    "metrics.roc_auc_score(y_test, y_pred_proba_manual.reshape(y_pred_proba_manual.shape[1],))"
   ]
  },
  {
   "cell_type": "code",
   "execution_count": 36,
   "metadata": {},
   "outputs": [
    {
     "data": {
      "text/plain": [
       "0.627207450280691"
      ]
     },
     "execution_count": 36,
     "metadata": {},
     "output_type": "execute_result"
    }
   ],
   "source": [
    "metrics.roc_auc_score(y_test, y_pred_proba[:, 1])"
   ]
  },
  {
   "cell_type": "markdown",
   "metadata": {},
   "source": [
    "Using these two variables together the performance of the model was slightly boosted to 0.63. Using just **limit_bal** as a feature predictor the ROC AUC value was abit less than 0.62. So other techniques are still needed to make a better model to this dataset. \n",
    "\n",
    "\n",
    "The AUCs are the same. This last part showed that it is possible to mesure the performance of a model with mathematical understanding of the process. In an environment without python, but with the correct parameters (in this case the intercept and coefficients) it is possible to calculate how well the model did in deployed environments that have different programming languages or tools (e.g. SQL).\n",
    "\n"
   ]
  }
 ],
 "metadata": {
  "kernelspec": {
   "display_name": "Python 3",
   "language": "python",
   "name": "python3"
  },
  "language_info": {
   "codemirror_mode": {
    "name": "ipython",
    "version": 3
   },
   "file_extension": ".py",
   "mimetype": "text/x-python",
   "name": "python",
   "nbconvert_exporter": "python",
   "pygments_lexer": "ipython3",
   "version": "3.8.5"
  }
 },
 "nbformat": 4,
 "nbformat_minor": 4
}
