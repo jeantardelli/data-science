{
 "cells": [
  {
   "cell_type": "markdown",
   "metadata": {},
   "source": [
    "## The Bias Variance Trade-off"
   ]
  },
  {
   "cell_type": "markdown",
   "metadata": {},
   "source": [
    "### Packages Versions"
   ]
  },
  {
   "cell_type": "code",
   "execution_count": 1,
   "metadata": {},
   "outputs": [
    {
     "name": "stdout",
     "output_type": "stream",
     "text": [
      "The Python version is 3.8.5 (default, Jul 28 2020, 12:59:40) \n",
      "[GCC 9.3.0].\n",
      "\n",
      "The Numpy version is 1.19.1.\n",
      "\n",
      "The Pandas version is 1.1.0.\n",
      "\n",
      "The Matplotlib version is 3.3.3.\n",
      "\n",
      "The Scikit-Learn version is 0.24.0.\n",
      "\n"
     ]
    }
   ],
   "source": [
    "import sys\n",
    "import sklearn\n",
    "import numpy as np\n",
    "import pandas as pd\n",
    "import matplotlib as mpl\n",
    "import matplotlib.pyplot as plt\n",
    "\n",
    "%matplotlib inline\n",
    "\n",
    "print('The Python version is {}.\\n'.format(sys.version))\n",
    "print('The Numpy version is {}.\\n'.format(np.__version__))\n",
    "print('The Pandas version is {}.\\n'.format(pd.__version__))\n",
    "print('The Matplotlib version is {}.\\n'.format(mpl.__version__))\n",
    "print('The Scikit-Learn version is {}.\\n'.format(sklearn.__version__))"
   ]
  },
  {
   "cell_type": "markdown",
   "metadata": {},
   "source": [
    "### Logistic Regression Coefficients and Intercept Estimation"
   ]
  },
  {
   "cell_type": "markdown",
   "metadata": {},
   "source": [
    "The **parameters** of a Logistic Regression model reflect the best approximation to the data. The process of finding this best approximation is called **estimation**. To estimate the best parameters the model uses a concept of **cost function**, which is a way of telling how far the model prediction are from perfectly describing the data.\n",
    "\n",
    "In classification models there are different cost functions, being their particularities dependent on the model itself. Specifically in fitting logistic regression models, a typical cost function is the **log-loss** function (also called **cross entropy loss**):\n",
    "\n",
    ">$ \\text{log loss} = \\frac{1}{n}\\sum_{i=1}^{n} - (y_{i}\\log(p_{i}) + (1 - y_{i})\\log(1 - p_{i}))$\n",
    "\n",
    "Where $n$ is the training samples number, $y_{i}$ is the ture label (0 or 1) of the *i-th* sample, $p_{i}$ is the predicted probability that the *i-th* samples equals 1, and $\\log$ is the natural logarithm. \n",
    "\n",
    "The summation notation over all the training samples and the division by $n$ serve to take the average of this cost function over all training samples.\n",
    "\n",
    "Let's examine the log-loss function arguments. First, the natural logarithm distribution:"
   ]
  },
  {
   "cell_type": "code",
   "execution_count": 2,
   "metadata": {},
   "outputs": [
    {
     "name": "stdout",
     "output_type": "stream",
     "text": [
      "[0.01 0.02 0.03 0.04 0.05] ... [0.96 0.97 0.98 0.99]\n",
      "[-4.60517019 -3.91202301] ... [-0.02020271 -0.01005034]\n"
     ]
    },
    {
     "data": {
      "text/plain": [
       "Text(0.5, 1.0, 'Natural Logarithm')"
      ]
     },
     "execution_count": 2,
     "metadata": {},
     "output_type": "execute_result"
    },
    {
     "data": {
      "image/png": "[encoded data removed]",
      "text/plain": [
       "<Figure size 432x288 with 1 Axes>"
      ]
     },
     "metadata": {
      "needs_background": "light"
     },
     "output_type": "display_data"
    }
   ],
   "source": [
    "X_log = np.linspace(0.01, 0.99, 99)\n",
    "y_log = np.log(X_log)\n",
    "\n",
    "print(X_log[:5], '...', X_log[-4:])\n",
    "print(y_log[:2], '...', y_log[-2:])\n",
    "\n",
    "plt.plot(X_log, y_log)\n",
    "plt.title('Natural Logarithm')"
   ]
  },
  {
   "cell_type": "markdown",
   "metadata": {},
   "source": [
    "So, for a sample with positive class (in other words, with *y = 1*) the $(1 - y_{i})$ term equals zero and the cost function is reduced to:\n",
    "\n",
    "> $ \\text{log loss} = \\frac{1}{n}\\sum_{i=1}^{n} - (\\log(p_{i}))$\n",
    "\n",
    "And the cost function is the negative of the natural logarithm of the predicted probability $p_{i}$. If this sample is correctly classified and the probability to be a positive class be close to 1, the $\\log(p_{i})$  term will be close to 0. If, on the other hand, this sample is incorreclty predicted with a small $p_{i}$ value, the log loss will be high and therefore increase the overall sum.\n",
    "\n",
    "For a sample with negative class (in other words, with *y = 0*) the $y_{i}\\log(p_{i})$ term equals zeor and the cost function is reduced to:\n",
    "\n",
    "> $ \\text{log loss} = \\frac{1}{n}\\sum_{i=1}^{n} - (\\log(1 - p_{i}))$\n",
    "\n",
    "And therefore, a similar behaviour occurs for the log loss value when the model predict a negative sample incorrectly. The $p_{i}$ will be high and the term $(1 - p_{i})$ will be low;"
   ]
  },
  {
   "cell_type": "markdown",
   "metadata": {},
   "source": [
    "#### Gradient Descent\n",
    "\n",
    "To find the best parameters, the a problem of **optimization** is set using the cost function. The **gradient descent** is the method used to make the **estimations**. It is an iterative algorithm that randomly attributes initial parameters values and iterates over the *error surface* - that is, the distribution of the **log loss** for different samples parameters - to find the least virtually cost. The gradient descent is calculated as:\n",
    "\n",
    "> $x_{new} = x_{old} - f'(x_{old}) * \\text{learning rate}$\n",
    "\n",
    "The new parameters values is based in the current guess $x_{old}$ and the derivative of it, $f'(x_{old})$, times a learning rate, being the learning rate a *step* to a *descent* - towards the local minimum - process."
   ]
  }
 ],
 "metadata": {
  "kernelspec": {
   "display_name": "Python 3",
   "language": "python",
   "name": "python3"
  },
  "language_info": {
   "codemirror_mode": {
    "name": "ipython",
    "version": 3
   },
   "file_extension": ".py",
   "mimetype": "text/x-python",
   "name": "python",
   "nbconvert_exporter": "python",
   "pygments_lexer": "ipython3",
   "version": "3.8.5"
  }
 },
 "nbformat": 4,
 "nbformat_minor": 4
}
