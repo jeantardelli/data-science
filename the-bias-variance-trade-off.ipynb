{
 "cells": [
  {
   "cell_type": "markdown",
   "metadata": {},
   "source": [
    "## The Bias Variance Trade-off"
   ]
  },
  {
   "cell_type": "markdown",
   "metadata": {},
   "source": [
    "### Packages Versions"
   ]
  },
  {
   "cell_type": "code",
   "execution_count": 1,
   "metadata": {},
   "outputs": [
    {
     "name": "stdout",
     "output_type": "stream",
     "text": [
      "The Python version is 3.8.5 (default, Jul 28 2020, 12:59:40) \n",
      "[GCC 9.3.0].\n",
      "\n",
      "The Numpy version is 1.19.1.\n",
      "\n",
      "The Pandas version is 1.1.0.\n",
      "\n",
      "The Matplotlib version is 3.3.3.\n",
      "\n",
      "The Scikit-Learn version is 0.24.0.\n",
      "\n"
     ]
    }
   ],
   "source": [
    "import sys\n",
    "import sklearn\n",
    "import numpy as np\n",
    "import pandas as pd\n",
    "import matplotlib as mpl\n",
    "import matplotlib.pyplot as plt\n",
    "\n",
    "%matplotlib inline\n",
    "\n",
    "from sklearn import metrics\n",
    "from sklearn.pipeline import Pipeline\n",
    "from sklearn.linear_model import LogisticRegression\n",
    "from sklearn.model_selection import train_test_split, StratifiedKFold, KFold\n",
    "from sklearn.preprocessing import MinMaxScaler, PolynomialFeatures\n",
    "from sklearn.metrics import roc_auc_score, roc_curve\n",
    "\n",
    "print('The Python version is {}.\\n'.format(sys.version))\n",
    "print('The Numpy version is {}.\\n'.format(np.__version__))\n",
    "print('The Pandas version is {}.\\n'.format(pd.__version__))\n",
    "print('The Matplotlib version is {}.\\n'.format(mpl.__version__))\n",
    "print('The Scikit-Learn version is {}.\\n'.format(sklearn.__version__))"
   ]
  },
  {
   "cell_type": "markdown",
   "metadata": {},
   "source": [
    "### Logistic Regression Coefficients and Intercept Estimation"
   ]
  },
  {
   "cell_type": "markdown",
   "metadata": {},
   "source": [
    "The **parameters** of a Logistic Regression model reflect the best approximation to the data. The process of finding this best approximation is called **estimation**. To estimate the best parameters the model uses a concept of **cost function**, which is a way of telling how far the model prediction are from perfectly describing the data.\n",
    "\n",
    "In classification models there are different cost functions, being their particularities dependent on the model itself. Specifically in fitting logistic regression models, a typical cost function is the **log-loss** function (also called **cross entropy loss**):\n",
    "\n",
    ">$ \\text{LL} = \\frac{1}{n}\\sum_{i=1}^{n} - (y_{i}\\log(p_{i}) + (1 - y_{i})\\log(1 - p_{i}))$\n",
    "\n",
    "Where $n$ is the training samples number, $y_{i}$ is the ture label (0 or 1) of the *i-th* sample, $p_{i}$ is the predicted probability $\\frac{1}{1 + e^{-X}}$ that the *i-th* samples equals 1, and $\\log$ is the natural logarithm. \n",
    "\n",
    "The summation notation over all the training samples and the division by $n$ serve to take the average of this cost function over all training samples.\n",
    "\n",
    "Let's examine the log-loss function arguments. First, the natural logarithm distribution:"
   ]
  },
  {
   "cell_type": "code",
   "execution_count": 2,
   "metadata": {},
   "outputs": [
    {
     "name": "stdout",
     "output_type": "stream",
     "text": [
      "[0.01 0.02 0.03 0.04 0.05] ... [0.96 0.97 0.98 0.99]\n",
      "[-4.60517019 -3.91202301] ... [-0.02020271 -0.01005034]\n"
     ]
    },
    {
     "data": {
      "text/plain": [
       "Text(0.5, 1.0, 'Natural Logarithm')"
      ]
     },
     "execution_count": 2,
     "metadata": {},
     "output_type": "execute_result"
    },
    {
     "data": {
      "image/png": "[encoded data removed]",
      "text/plain": [
       "<Figure size 432x288 with 1 Axes>"
      ]
     },
     "metadata": {
      "needs_background": "light"
     },
     "output_type": "display_data"
    }
   ],
   "source": [
    "X_log = np.linspace(0.01, 0.99, 99)\n",
    "y_log = np.log(X_log)\n",
    "\n",
    "print(X_log[:5], '...', X_log[-4:])\n",
    "print(y_log[:2], '...', y_log[-2:])\n",
    "\n",
    "plt.plot(X_log, y_log)\n",
    "plt.title('Natural Logarithm')"
   ]
  },
  {
   "cell_type": "markdown",
   "metadata": {},
   "source": [
    "So, for a sample with positive class (in other words, with *y = 1*) the $(1 - y_{i})$ term equals zero and the cost function is reduced to:\n",
    "\n",
    "> $ \\text{LL} = \\frac{1}{n}\\sum_{i=1}^{n} - (\\log(p_{i}))$\n",
    "\n",
    "And the cost function is the negative of the natural logarithm of the predicted probability $p_{i}$. If this sample is correctly classified and the probability to be a positive class be close to 1, the $\\log(p_{i})$  term will be close to 0. If, on the other hand, this sample is incorreclty predicted with a small $p_{i}$ value, the log loss will be high and therefore increase the overall sum.\n",
    "\n",
    "For a sample with negative class (in other words, with *y = 0*) the $y_{i}\\log(p_{i})$ term equals zeor and the cost function is reduced to:\n",
    "\n",
    "> $ \\text{LL} = \\frac{1}{n}\\sum_{i=1}^{n} - (\\log(1 - p_{i}))$\n",
    "\n",
    "And therefore, a similar behaviour occurs for the log loss value when the model predict a negative sample incorrectly. The $p_{i}$ will be high and the term $(1 - p_{i})$ will be low;"
   ]
  },
  {
   "cell_type": "markdown",
   "metadata": {},
   "source": [
    "#### Gradient Descent\n",
    "\n",
    "To find the best parameters, the a problem of **optimization** is set using the cost function. The **gradient descent** is the method used to make the **estimations**. It is an iterative algorithm that randomly attributes initial parameters values and iterates over the *error surface* - that is, the distribution of the **log loss** for different samples parameters - to find the least virtually cost. The gradient descent is calculated as:\n",
    "\n",
    "> $x_{new} = x_{old} - f'(x_{old}) * \\alpha$\n",
    "\n",
    "Where $\\alpha$ is the learning rate.\n",
    "\n",
    "The new parameters values is based in the current guess $x_{old}$ and the derivative of it, $f'(x_{old})$, times a learning rate, being the learning rate a *step* to a *descent* - towards the local minimum - process.\n",
    "\n",
    "\n",
    "So, for the Logistic Regression using the log loss cost function with just one feature, the first derivative result in (after some math that is omitted here):\n",
    "\n",
    "> $\\text{LL}' = \\frac{1}{n} (y_{i} - p_{i}) * X_{j}$\n",
    "\n",
    "Where $X_{j}$ is the is the input samples for the j-th input feature.\n"
   ]
  },
  {
   "cell_type": "markdown",
   "metadata": {},
   "source": [
    "Let's simulate the process of finding the best parameters using synthetic data. The data will have only one feature, called **feat_1**, that is in fact a third degree polynomial:"
   ]
  },
  {
   "cell_type": "code",
   "execution_count": 3,
   "metadata": {},
   "outputs": [
    {
     "data": {
      "text/plain": [
       "<matplotlib.legend.Legend at 0x7f58a124dbe0>"
      ]
     },
     "execution_count": 3,
     "metadata": {},
     "output_type": "execute_result"
    },
    {
     "data": {
      "image/png": "[encoded data removed]",
      "text/plain": [
       "<Figure size 432x288 with 1 Axes>"
      ]
     },
     "metadata": {
      "needs_background": "light"
     },
     "output_type": "display_data"
    }
   ],
   "source": [
    "np.random.seed(seed=1)\n",
    "\n",
    "X_poly = np.linspace(-4, 3, 101)\n",
    "\n",
    "X_rand = np.random.uniform(0, 20, (101,))\n",
    "Y_poly = X_poly ** 3 + X_poly ** 2 + X_poly + 3\n",
    "Y_dist = X_poly ** 3 + X_poly ** 2 + X_poly + 3 + X_rand\n",
    "\n",
    "y_true = X_poly >= 0\n",
    "\n",
    "plt.plot(X_poly, Y_poly, 'r--')\n",
    "plt.scatter(X_poly, Y_dist, s=10)\n",
    "plt.ylabel('y')\n",
    "plt.xlabel('x')\n",
    "plt.title('Third degree polynomial with Normal noise')\n",
    "plt.legend(['3rd degree poly', '3rd degree poly w/ noise'])"
   ]
  },
  {
   "cell_type": "markdown",
   "metadata": {},
   "source": [
    "Let's create a DataFrame object:"
   ]
  },
  {
   "cell_type": "code",
   "execution_count": 4,
   "metadata": {},
   "outputs": [],
   "source": [
    "df = pd.DataFrame({'feat_1': Y_dist, 'response': y_true})"
   ]
  },
  {
   "cell_type": "markdown",
   "metadata": {},
   "source": [
    "And create train and tests sets:"
   ]
  },
  {
   "cell_type": "code",
   "execution_count": 5,
   "metadata": {},
   "outputs": [
    {
     "name": "stdout",
     "output_type": "stream",
     "text": [
      "(80,)\n",
      "(21,)\n"
     ]
    }
   ],
   "source": [
    "X_train, X_test, y_train, y_test = train_test_split(\n",
    "    df.feat_1, df.response, test_size=0.2, random_state=24)\n",
    "print(X_train.shape)\n",
    "print(X_test.shape)"
   ]
  },
  {
   "cell_type": "markdown",
   "metadata": {},
   "source": [
    "Now, let's declare the logistic regression model with the training data:"
   ]
  },
  {
   "cell_type": "code",
   "execution_count": 6,
   "metadata": {},
   "outputs": [
    {
     "data": {
      "text/plain": [
       "LogisticRegression()"
      ]
     },
     "execution_count": 6,
     "metadata": {},
     "output_type": "execute_result"
    }
   ],
   "source": [
    "model = LogisticRegression()\n",
    "model.fit(np.array(X_train).reshape(-1, 1), np.array(y_train))"
   ]
  },
  {
   "cell_type": "markdown",
   "metadata": {},
   "source": [
    "Let's map the true values for the train data that will be used in the log loss functions and gradient functions:"
   ]
  },
  {
   "cell_type": "code",
   "execution_count": 7,
   "metadata": {},
   "outputs": [],
   "source": [
    "y_train_true = np.array(y_train.map({True:1, False:0}))"
   ]
  },
  {
   "cell_type": "markdown",
   "metadata": {},
   "source": [
    "Let's see the coefficients and the intercept paramenters of the model:"
   ]
  },
  {
   "cell_type": "code",
   "execution_count": 8,
   "metadata": {},
   "outputs": [
    {
     "data": {
      "text/plain": [
       "(array([[0.22758664]]), array([-3.6139925]))"
      ]
     },
     "execution_count": 8,
     "metadata": {},
     "output_type": "execute_result"
    }
   ],
   "source": [
    "model.coef_, model.intercept_"
   ]
  },
  {
   "cell_type": "code",
   "execution_count": 9,
   "metadata": {},
   "outputs": [
    {
     "data": {
      "text/plain": [
       "array([[-3.6139925 ,  0.22758664]])"
      ]
     },
     "execution_count": 9,
     "metadata": {},
     "output_type": "execute_result"
    }
   ],
   "source": [
    "intercept_and_coefs = np.concatenate([model.intercept_.reshape(1,1), model.coef_], axis=1)\n",
    "intercept_and_coefs"
   ]
  },
  {
   "cell_type": "markdown",
   "metadata": {},
   "source": [
    "Now, let's create some functions that will allow the parameter estimation manually:"
   ]
  },
  {
   "cell_type": "code",
   "execution_count": 10,
   "metadata": {},
   "outputs": [],
   "source": [
    "def sigmoid(X):\n",
    "    \"\"\"\n",
    "    Calculates the Sigmoid values of an array input.\n",
    "\n",
    "    Arguments:\n",
    "        X: Numpy array or DataFrame object\n",
    "    Returns:\n",
    "       Numpy array\n",
    "    \"\"\"\n",
    "    return 1/(1 + np.exp(-X))\n",
    "\n",
    "def linear_comb(X, Y):\n",
    "    \"\"\"\n",
    "    Calculates the Linear Combination of two arrays (or pandas objects)\n",
    "\n",
    "    Arguments:\n",
    "        X, Y: Numpy arrays or DataFrame objects\n",
    "    Returns:\n",
    "        A Numpy array\n",
    "    \"\"\"\n",
    "    assert X.shape[1] == Y.shape[0]\n",
    "    return np.dot(X, Y)\n",
    "\n",
    "def feature_array(X):\n",
    "    \"\"\"\n",
    "    Make an array of features, with a column of 1s added, using horizontal stack\n",
    "\n",
    "    Arguments:\n",
    "        X: Numpy array or Dataframe object\n",
    "    Returns:\n",
    "        Numpy array\n",
    "    \"\"\"\n",
    "    if len(X.shape) == 1:\n",
    "        n = X.shape[0]\n",
    "    else:\n",
    "        n = X.shape[1]\n",
    "    \n",
    "    return np.hstack([np.ones((n, 1)),\n",
    "                      np.array(X).reshape(-1,1)])"
   ]
  },
  {
   "cell_type": "markdown",
   "metadata": {},
   "source": [
    "Let's create also a dataframe with the coefficients for each epoch. This will allow to track each iteration of the estimation process:"
   ]
  },
  {
   "cell_type": "code",
   "execution_count": 11,
   "metadata": {},
   "outputs": [
    {
     "data": {
      "text/html": [
       "<div>\n",
       "<style scoped>\n",
       "    .dataframe tbody tr th:only-of-type {\n",
       "        vertical-align: middle;\n",
       "    }\n",
       "\n",
       "    .dataframe tbody tr th {\n",
       "        vertical-align: top;\n",
       "    }\n",
       "\n",
       "    .dataframe thead th {\n",
       "        text-align: right;\n",
       "    }\n",
       "</style>\n",
       "<table border=\"1\" class=\"dataframe\">\n",
       "  <thead>\n",
       "    <tr style=\"text-align: right;\">\n",
       "      <th></th>\n",
       "      <th>epochs</th>\n",
       "      <th>theta_0</th>\n",
       "      <th>theta_1</th>\n",
       "      <th>cost</th>\n",
       "    </tr>\n",
       "  </thead>\n",
       "  <tbody>\n",
       "    <tr>\n",
       "      <th>0</th>\n",
       "      <td>0</td>\n",
       "      <td>0</td>\n",
       "      <td>0</td>\n",
       "      <td>inf</td>\n",
       "    </tr>\n",
       "  </tbody>\n",
       "</table>\n",
       "</div>"
      ],
      "text/plain": [
       "   epochs  theta_0  theta_1  cost\n",
       "0       0        0        0   inf"
      ]
     },
     "execution_count": 11,
     "metadata": {},
     "output_type": "execute_result"
    }
   ],
   "source": [
    "coefs = pd.DataFrame({'epochs': [0], 'theta_0': [0], 'theta_1': [0], 'cost': [np.inf]})\n",
    "coefs"
   ]
  },
  {
   "cell_type": "markdown",
   "metadata": {},
   "source": [
    "Let's define the log loss function, the log loss gradient and the probability function:"
   ]
  },
  {
   "cell_type": "code",
   "execution_count": 12,
   "metadata": {},
   "outputs": [],
   "source": [
    "def probabilities(X, Y):\n",
    "    \"\"\"\n",
    "    Calculates the Logistic Regression positive class probabilities\n",
    "\n",
    "    Arguments:\n",
    "        X, Y: Numpy array\n",
    "    Returns:\n",
    "        Numpy array\n",
    "    \"\"\"\n",
    "    return sigmoid(linear_comb(X, Y.T))\n",
    "\n",
    "def log_loss(Y, T, X):\n",
    "    \"\"\"\n",
    "    Estimates the log loss cost function.\n",
    "\n",
    "    Arguments:\n",
    "       Y, T, X: Numpy Array\n",
    "    Returns:\n",
    "       Numpy Array\n",
    "    \"\"\"\n",
    "    n = len(Y)\n",
    "    p = probabilities(X, T)\n",
    "\n",
    "    total_cost = -(Y * np.log(p) + (1 - Y) * np.log(1 - p))\n",
    "\n",
    "    return np.sum(total_cost) / n\n",
    "\n",
    "def log_loss_gradient(Y, T, X):\n",
    "    \"\"\"\n",
    "    Calculates the log loss gradient.\n",
    "\n",
    "    Arguments:\n",
    "        Y, T, X: Numpy Array\n",
    "    Returns:\n",
    "        Numpy Array\n",
    "    \"\"\"\n",
    "    p = -(Y - probabilities(X, T))\n",
    "\n",
    "    return (1/len(X)) * linear_comb(p.T, X)"
   ]
  },
  {
   "cell_type": "markdown",
   "metadata": {},
   "source": [
    "For each epoch, we will save the values obtained in the estimation process in the coefs dataframe:"
   ]
  },
  {
   "cell_type": "code",
   "execution_count": 13,
   "metadata": {},
   "outputs": [],
   "source": [
    "coefs = pd.DataFrame({'epochs': [0], 'theta_0': [0], 'theta_1': [0], 'cost': [np.nan]})\n",
    "learning_rate = .05\n",
    "\n",
    "for i in range(1, 1000):\n",
    "    old = np.array(coefs[['theta_0', 'theta_1']].loc[i-1]).reshape(1,2)\n",
    "    gradient = log_loss_gradient(y_train_true.reshape(-1, 1),\n",
    "                                 old, \n",
    "                                 feature_array(X_train))\n",
    "    new = old - (gradient * learning_rate)\n",
    "    cost = log_loss(y_train_true.reshape(-1, 1),\n",
    "                    new,\n",
    "                    feature_array(X_train))\n",
    "\n",
    "    coefs = coefs.append({'epochs': i,\n",
    "                          'theta_0': new[0][0],\n",
    "                          'theta_1': new[0][1],\n",
    "                          'cost': cost}, ignore_index=True)"
   ]
  },
  {
   "cell_type": "code",
   "execution_count": 14,
   "metadata": {},
   "outputs": [
    {
     "data": {
      "text/html": [
       "<div>\n",
       "<style scoped>\n",
       "    .dataframe tbody tr th:only-of-type {\n",
       "        vertical-align: middle;\n",
       "    }\n",
       "\n",
       "    .dataframe tbody tr th {\n",
       "        vertical-align: top;\n",
       "    }\n",
       "\n",
       "    .dataframe thead th {\n",
       "        text-align: right;\n",
       "    }\n",
       "</style>\n",
       "<table border=\"1\" class=\"dataframe\">\n",
       "  <thead>\n",
       "    <tr style=\"text-align: right;\">\n",
       "      <th></th>\n",
       "      <th>epochs</th>\n",
       "      <th>theta_0</th>\n",
       "      <th>theta_1</th>\n",
       "      <th>cost</th>\n",
       "    </tr>\n",
       "  </thead>\n",
       "  <tbody>\n",
       "    <tr>\n",
       "      <th>0</th>\n",
       "      <td>0.0</td>\n",
       "      <td>0.000000</td>\n",
       "      <td>0.000000</td>\n",
       "      <td>NaN</td>\n",
       "    </tr>\n",
       "    <tr>\n",
       "      <th>1</th>\n",
       "      <td>1.0</td>\n",
       "      <td>-0.005625</td>\n",
       "      <td>0.286111</td>\n",
       "      <td>1.121069</td>\n",
       "    </tr>\n",
       "    <tr>\n",
       "      <th>2</th>\n",
       "      <td>2.0</td>\n",
       "      <td>-0.022261</td>\n",
       "      <td>0.119162</td>\n",
       "      <td>0.623601</td>\n",
       "    </tr>\n",
       "    <tr>\n",
       "      <th>3</th>\n",
       "      <td>3.0</td>\n",
       "      <td>-0.036138</td>\n",
       "      <td>0.011686</td>\n",
       "      <td>0.630216</td>\n",
       "    </tr>\n",
       "    <tr>\n",
       "      <th>4</th>\n",
       "      <td>4.0</td>\n",
       "      <td>-0.042604</td>\n",
       "      <td>0.227193</td>\n",
       "      <td>0.917138</td>\n",
       "    </tr>\n",
       "    <tr>\n",
       "      <th>...</th>\n",
       "      <td>...</td>\n",
       "      <td>...</td>\n",
       "      <td>...</td>\n",
       "      <td>...</td>\n",
       "    </tr>\n",
       "    <tr>\n",
       "      <th>995</th>\n",
       "      <td>995.0</td>\n",
       "      <td>-2.709599</td>\n",
       "      <td>0.176171</td>\n",
       "      <td>0.312043</td>\n",
       "    </tr>\n",
       "    <tr>\n",
       "      <th>996</th>\n",
       "      <td>996.0</td>\n",
       "      <td>-2.710446</td>\n",
       "      <td>0.176218</td>\n",
       "      <td>0.312029</td>\n",
       "    </tr>\n",
       "    <tr>\n",
       "      <th>997</th>\n",
       "      <td>997.0</td>\n",
       "      <td>-2.711293</td>\n",
       "      <td>0.176265</td>\n",
       "      <td>0.312015</td>\n",
       "    </tr>\n",
       "    <tr>\n",
       "      <th>998</th>\n",
       "      <td>998.0</td>\n",
       "      <td>-2.712138</td>\n",
       "      <td>0.176312</td>\n",
       "      <td>0.312000</td>\n",
       "    </tr>\n",
       "    <tr>\n",
       "      <th>999</th>\n",
       "      <td>999.0</td>\n",
       "      <td>-2.712982</td>\n",
       "      <td>0.176359</td>\n",
       "      <td>0.311986</td>\n",
       "    </tr>\n",
       "  </tbody>\n",
       "</table>\n",
       "<p>1000 rows × 4 columns</p>\n",
       "</div>"
      ],
      "text/plain": [
       "     epochs   theta_0   theta_1      cost\n",
       "0       0.0  0.000000  0.000000       NaN\n",
       "1       1.0 -0.005625  0.286111  1.121069\n",
       "2       2.0 -0.022261  0.119162  0.623601\n",
       "3       3.0 -0.036138  0.011686  0.630216\n",
       "4       4.0 -0.042604  0.227193  0.917138\n",
       "..      ...       ...       ...       ...\n",
       "995   995.0 -2.709599  0.176171  0.312043\n",
       "996   996.0 -2.710446  0.176218  0.312029\n",
       "997   997.0 -2.711293  0.176265  0.312015\n",
       "998   998.0 -2.712138  0.176312  0.312000\n",
       "999   999.0 -2.712982  0.176359  0.311986\n",
       "\n",
       "[1000 rows x 4 columns]"
      ]
     },
     "execution_count": 14,
     "metadata": {},
     "output_type": "execute_result"
    }
   ],
   "source": [
    "coefs"
   ]
  },
  {
   "cell_type": "markdown",
   "metadata": {},
   "source": [
    "Lets plot the log loss cost function for this synthetic data:"
   ]
  },
  {
   "cell_type": "code",
   "execution_count": 15,
   "metadata": {},
   "outputs": [
    {
     "data": {
      "text/plain": [
       "Text(0.5, 1.0, 'Logistic Regression Training')"
      ]
     },
     "execution_count": 15,
     "metadata": {},
     "output_type": "execute_result"
    },
    {
     "data": {
      "image/png": "[encoded data removed]",
      "text/plain": [
       "<Figure size 432x288 with 1 Axes>"
      ]
     },
     "metadata": {
      "needs_background": "light"
     },
     "output_type": "display_data"
    }
   ],
   "source": [
    "plt.plot(coefs.epochs, coefs.cost)\n",
    "plt.ylabel('Cost Function')\n",
    "plt.xlabel('Epochs')\n",
    "plt.title('Logistic Regression Training')"
   ]
  },
  {
   "cell_type": "markdown",
   "metadata": {},
   "source": [
    "It is possible to see from the above figure that the log loss function stoped at a minimum. In the beggining, the log loss values were somewhat erratic, but then it smoothed after 200 iterations.\n",
    "\n",
    "Lets verify the log loss for the result parameters and compare with the LogisticRegression model:"
   ]
  },
  {
   "cell_type": "code",
   "execution_count": 16,
   "metadata": {},
   "outputs": [
    {
     "data": {
      "text/html": [
       "<div>\n",
       "<style scoped>\n",
       "    .dataframe tbody tr th:only-of-type {\n",
       "        vertical-align: middle;\n",
       "    }\n",
       "\n",
       "    .dataframe tbody tr th {\n",
       "        vertical-align: top;\n",
       "    }\n",
       "\n",
       "    .dataframe thead th {\n",
       "        text-align: right;\n",
       "    }\n",
       "</style>\n",
       "<table border=\"1\" class=\"dataframe\">\n",
       "  <thead>\n",
       "    <tr style=\"text-align: right;\">\n",
       "      <th></th>\n",
       "      <th>epochs</th>\n",
       "      <th>theta_0</th>\n",
       "      <th>theta_1</th>\n",
       "      <th>cost</th>\n",
       "    </tr>\n",
       "  </thead>\n",
       "  <tbody>\n",
       "    <tr>\n",
       "      <th>999</th>\n",
       "      <td>999.0</td>\n",
       "      <td>-2.712982</td>\n",
       "      <td>0.176359</td>\n",
       "      <td>0.311986</td>\n",
       "    </tr>\n",
       "  </tbody>\n",
       "</table>\n",
       "</div>"
      ],
      "text/plain": [
       "     epochs   theta_0   theta_1      cost\n",
       "999   999.0 -2.712982  0.176359  0.311986"
      ]
     },
     "execution_count": 16,
     "metadata": {},
     "output_type": "execute_result"
    }
   ],
   "source": [
    "mask = coefs.cost == coefs.cost.min()\n",
    "coefs[mask]"
   ]
  },
  {
   "cell_type": "code",
   "execution_count": 17,
   "metadata": {},
   "outputs": [
    {
     "name": "stdout",
     "output_type": "stream",
     "text": [
      "Logistic Regression model intercept and coefficient: [[-3.6139925   0.22758664]]\n",
      "Manual Regression model intercept and coefficient: [[-2.71298235  0.17635905]]\n"
     ]
    }
   ],
   "source": [
    "print('Logistic Regression model intercept and coefficient: {}'.format(intercept_and_coefs))\n",
    "print('Manual Regression model intercept and coefficient: {}'.format(coefs[['theta_0', 'theta_1']][mask].values))"
   ]
  },
  {
   "cell_type": "markdown",
   "metadata": {},
   "source": [
    "Not bat, pretty close. Let's compare the log loss cost function:"
   ]
  },
  {
   "cell_type": "code",
   "execution_count": 18,
   "metadata": {},
   "outputs": [
    {
     "name": "stdout",
     "output_type": "stream",
     "text": [
      "Logistic Regression model cost: 0.304990771795166\n",
      "Manual Regression model cost: 0.31198596238577425\n"
     ]
    }
   ],
   "source": [
    "model_cost = log_loss(y_train_true.reshape(-1, 1),\n",
    "                      intercept_and_coefs,\n",
    "                      feature_array(X_train))\n",
    "\n",
    "print('Logistic Regression model cost: {}'.format(model_cost))\n",
    "print('Manual Regression model cost: {}'.format(coefs.cost[mask].values[0]))"
   ]
  },
  {
   "cell_type": "markdown",
   "metadata": {},
   "source": [
    "As it is possible to see, the manual model cost for the final estimation parameters is pretty close to the scikit-learn model."
   ]
  },
  {
   "cell_type": "code",
   "execution_count": 19,
   "metadata": {},
   "outputs": [
    {
     "data": {
      "text/plain": [
       "<matplotlib.legend.Legend at 0x7f58a1142b80>"
      ]
     },
     "execution_count": 19,
     "metadata": {},
     "output_type": "execute_result"
    },
    {
     "data": {
      "image/png": "[encoded data removed]",
      "text/plain": [
       "<Figure size 432x288 with 1 Axes>"
      ]
     },
     "metadata": {
      "needs_background": "light"
     },
     "output_type": "display_data"
    }
   ],
   "source": [
    "X_man = linear_comb(feature_array(df.feat_1.sort_values()), \n",
    "                    np.array(coefs[['theta_0', 'theta_1']].loc[999]).reshape(1,2).T)\n",
    "Y_man = sigmoid(X_man)\n",
    "\n",
    "X = linear_comb(feature_array(df.feat_1.sort_values()), \n",
    "                intercept_and_coefs.T)\n",
    "Y = sigmoid(X)\n",
    "\n",
    "plt.scatter(df.feat_1, df.response, s=10, c='y', marker='x')\n",
    "plt.plot(X, Y, 'r--')\n",
    "plt.plot(X, Y_man,)\n",
    "plt.ylabel('response variable')\n",
    "plt.xlabel('feat_1')\n",
    "plt.legend(['Manual Model', 'Scikit-learn Model', 'feat_1'])"
   ]
  },
  {
   "cell_type": "markdown",
   "metadata": {},
   "source": [
    "### Assumptions of Logistic Regression\n",
    "\n",
    "Since it is a classical statistical model, similar to F-test and Pearson correlation, logistic regression makes certain assumptions about the data. It is good to be aware of them, though in practice a model could be applied in less stricty situations.\n",
    "\n",
    "**Features are linear in the log odds**\n",
    "\n",
    "As Logistic Regression is a linear model (see details-of-logistic-regression-and-feature-exploration file), it is expected that the features describe a linear trend in the log odds. If not, as is the case with **pay_1** feature, the algorithm would not perform well.\n",
    "\n",
    "**No Multicollinearity of Features**\n",
    "\n",
    "Multicollinearity means that features are correlated with each other. The worst violation of this assumption is when features are perfectly correlated with each other (e.g. they are identical or multiplied by a scalar). In the study case, the **bill_amt_i** features are highly correlated between themselves, though they are not perfectly correlated. So, while these features may not contribute much independent information, let's keep them.\n",
    "\n",
    "**The Independence of Observations**\n",
    "\n",
    "This is a common assumption in classical statistical models, including linear regression. In this case study the samples are asssumed to be independent as represent accounts that are individual and unique (there are no accounts for the same person). So there is independence of observations in this respect.\n",
    "\n",
    "**No outliers**\n",
    "\n",
    "Outliers are observations where the value of the feature(s) or response are very far from most of the data, or are different in some other way. They are capable of affect linear models in general, because weights to much a parameter for both too high or too low. There were no outliers observed in this case study.\n",
    "\n",
    "**Feature Numbers**\n",
    "\n",
    "This is not an assumption, as it is more of a guidance on model building. Too many features can \"confuse\" the model. There is a common rule of thumb known as \"rule of 10\" which states that for every 10 occurrences of the rarest outcome class, 1 feature may be added to the model. For example, in a binary logistic regression problem with 100 samples, if the class balance is 20% positive, then are only 20 positive outcomes in total, and so only 2 features should be used in the model. There is also a \"rule of 20\" which is more stringent than the \"rule of 10\".\n"
   ]
  },
  {
   "cell_type": "markdown",
   "metadata": {},
   "source": [
    "### Motivation for Regulatization\n",
    "\n",
    "Regularization is a technique that contrains (**regularize**) or **shrinks** the model coefficients, balancing the model between complexity or flexibility on the feature relationships. Common terminology in machine-learning extends the regularization techniques into the following concepts:\n",
    "\n",
    "- Overfitting\n",
    "- Underfitting\n",
    "- Bias-Variance trade-off\n",
    "\n",
    "A model is said to have high **variance** when it captures very well the existing variability in the training set, showing high training scores. However, when such a model is then used to make predictions on unseen data, the performance is substantially lower compared to the training scores. "
   ]
  },
  {
   "cell_type": "markdown",
   "metadata": {},
   "source": [
    "### Lasso (L1) and Rigde (L2) Regularization\n",
    "\n",
    "The two ways of regularizing logistic regression models in scikit-learn are called lasso (also known as L1 regularization) and ridge (also known as L2 regularization). When instantiating the model object from the scikit-learn class, you can choose either penalty = 'l1' or 'l2'.\n",
    "\n",
    "Lasso and ridge regularization use different mathematical formulations to accomplish this goal. These methods work by making changes to the cost function that is used for model fitting, which we introduced previously as the log-loss function. Lasso regularization uses what is called the 1-norm (hence the term L1):\n",
    "\n",
    "$$\n",
    "\\begin{equation}\n",
    "\\begin{split}\n",
    "LL_{lasso} = \\sum_{j=1}^{m} |\\sigma_{j}| + \\frac{C}{n} \\sum_{i=1}^{n} - (y_{i}log(p_{i}) + (1-y_{i})log(1 - p_{i}))\n",
    "\\end{split}\n",
    "\\end{equation}\n",
    "$$\n",
    " \n",
    "The one norm, $\\sum_{j=1}^{m} |\\sigma_{j}|$ is just the sum of the absolute values of all the coefficients of the $m$ different features. The absolute value is used because having a coefficient be large in either the positive or negative directions can contribute to overfitting. $C$ is a factor that is multiplied by the numerator of the fraction in front of the sum of the log-loss function over all the n training samples. This is the \"inverse of regularization strength\".\n",
    "\n",
    "In short, *larger values of C lead to less regularization in the scikit-learn implementation.*\n",
    "\n",
    "L2, or ridge regularization, is similar to L1, except that instead of the sum of absolute values of coefficients, ridge uses the sum of their squares, called the 2-norm:\n",
    "\n",
    "$$\n",
    "\\begin{equation}\n",
    "\\begin{split}\n",
    "LL_{rigde} = \\sum_{j=1}^{m} \\sigma_{j}^2 + \\frac{C}{n} \\sum_{i=1}^{n} - (y_{i}log(p_{i}) + (1-y_{i})log(1 - p_{i}))\n",
    "\\end{split}\n",
    "\\end{equation}\n",
    "$$\n",
    "\n",
    "\n",
    "There is also an additional regularization method called **elastic net**, which is a combination of both the lasso and ridge.\n",
    "\n",
    "#### Their differences\n",
    "\n",
    "The L1 penalty also performs feature selection, in addition to regularization. It does this by setting some coefficient values to exactly zero during the regularization process, effectively removing features from the model. L2 regularization makes the coefficient values smaller but does not completely eliminate them.\n",
    "\n",
    "#### Scaling and Regularization\n",
    "\n",
    "As noted previously, it is best practice to scale the data so that all the features have roughly the same range of values before using regularization. This is because the coefficients are all going to be subject to the same penalty in the cost function. Normalizing all the features before using regularization avoids complications like this that arise simply from differences in scale."
   ]
  },
  {
   "cell_type": "markdown",
   "metadata": {},
   "source": [
    "Lets apply the concepts learned in the study case dataset:"
   ]
  },
  {
   "cell_type": "markdown",
   "metadata": {},
   "source": [
    "### Loading the Data\n",
    "\n",
    "Load the data and subset columns list to features:"
   ]
  },
  {
   "cell_type": "code",
   "execution_count": 20,
   "metadata": {},
   "outputs": [
    {
     "data": {
      "text/plain": [
       "['limit_bal',\n",
       " 'education',\n",
       " 'marriage',\n",
       " 'age',\n",
       " 'pay_1',\n",
       " 'bill_amt1',\n",
       " 'bill_amt2',\n",
       " 'bill_amt3',\n",
       " 'bill_amt4',\n",
       " 'bill_amt5',\n",
       " 'bill_amt6',\n",
       " 'pay_amt1',\n",
       " 'pay_amt2',\n",
       " 'pay_amt3',\n",
       " 'pay_amt4',\n",
       " 'pay_amt5',\n",
       " 'pay_amt6']"
      ]
     },
     "execution_count": 20,
     "metadata": {},
     "output_type": "execute_result"
    }
   ],
   "source": [
    "df = pd.read_csv('data/default_of_credit_card_clients_cleaned.csv')\n",
    "\n",
    "features_response = df.columns.tolist()\n",
    "to_remove = ['id', 'sex'] + ['pay_{}'.format(i) for i in range(2,7)] + features_response[-6:]\n",
    "\n",
    "features_response = [feature for feature in features_response if feature not in to_remove]\n",
    "features_response"
   ]
  },
  {
   "cell_type": "code",
   "execution_count": 21,
   "metadata": {},
   "outputs": [],
   "source": [
    "X = df[features_response].values"
   ]
  },
  {
   "cell_type": "code",
   "execution_count": 22,
   "metadata": {},
   "outputs": [
    {
     "data": {
      "text/plain": [
       "17"
      ]
     },
     "execution_count": 22,
     "metadata": {},
     "output_type": "execute_result"
    }
   ],
   "source": [
    "len(features_response)"
   ]
  },
  {
   "cell_type": "markdown",
   "metadata": {},
   "source": [
    "And create train and test sets:"
   ]
  },
  {
   "cell_type": "code",
   "execution_count": 23,
   "metadata": {},
   "outputs": [],
   "source": [
    "X_train, X_test, y_train, y_test = train_test_split(X, \n",
    "                                                    df['default_payment_next_month'].values,\n",
    "                                                    test_size=0.2, \n",
    "                                                    random_state=24)"
   ]
  },
  {
   "cell_type": "markdown",
   "metadata": {},
   "source": [
    "### Pipelines \n",
    "\n",
    "Before using any of the regularization described above, create a pipeline that will abstract all the desired transformations to the data. First, let us declare the scaler object:"
   ]
  },
  {
   "cell_type": "code",
   "execution_count": 24,
   "metadata": {},
   "outputs": [],
   "source": [
    "min_max_sc = MinMaxScaler()"
   ]
  },
  {
   "cell_type": "markdown",
   "metadata": {},
   "source": [
    "And the model object:"
   ]
  },
  {
   "cell_type": "code",
   "execution_count": 25,
   "metadata": {},
   "outputs": [],
   "source": [
    "lr = LogisticRegression(solver='saga', penalty='l1', max_iter=1000)"
   ]
  },
  {
   "cell_type": "markdown",
   "metadata": {},
   "source": [
    "Now, let us encapsulate into the Pipeline:"
   ]
  },
  {
   "cell_type": "code",
   "execution_count": 26,
   "metadata": {},
   "outputs": [
    {
     "data": {
      "text/plain": [
       "{'memory': None,\n",
       " 'steps': [('scaler', MinMaxScaler()),\n",
       "  ('model', LogisticRegression(max_iter=1000, penalty='l1', solver='saga'))],\n",
       " 'verbose': False,\n",
       " 'scaler': MinMaxScaler(),\n",
       " 'model': LogisticRegression(max_iter=1000, penalty='l1', solver='saga'),\n",
       " 'scaler__clip': False,\n",
       " 'scaler__copy': True,\n",
       " 'scaler__feature_range': (0, 1),\n",
       " 'model__C': 1.0,\n",
       " 'model__class_weight': None,\n",
       " 'model__dual': False,\n",
       " 'model__fit_intercept': True,\n",
       " 'model__intercept_scaling': 1,\n",
       " 'model__l1_ratio': None,\n",
       " 'model__max_iter': 1000,\n",
       " 'model__multi_class': 'auto',\n",
       " 'model__n_jobs': None,\n",
       " 'model__penalty': 'l1',\n",
       " 'model__random_state': None,\n",
       " 'model__solver': 'saga',\n",
       " 'model__tol': 0.0001,\n",
       " 'model__verbose': 0,\n",
       " 'model__warm_start': False}"
      ]
     },
     "execution_count": 26,
     "metadata": {},
     "output_type": "execute_result"
    }
   ],
   "source": [
    "scale_lr_pipeline = Pipeline(steps=[\n",
    "    ('scaler', min_max_sc),\n",
    "    ('model', lr),\n",
    "])\n",
    "\n",
    "scale_lr_pipeline.get_params()"
   ]
  },
  {
   "cell_type": "markdown",
   "metadata": {},
   "source": [
    "Set the Regularization coefficient to 2:"
   ]
  },
  {
   "cell_type": "code",
   "execution_count": 27,
   "metadata": {},
   "outputs": [
    {
     "data": {
      "text/plain": [
       "Pipeline(steps=[('scaler', MinMaxScaler()),\n",
       "                ('model',\n",
       "                 LogisticRegression(C=2.0, max_iter=1000, penalty='l1',\n",
       "                                    solver='saga'))])"
      ]
     },
     "execution_count": 27,
     "metadata": {},
     "output_type": "execute_result"
    }
   ],
   "source": [
    "scale_lr_pipeline.set_params(model__C=2.0)"
   ]
  },
  {
   "cell_type": "markdown",
   "metadata": {},
   "source": [
    "Let's verify the performance of the model for different regularization values. The performance will be applied to different folds created in the train set. The following function abstracts the interaction for each fold and C value:"
   ]
  },
  {
   "cell_type": "code",
   "execution_count": 28,
   "metadata": {},
   "outputs": [],
   "source": [
    "C_val_exponents = np.linspace(2, -3, 6)\n",
    "C_vals = np.float(10) ** C_val_exponents\n",
    "\n",
    "def cross_val_C_search(k_folds, C_vals, pipeline, X, Y):\n",
    "    \n",
    "    n_folds = k_folds.n_splits\n",
    "    cv_train_roc_auc = np.empty((n_folds, len(C_vals)))\n",
    "    cv_test_roc_auc = np.empty((n_folds, len(C_vals)))\n",
    "    cv_test_roc = [[]]*len(C_vals)\n",
    "\n",
    "    for c_val_counter in range(len(C_vals)):\n",
    "        \n",
    "        # Set the C value for the model object in the Pipeline\n",
    "        pipeline.set_params(model__C = C_vals[c_val_counter])\n",
    "\n",
    "        # Count folds for each value of C\n",
    "        fold_counter = 0\n",
    "\n",
    "        # Get training and testing indices for each fold\n",
    "        for train_index, test_index in k_folds.split(X, Y):\n",
    "\n",
    "            # Subset the features and response, for training and testing data for\n",
    "            # this fold\n",
    "            X_cv_train, X_cv_test = X[train_index], X[test_index]\n",
    "            y_cv_train, y_cv_test = Y[train_index], Y[test_index]\n",
    "\n",
    "            # Fit the model on the training data\n",
    "            pipeline.fit(X_cv_train, y_cv_train)\n",
    "\n",
    "            # Get the training ROC AUC\n",
    "            y_cv_train_predict_proba = pipeline.predict_proba(X_cv_train)\n",
    "            cv_train_roc_auc[fold_counter, c_val_counter] = \\\n",
    "            roc_auc_score(y_cv_train, y_cv_train_predict_proba[:, 1])\n",
    "\n",
    "            # Get the testing ROC AUC\n",
    "            y_cv_test_predict_proba = pipeline.predict_proba(X_cv_test)\n",
    "            cv_test_roc_auc[fold_counter, c_val_counter] = \\\n",
    "            roc_auc_score(y_cv_test, y_cv_test_predict_proba[:, 1])\n",
    "\n",
    "            # Testing ROC curves for each fold\n",
    "            this_fold_roc = roc_curve(y_cv_test, y_cv_test_predict_proba[:, 1])\n",
    "            cv_test_roc[c_val_counter].append(this_fold_roc)\n",
    "\n",
    "            # Increment the fold counter\n",
    "            fold_counter += 1\n",
    "\n",
    "        # Indicate progress\n",
    "        print('Done with C = {}'.format(pipeline.get_params()['model__C']))\n",
    "\n",
    "    return cv_train_roc_auc, cv_test_roc_auc, cv_test_roc"
   ]
  },
  {
   "cell_type": "markdown",
   "metadata": {},
   "source": [
    "### Cross-Validation"
   ]
  },
  {
   "cell_type": "markdown",
   "metadata": {},
   "source": [
    "Let us define a function to see how the folds are divided within the training data:"
   ]
  },
  {
   "cell_type": "code",
   "execution_count": 29,
   "metadata": {},
   "outputs": [],
   "source": [
    "cmap = mpl.cm.get_cmap('tab10')\n",
    "\n",
    "def plot_kfolds(k_folds_iterator, X_train, y_train):\n",
    "    \n",
    "    fold_counter = 0\n",
    "\n",
    "    for train_index, test_index in k_folds_iterator.split(X_train, y_train):\n",
    "\n",
    "        # Axis to hold the plot of this fold\n",
    "        ax = plt.subplot(n_folds, 1, fold_counter+1)\n",
    "\n",
    "        # Background rectangle representing all samples\n",
    "        n_train_samples = len(y_train)\n",
    "        rect = mpl.patches.Rectangle(xy=(0,0), width=n_train_samples, height=1)\n",
    "        ax.add_patch(rect)\n",
    "        \n",
    "        # Plot each testing sample from this fold as a vertical line\n",
    "        for this_text_ix in test_index:\n",
    "            ax.plot([this_text_ix, this_text_ix], [0, 1], color=cmap(1),\n",
    "                    linewidth=0.75)\n",
    "\n",
    "        # Plot formatting\n",
    "        ax.set_xticks([])\n",
    "        ax.set_yticks([])\n",
    "        ax.set_xlim(0, n_train_samples)\n",
    "        ax.set_ylim(0,1)\n",
    "        \n",
    "        # Subplot titles\n",
    "        if fold_counter == 0:\n",
    "            ax.text(0.01, 1.2, 'Training data,',\n",
    "                    transform=ax.transAxes, backgroundcolor = cmap(0))\n",
    "            ax.text(0.20, 1.2, 'testing data:',\n",
    "                transform=ax.transAxes, backgroundcolor = cmap(1))\n",
    "            ax.text(0.45, 1.2, 'Fold {}'.format(fold_counter+1), transform=ax.transAxes)\n",
    "        else:\n",
    "            ax.text(0.45, 1.2, 'Fold {}'.format(fold_counter+1), transform=ax.transAxes)\n",
    "\n",
    "        fold_counter += 1\n",
    "\n",
    "    plt.tight_layout()"
   ]
  },
  {
   "cell_type": "code",
   "execution_count": 30,
   "metadata": {},
   "outputs": [],
   "source": [
    "n_folds = 4\n",
    "k_folds = KFold(n_splits=n_folds)"
   ]
  },
  {
   "cell_type": "markdown",
   "metadata": {},
   "source": [
    "And now the result:"
   ]
  },
  {
   "cell_type": "code",
   "execution_count": 31,
   "metadata": {},
   "outputs": [
    {
     "data": {
      "image/png": "[encoded data removed]",
      "text/plain": [
       "<Figure size 432x288 with 4 Axes>"
      ]
     },
     "metadata": {},
     "output_type": "display_data"
    }
   ],
   "source": [
    "plot_kfolds(k_folds, X_train, y_train)"
   ]
  },
  {
   "cell_type": "markdown",
   "metadata": {},
   "source": [
    "If a Stratified sampling is needed, use the StratifiedKfold class:"
   ]
  },
  {
   "cell_type": "code",
   "execution_count": 32,
   "metadata": {},
   "outputs": [],
   "source": [
    "k_folds_stratified = StratifiedKFold(n_splits=n_folds)"
   ]
  },
  {
   "cell_type": "code",
   "execution_count": 33,
   "metadata": {},
   "outputs": [
    {
     "data": {
      "image/png": "[encoded data removed]",
      "text/plain": [
       "<Figure size 432x288 with 4 Axes>"
      ]
     },
     "metadata": {},
     "output_type": "display_data"
    }
   ],
   "source": [
    "plot_kfolds(k_folds_stratified, X_train, y_train)"
   ]
  },
  {
   "cell_type": "markdown",
   "metadata": {},
   "source": [
    "To \"mix up\" a particlar dataset and the sampling process, use the shuffle argument.\n",
    "\n",
    "Now, let's run the cross_val_C_search function with the k_folds:"
   ]
  },
  {
   "cell_type": "code",
   "execution_count": 34,
   "metadata": {},
   "outputs": [
    {
     "name": "stdout",
     "output_type": "stream",
     "text": [
      "Done with C = 100.0\n",
      "Done with C = 10.0\n",
      "Done with C = 1.0\n",
      "Done with C = 0.1\n",
      "Done with C = 0.01\n",
      "Done with C = 0.001\n"
     ]
    }
   ],
   "source": [
    "cv_train_roc_auc, cv_test_roc_auc, cv_test_roc = \\\n",
    "cross_val_C_search(k_folds_stratified, C_vals, scale_lr_pipeline, X_train, y_train)"
   ]
  },
  {
   "cell_type": "markdown",
   "metadata": {},
   "source": [
    "Let's see the results for each fold and the mean value of all folds:"
   ]
  },
  {
   "cell_type": "code",
   "execution_count": 35,
   "metadata": {},
   "outputs": [
    {
     "data": {
      "text/plain": [
       "Text(0.5, 1.0, 'Cross validation scores for each fold')"
      ]
     },
     "execution_count": 35,
     "metadata": {},
     "output_type": "execute_result"
    },
    {
     "data": {
      "image/png": "[encoded data removed]",
      "text/plain": [
       "<Figure size 432x288 with 1 Axes>"
      ]
     },
     "metadata": {
      "needs_background": "light"
     },
     "output_type": "display_data"
    }
   ],
   "source": [
    "for this_fold in range(k_folds.n_splits):\n",
    "    plt.plot(C_val_exponents, cv_train_roc_auc[this_fold], '-o',\n",
    "             color=cmap(this_fold), label='Training fold {}'.format(this_fold+1))\n",
    "    plt.plot(C_val_exponents, cv_test_roc_auc[this_fold], '-x',\n",
    "             color=cmap(this_fold), label='Testing fold {}'.format(this_fold+1))\n",
    "\n",
    "plt.ylabel('ROC AUC')\n",
    "plt.xlabel('log$_{10}$(C)')\n",
    "plt.legend(loc = [1.1, 0.2])\n",
    "plt.title('Cross validation scores for each fold')"
   ]
  },
  {
   "cell_type": "code",
   "execution_count": 36,
   "metadata": {},
   "outputs": [
    {
     "data": {
      "text/plain": [
       "Text(0.5, 1.0, 'Cross validation on Case Study problem')"
      ]
     },
     "execution_count": 36,
     "metadata": {},
     "output_type": "execute_result"
    },
    {
     "data": {
      "image/png": "[encoded data removed]",
      "text/plain": [
       "<Figure size 432x288 with 1 Axes>"
      ]
     },
     "metadata": {
      "needs_background": "light"
     },
     "output_type": "display_data"
    }
   ],
   "source": [
    "plt.plot(C_val_exponents, np.mean(cv_train_roc_auc, axis=0), '-o',\n",
    "        label='Average training score')\n",
    "plt.plot(C_val_exponents, np.mean(cv_test_roc_auc, axis=0), '-x',\n",
    "        label='Average testing score')\n",
    "\n",
    "plt.ylabel('ROC AUC')\n",
    "plt.xlabel('log$_{10}$(C)')\n",
    "plt.legend()\n",
    "plt.title('Cross validation on Case Study problem')"
   ]
  },
  {
   "cell_type": "markdown",
   "metadata": {},
   "source": [
    "The Regularization did not impart much benefit here, as was be expected (there are few features, only two had powerful predictive capacity, and lots of samples). While the model performance increased over previous efforts by using all the features available, it appears there was no overfitting going on. Instead, the training and testing scores were about the same. Instead of overfitting, it's possible that the model was underfitting. Let's try engineering some interaction features to see if they can improve performance."
   ]
  },
  {
   "cell_type": "markdown",
   "metadata": {},
   "source": [
    "### Feature Engineer\n",
    "\n",
    "Considering the study case dataset, a total of 17 features exist and a total of 26,664 samples were found. Let us feature engineer new variables that may capture the default behaviour besides the one we already saw:"
   ]
  },
  {
   "cell_type": "code",
   "execution_count": 37,
   "metadata": {},
   "outputs": [
    {
     "data": {
      "text/plain": [
       "(26664, 153)"
      ]
     },
     "execution_count": 37,
     "metadata": {},
     "output_type": "execute_result"
    }
   ],
   "source": [
    "make_interactions = PolynomialFeatures(degree=2, interaction_only=True, include_bias=False)\n",
    "\n",
    "X_interact = make_interactions.fit_transform(X)\n",
    "X_interact.shape"
   ]
  },
  {
   "cell_type": "markdown",
   "metadata": {},
   "source": [
    "From this it is possible to see that the new number of features is 153. which is 17 + \"17 choose 2\" = 17 + 136 = 153. The \"17 choose 2\" part comes from choosing all possible combinations of 2 features to interact from the possible 17."
   ]
  },
  {
   "cell_type": "code",
   "execution_count": 38,
   "metadata": {},
   "outputs": [],
   "source": [
    "X_train, X_test, y_train, y_test = train_test_split(X_interact, \n",
    "                                                    df['default_payment_next_month'].values,\n",
    "                                                    test_size=0.2, \n",
    "                                                    random_state=24)"
   ]
  },
  {
   "cell_type": "markdown",
   "metadata": {},
   "source": [
    "The following might take a while:"
   ]
  },
  {
   "cell_type": "code",
   "execution_count": 39,
   "metadata": {},
   "outputs": [
    {
     "name": "stderr",
     "output_type": "stream",
     "text": [
      "/home/jeancarlo/venv/lib/python3.8/site-packages/sklearn/linear_model/_sag.py:328: ConvergenceWarning: The max_iter was reached which means the coef_ did not converge\n",
      "  warnings.warn(\"The max_iter was reached which means \"\n",
      "/home/jeancarlo/venv/lib/python3.8/site-packages/sklearn/linear_model/_sag.py:328: ConvergenceWarning: The max_iter was reached which means the coef_ did not converge\n",
      "  warnings.warn(\"The max_iter was reached which means \"\n",
      "/home/jeancarlo/venv/lib/python3.8/site-packages/sklearn/linear_model/_sag.py:328: ConvergenceWarning: The max_iter was reached which means the coef_ did not converge\n",
      "  warnings.warn(\"The max_iter was reached which means \"\n",
      "/home/jeancarlo/venv/lib/python3.8/site-packages/sklearn/linear_model/_sag.py:328: ConvergenceWarning: The max_iter was reached which means the coef_ did not converge\n",
      "  warnings.warn(\"The max_iter was reached which means \"\n"
     ]
    },
    {
     "name": "stdout",
     "output_type": "stream",
     "text": [
      "Done with C = 100.0\n"
     ]
    },
    {
     "name": "stderr",
     "output_type": "stream",
     "text": [
      "/home/jeancarlo/venv/lib/python3.8/site-packages/sklearn/linear_model/_sag.py:328: ConvergenceWarning: The max_iter was reached which means the coef_ did not converge\n",
      "  warnings.warn(\"The max_iter was reached which means \"\n",
      "/home/jeancarlo/venv/lib/python3.8/site-packages/sklearn/linear_model/_sag.py:328: ConvergenceWarning: The max_iter was reached which means the coef_ did not converge\n",
      "  warnings.warn(\"The max_iter was reached which means \"\n",
      "/home/jeancarlo/venv/lib/python3.8/site-packages/sklearn/linear_model/_sag.py:328: ConvergenceWarning: The max_iter was reached which means the coef_ did not converge\n",
      "  warnings.warn(\"The max_iter was reached which means \"\n",
      "/home/jeancarlo/venv/lib/python3.8/site-packages/sklearn/linear_model/_sag.py:328: ConvergenceWarning: The max_iter was reached which means the coef_ did not converge\n",
      "  warnings.warn(\"The max_iter was reached which means \"\n"
     ]
    },
    {
     "name": "stdout",
     "output_type": "stream",
     "text": [
      "Done with C = 10.0\n"
     ]
    },
    {
     "name": "stderr",
     "output_type": "stream",
     "text": [
      "/home/jeancarlo/venv/lib/python3.8/site-packages/sklearn/linear_model/_sag.py:328: ConvergenceWarning: The max_iter was reached which means the coef_ did not converge\n",
      "  warnings.warn(\"The max_iter was reached which means \"\n",
      "/home/jeancarlo/venv/lib/python3.8/site-packages/sklearn/linear_model/_sag.py:328: ConvergenceWarning: The max_iter was reached which means the coef_ did not converge\n",
      "  warnings.warn(\"The max_iter was reached which means \"\n",
      "/home/jeancarlo/venv/lib/python3.8/site-packages/sklearn/linear_model/_sag.py:328: ConvergenceWarning: The max_iter was reached which means the coef_ did not converge\n",
      "  warnings.warn(\"The max_iter was reached which means \"\n"
     ]
    },
    {
     "name": "stdout",
     "output_type": "stream",
     "text": [
      "Done with C = 1.0\n",
      "Done with C = 0.1\n",
      "Done with C = 0.01\n",
      "Done with C = 0.001\n"
     ]
    }
   ],
   "source": [
    "cv_train_roc_auc, cv_test_roc_auc, cv_test_roc = \\\n",
    "    cross_val_C_search(k_folds, C_vals, scale_lr_pipeline, X_train, y_train)"
   ]
  },
  {
   "cell_type": "code",
   "execution_count": 40,
   "metadata": {},
   "outputs": [
    {
     "data": {
      "text/plain": [
       "Text(0.5, 1.0, 'Cross validation scores for each fold')"
      ]
     },
     "execution_count": 40,
     "metadata": {},
     "output_type": "execute_result"
    },
    {
     "data": {
      "image/png": "[encoded data removed]",
      "text/plain": [
       "<Figure size 432x288 with 1 Axes>"
      ]
     },
     "metadata": {
      "needs_background": "light"
     },
     "output_type": "display_data"
    }
   ],
   "source": [
    "for this_fold in range(k_folds.n_splits):\n",
    "    plt.plot(C_val_exponents, cv_train_roc_auc[this_fold], '-o',\n",
    "             color=cmap(this_fold), label='Training fold {}'.format(this_fold+1))\n",
    "    plt.plot(C_val_exponents, cv_test_roc_auc[this_fold], '-x',\n",
    "             color=cmap(this_fold), label='Testing fold {}'.format(this_fold+1))\n",
    "\n",
    "plt.ylabel('ROC AUC')\n",
    "plt.xlabel('log$_{10}$(C)')\n",
    "plt.legend(loc = [1.1, 0.2])\n",
    "plt.title('Cross validation scores for each fold')"
   ]
  },
  {
   "cell_type": "code",
   "execution_count": 41,
   "metadata": {},
   "outputs": [
    {
     "data": {
      "text/plain": [
       "Text(0.5, 1.0, 'Cross validation on Case Study problem')"
      ]
     },
     "execution_count": 41,
     "metadata": {},
     "output_type": "execute_result"
    },
    {
     "data": {
      "image/png": "[encoded data removed]",
      "text/plain": [
       "<Figure size 432x288 with 1 Axes>"
      ]
     },
     "metadata": {
      "needs_background": "light"
     },
     "output_type": "display_data"
    }
   ],
   "source": [
    "plt.plot(C_val_exponents, np.mean(cv_train_roc_auc, axis=0), '-o',\n",
    "        label='Average training score')\n",
    "plt.plot(C_val_exponents, np.mean(cv_test_roc_auc, axis=0), '-x',\n",
    "        label='Average testing score')\n",
    "\n",
    "plt.ylabel('ROC AUC')\n",
    "plt.xlabel('log$_{10}$(C)')\n",
    "plt.legend()\n",
    "plt.title('Cross validation on Case Study problem')"
   ]
  },
  {
   "cell_type": "markdown",
   "metadata": {},
   "source": [
    "Engineering the interaction features increased the best model testing score to about ROC AUC = 0.74 on average across the folds, from about 0.72 without including interactions. These scores happened at C = 100, that is, with negligible regularization. \n",
    "\n",
    "On the plot of training versus testing scores for the model with interactions, it is possible to see that the training score was a bit higher than the testing score, so it could be said that some amount of overfitting was going on. However, it could not be possible to increase the testing score through regularization here, so this may\n",
    "not be a problematic instance of overfitting. In most cases, whatever strategy yields the highest testing score is the best strategy."
   ]
  }
 ],
 "metadata": {
  "kernelspec": {
   "display_name": "Python 3",
   "language": "python",
   "name": "python3"
  },
  "language_info": {
   "codemirror_mode": {
    "name": "ipython",
    "version": 3
   },
   "file_extension": ".py",
   "mimetype": "text/x-python",
   "name": "python",
   "nbconvert_exporter": "python",
   "pygments_lexer": "ipython3",
   "version": "3.8.5"
  }
 },
 "nbformat": 4,
 "nbformat_minor": 4
}
