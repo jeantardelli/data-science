{
 "cells": [
  {
   "cell_type": "markdown",
   "metadata": {},
   "source": [
    "## The Bias Variance Trade-off"
   ]
  },
  {
   "cell_type": "markdown",
   "metadata": {},
   "source": [
    "### Packages Versions"
   ]
  },
  {
   "cell_type": "code",
   "execution_count": 1,
   "metadata": {},
   "outputs": [
    {
     "name": "stdout",
     "output_type": "stream",
     "text": [
      "The Python version is 3.8.5 (default, Jul 28 2020, 12:59:40) \n",
      "[GCC 9.3.0].\n",
      "\n",
      "The Numpy version is 1.19.1.\n",
      "\n",
      "The Pandas version is 1.1.0.\n",
      "\n",
      "The Matplotlib version is 3.3.3.\n",
      "\n",
      "The Scikit-Learn version is 0.24.0.\n",
      "\n"
     ]
    }
   ],
   "source": [
    "import sys\n",
    "import sklearn\n",
    "import numpy as np\n",
    "import pandas as pd\n",
    "import matplotlib as mpl\n",
    "import matplotlib.pyplot as plt\n",
    "\n",
    "%matplotlib inline\n",
    "\n",
    "from sklearn import metrics\n",
    "from sklearn.linear_model import LogisticRegression\n",
    "from sklearn.model_selection import train_test_split\n",
    "\n",
    "print('The Python version is {}.\\n'.format(sys.version))\n",
    "print('The Numpy version is {}.\\n'.format(np.__version__))\n",
    "print('The Pandas version is {}.\\n'.format(pd.__version__))\n",
    "print('The Matplotlib version is {}.\\n'.format(mpl.__version__))\n",
    "print('The Scikit-Learn version is {}.\\n'.format(sklearn.__version__))"
   ]
  },
  {
   "cell_type": "markdown",
   "metadata": {},
   "source": [
    "### Logistic Regression Coefficients and Intercept Estimation"
   ]
  },
  {
   "cell_type": "markdown",
   "metadata": {},
   "source": [
    "The **parameters** of a Logistic Regression model reflect the best approximation to the data. The process of finding this best approximation is called **estimation**. To estimate the best parameters the model uses a concept of **cost function**, which is a way of telling how far the model prediction are from perfectly describing the data.\n",
    "\n",
    "In classification models there are different cost functions, being their particularities dependent on the model itself. Specifically in fitting logistic regression models, a typical cost function is the **log-loss** function (also called **cross entropy loss**):\n",
    "\n",
    ">$ \\text{LL} = \\frac{1}{n}\\sum_{i=1}^{n} - (y_{i}\\log(p_{i}) + (1 - y_{i})\\log(1 - p_{i}))$\n",
    "\n",
    "Where $n$ is the training samples number, $y_{i}$ is the ture label (0 or 1) of the *i-th* sample, $p_{i}$ is the predicted probability $\\frac{1}{1 + e^{-X}}$ that the *i-th* samples equals 1, and $\\log$ is the natural logarithm. \n",
    "\n",
    "The summation notation over all the training samples and the division by $n$ serve to take the average of this cost function over all training samples.\n",
    "\n",
    "Let's examine the log-loss function arguments. First, the natural logarithm distribution:"
   ]
  },
  {
   "cell_type": "code",
   "execution_count": 2,
   "metadata": {},
   "outputs": [
    {
     "name": "stdout",
     "output_type": "stream",
     "text": [
      "[0.01 0.02 0.03 0.04 0.05] ... [0.96 0.97 0.98 0.99]\n",
      "[-4.60517019 -3.91202301] ... [-0.02020271 -0.01005034]\n"
     ]
    },
    {
     "data": {
      "text/plain": [
       "Text(0.5, 1.0, 'Natural Logarithm')"
      ]
     },
     "execution_count": 2,
     "metadata": {},
     "output_type": "execute_result"
    },
    {
     "data": {
      "image/png": "[encoded data removed]",
      "text/plain": [
       "<Figure size 432x288 with 1 Axes>"
      ]
     },
     "metadata": {
      "needs_background": "light"
     },
     "output_type": "display_data"
    }
   ],
   "source": [
    "X_log = np.linspace(0.01, 0.99, 99)\n",
    "y_log = np.log(X_log)\n",
    "\n",
    "print(X_log[:5], '...', X_log[-4:])\n",
    "print(y_log[:2], '...', y_log[-2:])\n",
    "\n",
    "plt.plot(X_log, y_log)\n",
    "plt.title('Natural Logarithm')"
   ]
  },
  {
   "cell_type": "markdown",
   "metadata": {},
   "source": [
    "So, for a sample with positive class (in other words, with *y = 1*) the $(1 - y_{i})$ term equals zero and the cost function is reduced to:\n",
    "\n",
    "> $ \\text{LL} = \\frac{1}{n}\\sum_{i=1}^{n} - (\\log(p_{i}))$\n",
    "\n",
    "And the cost function is the negative of the natural logarithm of the predicted probability $p_{i}$. If this sample is correctly classified and the probability to be a positive class be close to 1, the $\\log(p_{i})$  term will be close to 0. If, on the other hand, this sample is incorreclty predicted with a small $p_{i}$ value, the log loss will be high and therefore increase the overall sum.\n",
    "\n",
    "For a sample with negative class (in other words, with *y = 0*) the $y_{i}\\log(p_{i})$ term equals zeor and the cost function is reduced to:\n",
    "\n",
    "> $ \\text{LL} = \\frac{1}{n}\\sum_{i=1}^{n} - (\\log(1 - p_{i}))$\n",
    "\n",
    "And therefore, a similar behaviour occurs for the log loss value when the model predict a negative sample incorrectly. The $p_{i}$ will be high and the term $(1 - p_{i})$ will be low;"
   ]
  },
  {
   "cell_type": "markdown",
   "metadata": {},
   "source": [
    "#### Gradient Descent\n",
    "\n",
    "To find the best parameters, the a problem of **optimization** is set using the cost function. The **gradient descent** is the method used to make the **estimations**. It is an iterative algorithm that randomly attributes initial parameters values and iterates over the *error surface* - that is, the distribution of the **log loss** for different samples parameters - to find the least virtually cost. The gradient descent is calculated as:\n",
    "\n",
    "> $x_{new} = x_{old} - f'(x_{old}) * \\alpha$\n",
    "\n",
    "Where $\\alpha$ is the learning rate.\n",
    "\n",
    "The new parameters values is based in the current guess $x_{old}$ and the derivative of it, $f'(x_{old})$, times a learning rate, being the learning rate a *step* to a *descent* - towards the local minimum - process.\n",
    "\n",
    "\n",
    "So, for the Logistic Regression using the log loss cost function with just one feature, the first derivative result in (after some math that is omitted here):\n",
    "\n",
    "> $\\text{LL}' = \\frac{1}{n} (y_{i} - p_{i}) * X_{j}$\n",
    "\n",
    "Where $X_{j}$ is the is the input samples for the j-th input feature.\n"
   ]
  },
  {
   "cell_type": "markdown",
   "metadata": {},
   "source": [
    "Let's simulate the process of finding the best parameters using synthetic data. The data will have only one feature, called **feat_1**, that is in fact a third degree polynomial:"
   ]
  },
  {
   "cell_type": "code",
   "execution_count": 3,
   "metadata": {},
   "outputs": [
    {
     "data": {
      "text/plain": [
       "<matplotlib.legend.Legend at 0x7f7b37e93340>"
      ]
     },
     "execution_count": 3,
     "metadata": {},
     "output_type": "execute_result"
    },
    {
     "data": {
      "image/png": "[encoded data removed]",
      "text/plain": [
       "<Figure size 432x288 with 1 Axes>"
      ]
     },
     "metadata": {
      "needs_background": "light"
     },
     "output_type": "display_data"
    }
   ],
   "source": [
    "np.random.seed(seed=1)\n",
    "\n",
    "X_poly = np.linspace(-4, 3, 101)\n",
    "\n",
    "X_rand = np.random.uniform(0, 20, (101,))\n",
    "Y_poly = X_poly ** 3 + X_poly ** 2 + X_poly + 3\n",
    "Y_dist = X_poly ** 3 + X_poly ** 2 + X_poly + 3 + X_rand\n",
    "\n",
    "y_true = X_poly >= 0\n",
    "\n",
    "plt.plot(X_poly, Y_poly, 'r--')\n",
    "plt.scatter(X_poly, Y_dist, s=10)\n",
    "plt.ylabel('y')\n",
    "plt.xlabel('x')\n",
    "plt.title('Third degree polynomial with Normal noise')\n",
    "plt.legend(['3rd degree poly', '3rd degree poly w/ noise'])"
   ]
  },
  {
   "cell_type": "markdown",
   "metadata": {},
   "source": [
    "Let's create a DataFrame object:"
   ]
  },
  {
   "cell_type": "code",
   "execution_count": 4,
   "metadata": {},
   "outputs": [],
   "source": [
    "df = pd.DataFrame({'feat_1': Y_dist, 'response': y_true})"
   ]
  },
  {
   "cell_type": "markdown",
   "metadata": {},
   "source": [
    "And create train and tests sets:"
   ]
  },
  {
   "cell_type": "code",
   "execution_count": 5,
   "metadata": {},
   "outputs": [
    {
     "name": "stdout",
     "output_type": "stream",
     "text": [
      "(80,)\n",
      "(21,)\n"
     ]
    }
   ],
   "source": [
    "X_train, X_test, y_train, y_test = train_test_split(\n",
    "    df.feat_1, df.response, test_size=0.2, random_state=24)\n",
    "print(X_train.shape)\n",
    "print(X_test.shape)"
   ]
  },
  {
   "cell_type": "markdown",
   "metadata": {},
   "source": [
    "Now, let's declare the logistic regression model with the training data:"
   ]
  },
  {
   "cell_type": "code",
   "execution_count": 6,
   "metadata": {},
   "outputs": [
    {
     "data": {
      "text/plain": [
       "LogisticRegression()"
      ]
     },
     "execution_count": 6,
     "metadata": {},
     "output_type": "execute_result"
    }
   ],
   "source": [
    "model = LogisticRegression()\n",
    "model.fit(np.array(X_train).reshape(-1, 1), np.array(y_train))"
   ]
  },
  {
   "cell_type": "markdown",
   "metadata": {},
   "source": [
    "Let's map the true values for the train data that will be used in the log loss functions and gradient functions:"
   ]
  },
  {
   "cell_type": "code",
   "execution_count": 7,
   "metadata": {},
   "outputs": [],
   "source": [
    "y_train_true = np.array(y_train.map({True:1, False:0}))"
   ]
  },
  {
   "cell_type": "markdown",
   "metadata": {},
   "source": [
    "Let's see the coefficients and the intercept paramenters of the model:"
   ]
  },
  {
   "cell_type": "code",
   "execution_count": 8,
   "metadata": {},
   "outputs": [
    {
     "data": {
      "text/plain": [
       "(array([[0.22758664]]), array([-3.6139925]))"
      ]
     },
     "execution_count": 8,
     "metadata": {},
     "output_type": "execute_result"
    }
   ],
   "source": [
    "model.coef_, model.intercept_"
   ]
  },
  {
   "cell_type": "code",
   "execution_count": 9,
   "metadata": {},
   "outputs": [
    {
     "data": {
      "text/plain": [
       "array([[-3.6139925 ,  0.22758664]])"
      ]
     },
     "execution_count": 9,
     "metadata": {},
     "output_type": "execute_result"
    }
   ],
   "source": [
    "intercept_and_coefs = np.concatenate([model.intercept_.reshape(1,1), model.coef_], axis=1)\n",
    "intercept_and_coefs"
   ]
  },
  {
   "cell_type": "markdown",
   "metadata": {},
   "source": [
    "Now, let's create some functions that will allow the parameter estimation manually:"
   ]
  },
  {
   "cell_type": "code",
   "execution_count": 10,
   "metadata": {},
   "outputs": [],
   "source": [
    "def sigmoid(X):\n",
    "    \"\"\"\n",
    "    Calculates the Sigmoid values of an array input.\n",
    "\n",
    "    Arguments:\n",
    "        X: Numpy array or DataFrame object\n",
    "    Returns:\n",
    "       Numpy array\n",
    "    \"\"\"\n",
    "    return 1/(1 + np.exp(-X))\n",
    "\n",
    "def linear_comb(X, Y):\n",
    "    \"\"\"\n",
    "    Calculates the Linear Combination of two arrays (or pandas objects)\n",
    "\n",
    "    Arguments:\n",
    "        X, Y: Numpy arrays or DataFrame objects\n",
    "    Returns:\n",
    "        A Numpy array\n",
    "    \"\"\"\n",
    "    assert X.shape[1] == Y.shape[0]\n",
    "    return np.dot(X, Y)\n",
    "\n",
    "def feature_array(X):\n",
    "    \"\"\"\n",
    "    Make an array of features, with a column of 1s added, using horizontal stack\n",
    "\n",
    "    Arguments:\n",
    "        X: Numpy array or Dataframe object\n",
    "    Returns:\n",
    "        Numpy array\n",
    "    \"\"\"\n",
    "    if len(X.shape) == 1:\n",
    "        n = X.shape[0]\n",
    "    else:\n",
    "        n = X.shape[1]\n",
    "    \n",
    "    return np.hstack([np.ones((n, 1)),\n",
    "                      np.array(X).reshape(-1,1)])"
   ]
  },
  {
   "cell_type": "markdown",
   "metadata": {},
   "source": [
    "Let's create also a dataframe with the coefficients for each epoch. This will allow to track each iteration of the estimation process:"
   ]
  },
  {
   "cell_type": "code",
   "execution_count": 11,
   "metadata": {},
   "outputs": [
    {
     "data": {
      "text/html": [
       "<div>\n",
       "<style scoped>\n",
       "    .dataframe tbody tr th:only-of-type {\n",
       "        vertical-align: middle;\n",
       "    }\n",
       "\n",
       "    .dataframe tbody tr th {\n",
       "        vertical-align: top;\n",
       "    }\n",
       "\n",
       "    .dataframe thead th {\n",
       "        text-align: right;\n",
       "    }\n",
       "</style>\n",
       "<table border=\"1\" class=\"dataframe\">\n",
       "  <thead>\n",
       "    <tr style=\"text-align: right;\">\n",
       "      <th></th>\n",
       "      <th>epochs</th>\n",
       "      <th>theta_0</th>\n",
       "      <th>theta_1</th>\n",
       "      <th>cost</th>\n",
       "    </tr>\n",
       "  </thead>\n",
       "  <tbody>\n",
       "    <tr>\n",
       "      <th>0</th>\n",
       "      <td>0</td>\n",
       "      <td>0</td>\n",
       "      <td>0</td>\n",
       "      <td>inf</td>\n",
       "    </tr>\n",
       "  </tbody>\n",
       "</table>\n",
       "</div>"
      ],
      "text/plain": [
       "   epochs  theta_0  theta_1  cost\n",
       "0       0        0        0   inf"
      ]
     },
     "execution_count": 11,
     "metadata": {},
     "output_type": "execute_result"
    }
   ],
   "source": [
    "coefs = pd.DataFrame({'epochs': [0], 'theta_0': [0], 'theta_1': [0], 'cost': [np.inf]})\n",
    "coefs"
   ]
  },
  {
   "cell_type": "markdown",
   "metadata": {},
   "source": [
    "Let's define the log loss function, the log loss gradient and the probability function:"
   ]
  },
  {
   "cell_type": "code",
   "execution_count": 12,
   "metadata": {},
   "outputs": [],
   "source": [
    "def probabilities(X, Y):\n",
    "    \"\"\"\n",
    "    Calculates the Logistic Regression positive class probabilities\n",
    "\n",
    "    Arguments:\n",
    "        X, Y: Numpy array\n",
    "    Returns:\n",
    "        Numpy array\n",
    "    \"\"\"\n",
    "    return sigmoid(linear_comb(X, Y.T))\n",
    "\n",
    "def log_loss(Y, T, X):\n",
    "    \"\"\"\n",
    "    Estimates the log loss cost function.\n",
    "\n",
    "    Arguments:\n",
    "       Y, T, X: Numpy Array\n",
    "    Returns:\n",
    "       Numpy Array\n",
    "    \"\"\"\n",
    "    n = len(Y)\n",
    "    p = probabilities(X, T)\n",
    "\n",
    "    total_cost = -(Y * np.log(p) + (1 - Y) * np.log(1 - p))\n",
    "\n",
    "    return np.sum(total_cost) / n\n",
    "\n",
    "def log_loss_gradient(Y, T, X):\n",
    "    \"\"\"\n",
    "    Calculates the log loss gradient.\n",
    "\n",
    "    Arguments:\n",
    "        Y, T, X: Numpy Array\n",
    "    Returns:\n",
    "        Numpy Array\n",
    "    \"\"\"\n",
    "    p = -(Y - probabilities(X, T))\n",
    "\n",
    "    return (1/len(X)) * linear_comb(p.T, X)"
   ]
  },
  {
   "cell_type": "markdown",
   "metadata": {},
   "source": [
    "For each epoch, we will save the values obtained in the estimation process in the coefs dataframe:"
   ]
  },
  {
   "cell_type": "code",
   "execution_count": 13,
   "metadata": {},
   "outputs": [],
   "source": [
    "coefs = pd.DataFrame({'epochs': [0], 'theta_0': [0], 'theta_1': [0], 'cost': [np.nan]})\n",
    "learning_rate = .05\n",
    "\n",
    "for i in range(1, 1000):\n",
    "    old = np.array(coefs[['theta_0', 'theta_1']].loc[i-1]).reshape(1,2)\n",
    "    gradient = log_loss_gradient(y_train_true.reshape(-1, 1),\n",
    "                                 old, \n",
    "                                 feature_array(X_train))\n",
    "    new = old - (gradient * learning_rate)\n",
    "    cost = log_loss(y_train_true.reshape(-1, 1),\n",
    "                    new,\n",
    "                    feature_array(X_train))\n",
    "\n",
    "    coefs = coefs.append({'epochs': i,\n",
    "                          'theta_0': new[0][0],\n",
    "                          'theta_1': new[0][1],\n",
    "                          'cost': cost}, ignore_index=True)"
   ]
  },
  {
   "cell_type": "code",
   "execution_count": 14,
   "metadata": {},
   "outputs": [
    {
     "data": {
      "text/html": [
       "<div>\n",
       "<style scoped>\n",
       "    .dataframe tbody tr th:only-of-type {\n",
       "        vertical-align: middle;\n",
       "    }\n",
       "\n",
       "    .dataframe tbody tr th {\n",
       "        vertical-align: top;\n",
       "    }\n",
       "\n",
       "    .dataframe thead th {\n",
       "        text-align: right;\n",
       "    }\n",
       "</style>\n",
       "<table border=\"1\" class=\"dataframe\">\n",
       "  <thead>\n",
       "    <tr style=\"text-align: right;\">\n",
       "      <th></th>\n",
       "      <th>epochs</th>\n",
       "      <th>theta_0</th>\n",
       "      <th>theta_1</th>\n",
       "      <th>cost</th>\n",
       "    </tr>\n",
       "  </thead>\n",
       "  <tbody>\n",
       "    <tr>\n",
       "      <th>0</th>\n",
       "      <td>0.0</td>\n",
       "      <td>0.000000</td>\n",
       "      <td>0.000000</td>\n",
       "      <td>NaN</td>\n",
       "    </tr>\n",
       "    <tr>\n",
       "      <th>1</th>\n",
       "      <td>1.0</td>\n",
       "      <td>-0.005625</td>\n",
       "      <td>0.286111</td>\n",
       "      <td>1.121069</td>\n",
       "    </tr>\n",
       "    <tr>\n",
       "      <th>2</th>\n",
       "      <td>2.0</td>\n",
       "      <td>-0.022261</td>\n",
       "      <td>0.119162</td>\n",
       "      <td>0.623601</td>\n",
       "    </tr>\n",
       "    <tr>\n",
       "      <th>3</th>\n",
       "      <td>3.0</td>\n",
       "      <td>-0.036138</td>\n",
       "      <td>0.011686</td>\n",
       "      <td>0.630216</td>\n",
       "    </tr>\n",
       "    <tr>\n",
       "      <th>4</th>\n",
       "      <td>4.0</td>\n",
       "      <td>-0.042604</td>\n",
       "      <td>0.227193</td>\n",
       "      <td>0.917138</td>\n",
       "    </tr>\n",
       "    <tr>\n",
       "      <th>...</th>\n",
       "      <td>...</td>\n",
       "      <td>...</td>\n",
       "      <td>...</td>\n",
       "      <td>...</td>\n",
       "    </tr>\n",
       "    <tr>\n",
       "      <th>995</th>\n",
       "      <td>995.0</td>\n",
       "      <td>-2.709599</td>\n",
       "      <td>0.176171</td>\n",
       "      <td>0.312043</td>\n",
       "    </tr>\n",
       "    <tr>\n",
       "      <th>996</th>\n",
       "      <td>996.0</td>\n",
       "      <td>-2.710446</td>\n",
       "      <td>0.176218</td>\n",
       "      <td>0.312029</td>\n",
       "    </tr>\n",
       "    <tr>\n",
       "      <th>997</th>\n",
       "      <td>997.0</td>\n",
       "      <td>-2.711293</td>\n",
       "      <td>0.176265</td>\n",
       "      <td>0.312015</td>\n",
       "    </tr>\n",
       "    <tr>\n",
       "      <th>998</th>\n",
       "      <td>998.0</td>\n",
       "      <td>-2.712138</td>\n",
       "      <td>0.176312</td>\n",
       "      <td>0.312000</td>\n",
       "    </tr>\n",
       "    <tr>\n",
       "      <th>999</th>\n",
       "      <td>999.0</td>\n",
       "      <td>-2.712982</td>\n",
       "      <td>0.176359</td>\n",
       "      <td>0.311986</td>\n",
       "    </tr>\n",
       "  </tbody>\n",
       "</table>\n",
       "<p>1000 rows × 4 columns</p>\n",
       "</div>"
      ],
      "text/plain": [
       "     epochs   theta_0   theta_1      cost\n",
       "0       0.0  0.000000  0.000000       NaN\n",
       "1       1.0 -0.005625  0.286111  1.121069\n",
       "2       2.0 -0.022261  0.119162  0.623601\n",
       "3       3.0 -0.036138  0.011686  0.630216\n",
       "4       4.0 -0.042604  0.227193  0.917138\n",
       "..      ...       ...       ...       ...\n",
       "995   995.0 -2.709599  0.176171  0.312043\n",
       "996   996.0 -2.710446  0.176218  0.312029\n",
       "997   997.0 -2.711293  0.176265  0.312015\n",
       "998   998.0 -2.712138  0.176312  0.312000\n",
       "999   999.0 -2.712982  0.176359  0.311986\n",
       "\n",
       "[1000 rows x 4 columns]"
      ]
     },
     "execution_count": 14,
     "metadata": {},
     "output_type": "execute_result"
    }
   ],
   "source": [
    "coefs"
   ]
  },
  {
   "cell_type": "markdown",
   "metadata": {},
   "source": [
    "Lets plot the log loss cost function for this synthetic data:"
   ]
  },
  {
   "cell_type": "code",
   "execution_count": 15,
   "metadata": {},
   "outputs": [
    {
     "data": {
      "text/plain": [
       "Text(0.5, 1.0, 'Logistic Regression Training')"
      ]
     },
     "execution_count": 15,
     "metadata": {},
     "output_type": "execute_result"
    },
    {
     "data": {
      "image/png": "[encoded data removed]",
      "text/plain": [
       "<Figure size 432x288 with 1 Axes>"
      ]
     },
     "metadata": {
      "needs_background": "light"
     },
     "output_type": "display_data"
    }
   ],
   "source": [
    "plt.plot(coefs.epochs, coefs.cost)\n",
    "plt.ylabel('Cost Function')\n",
    "plt.xlabel('Epochs')\n",
    "plt.title('Logistic Regression Training')"
   ]
  },
  {
   "cell_type": "markdown",
   "metadata": {},
   "source": [
    "It is possible to see from the above figure that the log loss function stoped at a minimum. In the beggining, the log loss values were somewhat erratic, but then it smoothed after 200 iterations.\n",
    "\n",
    "Lets verify the log loss for the result parameters and compare with the LogisticRegression model:"
   ]
  },
  {
   "cell_type": "code",
   "execution_count": 16,
   "metadata": {},
   "outputs": [
    {
     "data": {
      "text/html": [
       "<div>\n",
       "<style scoped>\n",
       "    .dataframe tbody tr th:only-of-type {\n",
       "        vertical-align: middle;\n",
       "    }\n",
       "\n",
       "    .dataframe tbody tr th {\n",
       "        vertical-align: top;\n",
       "    }\n",
       "\n",
       "    .dataframe thead th {\n",
       "        text-align: right;\n",
       "    }\n",
       "</style>\n",
       "<table border=\"1\" class=\"dataframe\">\n",
       "  <thead>\n",
       "    <tr style=\"text-align: right;\">\n",
       "      <th></th>\n",
       "      <th>epochs</th>\n",
       "      <th>theta_0</th>\n",
       "      <th>theta_1</th>\n",
       "      <th>cost</th>\n",
       "    </tr>\n",
       "  </thead>\n",
       "  <tbody>\n",
       "    <tr>\n",
       "      <th>999</th>\n",
       "      <td>999.0</td>\n",
       "      <td>-2.712982</td>\n",
       "      <td>0.176359</td>\n",
       "      <td>0.311986</td>\n",
       "    </tr>\n",
       "  </tbody>\n",
       "</table>\n",
       "</div>"
      ],
      "text/plain": [
       "     epochs   theta_0   theta_1      cost\n",
       "999   999.0 -2.712982  0.176359  0.311986"
      ]
     },
     "execution_count": 16,
     "metadata": {},
     "output_type": "execute_result"
    }
   ],
   "source": [
    "mask = coefs.cost == coefs.cost.min()\n",
    "coefs[mask]"
   ]
  },
  {
   "cell_type": "code",
   "execution_count": 17,
   "metadata": {},
   "outputs": [
    {
     "name": "stdout",
     "output_type": "stream",
     "text": [
      "Logistic Regression model intercept and coefficient: [[-3.6139925   0.22758664]]\n",
      "Manual Regression model intercept and coefficient: [[-2.71298235  0.17635905]]\n"
     ]
    }
   ],
   "source": [
    "print('Logistic Regression model intercept and coefficient: {}'.format(intercept_and_coefs))\n",
    "print('Manual Regression model intercept and coefficient: {}'.format(coefs[['theta_0', 'theta_1']][mask].values))"
   ]
  },
  {
   "cell_type": "markdown",
   "metadata": {},
   "source": [
    "Not bat, pretty close. Let's compare the log loss cost function:"
   ]
  },
  {
   "cell_type": "code",
   "execution_count": 18,
   "metadata": {},
   "outputs": [
    {
     "name": "stdout",
     "output_type": "stream",
     "text": [
      "Logistic Regression model cost: 0.304990771795166\n",
      "Manual Regression model cost: 0.31198596238577425\n"
     ]
    }
   ],
   "source": [
    "model_cost = log_loss(y_train_true.reshape(-1, 1),\n",
    "                      intercept_and_coefs,\n",
    "                      feature_array(X_train))\n",
    "\n",
    "print('Logistic Regression model cost: {}'.format(model_cost))\n",
    "print('Manual Regression model cost: {}'.format(coefs.cost[mask].values[0]))"
   ]
  },
  {
   "cell_type": "markdown",
   "metadata": {},
   "source": [
    "As it is possible to see, the manual model cost for the final estimation parameters is pretty close to the scikit-learn model."
   ]
  },
  {
   "cell_type": "code",
   "execution_count": 20,
   "metadata": {},
   "outputs": [
    {
     "data": {
      "text/plain": [
       "<matplotlib.legend.Legend at 0x7f7b37d0c730>"
      ]
     },
     "execution_count": 20,
     "metadata": {},
     "output_type": "execute_result"
    },
    {
     "data": {
      "image/png": "[encoded data removed]",
      "text/plain": [
       "<Figure size 432x288 with 1 Axes>"
      ]
     },
     "metadata": {
      "needs_background": "light"
     },
     "output_type": "display_data"
    }
   ],
   "source": [
    "X_man = linear_comb(feature_array(df.feat_1.sort_values()), \n",
    "                    np.array(coefs[['theta_0', 'theta_1']].loc[999]).reshape(1,2).T)\n",
    "Y_man = sigmoid(X_man)\n",
    "\n",
    "X = linear_comb(feature_array(df.feat_1.sort_values()), \n",
    "                intercept_and_coefs.T)\n",
    "Y = sigmoid(X)\n",
    "\n",
    "plt.scatter(df.feat_1, df.response, s=5, c='y')\n",
    "plt.plot(X, Y)\n",
    "plt.plot(X, Y_man)\n",
    "plt.ylabel('response variable')\n",
    "plt.xlabel('feat_1')\n",
    "plt.legend(['Manual Model', 'Scikit-learn Model', 'feat_1'])"
   ]
  },
  {
   "cell_type": "markdown",
   "metadata": {},
   "source": [
    "### Assumptions of Logistic Regression\n",
    "\n",
    "Since it is a classical statistical model, similar to F-test and Pearson correlation, logistic regression makes certain assumptions about the data. It is good to be aware of them, though in practice a model could be applied in less stricty situations.\n",
    "\n",
    "**Features are linear in the log odds**\n",
    "\n",
    "As Logistic Regression is a linear model (see details-of-logistic-regression-and-feature-exploration file), it is expected that the features describe a linear trend in the log odds. If not, as is the case with **pay_1** feature, the algorithm would not perform well.\n",
    "\n",
    "**No Multicollinearity of Features**\n",
    "\n",
    "Multicollinearity means that features are correlated with each other. The worst violation of this assumption is when features are perfectly correlated with each other (e.g. they are identical or multiplied by a scalar). In the study case, the **bill_amt_i** features are highly correlated between themselves, though they are not perfectly correlated. So, while these features may not contribute much independent information, let's keep them.\n",
    "\n",
    "**The Independence of Observations**\n",
    "\n",
    "This is a common assumption in classical statistical models, including linear regression. In this case study the samples are asssumed to be independent as represent accounts that are individual and unique (there are no accounts for the same person). So there is independence of observations in this respect.\n",
    "\n",
    "**No outliers**\n",
    "\n",
    "Outliers are observations where the value of the feature(s) or response are very far from most of the data, or are different in some other way. They are capable of affect linear models in general, because weights to much a parameter for both too high or too low. There were no outliers observed in this case study.\n",
    "\n",
    "**Feature Numbers**\n",
    "\n",
    "This is not an assumption, as it is more of a guidance on model building. Too many features can \"confuse\" the model. There is a common rule of thumb known as \"rule of 10\" which states that for every 10 occurrences of the rarest outcome class, 1 feature may be added to the model. For example, in a binary logistic regression problem with 100 samples, if the class balance is 20% positive, then are only 20 positive outcomes in total, and so only 2 features should be used in the model. There is also a \"rule of 20\" which is more stringent than the \"rule of 10\".\n"
   ]
  },
  {
   "cell_type": "markdown",
   "metadata": {},
   "source": [
    "### Motivation for Regulatization\n",
    "\n",
    "Regularization is a technique that contrains (**regularize**) or **shrinks** the model coefficients, balancing the model between complexity or flexibility on the feature relationships. Common terminology in machine-learning extends the regularization techniques into the following concepts:\n",
    "\n",
    "- Overfitting\n",
    "- Underfitting\n",
    "- Bias-Variance trade-off\n",
    "\n",
    "A model is said to have high **variance** when it captures very well the existing variability in the training set, showing high training scores. However, when such a model is then used to make predictions on unseen data, the performance is substantially lower compared to the training scores. "
   ]
  },
  {
   "cell_type": "markdown",
   "metadata": {},
   "source": [
    "Let's generate a quadratic data with random noise:"
   ]
  },
  {
   "cell_type": "code",
   "execution_count": null,
   "metadata": {},
   "outputs": [],
   "source": []
  }
 ],
 "metadata": {
  "kernelspec": {
   "display_name": "Python 3",
   "language": "python",
   "name": "python3"
  },
  "language_info": {
   "codemirror_mode": {
    "name": "ipython",
    "version": 3
   },
   "file_extension": ".py",
   "mimetype": "text/x-python",
   "name": "python",
   "nbconvert_exporter": "python",
   "pygments_lexer": "ipython3",
   "version": "3.8.5"
  }
 },
 "nbformat": 4,
 "nbformat_minor": 4
}
