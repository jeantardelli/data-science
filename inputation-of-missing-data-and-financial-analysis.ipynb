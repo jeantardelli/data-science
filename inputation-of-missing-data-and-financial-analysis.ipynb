{
 "cells": [
  {
   "cell_type": "markdown",
   "metadata": {},
   "source": [
    "### Imputation of Missing Data and Financial Analysis"
   ]
  },
  {
   "cell_type": "markdown",
   "metadata": {},
   "source": [
    "#### Packages"
   ]
  },
  {
   "cell_type": "code",
   "execution_count": 1,
   "metadata": {},
   "outputs": [
    {
     "name": "stdout",
     "output_type": "stream",
     "text": [
      "The Python version is 3.8.5 (default, Jul 28 2020, 12:59:40) \n",
      "[GCC 9.3.0].\n",
      "\n",
      "The Numpy version is 1.19.1.\n",
      "\n",
      "The Pandas version is 1.1.0.\n",
      "\n",
      "The Matplotlib version is 3.3.3.\n",
      "\n",
      "The Scikit-Learn version is 0.24.0.\n",
      "\n"
     ]
    }
   ],
   "source": [
    "# Load packages and check versions\n",
    "import sys\n",
    "import sklearn\n",
    "import numpy as np\n",
    "import pandas as pd\n",
    "import matplotlib as mpl\n",
    "import matplotlib.pyplot as plt\n",
    "\n",
    "%matplotlib inline\n",
    "\n",
    "from sklearn import metrics\n",
    "from sklearn.metrics import roc_auc_score\n",
    "from sklearn.ensemble import RandomForestClassifier\n",
    "from sklearn.model_selection import train_test_split, KFold, cross_validate, GridSearchCV\n",
    "\n",
    "\n",
    "print('The Python version is {}.\\n'.format(sys.version))\n",
    "print('The Numpy version is {}.\\n'.format(np.__version__))\n",
    "print('The Pandas version is {}.\\n'.format(pd.__version__))\n",
    "print('The Matplotlib version is {}.\\n'.format(mpl.__version__))\n",
    "print('The Scikit-Learn version is {}.\\n'.format(sklearn.__version__))"
   ]
  },
  {
   "cell_type": "markdown",
   "metadata": {},
   "source": [
    "### Imputation of missing data\n",
    "\n",
    "Imputation involves using the known values of a certain feature to make a best educated guess as to the missing values as a way to solve the problem of missing data that might have potential predictive power. \n",
    "\n",
    "Following are some strategies to deal with missing data:\n",
    "\n",
    "- Ignore samples with missing data, or features with missing data\n",
    "- Impute missing feature values with a constant (e.g. mean, median or mode) for a specific category\n",
    "- Impute missing values using a random selection from non-missing values\n",
    "- Impute missing values using interpolation of nearby observations in time or space\n",
    "- Mode-based imputation\n",
    "\n",
    "While the first option doesn't actually impute any data, it is a common practice among data science projects when dealing with missing values. \n",
    "\n",
    "The simplest types of imputation involve using a summary statistic of the non-missing feature values, as the single constant value with which to replace all the missing values. This summary statistic may be the mean, median, or mode for continuous features. For categorial features, the mode is an option, as well as the median for ordinal categoricals. An important additional case of imputation with a constant value for categorial variables is to create a new level of the categorical  variable, to indicate data is missing.\n",
    "\n",
    "More sophisticated methods of imputation can be used to fill in missing values with non-constant values. These methods reflect an acknowledgment that the missing values may not all be equal. he simplest way to do this is to fill in missing values using a random draw from the set of non-missing values, with replacement. This way, the relative frequency of different values chosen to fill in missing data will be similar to the existing data for that feature.\n",
    "\n",
    "In case samples are located within time or space, such as a time series or geolocated data, then temporal or spatial interpolation methods may be used. These methods follow the general idea that a missing data point is probably located somewhere between the values of adjacent data points in time or space.\n",
    "\n",
    "Lastly, perhaps the most sophisticated way to fill in missing data is to view the imputation problem as a predictive modeling \"problem within a problem.\" In this method, the feature with missing values is considered the response variable, while the features with no missing values are considered the features of this sub-problem."
   ]
  },
  {
   "cell_type": "markdown",
   "metadata": {},
   "source": [
    "### Preparing Samples with Missing Data\n",
    "\n",
    "Note that for the case study dataset, the feature that had missing values was **pay_1**, which turned out to be the most important feature as dentified by both the univariate feature selection as well as the feature importance of the random forest. In order to test out different imputation strategies on the case study data and see how they affect the predictive capability of the modeling approach, it is necesasry to replace samples with missing data back in to the dataset.\n",
    "\n",
    "Let us load the original dataset:"
   ]
  },
  {
   "cell_type": "code",
   "execution_count": 2,
   "metadata": {},
   "outputs": [
    {
     "data": {
      "text/html": [
       "<div>\n",
       "<style scoped>\n",
       "    .dataframe tbody tr th:only-of-type {\n",
       "        vertical-align: middle;\n",
       "    }\n",
       "\n",
       "    .dataframe tbody tr th {\n",
       "        vertical-align: top;\n",
       "    }\n",
       "\n",
       "    .dataframe thead th {\n",
       "        text-align: right;\n",
       "    }\n",
       "</style>\n",
       "<table border=\"1\" class=\"dataframe\">\n",
       "  <thead>\n",
       "    <tr style=\"text-align: right;\">\n",
       "      <th></th>\n",
       "      <th>id</th>\n",
       "      <th>limit_bal</th>\n",
       "      <th>sex</th>\n",
       "      <th>education</th>\n",
       "      <th>marriage</th>\n",
       "      <th>age</th>\n",
       "      <th>pay_1</th>\n",
       "      <th>pay_2</th>\n",
       "      <th>pay_3</th>\n",
       "      <th>pay_4</th>\n",
       "      <th>...</th>\n",
       "      <th>bill_amt4</th>\n",
       "      <th>bill_amt5</th>\n",
       "      <th>bill_amt6</th>\n",
       "      <th>pay_amt1</th>\n",
       "      <th>pay_amt2</th>\n",
       "      <th>pay_amt3</th>\n",
       "      <th>pay_amt4</th>\n",
       "      <th>pay_amt5</th>\n",
       "      <th>pay_amt6</th>\n",
       "      <th>default_payment_next_month</th>\n",
       "    </tr>\n",
       "  </thead>\n",
       "  <tbody>\n",
       "    <tr>\n",
       "      <th>0</th>\n",
       "      <td>798fc410-45c1</td>\n",
       "      <td>20000</td>\n",
       "      <td>2</td>\n",
       "      <td>2</td>\n",
       "      <td>1</td>\n",
       "      <td>24</td>\n",
       "      <td>2</td>\n",
       "      <td>2</td>\n",
       "      <td>-1</td>\n",
       "      <td>-1</td>\n",
       "      <td>...</td>\n",
       "      <td>0</td>\n",
       "      <td>0</td>\n",
       "      <td>0</td>\n",
       "      <td>0</td>\n",
       "      <td>689</td>\n",
       "      <td>0</td>\n",
       "      <td>0</td>\n",
       "      <td>0</td>\n",
       "      <td>0</td>\n",
       "      <td>1</td>\n",
       "    </tr>\n",
       "    <tr>\n",
       "      <th>1</th>\n",
       "      <td>8a8c8f3b-8eb4</td>\n",
       "      <td>120000</td>\n",
       "      <td>2</td>\n",
       "      <td>2</td>\n",
       "      <td>2</td>\n",
       "      <td>26</td>\n",
       "      <td>-1</td>\n",
       "      <td>2</td>\n",
       "      <td>0</td>\n",
       "      <td>0</td>\n",
       "      <td>...</td>\n",
       "      <td>3272</td>\n",
       "      <td>3455</td>\n",
       "      <td>3261</td>\n",
       "      <td>0</td>\n",
       "      <td>1000</td>\n",
       "      <td>1000</td>\n",
       "      <td>1000</td>\n",
       "      <td>0</td>\n",
       "      <td>2000</td>\n",
       "      <td>1</td>\n",
       "    </tr>\n",
       "    <tr>\n",
       "      <th>2</th>\n",
       "      <td>85698822-43f5</td>\n",
       "      <td>90000</td>\n",
       "      <td>2</td>\n",
       "      <td>2</td>\n",
       "      <td>2</td>\n",
       "      <td>34</td>\n",
       "      <td>0</td>\n",
       "      <td>0</td>\n",
       "      <td>0</td>\n",
       "      <td>0</td>\n",
       "      <td>...</td>\n",
       "      <td>14331</td>\n",
       "      <td>14948</td>\n",
       "      <td>15549</td>\n",
       "      <td>1518</td>\n",
       "      <td>1500</td>\n",
       "      <td>1000</td>\n",
       "      <td>1000</td>\n",
       "      <td>1000</td>\n",
       "      <td>5000</td>\n",
       "      <td>0</td>\n",
       "    </tr>\n",
       "    <tr>\n",
       "      <th>3</th>\n",
       "      <td>0737c11b-be42</td>\n",
       "      <td>50000</td>\n",
       "      <td>2</td>\n",
       "      <td>2</td>\n",
       "      <td>1</td>\n",
       "      <td>37</td>\n",
       "      <td>0</td>\n",
       "      <td>0</td>\n",
       "      <td>0</td>\n",
       "      <td>0</td>\n",
       "      <td>...</td>\n",
       "      <td>28314</td>\n",
       "      <td>28959</td>\n",
       "      <td>29547</td>\n",
       "      <td>2000</td>\n",
       "      <td>2019</td>\n",
       "      <td>1200</td>\n",
       "      <td>1100</td>\n",
       "      <td>1069</td>\n",
       "      <td>1000</td>\n",
       "      <td>0</td>\n",
       "    </tr>\n",
       "    <tr>\n",
       "      <th>4</th>\n",
       "      <td>3b7f77cc-dbc0</td>\n",
       "      <td>50000</td>\n",
       "      <td>1</td>\n",
       "      <td>2</td>\n",
       "      <td>1</td>\n",
       "      <td>57</td>\n",
       "      <td>-1</td>\n",
       "      <td>0</td>\n",
       "      <td>-1</td>\n",
       "      <td>0</td>\n",
       "      <td>...</td>\n",
       "      <td>20940</td>\n",
       "      <td>19146</td>\n",
       "      <td>19131</td>\n",
       "      <td>2000</td>\n",
       "      <td>36681</td>\n",
       "      <td>10000</td>\n",
       "      <td>9000</td>\n",
       "      <td>689</td>\n",
       "      <td>679</td>\n",
       "      <td>0</td>\n",
       "    </tr>\n",
       "  </tbody>\n",
       "</table>\n",
       "<p>5 rows × 25 columns</p>\n",
       "</div>"
      ],
      "text/plain": [
       "              id  limit_bal  sex  education  marriage  age pay_1  pay_2  \\\n",
       "0  798fc410-45c1      20000    2          2         1   24     2      2   \n",
       "1  8a8c8f3b-8eb4     120000    2          2         2   26    -1      2   \n",
       "2  85698822-43f5      90000    2          2         2   34     0      0   \n",
       "3  0737c11b-be42      50000    2          2         1   37     0      0   \n",
       "4  3b7f77cc-dbc0      50000    1          2         1   57    -1      0   \n",
       "\n",
       "   pay_3  pay_4  ...  bill_amt4  bill_amt5  bill_amt6  pay_amt1  pay_amt2  \\\n",
       "0     -1     -1  ...          0          0          0         0       689   \n",
       "1      0      0  ...       3272       3455       3261         0      1000   \n",
       "2      0      0  ...      14331      14948      15549      1518      1500   \n",
       "3      0      0  ...      28314      28959      29547      2000      2019   \n",
       "4     -1      0  ...      20940      19146      19131      2000     36681   \n",
       "\n",
       "   pay_amt3  pay_amt4  pay_amt5  pay_amt6  default_payment_next_month  \n",
       "0         0         0         0         0                           1  \n",
       "1      1000      1000         0      2000                           1  \n",
       "2      1000      1000      1000      5000                           0  \n",
       "3      1200      1100      1069      1000                           0  \n",
       "4     10000      9000       689       679                           0  \n",
       "\n",
       "[5 rows x 25 columns]"
      ]
     },
     "execution_count": 2,
     "metadata": {},
     "output_type": "execute_result"
    }
   ],
   "source": [
    "df = pd.read_excel('data/default_of_credit_card_clients__courseware_version_1_21_19.xls')\n",
    "df.columns = [col.lower().replace(' ', '_') for col in df.columns]\n",
    "df.head()"
   ]
  },
  {
   "cell_type": "markdown",
   "metadata": {},
   "source": [
    "Looking at the zero rows:"
   ]
  },
  {
   "cell_type": "code",
   "execution_count": 3,
   "metadata": {},
   "outputs": [
    {
     "data": {
      "text/plain": [
       "(315,\n",
       " 0        False\n",
       " 1        False\n",
       " 2        False\n",
       " 3        False\n",
       " 4        False\n",
       "          ...  \n",
       " 29995    False\n",
       " 29996    False\n",
       " 29997    False\n",
       " 29998    False\n",
       " 29999    False\n",
       " Length: 30000, dtype: bool)"
      ]
     },
     "execution_count": 3,
     "metadata": {},
     "output_type": "execute_result"
    }
   ],
   "source": [
    "df_zero_mask = df == 0\n",
    "features_zero_mask = df_zero_mask.iloc[:, 1:].all(axis=1)\n",
    "\n",
    "(sum(features_zero_mask),\n",
    " features_zero_mask)"
   ]
  },
  {
   "cell_type": "markdown",
   "metadata": {},
   "source": [
    "Let us remove them from the dataframe and check whether all rows are unique:"
   ]
  },
  {
   "cell_type": "code",
   "execution_count": 4,
   "metadata": {},
   "outputs": [
    {
     "data": {
      "text/plain": [
       "(29685, 25)"
      ]
     },
     "execution_count": 4,
     "metadata": {},
     "output_type": "execute_result"
    }
   ],
   "source": [
    "df_clean = df.loc[~features_zero_mask].copy()\n",
    "\n",
    "df_clean.shape"
   ]
  },
  {
   "cell_type": "code",
   "execution_count": 5,
   "metadata": {},
   "outputs": [
    {
     "data": {
      "text/plain": [
       "29685"
      ]
     },
     "execution_count": 5,
     "metadata": {},
     "output_type": "execute_result"
    }
   ],
   "source": [
    "df_clean.id.nunique()"
   ]
  },
  {
   "cell_type": "markdown",
   "metadata": {},
   "source": [
    "Let us replace the undocumented values for the **education** and **marriage** columns with an *unknown* value.\n",
    "\n",
    "Education shoul be \"Education (1 = graduate school; 2 = university; 3 = high school; 4 = others)\"\n",
    "\n",
    "Marriage should be \"Marriage (1 = married; 2 = single; 3 = others)\""
   ]
  },
  {
   "cell_type": "code",
   "execution_count": 6,
   "metadata": {},
   "outputs": [
    {
     "data": {
      "text/plain": [
       "(2    13884\n",
       " 1    10474\n",
       " 3     4867\n",
       " 5      275\n",
       " 4      122\n",
       " 6       49\n",
       " 0       14\n",
       " Name: education, dtype: int64,\n",
       " 2    15810\n",
       " 1    13503\n",
       " 3      318\n",
       " 0       54\n",
       " Name: marriage, dtype: int64)"
      ]
     },
     "execution_count": 6,
     "metadata": {},
     "output_type": "execute_result"
    }
   ],
   "source": [
    "(df_clean.education.value_counts(), \n",
    " df_clean.marriage.value_counts())"
   ]
  },
  {
   "cell_type": "code",
   "execution_count": 7,
   "metadata": {},
   "outputs": [],
   "source": [
    "df_clean.education.replace(to_replace=[0,5,6], value=4, inplace=True)\n",
    "df_clean.marriage.replace(to_replace=0, value=3, inplace=True)"
   ]
  },
  {
   "cell_type": "markdown",
   "metadata": {},
   "source": [
    "Let us maintain the **pay_1** with missing values for the imputation process. However, let us \"save\" them into another set to include it the train and test set in a way to compare whether the imputation process reflects a better performance:"
   ]
  },
  {
   "cell_type": "code",
   "execution_count": 8,
   "metadata": {},
   "outputs": [
    {
     "data": {
      "text/plain": [
       "0                13087\n",
       "-1                5047\n",
       "1                 3261\n",
       "Not available     3021\n",
       "-2                2476\n",
       "2                 2378\n",
       "3                  292\n",
       "4                   63\n",
       "5                   23\n",
       "8                   17\n",
       "6                   11\n",
       "7                    9\n",
       "Name: pay_1, dtype: int64"
      ]
     },
     "execution_count": 8,
     "metadata": {},
     "output_type": "execute_result"
    }
   ],
   "source": [
    "df_clean.pay_1.value_counts()"
   ]
  },
  {
   "cell_type": "code",
   "execution_count": 9,
   "metadata": {},
   "outputs": [
    {
     "data": {
      "text/plain": [
       "3021"
      ]
     },
     "execution_count": 9,
     "metadata": {},
     "output_type": "execute_result"
    }
   ],
   "source": [
    "missing_pay_1_mask = df_clean.pay_1 == 'Not available'\n",
    "sum(missing_pay_1_mask)"
   ]
  },
  {
   "cell_type": "markdown",
   "metadata": {},
   "source": [
    "Now let us isolate these values:"
   ]
  },
  {
   "cell_type": "code",
   "execution_count": 10,
   "metadata": {},
   "outputs": [
    {
     "data": {
      "text/html": [
       "<div>\n",
       "<style scoped>\n",
       "    .dataframe tbody tr th:only-of-type {\n",
       "        vertical-align: middle;\n",
       "    }\n",
       "\n",
       "    .dataframe tbody tr th {\n",
       "        vertical-align: top;\n",
       "    }\n",
       "\n",
       "    .dataframe thead th {\n",
       "        text-align: right;\n",
       "    }\n",
       "</style>\n",
       "<table border=\"1\" class=\"dataframe\">\n",
       "  <thead>\n",
       "    <tr style=\"text-align: right;\">\n",
       "      <th></th>\n",
       "      <th>id</th>\n",
       "      <th>limit_bal</th>\n",
       "      <th>sex</th>\n",
       "      <th>education</th>\n",
       "      <th>marriage</th>\n",
       "      <th>age</th>\n",
       "      <th>pay_1</th>\n",
       "      <th>pay_2</th>\n",
       "      <th>pay_3</th>\n",
       "      <th>pay_4</th>\n",
       "      <th>...</th>\n",
       "      <th>bill_amt4</th>\n",
       "      <th>bill_amt5</th>\n",
       "      <th>bill_amt6</th>\n",
       "      <th>pay_amt1</th>\n",
       "      <th>pay_amt2</th>\n",
       "      <th>pay_amt3</th>\n",
       "      <th>pay_amt4</th>\n",
       "      <th>pay_amt5</th>\n",
       "      <th>pay_amt6</th>\n",
       "      <th>default_payment_next_month</th>\n",
       "    </tr>\n",
       "  </thead>\n",
       "  <tbody>\n",
       "    <tr>\n",
       "      <th>17</th>\n",
       "      <td>f0ba5e02-0c0f</td>\n",
       "      <td>320000</td>\n",
       "      <td>1</td>\n",
       "      <td>1</td>\n",
       "      <td>1</td>\n",
       "      <td>49</td>\n",
       "      <td>Not available</td>\n",
       "      <td>0</td>\n",
       "      <td>0</td>\n",
       "      <td>-1</td>\n",
       "      <td>...</td>\n",
       "      <td>70074</td>\n",
       "      <td>5856</td>\n",
       "      <td>195599</td>\n",
       "      <td>10358</td>\n",
       "      <td>10000</td>\n",
       "      <td>75940</td>\n",
       "      <td>20000</td>\n",
       "      <td>195599</td>\n",
       "      <td>50000</td>\n",
       "      <td>0</td>\n",
       "    </tr>\n",
       "    <tr>\n",
       "      <th>28</th>\n",
       "      <td>aecb449b-a999</td>\n",
       "      <td>50000</td>\n",
       "      <td>2</td>\n",
       "      <td>3</td>\n",
       "      <td>1</td>\n",
       "      <td>47</td>\n",
       "      <td>Not available</td>\n",
       "      <td>-1</td>\n",
       "      <td>-1</td>\n",
       "      <td>-1</td>\n",
       "      <td>...</td>\n",
       "      <td>2040</td>\n",
       "      <td>30430</td>\n",
       "      <td>257</td>\n",
       "      <td>3415</td>\n",
       "      <td>3421</td>\n",
       "      <td>2044</td>\n",
       "      <td>30430</td>\n",
       "      <td>257</td>\n",
       "      <td>0</td>\n",
       "      <td>0</td>\n",
       "    </tr>\n",
       "    <tr>\n",
       "      <th>29</th>\n",
       "      <td>57ea9a1f-cdd5</td>\n",
       "      <td>50000</td>\n",
       "      <td>1</td>\n",
       "      <td>1</td>\n",
       "      <td>2</td>\n",
       "      <td>26</td>\n",
       "      <td>Not available</td>\n",
       "      <td>0</td>\n",
       "      <td>0</td>\n",
       "      <td>0</td>\n",
       "      <td>...</td>\n",
       "      <td>17907</td>\n",
       "      <td>18375</td>\n",
       "      <td>11400</td>\n",
       "      <td>1500</td>\n",
       "      <td>1500</td>\n",
       "      <td>1000</td>\n",
       "      <td>1000</td>\n",
       "      <td>1600</td>\n",
       "      <td>0</td>\n",
       "      <td>0</td>\n",
       "    </tr>\n",
       "    <tr>\n",
       "      <th>54</th>\n",
       "      <td>781f3cc2-7ddc</td>\n",
       "      <td>150000</td>\n",
       "      <td>2</td>\n",
       "      <td>1</td>\n",
       "      <td>2</td>\n",
       "      <td>29</td>\n",
       "      <td>Not available</td>\n",
       "      <td>0</td>\n",
       "      <td>0</td>\n",
       "      <td>0</td>\n",
       "      <td>...</td>\n",
       "      <td>26518</td>\n",
       "      <td>21042</td>\n",
       "      <td>16540</td>\n",
       "      <td>1600</td>\n",
       "      <td>1718</td>\n",
       "      <td>1049</td>\n",
       "      <td>1500</td>\n",
       "      <td>2000</td>\n",
       "      <td>5000</td>\n",
       "      <td>0</td>\n",
       "    </tr>\n",
       "    <tr>\n",
       "      <th>60</th>\n",
       "      <td>5c00d7e6-a804</td>\n",
       "      <td>500000</td>\n",
       "      <td>2</td>\n",
       "      <td>3</td>\n",
       "      <td>1</td>\n",
       "      <td>28</td>\n",
       "      <td>Not available</td>\n",
       "      <td>0</td>\n",
       "      <td>0</td>\n",
       "      <td>0</td>\n",
       "      <td>...</td>\n",
       "      <td>14937</td>\n",
       "      <td>13827</td>\n",
       "      <td>15571</td>\n",
       "      <td>1516</td>\n",
       "      <td>1300</td>\n",
       "      <td>1000</td>\n",
       "      <td>1000</td>\n",
       "      <td>2000</td>\n",
       "      <td>2000</td>\n",
       "      <td>1</td>\n",
       "    </tr>\n",
       "  </tbody>\n",
       "</table>\n",
       "<p>5 rows × 25 columns</p>\n",
       "</div>"
      ],
      "text/plain": [
       "               id  limit_bal  sex  education  marriage  age          pay_1  \\\n",
       "17  f0ba5e02-0c0f     320000    1          1         1   49  Not available   \n",
       "28  aecb449b-a999      50000    2          3         1   47  Not available   \n",
       "29  57ea9a1f-cdd5      50000    1          1         2   26  Not available   \n",
       "54  781f3cc2-7ddc     150000    2          1         2   29  Not available   \n",
       "60  5c00d7e6-a804     500000    2          3         1   28  Not available   \n",
       "\n",
       "    pay_2  pay_3  pay_4  ...  bill_amt4  bill_amt5  bill_amt6  pay_amt1  \\\n",
       "17      0      0     -1  ...      70074       5856     195599     10358   \n",
       "28     -1     -1     -1  ...       2040      30430        257      3415   \n",
       "29      0      0      0  ...      17907      18375      11400      1500   \n",
       "54      0      0      0  ...      26518      21042      16540      1600   \n",
       "60      0      0      0  ...      14937      13827      15571      1516   \n",
       "\n",
       "    pay_amt2  pay_amt3  pay_amt4  pay_amt5  pay_amt6  \\\n",
       "17     10000     75940     20000    195599     50000   \n",
       "28      3421      2044     30430       257         0   \n",
       "29      1500      1000      1000      1600         0   \n",
       "54      1718      1049      1500      2000      5000   \n",
       "60      1300      1000      1000      2000      2000   \n",
       "\n",
       "    default_payment_next_month  \n",
       "17                           0  \n",
       "28                           0  \n",
       "29                           0  \n",
       "54                           0  \n",
       "60                           1  \n",
       "\n",
       "[5 rows x 25 columns]"
      ]
     },
     "execution_count": 10,
     "metadata": {},
     "output_type": "execute_result"
    }
   ],
   "source": [
    "df_missing_pay_1 = df_clean[missing_pay_1_mask].copy()\n",
    "df_missing_pay_1.head()"
   ]
  },
  {
   "cell_type": "markdown",
   "metadata": {},
   "source": [
    "Let us now load the previously cleaned dataframe:"
   ]
  },
  {
   "cell_type": "code",
   "execution_count": 11,
   "metadata": {},
   "outputs": [
    {
     "data": {
      "text/html": [
       "<div>\n",
       "<style scoped>\n",
       "    .dataframe tbody tr th:only-of-type {\n",
       "        vertical-align: middle;\n",
       "    }\n",
       "\n",
       "    .dataframe tbody tr th {\n",
       "        vertical-align: top;\n",
       "    }\n",
       "\n",
       "    .dataframe thead th {\n",
       "        text-align: right;\n",
       "    }\n",
       "</style>\n",
       "<table border=\"1\" class=\"dataframe\">\n",
       "  <thead>\n",
       "    <tr style=\"text-align: right;\">\n",
       "      <th></th>\n",
       "      <th>id</th>\n",
       "      <th>limit_bal</th>\n",
       "      <th>sex</th>\n",
       "      <th>education</th>\n",
       "      <th>marriage</th>\n",
       "      <th>age</th>\n",
       "      <th>pay_1</th>\n",
       "      <th>pay_2</th>\n",
       "      <th>pay_3</th>\n",
       "      <th>pay_4</th>\n",
       "      <th>...</th>\n",
       "      <th>pay_amt3</th>\n",
       "      <th>pay_amt4</th>\n",
       "      <th>pay_amt5</th>\n",
       "      <th>pay_amt6</th>\n",
       "      <th>default_payment_next_month</th>\n",
       "      <th>education_cat</th>\n",
       "      <th>graduate_school</th>\n",
       "      <th>high_school</th>\n",
       "      <th>others</th>\n",
       "      <th>university</th>\n",
       "    </tr>\n",
       "  </thead>\n",
       "  <tbody>\n",
       "    <tr>\n",
       "      <th>0</th>\n",
       "      <td>798fc410-45c1</td>\n",
       "      <td>20000</td>\n",
       "      <td>2</td>\n",
       "      <td>2</td>\n",
       "      <td>1</td>\n",
       "      <td>24</td>\n",
       "      <td>2</td>\n",
       "      <td>2</td>\n",
       "      <td>-1</td>\n",
       "      <td>-1</td>\n",
       "      <td>...</td>\n",
       "      <td>0</td>\n",
       "      <td>0</td>\n",
       "      <td>0</td>\n",
       "      <td>0</td>\n",
       "      <td>1</td>\n",
       "      <td>university</td>\n",
       "      <td>0</td>\n",
       "      <td>0</td>\n",
       "      <td>0</td>\n",
       "      <td>1</td>\n",
       "    </tr>\n",
       "    <tr>\n",
       "      <th>1</th>\n",
       "      <td>8a8c8f3b-8eb4</td>\n",
       "      <td>120000</td>\n",
       "      <td>2</td>\n",
       "      <td>2</td>\n",
       "      <td>2</td>\n",
       "      <td>26</td>\n",
       "      <td>-1</td>\n",
       "      <td>2</td>\n",
       "      <td>0</td>\n",
       "      <td>0</td>\n",
       "      <td>...</td>\n",
       "      <td>1000</td>\n",
       "      <td>1000</td>\n",
       "      <td>0</td>\n",
       "      <td>2000</td>\n",
       "      <td>1</td>\n",
       "      <td>university</td>\n",
       "      <td>0</td>\n",
       "      <td>0</td>\n",
       "      <td>0</td>\n",
       "      <td>1</td>\n",
       "    </tr>\n",
       "    <tr>\n",
       "      <th>2</th>\n",
       "      <td>85698822-43f5</td>\n",
       "      <td>90000</td>\n",
       "      <td>2</td>\n",
       "      <td>2</td>\n",
       "      <td>2</td>\n",
       "      <td>34</td>\n",
       "      <td>0</td>\n",
       "      <td>0</td>\n",
       "      <td>0</td>\n",
       "      <td>0</td>\n",
       "      <td>...</td>\n",
       "      <td>1000</td>\n",
       "      <td>1000</td>\n",
       "      <td>1000</td>\n",
       "      <td>5000</td>\n",
       "      <td>0</td>\n",
       "      <td>university</td>\n",
       "      <td>0</td>\n",
       "      <td>0</td>\n",
       "      <td>0</td>\n",
       "      <td>1</td>\n",
       "    </tr>\n",
       "    <tr>\n",
       "      <th>3</th>\n",
       "      <td>0737c11b-be42</td>\n",
       "      <td>50000</td>\n",
       "      <td>2</td>\n",
       "      <td>2</td>\n",
       "      <td>1</td>\n",
       "      <td>37</td>\n",
       "      <td>0</td>\n",
       "      <td>0</td>\n",
       "      <td>0</td>\n",
       "      <td>0</td>\n",
       "      <td>...</td>\n",
       "      <td>1200</td>\n",
       "      <td>1100</td>\n",
       "      <td>1069</td>\n",
       "      <td>1000</td>\n",
       "      <td>0</td>\n",
       "      <td>university</td>\n",
       "      <td>0</td>\n",
       "      <td>0</td>\n",
       "      <td>0</td>\n",
       "      <td>1</td>\n",
       "    </tr>\n",
       "    <tr>\n",
       "      <th>4</th>\n",
       "      <td>3b7f77cc-dbc0</td>\n",
       "      <td>50000</td>\n",
       "      <td>1</td>\n",
       "      <td>2</td>\n",
       "      <td>1</td>\n",
       "      <td>57</td>\n",
       "      <td>-1</td>\n",
       "      <td>0</td>\n",
       "      <td>-1</td>\n",
       "      <td>0</td>\n",
       "      <td>...</td>\n",
       "      <td>10000</td>\n",
       "      <td>9000</td>\n",
       "      <td>689</td>\n",
       "      <td>679</td>\n",
       "      <td>0</td>\n",
       "      <td>university</td>\n",
       "      <td>0</td>\n",
       "      <td>0</td>\n",
       "      <td>0</td>\n",
       "      <td>1</td>\n",
       "    </tr>\n",
       "  </tbody>\n",
       "</table>\n",
       "<p>5 rows × 30 columns</p>\n",
       "</div>"
      ],
      "text/plain": [
       "              id  limit_bal  sex  education  marriage  age  pay_1  pay_2  \\\n",
       "0  798fc410-45c1      20000    2          2         1   24      2      2   \n",
       "1  8a8c8f3b-8eb4     120000    2          2         2   26     -1      2   \n",
       "2  85698822-43f5      90000    2          2         2   34      0      0   \n",
       "3  0737c11b-be42      50000    2          2         1   37      0      0   \n",
       "4  3b7f77cc-dbc0      50000    1          2         1   57     -1      0   \n",
       "\n",
       "   pay_3  pay_4  ...  pay_amt3  pay_amt4  pay_amt5  pay_amt6  \\\n",
       "0     -1     -1  ...         0         0         0         0   \n",
       "1      0      0  ...      1000      1000         0      2000   \n",
       "2      0      0  ...      1000      1000      1000      5000   \n",
       "3      0      0  ...      1200      1100      1069      1000   \n",
       "4     -1      0  ...     10000      9000       689       679   \n",
       "\n",
       "   default_payment_next_month  education_cat  graduate_school  high_school  \\\n",
       "0                           1     university                0            0   \n",
       "1                           1     university                0            0   \n",
       "2                           0     university                0            0   \n",
       "3                           0     university                0            0   \n",
       "4                           0     university                0            0   \n",
       "\n",
       "   others  university  \n",
       "0       0           1  \n",
       "1       0           1  \n",
       "2       0           1  \n",
       "3       0           1  \n",
       "4       0           1  \n",
       "\n",
       "[5 rows x 30 columns]"
      ]
     },
     "execution_count": 11,
     "metadata": {},
     "output_type": "execute_result"
    }
   ],
   "source": [
    "df_cleaned_before = pd.read_csv('data/default_of_credit_card_clients_cleaned.csv')\n",
    "df_cleaned_before.head()"
   ]
  },
  {
   "cell_type": "markdown",
   "metadata": {},
   "source": [
    "Let us isolate the independent features:"
   ]
  },
  {
   "cell_type": "code",
   "execution_count": 12,
   "metadata": {},
   "outputs": [
    {
     "data": {
      "text/plain": [
       "['limit_bal',\n",
       " 'education',\n",
       " 'marriage',\n",
       " 'age',\n",
       " 'pay_1',\n",
       " 'bill_amt1',\n",
       " 'bill_amt2',\n",
       " 'bill_amt3',\n",
       " 'bill_amt4',\n",
       " 'bill_amt5',\n",
       " 'bill_amt6',\n",
       " 'pay_amt1',\n",
       " 'pay_amt2',\n",
       " 'pay_amt3',\n",
       " 'pay_amt4',\n",
       " 'pay_amt5',\n",
       " 'pay_amt6',\n",
       " 'default_payment_next_month']"
      ]
     },
     "execution_count": 12,
     "metadata": {},
     "output_type": "execute_result"
    }
   ],
   "source": [
    "features_response = df_cleaned_before.columns.tolist()\n",
    "to_remove = ['id', 'sex'] + ['pay_{}'.format(i) for i in range(2,7)] + features_response[-5:]\n",
    "\n",
    "features_response = [feature for feature in features_response if feature not in to_remove]\n",
    "features_response"
   ]
  },
  {
   "cell_type": "markdown",
   "metadata": {},
   "source": [
    "Now it is possible to test different imputation techniques for the *df_missing_pay_1*.\n",
    "\n",
    "### Mode and Random Imputation of pay_1\n",
    "\n",
    "Let us create a train and test sets for the cleaned df and add later the *df_missing_pay_1* to measure the impact of imputation in the model's performance."
   ]
  },
  {
   "cell_type": "code",
   "execution_count": 13,
   "metadata": {},
   "outputs": [],
   "source": [
    "X_train, X_test, y_train, y_test = train_test_split(df_cleaned_before[features_response[:-1]].values,\n",
    "                                                    df_cleaned_before.default_payment_next_month.values,\n",
    "                                                    test_size=0.2, random_state=24)"
   ]
  },
  {
   "cell_type": "markdown",
   "metadata": {},
   "source": [
    "Let us create an imputation for the **pay_1** column (this feature has the index 4 in the *feature_response* list) with the mode (the median has the same value of mode, so only one statistic is left anyway):"
   ]
  },
  {
   "cell_type": "code",
   "execution_count": 14,
   "metadata": {},
   "outputs": [
    {
     "data": {
      "text/plain": [
       "0.0"
      ]
     },
     "execution_count": 14,
     "metadata": {},
     "output_type": "execute_result"
    }
   ],
   "source": [
    "np.median(X_train[:, features_response.index('pay_1')])"
   ]
  },
  {
   "cell_type": "markdown",
   "metadata": {},
   "source": [
    "And now, let us create the imputation values for the two strategies that will be adopted: one imputing the node and another imputing values from a random normal sampling from the **pay_1** train set. Besides, let us create proper column names to track them correctly:"
   ]
  },
  {
   "cell_type": "code",
   "execution_count": 15,
   "metadata": {},
   "outputs": [],
   "source": [
    "fill_values = [0, np.random.choice(X_train[:, features_response.index('pay_1')], size=(3021,), replace=True)]\n",
    "fill_strategy = ['mode', 'random']"
   ]
  },
  {
   "cell_type": "markdown",
   "metadata": {},
   "source": [
    "Before continue, let us verify whether the distributions of the random generated sampling process is the same as the **pay_1** train set:"
   ]
  },
  {
   "cell_type": "code",
   "execution_count": 16,
   "metadata": {},
   "outputs": [
    {
     "data": {
      "text/plain": [
       "Text(0.5, 1.0, 'Pay_1 random generated distribution')"
      ]
     },
     "execution_count": 16,
     "metadata": {},
     "output_type": "execute_result"
    },
    {
     "data": {
      "image/png": "[encoded data removed]",
      "text/plain": [
       "<Figure size 720x288 with 2 Axes>"
      ]
     },
     "metadata": {
      "needs_background": "light"
     },
     "output_type": "display_data"
    }
   ],
   "source": [
    "fig, ax = plt.subplots(1, 2, figsize=(10, 4))\n",
    "\n",
    "bin_edges = np.arange(-2, 9)\n",
    "\n",
    "ax[0].hist(X_train[:, 4], bins=bin_edges, align='left')\n",
    "ax[0].set_xticks(bin_edges)\n",
    "ax[0].set_title('Pay_1 non-missing values distribution')\n",
    "\n",
    "ax[1].hist(fill_values[1], bins=bin_edges, align='left')\n",
    "ax[1].set_xticks(bin_edges)\n",
    "ax[1].set_title('Pay_1 random generated distribution')"
   ]
  },
  {
   "cell_type": "markdown",
   "metadata": {},
   "source": [
    "The two distributions were very similar. Only the scale of the *y*-axis indicated that there were fewer imputed values than in the original dataset. This showed that the values for **pay_1** faithfully imitated the relative frequency of different values of this feature in the data.\n",
    "\n",
    "Now, let us set up the cross-validation to compare imputation methods using the same hyperparameters for the best model estimation."
   ]
  },
  {
   "cell_type": "code",
   "execution_count": 17,
   "metadata": {},
   "outputs": [],
   "source": [
    "k_folds = KFold(n_splits=4, shuffle=True, random_state=1)\n",
    "rf = RandomForestClassifier(n_estimators=200, max_depth=9)"
   ]
  },
  {
   "cell_type": "markdown",
   "metadata": {},
   "source": [
    "The shuffle was set to true because the imputed values will be appended to the training set and it is interesting to not concentrate them into one fold."
   ]
  },
  {
   "cell_type": "code",
   "execution_count": 18,
   "metadata": {},
   "outputs": [
    {
     "name": "stderr",
     "output_type": "stream",
     "text": [
      "[Parallel(n_jobs=-1)]: Using backend LokyBackend with 4 concurrent workers.\n",
      "[Parallel(n_jobs=-1)]: Done   2 out of   4 | elapsed:   15.7s remaining:   15.7s\n",
      "[Parallel(n_jobs=-1)]: Done   4 out of   4 | elapsed:   16.3s finished\n",
      "[Parallel(n_jobs=-1)]: Using backend LokyBackend with 4 concurrent workers.\n"
     ]
    },
    {
     "name": "stdout",
     "output_type": "stream",
     "text": [
      "mode imputation: mean testing score: 0.7722559697192244, std: 0.003479518677351279\n"
     ]
    },
    {
     "name": "stderr",
     "output_type": "stream",
     "text": [
      "[Parallel(n_jobs=-1)]: Done   2 out of   4 | elapsed:   13.0s remaining:   13.0s\n",
      "[Parallel(n_jobs=-1)]: Done   4 out of   4 | elapsed:   13.2s finished\n"
     ]
    },
    {
     "name": "stdout",
     "output_type": "stream",
     "text": [
      "random imputation: mean testing score: 0.7689706056275235, std: 0.0029415306003254507\n"
     ]
    }
   ],
   "source": [
    "for imputation_method in range(len(fill_values)):\n",
    "\n",
    "    # Copy the data frame with missing pay_1 and assign imputed values\n",
    "    df_filled_pay_1 = df_missing_pay_1.copy()\n",
    "    df_filled_pay_1.pay_1 = fill_values[imputation_method]\n",
    "\n",
    "    # Split imputated data in train and test sets, using the same test size proportion\n",
    "    X_filled_train, X_filled_test, y_filled_train, y_filled_test = \\\n",
    "        train_test_split(df_filled_pay_1[features_response[:-1]].values,\n",
    "                         df_filled_pay_1.default_payment_next_month.values,\n",
    "                         test_size=0.2, random_state=24)\n",
    "\n",
    "    # Concatenate the imputed data with the array of non-missing data\n",
    "    X_train_all = np.concatenate((X_train, X_filled_train), axis=0)\n",
    "    y_train_all = np.concatenate((y_train, y_filled_train), axis=0)\n",
    "\n",
    "    # Use the KFolds splitter and the Random Forest estimator for cross-validation\n",
    "    imputation_compare_cv = cross_validate(rf, X_train_all, y_train_all, scoring='roc_auc',\n",
    "                                           cv=k_folds, n_jobs=-1, verbose=1, return_estimator=True,\n",
    "                                           return_train_score=True, error_score='raise')\n",
    "\n",
    "    # Compute scores\n",
    "    test_score = imputation_compare_cv['test_score']\n",
    "    print(fill_strategy[imputation_method] + ' imputation: ' +\n",
    "          'mean testing score: ' + str(np.mean(test_score)) +\n",
    "          ', std: ' + str(np.std(test_score)))"
   ]
  },
  {
   "cell_type": "markdown",
   "metadata": {},
   "source": [
    "The two imputation strategies had very similar performances. However, the simplest imputation strategy, just filling in all missing values of pay_1 with the most common value of 0 from the non-missing samples, performed better. The average testing score (ROC AUC) across the four folds was 0.773 for mode imputation, versus 0.769 using random imputation.\n",
    "\n",
    "The average test score without any imputation was 0.776, thus, the model had experienced a little degradation in the estimate of out-of-sample model testing performance. This was to be expected, as there were included data that had issues and uncertainties. However, this was still within 0.006 ROC AUC units of the best score observed when working with the non-missing data, so it's not too much lower."
   ]
  },
  {
   "cell_type": "markdown",
   "metadata": {},
   "source": [
    "### A predictive Model to estimate pay_1 samples\n",
    "\n",
    "The most accurate, but also the most labor-intensive way to impute a feature with missing values is to create a predictive model for that feature. This method uses more information compared to simpler methods:\n",
    "\n",
    "- The simplest methods like mean, median, mode, and random selection just use information from non-missing values of the feature.\n",
    "- Intermediately complex methods like interpolation use additional information about how \"close\" a given sample is to other samples, in the spatial or temporal context, and leverage this for more accurate imputation.\n",
    "- The model-based imputation uses all features without missing values, to predict the missing values of the affected feature. Therefore, model-based imputation is similar to any other predictive model, where we consider the feature with missing values to be the response variable.\n",
    "\n",
    "The model to predict missing values for pay_1 feature will be a multiclass classifier (with a categorical response variable). The possible classes will range from -2 to 8 (the possible values for this feature). \n",
    "\n",
    "Let us define the dataset for the pay_1 estimation (the following dataframe represents the data for training and testing). Again, let us remove undesired (and unethical) features:"
   ]
  },
  {
   "cell_type": "code",
   "execution_count": 19,
   "metadata": {},
   "outputs": [],
   "source": [
    "pay_1_df = df_cleaned_before.copy()\n",
    "\n",
    "features_response = df_cleaned_before.columns.tolist()\n",
    "to_remove = ['id', 'sex'] + ['pay_{}'.format(i) for i in range(2,7)] + features_response[-6:]\n",
    "\n",
    "features_response = [feature for feature in features_response if feature not in to_remove]\n",
    "features_response2 = [feature for feature in features_response if feature not in to_remove + ['pay_1']]"
   ]
  },
  {
   "cell_type": "markdown",
   "metadata": {},
   "source": [
    "Let us use a Random Forest to build the multiclass classifier (partially because it readily accepts multiclass classificatoin as a built-in feature). Besides let us use the accuracy as the comparative metrics (again, it is easier this way):"
   ]
  },
  {
   "cell_type": "code",
   "execution_count": 20,
   "metadata": {},
   "outputs": [],
   "source": [
    "X_impute_train, X_impute_test, y_impute_train, y_impute_test = \\\n",
    "    train_test_split(pay_1_df[features_response2].values,\n",
    "                     pay_1_df.pay_1.values, test_size=0.2, random_state=24)"
   ]
  },
  {
   "cell_type": "markdown",
   "metadata": {},
   "source": [
    "Let us set some hyperparameters and instantiate the GridSearch object:"
   ]
  },
  {
   "cell_type": "code",
   "execution_count": 21,
   "metadata": {},
   "outputs": [],
   "source": [
    "params = {'max_depth': [3, 6, 9, 12],\n",
    "          'n_estimators': [10, 50, 100, 200]}\n",
    "\n",
    "cv_rf_imputation = GridSearchCV(rf, param_grid=params, scoring='accuracy',\n",
    "                                n_jobs=-1, refit=True, cv=4, error_score=np.nan,\n",
    "                                return_train_score=True)"
   ]
  },
  {
   "cell_type": "markdown",
   "metadata": {},
   "source": [
    "And train the models:"
   ]
  },
  {
   "cell_type": "code",
   "execution_count": 22,
   "metadata": {},
   "outputs": [
    {
     "data": {
      "text/plain": [
       "GridSearchCV(cv=4,\n",
       "             estimator=RandomForestClassifier(max_depth=9, n_estimators=200),\n",
       "             n_jobs=-1,\n",
       "             param_grid={'max_depth': [3, 6, 9, 12],\n",
       "                         'n_estimators': [10, 50, 100, 200]},\n",
       "             return_train_score=True, scoring='accuracy')"
      ]
     },
     "execution_count": 22,
     "metadata": {},
     "output_type": "execute_result"
    }
   ],
   "source": [
    "cv_rf_imputation.fit(X_impute_train, y_impute_train)"
   ]
  },
  {
   "cell_type": "markdown",
   "metadata": {},
   "source": [
    "Let us extract the best params and save the results:"
   ]
  },
  {
   "cell_type": "code",
   "execution_count": 23,
   "metadata": {},
   "outputs": [
    {
     "name": "stdout",
     "output_type": "stream",
     "text": [
      "Best params: {'max_depth': 12, 'n_estimators': 100}, best score:  0.7330177226005358\n"
     ]
    },
    {
     "data": {
      "text/html": [
       "<div>\n",
       "<style scoped>\n",
       "    .dataframe tbody tr th:only-of-type {\n",
       "        vertical-align: middle;\n",
       "    }\n",
       "\n",
       "    .dataframe tbody tr th {\n",
       "        vertical-align: top;\n",
       "    }\n",
       "\n",
       "    .dataframe thead th {\n",
       "        text-align: right;\n",
       "    }\n",
       "</style>\n",
       "<table border=\"1\" class=\"dataframe\">\n",
       "  <thead>\n",
       "    <tr style=\"text-align: right;\">\n",
       "      <th></th>\n",
       "      <th>mean_fit_time</th>\n",
       "      <th>std_fit_time</th>\n",
       "      <th>mean_score_time</th>\n",
       "      <th>std_score_time</th>\n",
       "      <th>param_max_depth</th>\n",
       "      <th>param_n_estimators</th>\n",
       "      <th>params</th>\n",
       "      <th>split0_test_score</th>\n",
       "      <th>split1_test_score</th>\n",
       "      <th>split2_test_score</th>\n",
       "      <th>split3_test_score</th>\n",
       "      <th>mean_test_score</th>\n",
       "      <th>std_test_score</th>\n",
       "      <th>rank_test_score</th>\n",
       "      <th>split0_train_score</th>\n",
       "      <th>split1_train_score</th>\n",
       "      <th>split2_train_score</th>\n",
       "      <th>split3_train_score</th>\n",
       "      <th>mean_train_score</th>\n",
       "      <th>std_train_score</th>\n",
       "    </tr>\n",
       "  </thead>\n",
       "  <tbody>\n",
       "    <tr>\n",
       "      <th>0</th>\n",
       "      <td>0.289788</td>\n",
       "      <td>0.011390</td>\n",
       "      <td>0.015785</td>\n",
       "      <td>0.000485</td>\n",
       "      <td>3</td>\n",
       "      <td>10</td>\n",
       "      <td>{'max_depth': 3, 'n_estimators': 10}</td>\n",
       "      <td>0.658354</td>\n",
       "      <td>0.661354</td>\n",
       "      <td>0.680480</td>\n",
       "      <td>0.660353</td>\n",
       "      <td>0.665135</td>\n",
       "      <td>0.008925</td>\n",
       "      <td>13</td>\n",
       "      <td>0.656770</td>\n",
       "      <td>0.661708</td>\n",
       "      <td>0.677022</td>\n",
       "      <td>0.669229</td>\n",
       "      <td>0.666182</td>\n",
       "      <td>0.007671</td>\n",
       "    </tr>\n",
       "    <tr>\n",
       "      <th>1</th>\n",
       "      <td>1.315327</td>\n",
       "      <td>0.026736</td>\n",
       "      <td>0.071738</td>\n",
       "      <td>0.007409</td>\n",
       "      <td>3</td>\n",
       "      <td>50</td>\n",
       "      <td>{'max_depth': 3, 'n_estimators': 50}</td>\n",
       "      <td>0.642040</td>\n",
       "      <td>0.642790</td>\n",
       "      <td>0.658541</td>\n",
       "      <td>0.648537</td>\n",
       "      <td>0.647977</td>\n",
       "      <td>0.006597</td>\n",
       "      <td>16</td>\n",
       "      <td>0.647456</td>\n",
       "      <td>0.643768</td>\n",
       "      <td>0.653144</td>\n",
       "      <td>0.656479</td>\n",
       "      <td>0.650212</td>\n",
       "      <td>0.004924</td>\n",
       "    </tr>\n",
       "    <tr>\n",
       "      <th>2</th>\n",
       "      <td>2.620243</td>\n",
       "      <td>0.017331</td>\n",
       "      <td>0.152470</td>\n",
       "      <td>0.015981</td>\n",
       "      <td>3</td>\n",
       "      <td>100</td>\n",
       "      <td>{'max_depth': 3, 'n_estimators': 100}</td>\n",
       "      <td>0.642415</td>\n",
       "      <td>0.663041</td>\n",
       "      <td>0.654978</td>\n",
       "      <td>0.643661</td>\n",
       "      <td>0.651024</td>\n",
       "      <td>0.008491</td>\n",
       "      <td>14</td>\n",
       "      <td>0.648081</td>\n",
       "      <td>0.660958</td>\n",
       "      <td>0.648206</td>\n",
       "      <td>0.652416</td>\n",
       "      <td>0.652415</td>\n",
       "      <td>0.005232</td>\n",
       "    </tr>\n",
       "    <tr>\n",
       "      <th>3</th>\n",
       "      <td>5.266480</td>\n",
       "      <td>0.100861</td>\n",
       "      <td>0.264251</td>\n",
       "      <td>0.025089</td>\n",
       "      <td>3</td>\n",
       "      <td>200</td>\n",
       "      <td>{'max_depth': 3, 'n_estimators': 200}</td>\n",
       "      <td>0.641853</td>\n",
       "      <td>0.654791</td>\n",
       "      <td>0.659666</td>\n",
       "      <td>0.639160</td>\n",
       "      <td>0.648867</td>\n",
       "      <td>0.008590</td>\n",
       "      <td>15</td>\n",
       "      <td>0.648581</td>\n",
       "      <td>0.653769</td>\n",
       "      <td>0.651769</td>\n",
       "      <td>0.649353</td>\n",
       "      <td>0.650868</td>\n",
       "      <td>0.002047</td>\n",
       "    </tr>\n",
       "    <tr>\n",
       "      <th>4</th>\n",
       "      <td>0.493742</td>\n",
       "      <td>0.030111</td>\n",
       "      <td>0.016841</td>\n",
       "      <td>0.002420</td>\n",
       "      <td>6</td>\n",
       "      <td>10</td>\n",
       "      <td>{'max_depth': 6, 'n_estimators': 10}</td>\n",
       "      <td>0.711044</td>\n",
       "      <td>0.709169</td>\n",
       "      <td>0.710857</td>\n",
       "      <td>0.702176</td>\n",
       "      <td>0.708312</td>\n",
       "      <td>0.003617</td>\n",
       "      <td>12</td>\n",
       "      <td>0.720215</td>\n",
       "      <td>0.719902</td>\n",
       "      <td>0.717027</td>\n",
       "      <td>0.716732</td>\n",
       "      <td>0.718469</td>\n",
       "      <td>0.001597</td>\n",
       "    </tr>\n",
       "    <tr>\n",
       "      <th>5</th>\n",
       "      <td>2.211531</td>\n",
       "      <td>0.058427</td>\n",
       "      <td>0.069893</td>\n",
       "      <td>0.001776</td>\n",
       "      <td>6</td>\n",
       "      <td>50</td>\n",
       "      <td>{'max_depth': 6, 'n_estimators': 50}</td>\n",
       "      <td>0.712170</td>\n",
       "      <td>0.708794</td>\n",
       "      <td>0.715357</td>\n",
       "      <td>0.706864</td>\n",
       "      <td>0.710796</td>\n",
       "      <td>0.003246</td>\n",
       "      <td>10</td>\n",
       "      <td>0.720215</td>\n",
       "      <td>0.718840</td>\n",
       "      <td>0.721653</td>\n",
       "      <td>0.717357</td>\n",
       "      <td>0.719516</td>\n",
       "      <td>0.001595</td>\n",
       "    </tr>\n",
       "    <tr>\n",
       "      <th>6</th>\n",
       "      <td>4.398643</td>\n",
       "      <td>0.073789</td>\n",
       "      <td>0.147272</td>\n",
       "      <td>0.009071</td>\n",
       "      <td>6</td>\n",
       "      <td>100</td>\n",
       "      <td>{'max_depth': 6, 'n_estimators': 100}</td>\n",
       "      <td>0.710294</td>\n",
       "      <td>0.710669</td>\n",
       "      <td>0.716295</td>\n",
       "      <td>0.704989</td>\n",
       "      <td>0.710562</td>\n",
       "      <td>0.004000</td>\n",
       "      <td>11</td>\n",
       "      <td>0.718215</td>\n",
       "      <td>0.720028</td>\n",
       "      <td>0.719902</td>\n",
       "      <td>0.716920</td>\n",
       "      <td>0.718766</td>\n",
       "      <td>0.001284</td>\n",
       "    </tr>\n",
       "    <tr>\n",
       "      <th>7</th>\n",
       "      <td>8.788711</td>\n",
       "      <td>0.230938</td>\n",
       "      <td>0.288712</td>\n",
       "      <td>0.007185</td>\n",
       "      <td>6</td>\n",
       "      <td>200</td>\n",
       "      <td>{'max_depth': 6, 'n_estimators': 200}</td>\n",
       "      <td>0.712732</td>\n",
       "      <td>0.710482</td>\n",
       "      <td>0.717045</td>\n",
       "      <td>0.706302</td>\n",
       "      <td>0.711640</td>\n",
       "      <td>0.003881</td>\n",
       "      <td>9</td>\n",
       "      <td>0.719027</td>\n",
       "      <td>0.717965</td>\n",
       "      <td>0.719402</td>\n",
       "      <td>0.715857</td>\n",
       "      <td>0.718063</td>\n",
       "      <td>0.001378</td>\n",
       "    </tr>\n",
       "    <tr>\n",
       "      <th>8</th>\n",
       "      <td>0.673614</td>\n",
       "      <td>0.018904</td>\n",
       "      <td>0.018898</td>\n",
       "      <td>0.000628</td>\n",
       "      <td>9</td>\n",
       "      <td>10</td>\n",
       "      <td>{'max_depth': 9, 'n_estimators': 10}</td>\n",
       "      <td>0.723233</td>\n",
       "      <td>0.717420</td>\n",
       "      <td>0.722858</td>\n",
       "      <td>0.725244</td>\n",
       "      <td>0.722189</td>\n",
       "      <td>0.002899</td>\n",
       "      <td>7</td>\n",
       "      <td>0.772722</td>\n",
       "      <td>0.772097</td>\n",
       "      <td>0.775534</td>\n",
       "      <td>0.775236</td>\n",
       "      <td>0.773897</td>\n",
       "      <td>0.001508</td>\n",
       "    </tr>\n",
       "    <tr>\n",
       "      <th>9</th>\n",
       "      <td>3.015471</td>\n",
       "      <td>0.055166</td>\n",
       "      <td>0.081796</td>\n",
       "      <td>0.001568</td>\n",
       "      <td>9</td>\n",
       "      <td>50</td>\n",
       "      <td>{'max_depth': 9, 'n_estimators': 50}</td>\n",
       "      <td>0.726420</td>\n",
       "      <td>0.726233</td>\n",
       "      <td>0.726420</td>\n",
       "      <td>0.729932</td>\n",
       "      <td>0.727252</td>\n",
       "      <td>0.001550</td>\n",
       "      <td>6</td>\n",
       "      <td>0.771346</td>\n",
       "      <td>0.773034</td>\n",
       "      <td>0.775659</td>\n",
       "      <td>0.771861</td>\n",
       "      <td>0.772975</td>\n",
       "      <td>0.001666</td>\n",
       "    </tr>\n",
       "    <tr>\n",
       "      <th>10</th>\n",
       "      <td>5.970758</td>\n",
       "      <td>0.034093</td>\n",
       "      <td>0.169540</td>\n",
       "      <td>0.007903</td>\n",
       "      <td>9</td>\n",
       "      <td>100</td>\n",
       "      <td>{'max_depth': 9, 'n_estimators': 100}</td>\n",
       "      <td>0.727545</td>\n",
       "      <td>0.727170</td>\n",
       "      <td>0.726795</td>\n",
       "      <td>0.731620</td>\n",
       "      <td>0.728283</td>\n",
       "      <td>0.001945</td>\n",
       "      <td>5</td>\n",
       "      <td>0.769596</td>\n",
       "      <td>0.772847</td>\n",
       "      <td>0.773472</td>\n",
       "      <td>0.772548</td>\n",
       "      <td>0.772116</td>\n",
       "      <td>0.001492</td>\n",
       "    </tr>\n",
       "    <tr>\n",
       "      <th>11</th>\n",
       "      <td>11.960290</td>\n",
       "      <td>0.038391</td>\n",
       "      <td>0.340586</td>\n",
       "      <td>0.019905</td>\n",
       "      <td>9</td>\n",
       "      <td>200</td>\n",
       "      <td>{'max_depth': 9, 'n_estimators': 200}</td>\n",
       "      <td>0.729796</td>\n",
       "      <td>0.726983</td>\n",
       "      <td>0.728108</td>\n",
       "      <td>0.729745</td>\n",
       "      <td>0.728658</td>\n",
       "      <td>0.001182</td>\n",
       "      <td>4</td>\n",
       "      <td>0.769784</td>\n",
       "      <td>0.774034</td>\n",
       "      <td>0.774722</td>\n",
       "      <td>0.771361</td>\n",
       "      <td>0.772475</td>\n",
       "      <td>0.001998</td>\n",
       "    </tr>\n",
       "    <tr>\n",
       "      <th>12</th>\n",
       "      <td>0.791990</td>\n",
       "      <td>0.014247</td>\n",
       "      <td>0.022046</td>\n",
       "      <td>0.001277</td>\n",
       "      <td>12</td>\n",
       "      <td>10</td>\n",
       "      <td>{'max_depth': 12, 'n_estimators': 10}</td>\n",
       "      <td>0.720983</td>\n",
       "      <td>0.726045</td>\n",
       "      <td>0.721170</td>\n",
       "      <td>0.714366</td>\n",
       "      <td>0.720641</td>\n",
       "      <td>0.004153</td>\n",
       "      <td>8</td>\n",
       "      <td>0.853544</td>\n",
       "      <td>0.851231</td>\n",
       "      <td>0.847043</td>\n",
       "      <td>0.851178</td>\n",
       "      <td>0.850749</td>\n",
       "      <td>0.002343</td>\n",
       "    </tr>\n",
       "    <tr>\n",
       "      <th>13</th>\n",
       "      <td>3.752325</td>\n",
       "      <td>0.038228</td>\n",
       "      <td>0.094904</td>\n",
       "      <td>0.002783</td>\n",
       "      <td>12</td>\n",
       "      <td>50</td>\n",
       "      <td>{'max_depth': 12, 'n_estimators': 50}</td>\n",
       "      <td>0.735796</td>\n",
       "      <td>0.730546</td>\n",
       "      <td>0.730733</td>\n",
       "      <td>0.734059</td>\n",
       "      <td>0.732783</td>\n",
       "      <td>0.002231</td>\n",
       "      <td>2</td>\n",
       "      <td>0.857357</td>\n",
       "      <td>0.861920</td>\n",
       "      <td>0.862295</td>\n",
       "      <td>0.859679</td>\n",
       "      <td>0.860313</td>\n",
       "      <td>0.001978</td>\n",
       "    </tr>\n",
       "    <tr>\n",
       "      <th>14</th>\n",
       "      <td>7.529621</td>\n",
       "      <td>0.071518</td>\n",
       "      <td>0.189360</td>\n",
       "      <td>0.004447</td>\n",
       "      <td>12</td>\n",
       "      <td>100</td>\n",
       "      <td>{'max_depth': 12, 'n_estimators': 100}</td>\n",
       "      <td>0.736734</td>\n",
       "      <td>0.729233</td>\n",
       "      <td>0.732046</td>\n",
       "      <td>0.734059</td>\n",
       "      <td>0.733018</td>\n",
       "      <td>0.002746</td>\n",
       "      <td>1</td>\n",
       "      <td>0.857107</td>\n",
       "      <td>0.861420</td>\n",
       "      <td>0.862233</td>\n",
       "      <td>0.857304</td>\n",
       "      <td>0.859516</td>\n",
       "      <td>0.002329</td>\n",
       "    </tr>\n",
       "    <tr>\n",
       "      <th>15</th>\n",
       "      <td>15.009929</td>\n",
       "      <td>0.159832</td>\n",
       "      <td>0.384805</td>\n",
       "      <td>0.013578</td>\n",
       "      <td>12</td>\n",
       "      <td>200</td>\n",
       "      <td>{'max_depth': 12, 'n_estimators': 200}</td>\n",
       "      <td>0.735608</td>\n",
       "      <td>0.730358</td>\n",
       "      <td>0.730171</td>\n",
       "      <td>0.734059</td>\n",
       "      <td>0.732549</td>\n",
       "      <td>0.002350</td>\n",
       "      <td>3</td>\n",
       "      <td>0.859982</td>\n",
       "      <td>0.860295</td>\n",
       "      <td>0.863233</td>\n",
       "      <td>0.860491</td>\n",
       "      <td>0.861000</td>\n",
       "      <td>0.001302</td>\n",
       "    </tr>\n",
       "  </tbody>\n",
       "</table>\n",
       "</div>"
      ],
      "text/plain": [
       "    mean_fit_time  std_fit_time  mean_score_time  std_score_time  \\\n",
       "0        0.289788      0.011390         0.015785        0.000485   \n",
       "1        1.315327      0.026736         0.071738        0.007409   \n",
       "2        2.620243      0.017331         0.152470        0.015981   \n",
       "3        5.266480      0.100861         0.264251        0.025089   \n",
       "4        0.493742      0.030111         0.016841        0.002420   \n",
       "5        2.211531      0.058427         0.069893        0.001776   \n",
       "6        4.398643      0.073789         0.147272        0.009071   \n",
       "7        8.788711      0.230938         0.288712        0.007185   \n",
       "8        0.673614      0.018904         0.018898        0.000628   \n",
       "9        3.015471      0.055166         0.081796        0.001568   \n",
       "10       5.970758      0.034093         0.169540        0.007903   \n",
       "11      11.960290      0.038391         0.340586        0.019905   \n",
       "12       0.791990      0.014247         0.022046        0.001277   \n",
       "13       3.752325      0.038228         0.094904        0.002783   \n",
       "14       7.529621      0.071518         0.189360        0.004447   \n",
       "15      15.009929      0.159832         0.384805        0.013578   \n",
       "\n",
       "   param_max_depth param_n_estimators                                  params  \\\n",
       "0                3                 10    {'max_depth': 3, 'n_estimators': 10}   \n",
       "1                3                 50    {'max_depth': 3, 'n_estimators': 50}   \n",
       "2                3                100   {'max_depth': 3, 'n_estimators': 100}   \n",
       "3                3                200   {'max_depth': 3, 'n_estimators': 200}   \n",
       "4                6                 10    {'max_depth': 6, 'n_estimators': 10}   \n",
       "5                6                 50    {'max_depth': 6, 'n_estimators': 50}   \n",
       "6                6                100   {'max_depth': 6, 'n_estimators': 100}   \n",
       "7                6                200   {'max_depth': 6, 'n_estimators': 200}   \n",
       "8                9                 10    {'max_depth': 9, 'n_estimators': 10}   \n",
       "9                9                 50    {'max_depth': 9, 'n_estimators': 50}   \n",
       "10               9                100   {'max_depth': 9, 'n_estimators': 100}   \n",
       "11               9                200   {'max_depth': 9, 'n_estimators': 200}   \n",
       "12              12                 10   {'max_depth': 12, 'n_estimators': 10}   \n",
       "13              12                 50   {'max_depth': 12, 'n_estimators': 50}   \n",
       "14              12                100  {'max_depth': 12, 'n_estimators': 100}   \n",
       "15              12                200  {'max_depth': 12, 'n_estimators': 200}   \n",
       "\n",
       "    split0_test_score  split1_test_score  split2_test_score  \\\n",
       "0            0.658354           0.661354           0.680480   \n",
       "1            0.642040           0.642790           0.658541   \n",
       "2            0.642415           0.663041           0.654978   \n",
       "3            0.641853           0.654791           0.659666   \n",
       "4            0.711044           0.709169           0.710857   \n",
       "5            0.712170           0.708794           0.715357   \n",
       "6            0.710294           0.710669           0.716295   \n",
       "7            0.712732           0.710482           0.717045   \n",
       "8            0.723233           0.717420           0.722858   \n",
       "9            0.726420           0.726233           0.726420   \n",
       "10           0.727545           0.727170           0.726795   \n",
       "11           0.729796           0.726983           0.728108   \n",
       "12           0.720983           0.726045           0.721170   \n",
       "13           0.735796           0.730546           0.730733   \n",
       "14           0.736734           0.729233           0.732046   \n",
       "15           0.735608           0.730358           0.730171   \n",
       "\n",
       "    split3_test_score  mean_test_score  std_test_score  rank_test_score  \\\n",
       "0            0.660353         0.665135        0.008925               13   \n",
       "1            0.648537         0.647977        0.006597               16   \n",
       "2            0.643661         0.651024        0.008491               14   \n",
       "3            0.639160         0.648867        0.008590               15   \n",
       "4            0.702176         0.708312        0.003617               12   \n",
       "5            0.706864         0.710796        0.003246               10   \n",
       "6            0.704989         0.710562        0.004000               11   \n",
       "7            0.706302         0.711640        0.003881                9   \n",
       "8            0.725244         0.722189        0.002899                7   \n",
       "9            0.729932         0.727252        0.001550                6   \n",
       "10           0.731620         0.728283        0.001945                5   \n",
       "11           0.729745         0.728658        0.001182                4   \n",
       "12           0.714366         0.720641        0.004153                8   \n",
       "13           0.734059         0.732783        0.002231                2   \n",
       "14           0.734059         0.733018        0.002746                1   \n",
       "15           0.734059         0.732549        0.002350                3   \n",
       "\n",
       "    split0_train_score  split1_train_score  split2_train_score  \\\n",
       "0             0.656770            0.661708            0.677022   \n",
       "1             0.647456            0.643768            0.653144   \n",
       "2             0.648081            0.660958            0.648206   \n",
       "3             0.648581            0.653769            0.651769   \n",
       "4             0.720215            0.719902            0.717027   \n",
       "5             0.720215            0.718840            0.721653   \n",
       "6             0.718215            0.720028            0.719902   \n",
       "7             0.719027            0.717965            0.719402   \n",
       "8             0.772722            0.772097            0.775534   \n",
       "9             0.771346            0.773034            0.775659   \n",
       "10            0.769596            0.772847            0.773472   \n",
       "11            0.769784            0.774034            0.774722   \n",
       "12            0.853544            0.851231            0.847043   \n",
       "13            0.857357            0.861920            0.862295   \n",
       "14            0.857107            0.861420            0.862233   \n",
       "15            0.859982            0.860295            0.863233   \n",
       "\n",
       "    split3_train_score  mean_train_score  std_train_score  \n",
       "0             0.669229          0.666182         0.007671  \n",
       "1             0.656479          0.650212         0.004924  \n",
       "2             0.652416          0.652415         0.005232  \n",
       "3             0.649353          0.650868         0.002047  \n",
       "4             0.716732          0.718469         0.001597  \n",
       "5             0.717357          0.719516         0.001595  \n",
       "6             0.716920          0.718766         0.001284  \n",
       "7             0.715857          0.718063         0.001378  \n",
       "8             0.775236          0.773897         0.001508  \n",
       "9             0.771861          0.772975         0.001666  \n",
       "10            0.772548          0.772116         0.001492  \n",
       "11            0.771361          0.772475         0.001998  \n",
       "12            0.851178          0.850749         0.002343  \n",
       "13            0.859679          0.860313         0.001978  \n",
       "14            0.857304          0.859516         0.002329  \n",
       "15            0.860491          0.861000         0.001302  "
      ]
     },
     "execution_count": 23,
     "metadata": {},
     "output_type": "execute_result"
    }
   ],
   "source": [
    "cv_rf_imputation_df = pd.DataFrame(cv_rf_imputation.cv_results_)\n",
    "\n",
    "print('Best params: ' + str(cv_rf_imputation.best_params_) + \n",
    "      ', best score: ', cv_rf_imputation.best_score_)\n",
    "cv_rf_imputation_df"
   ]
  },
  {
   "cell_type": "markdown",
   "metadata": {},
   "source": [
    "Let us examine the score comparing to a dumb predictor over all fractions:"
   ]
  },
  {
   "cell_type": "code",
   "execution_count": 24,
   "metadata": {},
   "outputs": [
    {
     "data": {
      "text/plain": [
       "-2    0.092859\n",
       "-1    0.189281\n",
       " 0    0.490812\n",
       " 1    0.122300\n",
       " 2    0.089184\n",
       " 3    0.010951\n",
       " 4    0.002363\n",
       " 5    0.000863\n",
       " 6    0.000413\n",
       " 7    0.000338\n",
       " 8    0.000638\n",
       "Name: pay_1, dtype: float64"
      ]
     },
     "execution_count": 24,
     "metadata": {},
     "output_type": "execute_result"
    }
   ],
   "source": [
    "pay_1_value_counts = pay_1_df.pay_1.value_counts().sort_index()\n",
    "\n",
    "pay_1_value_counts / np.sum(pay_1_value_counts)"
   ]
  },
  {
   "cell_type": "markdown",
   "metadata": {},
   "source": [
    "From the fractions, 49% of the values were equal to the mode. So, using the mode imputation, the imputation value would be expected to be correct about 49% of the time. However, using a model to impute the values of pay_1, the results showed that 73% of the time was correct. So, one benefit of using model-based imputation was that more accurate fill values for the unknown values of a feature were found.\n",
    "\n",
    "Let us see if the model generalizes well to the test set:"
   ]
  },
  {
   "cell_type": "code",
   "execution_count": 25,
   "metadata": {},
   "outputs": [
    {
     "data": {
      "text/plain": [
       "0.736171010688168"
      ]
     },
     "execution_count": 25,
     "metadata": {},
     "output_type": "execute_result"
    }
   ],
   "source": [
    "y_impute_predict = cv_rf_imputation.predict(X_impute_test)\n",
    "\n",
    "metrics.accuracy_score(y_impute_test, y_impute_predict)"
   ]
  },
  {
   "cell_type": "markdown",
   "metadata": {},
   "source": [
    "The accuracy on the test set of 74% was comparable to, and a little higher than, the average cross-validation accuracy of 73%.\n",
    "\n",
    "Let us know check the distribution of the preicted classes for this feature and compare to the true values:"
   ]
  },
  {
   "cell_type": "code",
   "execution_count": 26,
   "metadata": {},
   "outputs": [
    {
     "data": {
      "text/plain": [
       "Text(0.5, 1.0, 'Pay_1 model-based test set distribution')"
      ]
     },
     "execution_count": 26,
     "metadata": {},
     "output_type": "execute_result"
    },
    {
     "data": {
      "image/png": "[encoded data removed]",
      "text/plain": [
       "<Figure size 720x288 with 2 Axes>"
      ]
     },
     "metadata": {
      "needs_background": "light"
     },
     "output_type": "display_data"
    }
   ],
   "source": [
    "fig, ax = plt.subplots(1, 2, figsize=(10, 4))\n",
    "\n",
    "bin_edges = np.arange(-2, 9)\n",
    "\n",
    "ax[0].hist(y_impute_test, bins=bin_edges, align='left')\n",
    "ax[0].set_xticks(bin_edges)\n",
    "ax[0].set_title('Pay_1 non-missing values test set distribution')\n",
    "\n",
    "ax[1].hist(y_impute_predict, bins=bin_edges, align='left')\n",
    "ax[1].set_xticks(bin_edges)\n",
    "ax[1].set_title('Pay_1 model-based test set distribution')"
   ]
  },
  {
   "cell_type": "markdown",
   "metadata": {},
   "source": [
    "From the above figure, it is possible to see that the model was more likely to predict a value of 0 for **pay_1** than existed in the test set. However, the distribution was quite similar to the test set, compensating this behaviour.\n",
    "\n",
    "Now, let us train with all the available pay_1 feature data and held-out a test set that was from the non available values:"
   ]
  },
  {
   "cell_type": "code",
   "execution_count": 27,
   "metadata": {},
   "outputs": [
    {
     "data": {
      "text/plain": [
       "RandomForestClassifier(max_depth=12, n_estimators=50)"
      ]
     },
     "execution_count": 27,
     "metadata": {},
     "output_type": "execute_result"
    }
   ],
   "source": [
    "X_impute_all, y_impute_all = pay_1_df[features_response2].values, pay_1_df.default_payment_next_month.values\n",
    "\n",
    "rf_impute = RandomForestClassifier(n_estimators=50, max_depth=12)\n",
    "rf_impute.fit(X_impute_all, y_impute_all)"
   ]
  },
  {
   "cell_type": "markdown",
   "metadata": {},
   "source": [
    "Now let us use the model to predict the missing values:"
   ]
  },
  {
   "cell_type": "code",
   "execution_count": 28,
   "metadata": {},
   "outputs": [
    {
     "data": {
      "text/html": [
       "<div>\n",
       "<style scoped>\n",
       "    .dataframe tbody tr th:only-of-type {\n",
       "        vertical-align: middle;\n",
       "    }\n",
       "\n",
       "    .dataframe tbody tr th {\n",
       "        vertical-align: top;\n",
       "    }\n",
       "\n",
       "    .dataframe thead th {\n",
       "        text-align: right;\n",
       "    }\n",
       "</style>\n",
       "<table border=\"1\" class=\"dataframe\">\n",
       "  <thead>\n",
       "    <tr style=\"text-align: right;\">\n",
       "      <th></th>\n",
       "      <th>id</th>\n",
       "      <th>limit_bal</th>\n",
       "      <th>sex</th>\n",
       "      <th>education</th>\n",
       "      <th>marriage</th>\n",
       "      <th>age</th>\n",
       "      <th>pay_1</th>\n",
       "      <th>pay_2</th>\n",
       "      <th>pay_3</th>\n",
       "      <th>pay_4</th>\n",
       "      <th>...</th>\n",
       "      <th>bill_amt4</th>\n",
       "      <th>bill_amt5</th>\n",
       "      <th>bill_amt6</th>\n",
       "      <th>pay_amt1</th>\n",
       "      <th>pay_amt2</th>\n",
       "      <th>pay_amt3</th>\n",
       "      <th>pay_amt4</th>\n",
       "      <th>pay_amt5</th>\n",
       "      <th>pay_amt6</th>\n",
       "      <th>default_payment_next_month</th>\n",
       "    </tr>\n",
       "  </thead>\n",
       "  <tbody>\n",
       "    <tr>\n",
       "      <th>17</th>\n",
       "      <td>f0ba5e02-0c0f</td>\n",
       "      <td>320000</td>\n",
       "      <td>1</td>\n",
       "      <td>1</td>\n",
       "      <td>1</td>\n",
       "      <td>49</td>\n",
       "      <td>0</td>\n",
       "      <td>0</td>\n",
       "      <td>0</td>\n",
       "      <td>-1</td>\n",
       "      <td>...</td>\n",
       "      <td>70074</td>\n",
       "      <td>5856</td>\n",
       "      <td>195599</td>\n",
       "      <td>10358</td>\n",
       "      <td>10000</td>\n",
       "      <td>75940</td>\n",
       "      <td>20000</td>\n",
       "      <td>195599</td>\n",
       "      <td>50000</td>\n",
       "      <td>0</td>\n",
       "    </tr>\n",
       "    <tr>\n",
       "      <th>28</th>\n",
       "      <td>aecb449b-a999</td>\n",
       "      <td>50000</td>\n",
       "      <td>2</td>\n",
       "      <td>3</td>\n",
       "      <td>1</td>\n",
       "      <td>47</td>\n",
       "      <td>0</td>\n",
       "      <td>-1</td>\n",
       "      <td>-1</td>\n",
       "      <td>-1</td>\n",
       "      <td>...</td>\n",
       "      <td>2040</td>\n",
       "      <td>30430</td>\n",
       "      <td>257</td>\n",
       "      <td>3415</td>\n",
       "      <td>3421</td>\n",
       "      <td>2044</td>\n",
       "      <td>30430</td>\n",
       "      <td>257</td>\n",
       "      <td>0</td>\n",
       "      <td>0</td>\n",
       "    </tr>\n",
       "    <tr>\n",
       "      <th>29</th>\n",
       "      <td>57ea9a1f-cdd5</td>\n",
       "      <td>50000</td>\n",
       "      <td>1</td>\n",
       "      <td>1</td>\n",
       "      <td>2</td>\n",
       "      <td>26</td>\n",
       "      <td>0</td>\n",
       "      <td>0</td>\n",
       "      <td>0</td>\n",
       "      <td>0</td>\n",
       "      <td>...</td>\n",
       "      <td>17907</td>\n",
       "      <td>18375</td>\n",
       "      <td>11400</td>\n",
       "      <td>1500</td>\n",
       "      <td>1500</td>\n",
       "      <td>1000</td>\n",
       "      <td>1000</td>\n",
       "      <td>1600</td>\n",
       "      <td>0</td>\n",
       "      <td>0</td>\n",
       "    </tr>\n",
       "    <tr>\n",
       "      <th>54</th>\n",
       "      <td>781f3cc2-7ddc</td>\n",
       "      <td>150000</td>\n",
       "      <td>2</td>\n",
       "      <td>1</td>\n",
       "      <td>2</td>\n",
       "      <td>29</td>\n",
       "      <td>0</td>\n",
       "      <td>0</td>\n",
       "      <td>0</td>\n",
       "      <td>0</td>\n",
       "      <td>...</td>\n",
       "      <td>26518</td>\n",
       "      <td>21042</td>\n",
       "      <td>16540</td>\n",
       "      <td>1600</td>\n",
       "      <td>1718</td>\n",
       "      <td>1049</td>\n",
       "      <td>1500</td>\n",
       "      <td>2000</td>\n",
       "      <td>5000</td>\n",
       "      <td>0</td>\n",
       "    </tr>\n",
       "    <tr>\n",
       "      <th>60</th>\n",
       "      <td>5c00d7e6-a804</td>\n",
       "      <td>500000</td>\n",
       "      <td>2</td>\n",
       "      <td>3</td>\n",
       "      <td>1</td>\n",
       "      <td>28</td>\n",
       "      <td>0</td>\n",
       "      <td>0</td>\n",
       "      <td>0</td>\n",
       "      <td>0</td>\n",
       "      <td>...</td>\n",
       "      <td>14937</td>\n",
       "      <td>13827</td>\n",
       "      <td>15571</td>\n",
       "      <td>1516</td>\n",
       "      <td>1300</td>\n",
       "      <td>1000</td>\n",
       "      <td>1000</td>\n",
       "      <td>2000</td>\n",
       "      <td>2000</td>\n",
       "      <td>1</td>\n",
       "    </tr>\n",
       "  </tbody>\n",
       "</table>\n",
       "<p>5 rows × 25 columns</p>\n",
       "</div>"
      ],
      "text/plain": [
       "               id  limit_bal  sex  education  marriage  age  pay_1  pay_2  \\\n",
       "17  f0ba5e02-0c0f     320000    1          1         1   49      0      0   \n",
       "28  aecb449b-a999      50000    2          3         1   47      0     -1   \n",
       "29  57ea9a1f-cdd5      50000    1          1         2   26      0      0   \n",
       "54  781f3cc2-7ddc     150000    2          1         2   29      0      0   \n",
       "60  5c00d7e6-a804     500000    2          3         1   28      0      0   \n",
       "\n",
       "    pay_3  pay_4  ...  bill_amt4  bill_amt5  bill_amt6  pay_amt1  pay_amt2  \\\n",
       "17      0     -1  ...      70074       5856     195599     10358     10000   \n",
       "28     -1     -1  ...       2040      30430        257      3415      3421   \n",
       "29      0      0  ...      17907      18375      11400      1500      1500   \n",
       "54      0      0  ...      26518      21042      16540      1600      1718   \n",
       "60      0      0  ...      14937      13827      15571      1516      1300   \n",
       "\n",
       "    pay_amt3  pay_amt4  pay_amt5  pay_amt6  default_payment_next_month  \n",
       "17     75940     20000    195599     50000                           0  \n",
       "28      2044     30430       257         0                           0  \n",
       "29      1000      1000      1600         0                           0  \n",
       "54      1049      1500      2000      5000                           0  \n",
       "60      1000      1000      2000      2000                           1  \n",
       "\n",
       "[5 rows x 25 columns]"
      ]
     },
     "execution_count": 28,
     "metadata": {},
     "output_type": "execute_result"
    }
   ],
   "source": [
    "df_filled_pay_1_model = df_missing_pay_1.copy()\n",
    "df_filled_pay_1_model['pay_1'] = rf_impute.predict(df_filled_pay_1_model[features_response2].values)\n",
    "\n",
    "df_filled_pay_1_model.head()"
   ]
  },
  {
   "cell_type": "markdown",
   "metadata": {},
   "source": [
    "Let us check the predicted distribution:"
   ]
  },
  {
   "cell_type": "code",
   "execution_count": 29,
   "metadata": {},
   "outputs": [
    {
     "data": {
      "text/plain": [
       "-2     284\n",
       "-1     556\n",
       " 0    1475\n",
       " 1     360\n",
       " 2     282\n",
       " 3      48\n",
       " 4       8\n",
       " 5       5\n",
       " 6       3\n",
       "Name: pay_1, dtype: int64"
      ]
     },
     "execution_count": 29,
     "metadata": {},
     "output_type": "execute_result"
    }
   ],
   "source": [
    "df_filled_pay_1.pay_1.value_counts().sort_index()"
   ]
  },
  {
   "cell_type": "markdown",
   "metadata": {},
   "source": [
    "It is possible to see that there was a range of prediction values of pay_1 from the imputation model, roughly in the relative frequencies that were expected.\n",
    "\n",
    "Now let us use all the data so far (the imputed and not imputed) and train a random forest with the same hyperparameters to check if the model presents a better performance:"
   ]
  },
  {
   "cell_type": "code",
   "execution_count": 30,
   "metadata": {},
   "outputs": [
    {
     "name": "stderr",
     "output_type": "stream",
     "text": [
      "[Parallel(n_jobs=-1)]: Using backend LokyBackend with 4 concurrent workers.\n",
      "[Parallel(n_jobs=-1)]: Done   2 out of   4 | elapsed:   13.1s remaining:   13.1s\n",
      "[Parallel(n_jobs=-1)]: Done   4 out of   4 | elapsed:   13.2s finished\n"
     ]
    }
   ],
   "source": [
    "X_filled_train, X_filled_test, y_filled_train, y_filled_test = \\\n",
    "    train_test_split(df_filled_pay_1_model[features_response].values,\n",
    "                     df_filled_pay_1_model.default_payment_next_month.values,\n",
    "                     test_size=0.2, random_state=24)\n",
    "\n",
    "X_train_all = np.concatenate((X_train, X_filled_train), axis=0)\n",
    "y_train_all = np.concatenate((y_train, y_filled_train), axis=0)\n",
    "\n",
    "imputation_compare_cv = cross_validate(rf, X_train_all, y_train_all, scoring='roc_auc', cv=k_folds,\n",
    "                                       return_train_score=True, error_score='raise', n_jobs=-1,\n",
    "                                       verbose=1, return_estimator=True)"
   ]
  },
  {
   "cell_type": "code",
   "execution_count": 31,
   "metadata": {},
   "outputs": [
    {
     "data": {
      "text/plain": [
       "(0.7722528694215828, 0.003763757427534147)"
      ]
     },
     "execution_count": 31,
     "metadata": {},
     "output_type": "execute_result"
    }
   ],
   "source": [
    "(np.mean(imputation_compare_cv['test_score']),\n",
    " np.std(imputation_compare_cv['test_score']))"
   ]
  },
  {
   "cell_type": "markdown",
   "metadata": {},
   "source": [
    "An average cross-validated ROC AUC of 0.772 was very close to, but slightly worse than, the previous best result of 0.775 from mode-based imputation. For all intents and purposes, mode-based and model-based imputations had essentially the same performance. Note that the standard deviation for cross-validation score with model-based imputation calculated above is 0.003, so the average model-based imputation score is within one standard deviation of the best method.\n",
    "\n",
    "From a simplicity standpoint, the mode-based imputation was the clear favorite. The code to implement this was much more concise than the model-based imputation just completed.\n",
    "\n",
    "### Mesuring the Imputed Model on Test set\n",
    "\n",
    "Let us reassign the values with the mode value and verify how the model with mode imputation goes:"
   ]
  },
  {
   "cell_type": "code",
   "execution_count": 32,
   "metadata": {},
   "outputs": [
    {
     "data": {
      "text/plain": [
       "array([0])"
      ]
     },
     "execution_count": 32,
     "metadata": {},
     "output_type": "execute_result"
    }
   ],
   "source": [
    "df_filled_pay_1_model.pay_1 = np.zeros_like(df_filled_pay_1_model.pay_1.values)\n",
    "df_filled_pay_1_model.pay_1.unique()"
   ]
  },
  {
   "cell_type": "code",
   "execution_count": 33,
   "metadata": {},
   "outputs": [
    {
     "name": "stdout",
     "output_type": "stream",
     "text": [
      "(23747, 17)\n",
      "(5938, 17)\n",
      "(23747,)\n",
      "(5938,)\n"
     ]
    }
   ],
   "source": [
    "X_filled_train, X_filled_test, y_filled_train, y_filled_test = \\\n",
    "    train_test_split(df_filled_pay_1_model[features_response].values,\n",
    "                     df_filled_pay_1_model.default_payment_next_month.values,\n",
    "                     test_size=0.2, random_state=24)\n",
    "\n",
    "X_train_all = np.concatenate((X_train, X_filled_train), axis=0)\n",
    "X_test_all = np.concatenate((X_test, X_filled_test), axis=0)\n",
    "y_train_all = np.concatenate((y_train, y_filled_train), axis=0)\n",
    "y_test_all = np.concatenate((y_test, y_filled_test), axis=0)\n",
    "\n",
    "print(X_train_all.shape)\n",
    "print(X_test_all.shape)\n",
    "print(y_train_all.shape)\n",
    "print(y_test_all.shape)"
   ]
  },
  {
   "cell_type": "code",
   "execution_count": 34,
   "metadata": {},
   "outputs": [
    {
     "data": {
      "text/plain": [
       "RandomForestClassifier(max_depth=9, n_estimators=200)"
      ]
     },
     "execution_count": 34,
     "metadata": {},
     "output_type": "execute_result"
    }
   ],
   "source": [
    "rf.fit(X_train_all, y_train_all)"
   ]
  },
  {
   "cell_type": "markdown",
   "metadata": {},
   "source": [
    "Let us extract the probabilities of the predictions:"
   ]
  },
  {
   "cell_type": "code",
   "execution_count": 35,
   "metadata": {},
   "outputs": [
    {
     "data": {
      "text/plain": [
       "0.7672975303159921"
      ]
     },
     "execution_count": 35,
     "metadata": {},
     "output_type": "execute_result"
    }
   ],
   "source": [
    "y_test_all_predict_proba = rf.predict_proba(X_test_all)\n",
    "roc_auc_score(y_test_all, y_test_all_predict_proba[:, 1])"
   ]
  },
  {
   "cell_type": "markdown",
   "metadata": {},
   "source": [
    "The appropriate comparison to make here was with the cross-validated testing score computed using the mode-imputed pay_1, which was 0.773. It is possible to see that the testing score of 0.770 was roughly within 1 standard deviation of the cross-validation estimate. \n",
    "\n",
    "The conclusion is that he model is robust and is ready for delivery to the client."
   ]
  }
 ],
 "metadata": {
  "kernelspec": {
   "display_name": "Python 3",
   "language": "python",
   "name": "python3"
  },
  "language_info": {
   "codemirror_mode": {
    "name": "ipython",
    "version": 3
   },
   "file_extension": ".py",
   "mimetype": "text/x-python",
   "name": "python",
   "nbconvert_exporter": "python",
   "pygments_lexer": "ipython3",
   "version": "3.8.5"
  }
 },
 "nbformat": 4,
 "nbformat_minor": 4
}
