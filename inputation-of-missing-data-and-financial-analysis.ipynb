{
 "cells": [
  {
   "cell_type": "markdown",
   "metadata": {},
   "source": [
    "### Imputation of Missing Data and Financial Analysis"
   ]
  },
  {
   "cell_type": "markdown",
   "metadata": {},
   "source": [
    "#### Packages"
   ]
  },
  {
   "cell_type": "code",
   "execution_count": 1,
   "metadata": {},
   "outputs": [
    {
     "name": "stdout",
     "output_type": "stream",
     "text": [
      "The Python version is 3.8.5 (default, Jul 28 2020, 12:59:40) \n",
      "[GCC 9.3.0].\n",
      "\n",
      "The Numpy version is 1.19.1.\n",
      "\n",
      "The Pandas version is 1.1.0.\n",
      "\n",
      "The Matplotlib version is 3.3.3.\n",
      "\n",
      "The Scikit-Learn version is 0.24.0.\n",
      "\n"
     ]
    }
   ],
   "source": [
    "# Load packages and check versions\n",
    "import sys\n",
    "import sklearn\n",
    "import numpy as np\n",
    "import pandas as pd\n",
    "import matplotlib as mpl\n",
    "import matplotlib.pyplot as plt\n",
    "\n",
    "%matplotlib inline\n",
    "\n",
    "from sklearn.ensemble import RandomForestClassifier\n",
    "from sklearn.model_selection import train_test_split, KFold, cross_validate\n",
    "\n",
    "print('The Python version is {}.\\n'.format(sys.version))\n",
    "print('The Numpy version is {}.\\n'.format(np.__version__))\n",
    "print('The Pandas version is {}.\\n'.format(pd.__version__))\n",
    "print('The Matplotlib version is {}.\\n'.format(mpl.__version__))\n",
    "print('The Scikit-Learn version is {}.\\n'.format(sklearn.__version__))"
   ]
  },
  {
   "cell_type": "markdown",
   "metadata": {},
   "source": [
    "### Imputation of missing data\n",
    "\n",
    "Imputation involves using the known values of a certain feature to make a best educated guess as to the missing values as a way to solve the problem of missing data that might have potential predictive power. \n",
    "\n",
    "Following are some strategies to deal with missing data:\n",
    "\n",
    "- Ignore samples with missing data, or features with missing data\n",
    "- Impute missing feature values with a constant (e.g. mean, median or mode) for a specific category\n",
    "- Impute missing values using a random selection from non-missing values\n",
    "- Impute missing values using interpolation of nearby observations in time or space\n",
    "- Mode-based imputation\n",
    "\n",
    "While the first option doesn't actually impute any data, it is a common practice among data science projects when dealing with missing values. \n",
    "\n",
    "The simplest types of imputation involve using a summary statistic of the non-missing feature values, as the single constant value with which to replace all the missing values. This summary statistic may be the mean, median, or mode for continuous features. For categorial features, the mode is an option, as well as the median for ordinal categoricals. An important additional case of imputation with a constant value for categorial variables is to create a new level of the categorical  variable, to indicate data is missing.\n",
    "\n",
    "More sophisticated methods of imputation can be used to fill in missing values with non-constant values. These methods reflect an acknowledgment that the missing values may not all be equal. he simplest way to do this is to fill in missing values using a random draw from the set of non-missing values, with replacement. This way, the relative frequency of different values chosen to fill in missing data will be similar to the existing data for that feature.\n",
    "\n",
    "In case samples are located within time or space, such as a time series or geolocated data, then temporal or spatial interpolation methods may be used. These methods follow the general idea that a missing data point is probably located somewhere between the values of adjacent data points in time or space.\n",
    "\n",
    "Lastly, perhaps the most sophisticated way to fill in missing data is to view the imputation problem as a predictive modeling \"problem within a problem.\" In this method, the feature with missing values is considered the response variable, while the features with no missing values are considered the features of this sub-problem."
   ]
  },
  {
   "cell_type": "markdown",
   "metadata": {},
   "source": [
    "### Preparing Samples with Missing Data\n",
    "\n",
    "Note that for the case study dataset, the feature that had missing values was **pay_1**, which turned out to be the most important feature as dentified by both the univariate feature selection as well as the feature importance of the random forest. In order to test out different imputation strategies on the case study data and see how they affect the predictive capability of the modeling approach, it is necesasry to replace samples with missing data back in to the dataset.\n",
    "\n",
    "Let us load the original dataset:"
   ]
  },
  {
   "cell_type": "code",
   "execution_count": 2,
   "metadata": {},
   "outputs": [
    {
     "data": {
      "text/html": [
       "<div>\n",
       "<style scoped>\n",
       "    .dataframe tbody tr th:only-of-type {\n",
       "        vertical-align: middle;\n",
       "    }\n",
       "\n",
       "    .dataframe tbody tr th {\n",
       "        vertical-align: top;\n",
       "    }\n",
       "\n",
       "    .dataframe thead th {\n",
       "        text-align: right;\n",
       "    }\n",
       "</style>\n",
       "<table border=\"1\" class=\"dataframe\">\n",
       "  <thead>\n",
       "    <tr style=\"text-align: right;\">\n",
       "      <th></th>\n",
       "      <th>id</th>\n",
       "      <th>limit_bal</th>\n",
       "      <th>sex</th>\n",
       "      <th>education</th>\n",
       "      <th>marriage</th>\n",
       "      <th>age</th>\n",
       "      <th>pay_1</th>\n",
       "      <th>pay_2</th>\n",
       "      <th>pay_3</th>\n",
       "      <th>pay_4</th>\n",
       "      <th>...</th>\n",
       "      <th>bill_amt4</th>\n",
       "      <th>bill_amt5</th>\n",
       "      <th>bill_amt6</th>\n",
       "      <th>pay_amt1</th>\n",
       "      <th>pay_amt2</th>\n",
       "      <th>pay_amt3</th>\n",
       "      <th>pay_amt4</th>\n",
       "      <th>pay_amt5</th>\n",
       "      <th>pay_amt6</th>\n",
       "      <th>default_payment_next_month</th>\n",
       "    </tr>\n",
       "  </thead>\n",
       "  <tbody>\n",
       "    <tr>\n",
       "      <th>0</th>\n",
       "      <td>798fc410-45c1</td>\n",
       "      <td>20000</td>\n",
       "      <td>2</td>\n",
       "      <td>2</td>\n",
       "      <td>1</td>\n",
       "      <td>24</td>\n",
       "      <td>2</td>\n",
       "      <td>2</td>\n",
       "      <td>-1</td>\n",
       "      <td>-1</td>\n",
       "      <td>...</td>\n",
       "      <td>0</td>\n",
       "      <td>0</td>\n",
       "      <td>0</td>\n",
       "      <td>0</td>\n",
       "      <td>689</td>\n",
       "      <td>0</td>\n",
       "      <td>0</td>\n",
       "      <td>0</td>\n",
       "      <td>0</td>\n",
       "      <td>1</td>\n",
       "    </tr>\n",
       "    <tr>\n",
       "      <th>1</th>\n",
       "      <td>8a8c8f3b-8eb4</td>\n",
       "      <td>120000</td>\n",
       "      <td>2</td>\n",
       "      <td>2</td>\n",
       "      <td>2</td>\n",
       "      <td>26</td>\n",
       "      <td>-1</td>\n",
       "      <td>2</td>\n",
       "      <td>0</td>\n",
       "      <td>0</td>\n",
       "      <td>...</td>\n",
       "      <td>3272</td>\n",
       "      <td>3455</td>\n",
       "      <td>3261</td>\n",
       "      <td>0</td>\n",
       "      <td>1000</td>\n",
       "      <td>1000</td>\n",
       "      <td>1000</td>\n",
       "      <td>0</td>\n",
       "      <td>2000</td>\n",
       "      <td>1</td>\n",
       "    </tr>\n",
       "    <tr>\n",
       "      <th>2</th>\n",
       "      <td>85698822-43f5</td>\n",
       "      <td>90000</td>\n",
       "      <td>2</td>\n",
       "      <td>2</td>\n",
       "      <td>2</td>\n",
       "      <td>34</td>\n",
       "      <td>0</td>\n",
       "      <td>0</td>\n",
       "      <td>0</td>\n",
       "      <td>0</td>\n",
       "      <td>...</td>\n",
       "      <td>14331</td>\n",
       "      <td>14948</td>\n",
       "      <td>15549</td>\n",
       "      <td>1518</td>\n",
       "      <td>1500</td>\n",
       "      <td>1000</td>\n",
       "      <td>1000</td>\n",
       "      <td>1000</td>\n",
       "      <td>5000</td>\n",
       "      <td>0</td>\n",
       "    </tr>\n",
       "    <tr>\n",
       "      <th>3</th>\n",
       "      <td>0737c11b-be42</td>\n",
       "      <td>50000</td>\n",
       "      <td>2</td>\n",
       "      <td>2</td>\n",
       "      <td>1</td>\n",
       "      <td>37</td>\n",
       "      <td>0</td>\n",
       "      <td>0</td>\n",
       "      <td>0</td>\n",
       "      <td>0</td>\n",
       "      <td>...</td>\n",
       "      <td>28314</td>\n",
       "      <td>28959</td>\n",
       "      <td>29547</td>\n",
       "      <td>2000</td>\n",
       "      <td>2019</td>\n",
       "      <td>1200</td>\n",
       "      <td>1100</td>\n",
       "      <td>1069</td>\n",
       "      <td>1000</td>\n",
       "      <td>0</td>\n",
       "    </tr>\n",
       "    <tr>\n",
       "      <th>4</th>\n",
       "      <td>3b7f77cc-dbc0</td>\n",
       "      <td>50000</td>\n",
       "      <td>1</td>\n",
       "      <td>2</td>\n",
       "      <td>1</td>\n",
       "      <td>57</td>\n",
       "      <td>-1</td>\n",
       "      <td>0</td>\n",
       "      <td>-1</td>\n",
       "      <td>0</td>\n",
       "      <td>...</td>\n",
       "      <td>20940</td>\n",
       "      <td>19146</td>\n",
       "      <td>19131</td>\n",
       "      <td>2000</td>\n",
       "      <td>36681</td>\n",
       "      <td>10000</td>\n",
       "      <td>9000</td>\n",
       "      <td>689</td>\n",
       "      <td>679</td>\n",
       "      <td>0</td>\n",
       "    </tr>\n",
       "  </tbody>\n",
       "</table>\n",
       "<p>5 rows × 25 columns</p>\n",
       "</div>"
      ],
      "text/plain": [
       "              id  limit_bal  sex  education  marriage  age pay_1  pay_2  \\\n",
       "0  798fc410-45c1      20000    2          2         1   24     2      2   \n",
       "1  8a8c8f3b-8eb4     120000    2          2         2   26    -1      2   \n",
       "2  85698822-43f5      90000    2          2         2   34     0      0   \n",
       "3  0737c11b-be42      50000    2          2         1   37     0      0   \n",
       "4  3b7f77cc-dbc0      50000    1          2         1   57    -1      0   \n",
       "\n",
       "   pay_3  pay_4  ...  bill_amt4  bill_amt5  bill_amt6  pay_amt1  pay_amt2  \\\n",
       "0     -1     -1  ...          0          0          0         0       689   \n",
       "1      0      0  ...       3272       3455       3261         0      1000   \n",
       "2      0      0  ...      14331      14948      15549      1518      1500   \n",
       "3      0      0  ...      28314      28959      29547      2000      2019   \n",
       "4     -1      0  ...      20940      19146      19131      2000     36681   \n",
       "\n",
       "   pay_amt3  pay_amt4  pay_amt5  pay_amt6  default_payment_next_month  \n",
       "0         0         0         0         0                           1  \n",
       "1      1000      1000         0      2000                           1  \n",
       "2      1000      1000      1000      5000                           0  \n",
       "3      1200      1100      1069      1000                           0  \n",
       "4     10000      9000       689       679                           0  \n",
       "\n",
       "[5 rows x 25 columns]"
      ]
     },
     "execution_count": 2,
     "metadata": {},
     "output_type": "execute_result"
    }
   ],
   "source": [
    "df = pd.read_excel('data/default_of_credit_card_clients__courseware_version_1_21_19.xls')\n",
    "df.columns = [col.lower().replace(' ', '_') for col in df.columns]\n",
    "df.head()"
   ]
  },
  {
   "cell_type": "markdown",
   "metadata": {},
   "source": [
    "Looking at the zero rows:"
   ]
  },
  {
   "cell_type": "code",
   "execution_count": 3,
   "metadata": {},
   "outputs": [
    {
     "data": {
      "text/plain": [
       "(315,\n",
       " 0        False\n",
       " 1        False\n",
       " 2        False\n",
       " 3        False\n",
       " 4        False\n",
       "          ...  \n",
       " 29995    False\n",
       " 29996    False\n",
       " 29997    False\n",
       " 29998    False\n",
       " 29999    False\n",
       " Length: 30000, dtype: bool)"
      ]
     },
     "execution_count": 3,
     "metadata": {},
     "output_type": "execute_result"
    }
   ],
   "source": [
    "df_zero_mask = df == 0\n",
    "features_zero_mask = df_zero_mask.iloc[:, 1:].all(axis=1)\n",
    "\n",
    "(sum(features_zero_mask),\n",
    " features_zero_mask)"
   ]
  },
  {
   "cell_type": "markdown",
   "metadata": {},
   "source": [
    "Let us remove them from the dataframe and check whether all rows are unique:"
   ]
  },
  {
   "cell_type": "code",
   "execution_count": 4,
   "metadata": {},
   "outputs": [
    {
     "data": {
      "text/plain": [
       "(29685, 25)"
      ]
     },
     "execution_count": 4,
     "metadata": {},
     "output_type": "execute_result"
    }
   ],
   "source": [
    "df_clean = df.loc[~features_zero_mask].copy()\n",
    "\n",
    "df_clean.shape"
   ]
  },
  {
   "cell_type": "code",
   "execution_count": 5,
   "metadata": {},
   "outputs": [
    {
     "data": {
      "text/plain": [
       "29685"
      ]
     },
     "execution_count": 5,
     "metadata": {},
     "output_type": "execute_result"
    }
   ],
   "source": [
    "df_clean.id.nunique()"
   ]
  },
  {
   "cell_type": "markdown",
   "metadata": {},
   "source": [
    "Let us replace the undocumented values for the **education** and **marriage** columns with an *unknown* value.\n",
    "\n",
    "Education shoul be \"Education (1 = graduate school; 2 = university; 3 = high school; 4 = others)\"\n",
    "\n",
    "Marriage should be \"Marriage (1 = married; 2 = single; 3 = others)\""
   ]
  },
  {
   "cell_type": "code",
   "execution_count": 6,
   "metadata": {},
   "outputs": [
    {
     "data": {
      "text/plain": [
       "(2    13884\n",
       " 1    10474\n",
       " 3     4867\n",
       " 5      275\n",
       " 4      122\n",
       " 6       49\n",
       " 0       14\n",
       " Name: education, dtype: int64,\n",
       " 2    15810\n",
       " 1    13503\n",
       " 3      318\n",
       " 0       54\n",
       " Name: marriage, dtype: int64)"
      ]
     },
     "execution_count": 6,
     "metadata": {},
     "output_type": "execute_result"
    }
   ],
   "source": [
    "(df_clean.education.value_counts(), \n",
    " df_clean.marriage.value_counts())"
   ]
  },
  {
   "cell_type": "code",
   "execution_count": 7,
   "metadata": {},
   "outputs": [],
   "source": [
    "df_clean.education.replace(to_replace=[0,5,6], value=4, inplace=True)\n",
    "df_clean.marriage.replace(to_replace=0, value=3, inplace=True)"
   ]
  },
  {
   "cell_type": "markdown",
   "metadata": {},
   "source": [
    "Let us maintain the **pay_1** with missing values for the imputation process. However, let us \"save\" them into another set to include it the train and test set in a way to compare whether the imputation process reflects a better performance:"
   ]
  },
  {
   "cell_type": "code",
   "execution_count": 8,
   "metadata": {},
   "outputs": [
    {
     "data": {
      "text/plain": [
       "0                13087\n",
       "-1                5047\n",
       "1                 3261\n",
       "Not available     3021\n",
       "-2                2476\n",
       "2                 2378\n",
       "3                  292\n",
       "4                   63\n",
       "5                   23\n",
       "8                   17\n",
       "6                   11\n",
       "7                    9\n",
       "Name: pay_1, dtype: int64"
      ]
     },
     "execution_count": 8,
     "metadata": {},
     "output_type": "execute_result"
    }
   ],
   "source": [
    "df_clean.pay_1.value_counts()"
   ]
  },
  {
   "cell_type": "code",
   "execution_count": 9,
   "metadata": {},
   "outputs": [
    {
     "data": {
      "text/plain": [
       "3021"
      ]
     },
     "execution_count": 9,
     "metadata": {},
     "output_type": "execute_result"
    }
   ],
   "source": [
    "missing_pay_1_mask = df_clean.pay_1 == 'Not available'\n",
    "sum(missing_pay_1_mask)"
   ]
  },
  {
   "cell_type": "markdown",
   "metadata": {},
   "source": [
    "Now let us isolate these values:"
   ]
  },
  {
   "cell_type": "code",
   "execution_count": 10,
   "metadata": {},
   "outputs": [
    {
     "data": {
      "text/html": [
       "<div>\n",
       "<style scoped>\n",
       "    .dataframe tbody tr th:only-of-type {\n",
       "        vertical-align: middle;\n",
       "    }\n",
       "\n",
       "    .dataframe tbody tr th {\n",
       "        vertical-align: top;\n",
       "    }\n",
       "\n",
       "    .dataframe thead th {\n",
       "        text-align: right;\n",
       "    }\n",
       "</style>\n",
       "<table border=\"1\" class=\"dataframe\">\n",
       "  <thead>\n",
       "    <tr style=\"text-align: right;\">\n",
       "      <th></th>\n",
       "      <th>id</th>\n",
       "      <th>limit_bal</th>\n",
       "      <th>sex</th>\n",
       "      <th>education</th>\n",
       "      <th>marriage</th>\n",
       "      <th>age</th>\n",
       "      <th>pay_1</th>\n",
       "      <th>pay_2</th>\n",
       "      <th>pay_3</th>\n",
       "      <th>pay_4</th>\n",
       "      <th>...</th>\n",
       "      <th>bill_amt4</th>\n",
       "      <th>bill_amt5</th>\n",
       "      <th>bill_amt6</th>\n",
       "      <th>pay_amt1</th>\n",
       "      <th>pay_amt2</th>\n",
       "      <th>pay_amt3</th>\n",
       "      <th>pay_amt4</th>\n",
       "      <th>pay_amt5</th>\n",
       "      <th>pay_amt6</th>\n",
       "      <th>default_payment_next_month</th>\n",
       "    </tr>\n",
       "  </thead>\n",
       "  <tbody>\n",
       "    <tr>\n",
       "      <th>17</th>\n",
       "      <td>f0ba5e02-0c0f</td>\n",
       "      <td>320000</td>\n",
       "      <td>1</td>\n",
       "      <td>1</td>\n",
       "      <td>1</td>\n",
       "      <td>49</td>\n",
       "      <td>Not available</td>\n",
       "      <td>0</td>\n",
       "      <td>0</td>\n",
       "      <td>-1</td>\n",
       "      <td>...</td>\n",
       "      <td>70074</td>\n",
       "      <td>5856</td>\n",
       "      <td>195599</td>\n",
       "      <td>10358</td>\n",
       "      <td>10000</td>\n",
       "      <td>75940</td>\n",
       "      <td>20000</td>\n",
       "      <td>195599</td>\n",
       "      <td>50000</td>\n",
       "      <td>0</td>\n",
       "    </tr>\n",
       "    <tr>\n",
       "      <th>28</th>\n",
       "      <td>aecb449b-a999</td>\n",
       "      <td>50000</td>\n",
       "      <td>2</td>\n",
       "      <td>3</td>\n",
       "      <td>1</td>\n",
       "      <td>47</td>\n",
       "      <td>Not available</td>\n",
       "      <td>-1</td>\n",
       "      <td>-1</td>\n",
       "      <td>-1</td>\n",
       "      <td>...</td>\n",
       "      <td>2040</td>\n",
       "      <td>30430</td>\n",
       "      <td>257</td>\n",
       "      <td>3415</td>\n",
       "      <td>3421</td>\n",
       "      <td>2044</td>\n",
       "      <td>30430</td>\n",
       "      <td>257</td>\n",
       "      <td>0</td>\n",
       "      <td>0</td>\n",
       "    </tr>\n",
       "    <tr>\n",
       "      <th>29</th>\n",
       "      <td>57ea9a1f-cdd5</td>\n",
       "      <td>50000</td>\n",
       "      <td>1</td>\n",
       "      <td>1</td>\n",
       "      <td>2</td>\n",
       "      <td>26</td>\n",
       "      <td>Not available</td>\n",
       "      <td>0</td>\n",
       "      <td>0</td>\n",
       "      <td>0</td>\n",
       "      <td>...</td>\n",
       "      <td>17907</td>\n",
       "      <td>18375</td>\n",
       "      <td>11400</td>\n",
       "      <td>1500</td>\n",
       "      <td>1500</td>\n",
       "      <td>1000</td>\n",
       "      <td>1000</td>\n",
       "      <td>1600</td>\n",
       "      <td>0</td>\n",
       "      <td>0</td>\n",
       "    </tr>\n",
       "    <tr>\n",
       "      <th>54</th>\n",
       "      <td>781f3cc2-7ddc</td>\n",
       "      <td>150000</td>\n",
       "      <td>2</td>\n",
       "      <td>1</td>\n",
       "      <td>2</td>\n",
       "      <td>29</td>\n",
       "      <td>Not available</td>\n",
       "      <td>0</td>\n",
       "      <td>0</td>\n",
       "      <td>0</td>\n",
       "      <td>...</td>\n",
       "      <td>26518</td>\n",
       "      <td>21042</td>\n",
       "      <td>16540</td>\n",
       "      <td>1600</td>\n",
       "      <td>1718</td>\n",
       "      <td>1049</td>\n",
       "      <td>1500</td>\n",
       "      <td>2000</td>\n",
       "      <td>5000</td>\n",
       "      <td>0</td>\n",
       "    </tr>\n",
       "    <tr>\n",
       "      <th>60</th>\n",
       "      <td>5c00d7e6-a804</td>\n",
       "      <td>500000</td>\n",
       "      <td>2</td>\n",
       "      <td>3</td>\n",
       "      <td>1</td>\n",
       "      <td>28</td>\n",
       "      <td>Not available</td>\n",
       "      <td>0</td>\n",
       "      <td>0</td>\n",
       "      <td>0</td>\n",
       "      <td>...</td>\n",
       "      <td>14937</td>\n",
       "      <td>13827</td>\n",
       "      <td>15571</td>\n",
       "      <td>1516</td>\n",
       "      <td>1300</td>\n",
       "      <td>1000</td>\n",
       "      <td>1000</td>\n",
       "      <td>2000</td>\n",
       "      <td>2000</td>\n",
       "      <td>1</td>\n",
       "    </tr>\n",
       "  </tbody>\n",
       "</table>\n",
       "<p>5 rows × 25 columns</p>\n",
       "</div>"
      ],
      "text/plain": [
       "               id  limit_bal  sex  education  marriage  age          pay_1  \\\n",
       "17  f0ba5e02-0c0f     320000    1          1         1   49  Not available   \n",
       "28  aecb449b-a999      50000    2          3         1   47  Not available   \n",
       "29  57ea9a1f-cdd5      50000    1          1         2   26  Not available   \n",
       "54  781f3cc2-7ddc     150000    2          1         2   29  Not available   \n",
       "60  5c00d7e6-a804     500000    2          3         1   28  Not available   \n",
       "\n",
       "    pay_2  pay_3  pay_4  ...  bill_amt4  bill_amt5  bill_amt6  pay_amt1  \\\n",
       "17      0      0     -1  ...      70074       5856     195599     10358   \n",
       "28     -1     -1     -1  ...       2040      30430        257      3415   \n",
       "29      0      0      0  ...      17907      18375      11400      1500   \n",
       "54      0      0      0  ...      26518      21042      16540      1600   \n",
       "60      0      0      0  ...      14937      13827      15571      1516   \n",
       "\n",
       "    pay_amt2  pay_amt3  pay_amt4  pay_amt5  pay_amt6  \\\n",
       "17     10000     75940     20000    195599     50000   \n",
       "28      3421      2044     30430       257         0   \n",
       "29      1500      1000      1000      1600         0   \n",
       "54      1718      1049      1500      2000      5000   \n",
       "60      1300      1000      1000      2000      2000   \n",
       "\n",
       "    default_payment_next_month  \n",
       "17                           0  \n",
       "28                           0  \n",
       "29                           0  \n",
       "54                           0  \n",
       "60                           1  \n",
       "\n",
       "[5 rows x 25 columns]"
      ]
     },
     "execution_count": 10,
     "metadata": {},
     "output_type": "execute_result"
    }
   ],
   "source": [
    "df_missing_pay_1 = df_clean[missing_pay_1_mask].copy()\n",
    "df_missing_pay_1.head()"
   ]
  },
  {
   "cell_type": "markdown",
   "metadata": {},
   "source": [
    "Let us now load the previously cleaned dataframe:"
   ]
  },
  {
   "cell_type": "code",
   "execution_count": 11,
   "metadata": {},
   "outputs": [
    {
     "data": {
      "text/html": [
       "<div>\n",
       "<style scoped>\n",
       "    .dataframe tbody tr th:only-of-type {\n",
       "        vertical-align: middle;\n",
       "    }\n",
       "\n",
       "    .dataframe tbody tr th {\n",
       "        vertical-align: top;\n",
       "    }\n",
       "\n",
       "    .dataframe thead th {\n",
       "        text-align: right;\n",
       "    }\n",
       "</style>\n",
       "<table border=\"1\" class=\"dataframe\">\n",
       "  <thead>\n",
       "    <tr style=\"text-align: right;\">\n",
       "      <th></th>\n",
       "      <th>id</th>\n",
       "      <th>limit_bal</th>\n",
       "      <th>sex</th>\n",
       "      <th>education</th>\n",
       "      <th>marriage</th>\n",
       "      <th>age</th>\n",
       "      <th>pay_1</th>\n",
       "      <th>pay_2</th>\n",
       "      <th>pay_3</th>\n",
       "      <th>pay_4</th>\n",
       "      <th>...</th>\n",
       "      <th>pay_amt3</th>\n",
       "      <th>pay_amt4</th>\n",
       "      <th>pay_amt5</th>\n",
       "      <th>pay_amt6</th>\n",
       "      <th>default_payment_next_month</th>\n",
       "      <th>education_cat</th>\n",
       "      <th>graduate_school</th>\n",
       "      <th>high_school</th>\n",
       "      <th>others</th>\n",
       "      <th>university</th>\n",
       "    </tr>\n",
       "  </thead>\n",
       "  <tbody>\n",
       "    <tr>\n",
       "      <th>0</th>\n",
       "      <td>798fc410-45c1</td>\n",
       "      <td>20000</td>\n",
       "      <td>2</td>\n",
       "      <td>2</td>\n",
       "      <td>1</td>\n",
       "      <td>24</td>\n",
       "      <td>2</td>\n",
       "      <td>2</td>\n",
       "      <td>-1</td>\n",
       "      <td>-1</td>\n",
       "      <td>...</td>\n",
       "      <td>0</td>\n",
       "      <td>0</td>\n",
       "      <td>0</td>\n",
       "      <td>0</td>\n",
       "      <td>1</td>\n",
       "      <td>university</td>\n",
       "      <td>0</td>\n",
       "      <td>0</td>\n",
       "      <td>0</td>\n",
       "      <td>1</td>\n",
       "    </tr>\n",
       "    <tr>\n",
       "      <th>1</th>\n",
       "      <td>8a8c8f3b-8eb4</td>\n",
       "      <td>120000</td>\n",
       "      <td>2</td>\n",
       "      <td>2</td>\n",
       "      <td>2</td>\n",
       "      <td>26</td>\n",
       "      <td>-1</td>\n",
       "      <td>2</td>\n",
       "      <td>0</td>\n",
       "      <td>0</td>\n",
       "      <td>...</td>\n",
       "      <td>1000</td>\n",
       "      <td>1000</td>\n",
       "      <td>0</td>\n",
       "      <td>2000</td>\n",
       "      <td>1</td>\n",
       "      <td>university</td>\n",
       "      <td>0</td>\n",
       "      <td>0</td>\n",
       "      <td>0</td>\n",
       "      <td>1</td>\n",
       "    </tr>\n",
       "    <tr>\n",
       "      <th>2</th>\n",
       "      <td>85698822-43f5</td>\n",
       "      <td>90000</td>\n",
       "      <td>2</td>\n",
       "      <td>2</td>\n",
       "      <td>2</td>\n",
       "      <td>34</td>\n",
       "      <td>0</td>\n",
       "      <td>0</td>\n",
       "      <td>0</td>\n",
       "      <td>0</td>\n",
       "      <td>...</td>\n",
       "      <td>1000</td>\n",
       "      <td>1000</td>\n",
       "      <td>1000</td>\n",
       "      <td>5000</td>\n",
       "      <td>0</td>\n",
       "      <td>university</td>\n",
       "      <td>0</td>\n",
       "      <td>0</td>\n",
       "      <td>0</td>\n",
       "      <td>1</td>\n",
       "    </tr>\n",
       "    <tr>\n",
       "      <th>3</th>\n",
       "      <td>0737c11b-be42</td>\n",
       "      <td>50000</td>\n",
       "      <td>2</td>\n",
       "      <td>2</td>\n",
       "      <td>1</td>\n",
       "      <td>37</td>\n",
       "      <td>0</td>\n",
       "      <td>0</td>\n",
       "      <td>0</td>\n",
       "      <td>0</td>\n",
       "      <td>...</td>\n",
       "      <td>1200</td>\n",
       "      <td>1100</td>\n",
       "      <td>1069</td>\n",
       "      <td>1000</td>\n",
       "      <td>0</td>\n",
       "      <td>university</td>\n",
       "      <td>0</td>\n",
       "      <td>0</td>\n",
       "      <td>0</td>\n",
       "      <td>1</td>\n",
       "    </tr>\n",
       "    <tr>\n",
       "      <th>4</th>\n",
       "      <td>3b7f77cc-dbc0</td>\n",
       "      <td>50000</td>\n",
       "      <td>1</td>\n",
       "      <td>2</td>\n",
       "      <td>1</td>\n",
       "      <td>57</td>\n",
       "      <td>-1</td>\n",
       "      <td>0</td>\n",
       "      <td>-1</td>\n",
       "      <td>0</td>\n",
       "      <td>...</td>\n",
       "      <td>10000</td>\n",
       "      <td>9000</td>\n",
       "      <td>689</td>\n",
       "      <td>679</td>\n",
       "      <td>0</td>\n",
       "      <td>university</td>\n",
       "      <td>0</td>\n",
       "      <td>0</td>\n",
       "      <td>0</td>\n",
       "      <td>1</td>\n",
       "    </tr>\n",
       "  </tbody>\n",
       "</table>\n",
       "<p>5 rows × 30 columns</p>\n",
       "</div>"
      ],
      "text/plain": [
       "              id  limit_bal  sex  education  marriage  age  pay_1  pay_2  \\\n",
       "0  798fc410-45c1      20000    2          2         1   24      2      2   \n",
       "1  8a8c8f3b-8eb4     120000    2          2         2   26     -1      2   \n",
       "2  85698822-43f5      90000    2          2         2   34      0      0   \n",
       "3  0737c11b-be42      50000    2          2         1   37      0      0   \n",
       "4  3b7f77cc-dbc0      50000    1          2         1   57     -1      0   \n",
       "\n",
       "   pay_3  pay_4  ...  pay_amt3  pay_amt4  pay_amt5  pay_amt6  \\\n",
       "0     -1     -1  ...         0         0         0         0   \n",
       "1      0      0  ...      1000      1000         0      2000   \n",
       "2      0      0  ...      1000      1000      1000      5000   \n",
       "3      0      0  ...      1200      1100      1069      1000   \n",
       "4     -1      0  ...     10000      9000       689       679   \n",
       "\n",
       "   default_payment_next_month  education_cat  graduate_school  high_school  \\\n",
       "0                           1     university                0            0   \n",
       "1                           1     university                0            0   \n",
       "2                           0     university                0            0   \n",
       "3                           0     university                0            0   \n",
       "4                           0     university                0            0   \n",
       "\n",
       "   others  university  \n",
       "0       0           1  \n",
       "1       0           1  \n",
       "2       0           1  \n",
       "3       0           1  \n",
       "4       0           1  \n",
       "\n",
       "[5 rows x 30 columns]"
      ]
     },
     "execution_count": 11,
     "metadata": {},
     "output_type": "execute_result"
    }
   ],
   "source": [
    "df_cleaned_before = pd.read_csv('data/default_of_credit_card_clients_cleaned.csv')\n",
    "df_cleaned_before.head()"
   ]
  },
  {
   "cell_type": "markdown",
   "metadata": {},
   "source": [
    "Let us isolate the independent features:"
   ]
  },
  {
   "cell_type": "code",
   "execution_count": 12,
   "metadata": {},
   "outputs": [
    {
     "data": {
      "text/plain": [
       "['limit_bal',\n",
       " 'education',\n",
       " 'marriage',\n",
       " 'age',\n",
       " 'pay_1',\n",
       " 'bill_amt1',\n",
       " 'bill_amt2',\n",
       " 'bill_amt3',\n",
       " 'bill_amt4',\n",
       " 'bill_amt5',\n",
       " 'bill_amt6',\n",
       " 'pay_amt1',\n",
       " 'pay_amt2',\n",
       " 'pay_amt3',\n",
       " 'pay_amt4',\n",
       " 'pay_amt5',\n",
       " 'pay_amt6',\n",
       " 'default_payment_next_month']"
      ]
     },
     "execution_count": 12,
     "metadata": {},
     "output_type": "execute_result"
    }
   ],
   "source": [
    "features_response = df_cleaned_before.columns.tolist()\n",
    "to_remove = ['id', 'sex'] + ['pay_{}'.format(i) for i in range(2,7)] + features_response[-5:]\n",
    "\n",
    "features_response = [feature for feature in features_response if feature not in to_remove]\n",
    "features_response"
   ]
  },
  {
   "cell_type": "markdown",
   "metadata": {},
   "source": [
    "Now it is possible to test different imputation techniques for the *df_missing_pay_1*.\n",
    "\n",
    "### Mode and Random Imputation of pay_1\n",
    "\n",
    "Let us create a train and test sets for the cleaned df and add later the *df_missing_pay_1* to measure the impact of imputation in the model's performance."
   ]
  },
  {
   "cell_type": "code",
   "execution_count": 13,
   "metadata": {},
   "outputs": [],
   "source": [
    "X_train, X_test, y_train, y_test = train_test_split(df_cleaned_before[features_response[:-1]].values,\n",
    "                                                    df_cleaned_before.default_payment_next_month.values,\n",
    "                                                    test_size=0.2, random_state=24)"
   ]
  },
  {
   "cell_type": "markdown",
   "metadata": {},
   "source": [
    "Let us create an imputation for the **pay_1** column (this feature has the index 4 in the *feature_response* list) with the mode (the median has the same value of mode, so only one statistic is left anyway):"
   ]
  },
  {
   "cell_type": "code",
   "execution_count": 14,
   "metadata": {},
   "outputs": [
    {
     "data": {
      "text/plain": [
       "0.0"
      ]
     },
     "execution_count": 14,
     "metadata": {},
     "output_type": "execute_result"
    }
   ],
   "source": [
    "np.median(X_train[:, features_response.index('pay_1')])"
   ]
  },
  {
   "cell_type": "markdown",
   "metadata": {},
   "source": [
    "And now, let us create the imputation values for the two strategies that will be adopted: one imputing the node and another imputing values from a random normal sampling from the **pay_1** train set. Besides, let us create proper column names to track them correctly:"
   ]
  },
  {
   "cell_type": "code",
   "execution_count": 15,
   "metadata": {},
   "outputs": [],
   "source": [
    "fill_values = [0, np.random.choice(X_train[:, features_response.index('pay_1')], size=(3021,), replace=True)]\n",
    "fill_strategy = ['mode', 'random']"
   ]
  },
  {
   "cell_type": "markdown",
   "metadata": {},
   "source": [
    "Before continue, let us verify whether the distributions of the random generated sampling process is the same as the **pay_1** train set:"
   ]
  },
  {
   "cell_type": "code",
   "execution_count": 16,
   "metadata": {},
   "outputs": [
    {
     "data": {
      "text/plain": [
       "Text(0.5, 1.0, 'Pay_1 random generated distribution')"
      ]
     },
     "execution_count": 16,
     "metadata": {},
     "output_type": "execute_result"
    },
    {
     "data": {
      "image/png": "[encoded data removed]",
      "text/plain": [
       "<Figure size 720x288 with 2 Axes>"
      ]
     },
     "metadata": {
      "needs_background": "light"
     },
     "output_type": "display_data"
    }
   ],
   "source": [
    "fig, ax = plt.subplots(1, 2, figsize=(10, 4))\n",
    "\n",
    "bin_edges = np.arange(-2, 9)\n",
    "\n",
    "ax[0].hist(X_train[:, 4], bins=bin_edges, align='left')\n",
    "ax[0].set_xticks(bin_edges)\n",
    "ax[0].set_title('Pay_1 non-missing values distribution')\n",
    "\n",
    "ax[1].hist(fill_values[1], bins=bin_edges, align='left')\n",
    "ax[1].set_xticks(bin_edges)\n",
    "ax[1].set_title('Pay_1 random generated distribution')"
   ]
  },
  {
   "cell_type": "markdown",
   "metadata": {},
   "source": [
    "The two distributions were very similar. Only the scale of the *y*-axis indicated that there were fewer imputed values than in the original dataset. This showed that the values for **pay_1** faithfully imitated the relative frequency of different values of this feature in the data.\n",
    "\n",
    "Now, let us set up the cross-validation to compare imputation methods using the same hyperparameters for the best model estimation."
   ]
  },
  {
   "cell_type": "code",
   "execution_count": 17,
   "metadata": {},
   "outputs": [],
   "source": [
    "k_folds = KFold(n_splits=4, shuffle=True, random_state=1)\n",
    "rf = RandomForestClassifier(n_estimators=200, max_depth=9)"
   ]
  },
  {
   "cell_type": "markdown",
   "metadata": {},
   "source": [
    "The shuffle was set to true because the imputed values will be appended to the training set and it is interesting to not concentrate them into one fold."
   ]
  },
  {
   "cell_type": "code",
   "execution_count": null,
   "metadata": {},
   "outputs": [
    {
     "name": "stderr",
     "output_type": "stream",
     "text": [
      "[Parallel(n_jobs=-1)]: Using backend LokyBackend with 4 concurrent workers.\n",
      "[Parallel(n_jobs=-1)]: Done   2 out of   4 | elapsed:   14.9s remaining:   14.9s\n",
      "[Parallel(n_jobs=-1)]: Done   4 out of   4 | elapsed:   15.2s finished\n",
      "[Parallel(n_jobs=-1)]: Using backend LokyBackend with 4 concurrent workers.\n"
     ]
    },
    {
     "name": "stdout",
     "output_type": "stream",
     "text": [
      "mode imputation: mean testing score: 0.7725204589792116, std: 0.003512418124013282\n"
     ]
    }
   ],
   "source": [
    "for imputation_method in range(len(fill_values)):\n",
    "\n",
    "    # Copy the data frame with missing pay_1 and assign imputed values\n",
    "    df_filled_pay_1 = df_missing_pay_1.copy()\n",
    "    df_filled_pay_1.pay_1 = fill_values[imputation_method]\n",
    "\n",
    "    # Split imputated data in train and test sets, using the same test size proportion\n",
    "    X_filled_train, X_filled_test, y_filled_train, y_filled_test = \\\n",
    "        train_test_split(df_filled_pay_1[features_response[:-1]].values,\n",
    "                         df_filled_pay_1.default_payment_next_month.values,\n",
    "                         test_size=0.2, random_state=24)\n",
    "\n",
    "    # Concatenate the imputed data with the array of non-missing data\n",
    "    X_train_all = np.concatenate((X_train, X_filled_train), axis=0)\n",
    "    y_train_all = np.concatenate((y_train, y_filled_train), axis=0)\n",
    "\n",
    "    # Use the KFolds splitter and the Random Forest estimator for cross-validation\n",
    "    imputation_compare_cv = cross_validate(rf, X_train_all, y_train_all, scoring='roc_auc',\n",
    "                                           cv=k_folds, n_jobs=-1, verbose=1, return_estimator=True,\n",
    "                                           return_train_score=True, error_score='raise')\n",
    "\n",
    "    # Compute scores\n",
    "    test_score = imputation_compare_cv['test_score']\n",
    "    print(fill_strategy[imputation_method] + ' imputation: ' +\n",
    "          'mean testing score: ' + str(np.mean(test_score)) +\n",
    "          ', std: ' + str(np.std(test_score)))"
   ]
  },
  {
   "cell_type": "markdown",
   "metadata": {},
   "source": [
    "The two imputation strategies had very similar performances. However, the simplest imputation strategy, just filling in all missing values of pay_1 with the most common value of 0 from the non-missing samples, performed better. The average testing score (ROC AUC) across the four folds was 0.773 for mode imputation, versus 0.769 using random imputation.\n",
    "\n",
    "The average test score without any imputation was 0.776, thus, the model had experienced a little degradation in the estimate of out-of-sample model testing performance. This was to be expected, as there were included data that had issues and uncertainties. However, this was still within 0.006 ROC AUC units of the best score observed when working with the non-missing data, so it's not too much lower."
   ]
  }
 ],
 "metadata": {
  "kernelspec": {
   "display_name": "Python 3",
   "language": "python",
   "name": "python3"
  },
  "language_info": {
   "codemirror_mode": {
    "name": "ipython",
    "version": 3
   },
   "file_extension": ".py",
   "mimetype": "text/x-python",
   "name": "python",
   "nbconvert_exporter": "python",
   "pygments_lexer": "ipython3",
   "version": "3.8.5"
  }
 },
 "nbformat": 4,
 "nbformat_minor": 4
}
